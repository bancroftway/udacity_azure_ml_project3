{
  "cells": [
    {
      "cell_type": "markdown",
      "source": [
        "# Automated ML\n",
        "\n",
        "TODO: Import Dependencies. In the cell below, import all the dependencies that you will need to complete the project."
      ],
      "metadata": {}
    },
    {
      "cell_type": "markdown",
      "source": [
        "## Dataset\n",
        "\n",
        "### Overview\n",
        "TODO: In this markdown cell, give an overview of the dataset you are using. Also mention the task you will be performing.\n",
        "\n",
        "\n",
        "TODO: Get data. In the cell below, write code to access the data you will be using in this project. Remember that the dataset needs to be external."
      ],
      "metadata": {}
    },
    {
      "cell_type": "code",
      "source": [
        "from azureml.core.experiment import Experiment\n",
        "from azureml.core.workspace import Workspace\n",
        "\n",
        "ws = Workspace.from_config()\n",
        "\n",
        "experiment_name = 'arvc-azureml-project3-experiment-automl'\n",
        "\n",
        "experiment=Experiment(ws, experiment_name)"
      ],
      "outputs": [],
      "execution_count": 1,
      "metadata": {
        "gather": {
          "logged": 1616341325336
        },
        "jupyter": {
          "outputs_hidden": false,
          "source_hidden": false
        },
        "nteract": {
          "transient": {
            "deleting": false
          }
        }
      }
    },
    {
      "cell_type": "code",
      "source": [
        "from azureml.core.compute import ComputeTarget, AmlCompute\n",
        "from azureml.core.compute_target import ComputeTargetException\n",
        "\n",
        "compute_cluster_name = 'arvccompute1'\n",
        "\n",
        "try:\n",
        "    compute_target = ComputeTarget(workspace=ws, name = compute_cluster_name)\n",
        "    print('Found the compute cluster')\n",
        "\n",
        "except ComputeTargetException:\n",
        "    compute_config = AmlCompute.provisioning_configuration(vm_size=\"Standard_DS12_v2\", max_nodes=5)\n",
        "    compute_target = ComputeTarget.create(ws, compute_cluster_name, compute_config)\n",
        "    compute_target.wait_for_completion(show_output=True)"
      ],
      "outputs": [
        {
          "output_type": "stream",
          "name": "stdout",
          "text": [
            "Found the compute cluster\n"
          ]
        }
      ],
      "execution_count": 2,
      "metadata": {
        "gather": {
          "logged": 1616341326567
        },
        "jupyter": {
          "outputs_hidden": false,
          "source_hidden": false
        },
        "nteract": {
          "transient": {
            "deleting": false
          }
        }
      }
    },
    {
      "cell_type": "code",
      "source": [
        "from azureml.core.dataset import Dataset\n",
        "from sklearn.model_selection import train_test_split\n",
        "\n",
        "key = 'heart_failure_dataset'\n",
        "if key in ws.datasets.keys():\n",
        "    dataset = ws.datasets[key]\n",
        "    print(\"existing dataset found.\")\n",
        "\n",
        "else:\n",
        "    print(\"existing dataset not found. creating new one.\")\n",
        "    url = 'https://archive.ics.uci.edu/ml/machine-learning-databases/00519/heart_failure_clinical_records_dataset.csv'\n",
        "    dataset = Dataset.Tabular.from_delimited_files(url)\n",
        "    dataset = dataset.register(ws,key)\n",
        "\n",
        "df = dataset.to_pandas_dataframe()\n",
        "train, test = train_test_split(df, shuffle=True)\n",
        "train.to_csv('train.csv',index = False)\n",
        "\n",
        "datastore = ws.get_default_datastore()\n",
        "datastore.upload_files(files = ['./train.csv'])\n",
        "\n",
        "train = Dataset.Tabular.from_delimited_files([(datastore,'train.csv')])"
      ],
      "outputs": [
        {
          "output_type": "stream",
          "name": "stdout",
          "text": [
            "existing dataset found.\n",
            "Uploading an estimated of 1 files\n",
            "Target already exists. Skipping upload for train.csv\n",
            "Uploaded 0 files\n"
          ]
        }
      ],
      "execution_count": 3,
      "metadata": {
        "gather": {
          "logged": 1616341334340
        },
        "jupyter": {
          "outputs_hidden": false,
          "source_hidden": false
        },
        "nteract": {
          "transient": {
            "deleting": false
          }
        }
      }
    },
    {
      "cell_type": "markdown",
      "source": [
        "## AutoML Configuration\n",
        "\n",
        "TODO: Explain why you chose the automl settings and cofiguration you used below."
      ],
      "metadata": {}
    },
    {
      "cell_type": "code",
      "source": [
        "from azureml.train.automl import AutoMLConfig\n",
        "\n",
        "# TODO: Put your automl settings here\n",
        "automl_settings = {\"primary_metric\":\"accuracy\", \"experiment_timeout_minutes\":15, \"enable_early_stopping\":True, \"n_cross_validations\":5,\"max_concurrent_iterations\": 5}\n",
        "\n",
        "# TODO: Put your automl config here\n",
        "automl_config = AutoMLConfig(compute_target = compute_target, task = 'classification', training_data = train, label_column_name = 'DEATH_EVENT', blocked_models=['XGBoostClassifier'],**automl_settings)"
      ],
      "outputs": [],
      "execution_count": 4,
      "metadata": {
        "gather": {
          "logged": 1616341334987
        },
        "jupyter": {
          "outputs_hidden": false,
          "source_hidden": false
        },
        "nteract": {
          "transient": {
            "deleting": false
          }
        }
      }
    },
    {
      "cell_type": "code",
      "source": [
        "# TODO: Submit your experiment\n",
        "remote_run = experiment.submit(automl_config, show_output=True)"
      ],
      "outputs": [
        {
          "output_type": "stream",
          "name": "stdout",
          "text": [
            "Running on remote.\n",
            "No run_configuration provided, running on arvccompute1 with default configuration\n",
            "Running on remote compute: arvccompute1\n",
            "Parent Run ID: AutoML_111e941e-8cd6-43c2-b951-a097693639d4\n",
            "\n",
            "Current status: FeaturesGeneration. Generating features for the dataset.\n",
            "Current status: DatasetCrossValidationSplit. Generating individually featurized CV splits.\n",
            "Current status: ModelSelection. Beginning model selection.\n",
            "\n",
            "****************************************************************************************************\n",
            "DATA GUARDRAILS: \n",
            "\n",
            "TYPE:         Class balancing detection\n",
            "STATUS:       PASSED\n",
            "DESCRIPTION:  Your inputs were analyzed, and all classes are balanced in your training data.\n",
            "              Learn more about imbalanced data: https://aka.ms/AutomatedMLImbalancedData\n",
            "\n",
            "****************************************************************************************************\n",
            "\n",
            "TYPE:         Missing feature values imputation\n",
            "STATUS:       PASSED\n",
            "DESCRIPTION:  No feature missing values were detected in the training data.\n",
            "              Learn more about missing value imputation: https://aka.ms/AutomatedMLFeaturization\n",
            "\n",
            "****************************************************************************************************\n",
            "\n",
            "TYPE:         High cardinality feature detection\n",
            "STATUS:       PASSED\n",
            "DESCRIPTION:  Your inputs were analyzed, and no high cardinality features were detected.\n",
            "              Learn more about high cardinality feature handling: https://aka.ms/AutomatedMLFeaturization\n",
            "\n",
            "****************************************************************************************************\n",
            "\n",
            "****************************************************************************************************\n",
            "ITERATION: The iteration being evaluated.\n",
            "PIPELINE: A summary description of the pipeline being evaluated.\n",
            "DURATION: Time taken for the current iteration.\n",
            "METRIC: The result of computing score on the fitted pipeline.\n",
            "BEST: The best observed score thus far.\n",
            "****************************************************************************************************\n",
            "\n",
            " ITERATION   PIPELINE                                       DURATION      METRIC      BEST\n",
            "         3   MinMaxScaler RandomForest                      0:00:45       0.8665    0.8665\n",
            "         1   MinMaxScaler RandomForest                      0:00:43       0.8306    0.8665\n",
            "         2   MinMaxScaler RandomForest                      0:00:49       0.8264    0.8665\n",
            "         7   MinMaxScaler SVM                               0:00:48       0.7011    0.8665\n",
            "         0   MaxAbsScaler LightGBM                          0:01:54       0.8307    0.8665\n",
            "         4   MinMaxScaler RandomForest                      0:01:57       0.8526    0.8665\n",
            "         5   RobustScaler KNN                               0:01:58       0.7502    0.8665\n",
            "         6   MinMaxScaler SVM                               0:02:00       0.7100    0.8665\n",
            "         8   MaxAbsScaler RandomForest                      0:00:52       0.7503    0.8665\n",
            "        10   RobustScaler RandomForest                      0:00:47       0.8530    0.8665\n",
            "        12   MinMaxScaler LightGBM                          0:00:42       0.8351    0.8665\n",
            "         9   MaxAbsScaler RandomForest                      0:00:43       0.8396    0.8665\n",
            "        11   StandardScalerWrapper GradientBoosting         0:00:53       0.8307    0.8665\n",
            "        13   MinMaxScaler LightGBM                          0:00:50       0.7773    0.8665\n",
            "        14   MaxAbsScaler ExtremeRandomTrees                0:00:51       0.7905    0.8665\n",
            "        16   RobustScaler LightGBM                          0:00:55       0.7995    0.8665\n",
            "        17   RobustScaler LightGBM                          0:00:46       0.7773    0.8665\n",
            "        15   RobustScaler KNN                               0:01:01       0.5715    0.8665\n",
            "        18   StandardScalerWrapper LightGBM                 0:00:48       0.7906    0.8665\n",
            "        19   RobustScaler KNN                               0:00:41       0.6071    0.8665\n",
            "        20   MaxAbsScaler ExtremeRandomTrees                0:00:48       0.7994    0.8665\n",
            "        21   SparseNormalizer RandomForest                  0:00:51       0.7994    0.8665\n",
            "        22   SparseNormalizer ExtremeRandomTrees            0:00:53       0.7145    0.8665\n",
            "        23   MinMaxScaler LightGBM                          0:00:42       0.8530    0.8665\n",
            "        24   MaxAbsScaler LightGBM                          0:00:40       0.7235    0.8665\n",
            "        25   MaxAbsScaler RandomForest                      0:00:48       0.7997    0.8665\n",
            "        26   MaxAbsScaler RandomForest                      0:00:45       0.8218    0.8665\n",
            "        27   MinMaxScaler RandomForest                      0:00:47       0.8352    0.8665\n",
            "        28   MinMaxScaler RandomForest                      0:00:46       0.8575    0.8665\n",
            "        29   RobustScaler ExtremeRandomTrees                0:00:42       0.8261    0.8665\n",
            "        30   MaxAbsScaler RandomForest                      0:00:45       0.8038    0.8665\n",
            "        31   StandardScalerWrapper LightGBM                 0:00:48       0.8574    0.8665\n",
            "        32   StandardScalerWrapper LightGBM                 0:00:50       0.8353    0.8665\n",
            "        33   StandardScalerWrapper RandomForest             0:00:46       0.8306    0.8665\n",
            "        34   StandardScalerWrapper LightGBM                 0:00:43       0.8486    0.8665\n",
            "        35   StandardScalerWrapper RandomForest             0:00:29          nan    0.8665\n",
            "        36   SparseNormalizer LightGBM                      0:00:32       0.8083    0.8665\n",
            "        37                                                  0:00:17          nan    0.8665\n",
            "        38    VotingEnsemble                                0:01:13       0.8708    0.8708\n",
            "        39    StackEnsemble                                 0:01:19       0.8485    0.8708\n"
          ]
        }
      ],
      "execution_count": 5,
      "metadata": {
        "gather": {
          "logged": 1616342460016
        },
        "jupyter": {
          "outputs_hidden": false,
          "source_hidden": false
        },
        "nteract": {
          "transient": {
            "deleting": false
          }
        }
      }
    },
    {
      "cell_type": "markdown",
      "source": [
        "## Run Details\n",
        "\n",
        "OPTIONAL: Write about the different models trained and their performance. Why do you think some models did better than others?\n",
        "\n",
        "TODO: In the cell below, use the `RunDetails` widget to show the different experiments."
      ],
      "metadata": {}
    },
    {
      "cell_type": "code",
      "source": [
        "from azureml.widgets import RunDetails\n",
        "\n",
        "RunDetails(remote_run).show()\n",
        "remote_run.wait_for_completion(show_output=True)"
      ],
      "outputs": [
        {
          "output_type": "display_data",
          "data": {
            "text/plain": "_AutoMLWidget(widget_settings={'childWidgetDisplay': 'popup', 'send_telemetry': False, 'log_level': 'INFO', 's…",
            "application/vnd.jupyter.widget-view+json": {
              "version_major": 2,
              "version_minor": 0,
              "model_id": "b3dade64764c4a2986552d0b00c10170"
            }
          },
          "metadata": {}
        },
        {
          "output_type": "display_data",
          "data": {
            "application/aml.mini.widget.v1": "{\"status\": \"Completed\", \"workbench_run_details_uri\": \"https://ml.azure.com/experiments/arvc-azureml-project3-experiment-automl/runs/AutoML_111e941e-8cd6-43c2-b951-a097693639d4?wsid=/subscriptions/61c5c3f0-6dc7-4ed9-a7f3-c704b20e3b30/resourcegroups/aml-quickstarts-141038/workspaces/quick-starts-ws-141038\", \"run_id\": \"AutoML_111e941e-8cd6-43c2-b951-a097693639d4\", \"run_properties\": {\"run_id\": \"AutoML_111e941e-8cd6-43c2-b951-a097693639d4\", \"created_utc\": \"2021-03-21T15:42:21.571216Z\", \"properties\": {\"num_iterations\": \"1000\", \"training_type\": \"TrainFull\", \"acquisition_function\": \"EI\", \"primary_metric\": \"accuracy\", \"train_split\": \"0\", \"acquisition_parameter\": \"0\", \"num_cross_validation\": \"5\", \"target\": \"arvccompute1\", \"AMLSettingsJsonString\": \"{\\\"path\\\":null,\\\"name\\\":\\\"arvc-azureml-project3-experiment-automl\\\",\\\"subscription_id\\\":\\\"61c5c3f0-6dc7-4ed9-a7f3-c704b20e3b30\\\",\\\"resource_group\\\":\\\"aml-quickstarts-141038\\\",\\\"workspace_name\\\":\\\"quick-starts-ws-141038\\\",\\\"region\\\":\\\"southcentralus\\\",\\\"compute_target\\\":\\\"arvccompute1\\\",\\\"spark_service\\\":null,\\\"azure_service\\\":\\\"remote\\\",\\\"many_models\\\":false,\\\"pipeline_fetch_max_batch_size\\\":1,\\\"enable_batch_run\\\":false,\\\"iterations\\\":1000,\\\"primary_metric\\\":\\\"accuracy\\\",\\\"task_type\\\":\\\"classification\\\",\\\"data_script\\\":null,\\\"validation_size\\\":0.0,\\\"n_cross_validations\\\":5,\\\"y_min\\\":null,\\\"y_max\\\":null,\\\"num_classes\\\":null,\\\"featurization\\\":\\\"auto\\\",\\\"_ignore_package_version_incompatibilities\\\":false,\\\"is_timeseries\\\":false,\\\"max_cores_per_iteration\\\":1,\\\"max_concurrent_iterations\\\":5,\\\"iteration_timeout_minutes\\\":null,\\\"mem_in_mb\\\":null,\\\"enforce_time_on_windows\\\":false,\\\"experiment_timeout_minutes\\\":15,\\\"experiment_exit_score\\\":null,\\\"whitelist_models\\\":null,\\\"blacklist_algos\\\":[\\\"XGBoostClassifier\\\",\\\"TensorFlowLinearClassifier\\\",\\\"TensorFlowDNN\\\"],\\\"supported_models\\\":[\\\"LinearSVM\\\",\\\"KNN\\\",\\\"SVM\\\",\\\"XGBoostClassifier\\\",\\\"LogisticRegression\\\",\\\"DecisionTree\\\",\\\"AveragedPerceptronClassifier\\\",\\\"GradientBoosting\\\",\\\"SGD\\\",\\\"TensorFlowDNN\\\",\\\"TensorFlowLinearClassifier\\\",\\\"ExtremeRandomTrees\\\",\\\"BernoulliNaiveBayes\\\",\\\"RandomForest\\\",\\\"MultinomialNaiveBayes\\\",\\\"LightGBM\\\"],\\\"private_models\\\":[],\\\"auto_blacklist\\\":true,\\\"blacklist_samples_reached\\\":false,\\\"exclude_nan_labels\\\":true,\\\"verbosity\\\":20,\\\"_debug_log\\\":\\\"azureml_automl.log\\\",\\\"show_warnings\\\":false,\\\"model_explainability\\\":true,\\\"service_url\\\":null,\\\"sdk_url\\\":null,\\\"sdk_packages\\\":null,\\\"enable_onnx_compatible_models\\\":false,\\\"enable_split_onnx_featurizer_estimator_models\\\":false,\\\"vm_type\\\":\\\"STANDARD_DS12_V2\\\",\\\"telemetry_verbosity\\\":20,\\\"send_telemetry\\\":true,\\\"enable_dnn\\\":false,\\\"scenario\\\":\\\"SDK-1.13.0\\\",\\\"environment_label\\\":null,\\\"save_mlflow\\\":false,\\\"force_text_dnn\\\":false,\\\"enable_feature_sweeping\\\":true,\\\"enable_early_stopping\\\":true,\\\"early_stopping_n_iters\\\":10,\\\"metrics\\\":null,\\\"enable_metric_confidence\\\":false,\\\"enable_ensembling\\\":true,\\\"enable_stack_ensembling\\\":true,\\\"ensemble_iterations\\\":15,\\\"enable_tf\\\":false,\\\"enable_subsampling\\\":null,\\\"subsample_seed\\\":null,\\\"enable_nimbusml\\\":false,\\\"enable_streaming\\\":false,\\\"force_streaming\\\":false,\\\"track_child_runs\\\":true,\\\"allowed_private_models\\\":[],\\\"label_column_name\\\":\\\"DEATH_EVENT\\\",\\\"weight_column_name\\\":null,\\\"cv_split_column_names\\\":null,\\\"enable_local_managed\\\":false,\\\"_local_managed_run_id\\\":null,\\\"cost_mode\\\":1,\\\"lag_length\\\":0,\\\"metric_operation\\\":\\\"maximize\\\",\\\"preprocess\\\":true}\", \"DataPrepJsonString\": \"{\\\\\\\"training_data\\\\\\\": \\\\\\\"{\\\\\\\\\\\\\\\"blocks\\\\\\\\\\\\\\\": [{\\\\\\\\\\\\\\\"id\\\\\\\\\\\\\\\": \\\\\\\\\\\\\\\"5441f5ad-336b-4f77-89e6-0839e354d88c\\\\\\\\\\\\\\\", \\\\\\\\\\\\\\\"type\\\\\\\\\\\\\\\": \\\\\\\\\\\\\\\"Microsoft.DPrep.GetDatastoreFilesBlock\\\\\\\\\\\\\\\", \\\\\\\\\\\\\\\"arguments\\\\\\\\\\\\\\\": {\\\\\\\\\\\\\\\"datastores\\\\\\\\\\\\\\\": [{\\\\\\\\\\\\\\\"datastoreName\\\\\\\\\\\\\\\": \\\\\\\\\\\\\\\"workspaceblobstore\\\\\\\\\\\\\\\", \\\\\\\\\\\\\\\"path\\\\\\\\\\\\\\\": \\\\\\\\\\\\\\\"train.csv\\\\\\\\\\\\\\\", \\\\\\\\\\\\\\\"resourceGroup\\\\\\\\\\\\\\\": \\\\\\\\\\\\\\\"aml-quickstarts-141038\\\\\\\\\\\\\\\", \\\\\\\\\\\\\\\"subscription\\\\\\\\\\\\\\\": \\\\\\\\\\\\\\\"61c5c3f0-6dc7-4ed9-a7f3-c704b20e3b30\\\\\\\\\\\\\\\", \\\\\\\\\\\\\\\"workspaceName\\\\\\\\\\\\\\\": \\\\\\\\\\\\\\\"quick-starts-ws-141038\\\\\\\\\\\\\\\"}]}, \\\\\\\\\\\\\\\"localData\\\\\\\\\\\\\\\": {}, \\\\\\\\\\\\\\\"isEnabled\\\\\\\\\\\\\\\": true, \\\\\\\\\\\\\\\"name\\\\\\\\\\\\\\\": null, \\\\\\\\\\\\\\\"annotation\\\\\\\\\\\\\\\": null}, {\\\\\\\\\\\\\\\"id\\\\\\\\\\\\\\\": \\\\\\\\\\\\\\\"a689fc7f-0770-4903-b9f8-ef4572101f39\\\\\\\\\\\\\\\", \\\\\\\\\\\\\\\"type\\\\\\\\\\\\\\\": \\\\\\\\\\\\\\\"Microsoft.DPrep.ParseDelimitedBlock\\\\\\\\\\\\\\\", \\\\\\\\\\\\\\\"arguments\\\\\\\\\\\\\\\": {\\\\\\\\\\\\\\\"columnHeadersMode\\\\\\\\\\\\\\\": 3, \\\\\\\\\\\\\\\"fileEncoding\\\\\\\\\\\\\\\": 0, \\\\\\\\\\\\\\\"handleQuotedLineBreaks\\\\\\\\\\\\\\\": false, \\\\\\\\\\\\\\\"preview\\\\\\\\\\\\\\\": false, \\\\\\\\\\\\\\\"separator\\\\\\\\\\\\\\\": \\\\\\\\\\\\\\\",\\\\\\\\\\\\\\\", \\\\\\\\\\\\\\\"skipRows\\\\\\\\\\\\\\\": 0, \\\\\\\\\\\\\\\"skipRowsMode\\\\\\\\\\\\\\\": 0}, \\\\\\\\\\\\\\\"localData\\\\\\\\\\\\\\\": {}, \\\\\\\\\\\\\\\"isEnabled\\\\\\\\\\\\\\\": true, \\\\\\\\\\\\\\\"name\\\\\\\\\\\\\\\": null, \\\\\\\\\\\\\\\"annotation\\\\\\\\\\\\\\\": null}, {\\\\\\\\\\\\\\\"id\\\\\\\\\\\\\\\": \\\\\\\\\\\\\\\"90dd1cf4-dd61-4898-852f-a10d8fc30643\\\\\\\\\\\\\\\", \\\\\\\\\\\\\\\"type\\\\\\\\\\\\\\\": \\\\\\\\\\\\\\\"Microsoft.DPrep.DropColumnsBlock\\\\\\\\\\\\\\\", \\\\\\\\\\\\\\\"arguments\\\\\\\\\\\\\\\": {\\\\\\\\\\\\\\\"columns\\\\\\\\\\\\\\\": {\\\\\\\\\\\\\\\"type\\\\\\\\\\\\\\\": 0, \\\\\\\\\\\\\\\"details\\\\\\\\\\\\\\\": {\\\\\\\\\\\\\\\"selectedColumns\\\\\\\\\\\\\\\": [\\\\\\\\\\\\\\\"Path\\\\\\\\\\\\\\\"]}}}, \\\\\\\\\\\\\\\"localData\\\\\\\\\\\\\\\": {}, \\\\\\\\\\\\\\\"isEnabled\\\\\\\\\\\\\\\": true, \\\\\\\\\\\\\\\"name\\\\\\\\\\\\\\\": null, \\\\\\\\\\\\\\\"annotation\\\\\\\\\\\\\\\": null}, {\\\\\\\\\\\\\\\"id\\\\\\\\\\\\\\\": \\\\\\\\\\\\\\\"02d6c0e5-188f-4ada-bf63-34185c052227\\\\\\\\\\\\\\\", \\\\\\\\\\\\\\\"type\\\\\\\\\\\\\\\": \\\\\\\\\\\\\\\"Microsoft.DPrep.SetColumnTypesBlock\\\\\\\\\\\\\\\", \\\\\\\\\\\\\\\"arguments\\\\\\\\\\\\\\\": {\\\\\\\\\\\\\\\"columnConversion\\\\\\\\\\\\\\\": [{\\\\\\\\\\\\\\\"column\\\\\\\\\\\\\\\": {\\\\\\\\\\\\\\\"type\\\\\\\\\\\\\\\": 2, \\\\\\\\\\\\\\\"details\\\\\\\\\\\\\\\": {\\\\\\\\\\\\\\\"selectedColumn\\\\\\\\\\\\\\\": \\\\\\\\\\\\\\\"age\\\\\\\\\\\\\\\"}}, \\\\\\\\\\\\\\\"typeProperty\\\\\\\\\\\\\\\": 3}, {\\\\\\\\\\\\\\\"column\\\\\\\\\\\\\\\": {\\\\\\\\\\\\\\\"type\\\\\\\\\\\\\\\": 2, \\\\\\\\\\\\\\\"details\\\\\\\\\\\\\\\": {\\\\\\\\\\\\\\\"selectedColumn\\\\\\\\\\\\\\\": \\\\\\\\\\\\\\\"anaemia\\\\\\\\\\\\\\\"}}, \\\\\\\\\\\\\\\"typeProperty\\\\\\\\\\\\\\\": 2}, {\\\\\\\\\\\\\\\"column\\\\\\\\\\\\\\\": {\\\\\\\\\\\\\\\"type\\\\\\\\\\\\\\\": 2, \\\\\\\\\\\\\\\"details\\\\\\\\\\\\\\\": {\\\\\\\\\\\\\\\"selectedColumn\\\\\\\\\\\\\\\": \\\\\\\\\\\\\\\"creatinine_phosphokinase\\\\\\\\\\\\\\\"}}, \\\\\\\\\\\\\\\"typeProperty\\\\\\\\\\\\\\\": 2}, {\\\\\\\\\\\\\\\"column\\\\\\\\\\\\\\\": {\\\\\\\\\\\\\\\"type\\\\\\\\\\\\\\\": 2, \\\\\\\\\\\\\\\"details\\\\\\\\\\\\\\\": {\\\\\\\\\\\\\\\"selectedColumn\\\\\\\\\\\\\\\": \\\\\\\\\\\\\\\"diabetes\\\\\\\\\\\\\\\"}}, \\\\\\\\\\\\\\\"typeProperty\\\\\\\\\\\\\\\": 2}, {\\\\\\\\\\\\\\\"column\\\\\\\\\\\\\\\": {\\\\\\\\\\\\\\\"type\\\\\\\\\\\\\\\": 2, \\\\\\\\\\\\\\\"details\\\\\\\\\\\\\\\": {\\\\\\\\\\\\\\\"selectedColumn\\\\\\\\\\\\\\\": \\\\\\\\\\\\\\\"ejection_fraction\\\\\\\\\\\\\\\"}}, \\\\\\\\\\\\\\\"typeProperty\\\\\\\\\\\\\\\": 2}, {\\\\\\\\\\\\\\\"column\\\\\\\\\\\\\\\": {\\\\\\\\\\\\\\\"type\\\\\\\\\\\\\\\": 2, \\\\\\\\\\\\\\\"details\\\\\\\\\\\\\\\": {\\\\\\\\\\\\\\\"selectedColumn\\\\\\\\\\\\\\\": \\\\\\\\\\\\\\\"high_blood_pressure\\\\\\\\\\\\\\\"}}, \\\\\\\\\\\\\\\"typeProperty\\\\\\\\\\\\\\\": 2}, {\\\\\\\\\\\\\\\"column\\\\\\\\\\\\\\\": {\\\\\\\\\\\\\\\"type\\\\\\\\\\\\\\\": 2, \\\\\\\\\\\\\\\"details\\\\\\\\\\\\\\\": {\\\\\\\\\\\\\\\"selectedColumn\\\\\\\\\\\\\\\": \\\\\\\\\\\\\\\"platelets\\\\\\\\\\\\\\\"}}, \\\\\\\\\\\\\\\"typeProperty\\\\\\\\\\\\\\\": 3}, {\\\\\\\\\\\\\\\"column\\\\\\\\\\\\\\\": {\\\\\\\\\\\\\\\"type\\\\\\\\\\\\\\\": 2, \\\\\\\\\\\\\\\"details\\\\\\\\\\\\\\\": {\\\\\\\\\\\\\\\"selectedColumn\\\\\\\\\\\\\\\": \\\\\\\\\\\\\\\"serum_creatinine\\\\\\\\\\\\\\\"}}, \\\\\\\\\\\\\\\"typeProperty\\\\\\\\\\\\\\\": 3}, {\\\\\\\\\\\\\\\"column\\\\\\\\\\\\\\\": {\\\\\\\\\\\\\\\"type\\\\\\\\\\\\\\\": 2, \\\\\\\\\\\\\\\"details\\\\\\\\\\\\\\\": {\\\\\\\\\\\\\\\"selectedColumn\\\\\\\\\\\\\\\": \\\\\\\\\\\\\\\"serum_sodium\\\\\\\\\\\\\\\"}}, \\\\\\\\\\\\\\\"typeProperty\\\\\\\\\\\\\\\": 2}, {\\\\\\\\\\\\\\\"column\\\\\\\\\\\\\\\": {\\\\\\\\\\\\\\\"type\\\\\\\\\\\\\\\": 2, \\\\\\\\\\\\\\\"details\\\\\\\\\\\\\\\": {\\\\\\\\\\\\\\\"selectedColumn\\\\\\\\\\\\\\\": \\\\\\\\\\\\\\\"sex\\\\\\\\\\\\\\\"}}, \\\\\\\\\\\\\\\"typeProperty\\\\\\\\\\\\\\\": 2}, {\\\\\\\\\\\\\\\"column\\\\\\\\\\\\\\\": {\\\\\\\\\\\\\\\"type\\\\\\\\\\\\\\\": 2, \\\\\\\\\\\\\\\"details\\\\\\\\\\\\\\\": {\\\\\\\\\\\\\\\"selectedColumn\\\\\\\\\\\\\\\": \\\\\\\\\\\\\\\"smoking\\\\\\\\\\\\\\\"}}, \\\\\\\\\\\\\\\"typeProperty\\\\\\\\\\\\\\\": 2}, {\\\\\\\\\\\\\\\"column\\\\\\\\\\\\\\\": {\\\\\\\\\\\\\\\"type\\\\\\\\\\\\\\\": 2, \\\\\\\\\\\\\\\"details\\\\\\\\\\\\\\\": {\\\\\\\\\\\\\\\"selectedColumn\\\\\\\\\\\\\\\": \\\\\\\\\\\\\\\"time\\\\\\\\\\\\\\\"}}, \\\\\\\\\\\\\\\"typeProperty\\\\\\\\\\\\\\\": 2}, {\\\\\\\\\\\\\\\"column\\\\\\\\\\\\\\\": {\\\\\\\\\\\\\\\"type\\\\\\\\\\\\\\\": 2, \\\\\\\\\\\\\\\"details\\\\\\\\\\\\\\\": {\\\\\\\\\\\\\\\"selectedColumn\\\\\\\\\\\\\\\": \\\\\\\\\\\\\\\"DEATH_EVENT\\\\\\\\\\\\\\\"}}, \\\\\\\\\\\\\\\"typeProperty\\\\\\\\\\\\\\\": 2}]}, \\\\\\\\\\\\\\\"localData\\\\\\\\\\\\\\\": {}, \\\\\\\\\\\\\\\"isEnabled\\\\\\\\\\\\\\\": true, \\\\\\\\\\\\\\\"name\\\\\\\\\\\\\\\": null, \\\\\\\\\\\\\\\"annotation\\\\\\\\\\\\\\\": null}], \\\\\\\\\\\\\\\"inspectors\\\\\\\\\\\\\\\": [], \\\\\\\\\\\\\\\"meta\\\\\\\\\\\\\\\": {\\\\\\\\\\\\\\\"savedDatasetId\\\\\\\\\\\\\\\": \\\\\\\\\\\\\\\"30ae4ff0-d3b8-4419-8e58-4069c4368bbd\\\\\\\\\\\\\\\", \\\\\\\\\\\\\\\"datasetType\\\\\\\\\\\\\\\": \\\\\\\\\\\\\\\"tabular\\\\\\\\\\\\\\\", \\\\\\\\\\\\\\\"subscriptionId\\\\\\\\\\\\\\\": \\\\\\\\\\\\\\\"61c5c3f0-6dc7-4ed9-a7f3-c704b20e3b30\\\\\\\\\\\\\\\", \\\\\\\\\\\\\\\"workspaceId\\\\\\\\\\\\\\\": \\\\\\\\\\\\\\\"f0ccd108-f747-47d1-88ab-98f0cf920db0\\\\\\\\\\\\\\\", \\\\\\\\\\\\\\\"workspaceLocation\\\\\\\\\\\\\\\": \\\\\\\\\\\\\\\"southcentralus\\\\\\\\\\\\\\\", \\\\\\\\\\\\\\\"partition_keys\\\\\\\\\\\\\\\": \\\\\\\\\\\\\\\"true\\\\\\\\\\\\\\\"}}\\\\\\\", \\\\\\\"activities\\\\\\\": 0}\", \"EnableSubsampling\": null, \"runTemplate\": \"AutoML\", \"azureml.runsource\": \"automl\", \"display_task_type\": \"classification\", \"dependencies_versions\": \"{\\\"azureml-widgets\\\": \\\"1.24.0\\\", \\\"azureml-train\\\": \\\"1.24.0\\\", \\\"azureml-train-restclients-hyperdrive\\\": \\\"1.24.0\\\", \\\"azureml-train-core\\\": \\\"1.24.0\\\", \\\"azureml-train-automl\\\": \\\"1.24.0\\\", \\\"azureml-train-automl-runtime\\\": \\\"1.24.0\\\", \\\"azureml-train-automl-client\\\": \\\"1.24.0\\\", \\\"azureml-tensorboard\\\": \\\"1.24.0\\\", \\\"azureml-telemetry\\\": \\\"1.24.0\\\", \\\"azureml-sdk\\\": \\\"1.24.0\\\", \\\"azureml-samples\\\": \\\"0+unknown\\\", \\\"azureml-pipeline\\\": \\\"1.24.0\\\", \\\"azureml-pipeline-steps\\\": \\\"1.24.0\\\", \\\"azureml-pipeline-core\\\": \\\"1.24.0\\\", \\\"azureml-opendatasets\\\": \\\"1.24.0\\\", \\\"azureml-model-management-sdk\\\": \\\"1.0.1b6.post1\\\", \\\"azureml-mlflow\\\": \\\"1.24.0\\\", \\\"azureml-interpret\\\": \\\"1.24.0\\\", \\\"azureml-explain-model\\\": \\\"1.24.0\\\", \\\"azureml-defaults\\\": \\\"1.24.0\\\", \\\"azureml-dataset-runtime\\\": \\\"1.24.0\\\", \\\"azureml-dataprep\\\": \\\"2.11.1\\\", \\\"azureml-dataprep-rslex\\\": \\\"1.9.0\\\", \\\"azureml-dataprep-native\\\": \\\"30.0.0\\\", \\\"azureml-datadrift\\\": \\\"1.24.0\\\", \\\"azureml-core\\\": \\\"1.24.0\\\", \\\"azureml-contrib-services\\\": \\\"1.24.0\\\", \\\"azureml-contrib-server\\\": \\\"1.24.0\\\", \\\"azureml-contrib-reinforcementlearning\\\": \\\"1.24.0\\\", \\\"azureml-contrib-pipeline-steps\\\": \\\"1.24.0\\\", \\\"azureml-contrib-notebook\\\": \\\"1.24.0\\\", \\\"azureml-contrib-gbdt\\\": \\\"1.24.0\\\", \\\"azureml-contrib-fairness\\\": \\\"1.24.0\\\", \\\"azureml-contrib-dataset\\\": \\\"1.24.0\\\", \\\"azureml-cli-common\\\": \\\"1.24.0\\\", \\\"azureml-automl-runtime\\\": \\\"1.24.0\\\", \\\"azureml-automl-dnn-nlp\\\": \\\"1.24.0\\\", \\\"azureml-automl-core\\\": \\\"1.24.0\\\", \\\"azureml-accel-models\\\": \\\"1.24.0\\\"}\", \"_aml_system_scenario_identification\": \"Remote.Parent\", \"ClientType\": \"SDK\", \"environment_cpu_name\": \"AzureML-AutoML\", \"environment_cpu_label\": \"prod\", \"environment_gpu_name\": \"AzureML-AutoML-GPU\", \"environment_gpu_label\": \"prod\", \"root_attribution\": \"automl\", \"attribution\": \"AutoML\", \"Orchestrator\": \"AutoML\", \"CancelUri\": \"https://southcentralus.experiments.azureml.net/jasmine/v1.0/subscriptions/61c5c3f0-6dc7-4ed9-a7f3-c704b20e3b30/resourceGroups/aml-quickstarts-141038/providers/Microsoft.MachineLearningServices/workspaces/quick-starts-ws-141038/experimentids/f33c163f-d21a-4ec7-bdf0-3fb34d02ba39/cancel/AutoML_111e941e-8cd6-43c2-b951-a097693639d4\", \"ClientSdkVersion\": \"1.24.0\", \"snapshotId\": \"00000000-0000-0000-0000-000000000000\", \"SetupRunId\": \"AutoML_111e941e-8cd6-43c2-b951-a097693639d4_setup\", \"SetupRunContainerId\": \"dcid.AutoML_111e941e-8cd6-43c2-b951-a097693639d4_setup\", \"FeaturizationRunJsonPath\": \"featurizer_container.json\", \"FeaturizationRunId\": \"AutoML_111e941e-8cd6-43c2-b951-a097693639d4_featurize\", \"ProblemInfoJsonString\": \"{\\\"dataset_num_categorical\\\": 0, \\\"is_sparse\\\": false, \\\"subsampling\\\": false, \\\"dataset_classes\\\": 2, \\\"dataset_features\\\": 12, \\\"dataset_samples\\\": 224, \\\"single_frequency_class_detected\\\": false}\", \"ModelExplainRunId\": \"AutoML_111e941e-8cd6-43c2-b951-a097693639d4_ModelExplain\"}, \"tags\": {\"model_explain_run\": \"best_run\", \"_aml_system_azureml.automlComponent\": \"AutoML\", \"pipeline_id\": \"\", \"score\": \"\", \"predicted_cost\": \"\", \"fit_time\": \"\", \"training_percent\": \"\", \"iteration\": \"\", \"run_preprocessor\": \"\", \"run_algorithm\": \"\", \"dynamic_whitelisting_iterations\": \"<25>;<30>;<35>;\", \"automl_best_child_run_id\": \"AutoML_111e941e-8cd6-43c2-b951-a097693639d4_38\", \"model_explain_best_run_child_id\": \"AutoML_111e941e-8cd6-43c2-b951-a097693639d4_38\"}, \"end_time_utc\": \"2021-03-21T16:00:42.561973Z\", \"status\": \"Completed\", \"log_files\": {}, \"log_groups\": [], \"run_duration\": \"0:18:20\", \"run_number\": \"226\", \"run_queued_details\": {\"status\": \"Completed\", \"details\": null}}, \"child_runs\": [{\"run_id\": \"AutoML_111e941e-8cd6-43c2-b951-a097693639d4_0\", \"run_number\": 230, \"metric\": null, \"status\": \"Completed\", \"run_type\": \"azureml.scriptrun\", \"training_percent\": \"100\", \"start_time\": \"2021-03-21T15:51:06.479781Z\", \"end_time\": \"2021-03-21T15:53:00.764304Z\", \"created_time\": \"2021-03-21T15:48:35.862852Z\", \"created_time_dt\": \"2021-03-21T15:48:35.862852Z\", \"duration\": \"0:04:24\", \"iteration\": \"0\", \"goal\": \"accuracy_max\", \"run_name\": \"MaxAbsScaler, LightGBM\", \"run_properties\": \"copy=True\", \"primary_metric\": 0.83070707, \"best_metric\": 0.83070707}, {\"run_id\": \"AutoML_111e941e-8cd6-43c2-b951-a097693639d4_1\", \"run_number\": 231, \"metric\": null, \"status\": \"Completed\", \"run_type\": \"azureml.scriptrun\", \"training_percent\": \"100\", \"start_time\": \"2021-03-21T15:49:54.627278Z\", \"end_time\": \"2021-03-21T15:50:37.158822Z\", \"created_time\": \"2021-03-21T15:48:35.994128Z\", \"created_time_dt\": \"2021-03-21T15:48:35.994128Z\", \"duration\": \"0:02:01\", \"iteration\": \"1\", \"goal\": \"accuracy_max\", \"run_name\": \"MinMaxScaler, RandomForest\", \"run_properties\": \"copy=True, feature_range=(0, 1\", \"primary_metric\": 0.83060606, \"best_metric\": 0.83070707}, {\"run_id\": \"AutoML_111e941e-8cd6-43c2-b951-a097693639d4_2\", \"run_number\": 232, \"metric\": null, \"status\": \"Completed\", \"run_type\": \"azureml.scriptrun\", \"training_percent\": \"100\", \"start_time\": \"2021-03-21T15:50:54.734685Z\", \"end_time\": \"2021-03-21T15:51:44.030358Z\", \"created_time\": \"2021-03-21T15:48:36.011482Z\", \"created_time_dt\": \"2021-03-21T15:48:36.011482Z\", \"duration\": \"0:03:08\", \"iteration\": \"2\", \"goal\": \"accuracy_max\", \"run_name\": \"MinMaxScaler, RandomForest\", \"run_properties\": \"copy=True, feature_range=(0, 1\", \"primary_metric\": 0.82636364, \"best_metric\": 0.83070707}, {\"run_id\": \"AutoML_111e941e-8cd6-43c2-b951-a097693639d4_3\", \"run_number\": 233, \"metric\": null, \"status\": \"Completed\", \"run_type\": \"azureml.scriptrun\", \"training_percent\": \"100\", \"start_time\": \"2021-03-21T15:48:46.516876Z\", \"end_time\": \"2021-03-21T15:49:31.052199Z\", \"created_time\": \"2021-03-21T15:48:36.032776Z\", \"created_time_dt\": \"2021-03-21T15:48:36.032776Z\", \"duration\": \"0:00:55\", \"iteration\": \"3\", \"goal\": \"accuracy_max\", \"run_name\": \"MinMaxScaler, RandomForest\", \"run_properties\": \"copy=True, feature_range=(0, 1\", \"primary_metric\": 0.86646465, \"best_metric\": 0.86646465}, {\"run_id\": \"AutoML_111e941e-8cd6-43c2-b951-a097693639d4_4\", \"run_number\": 234, \"metric\": null, \"status\": \"Completed\", \"run_type\": \"azureml.scriptrun\", \"training_percent\": \"100\", \"start_time\": \"2021-03-21T15:51:02.416439Z\", \"end_time\": \"2021-03-21T15:52:59.375533Z\", \"created_time\": \"2021-03-21T15:48:36.294696Z\", \"created_time_dt\": \"2021-03-21T15:48:36.294696Z\", \"duration\": \"0:04:23\", \"iteration\": \"4\", \"goal\": \"accuracy_max\", \"run_name\": \"MinMaxScaler, RandomForest\", \"run_properties\": \"copy=True, feature_range=(0, 1\", \"primary_metric\": 0.85262626, \"best_metric\": 0.86646465}, {\"run_id\": \"AutoML_111e941e-8cd6-43c2-b951-a097693639d4_5\", \"run_number\": 235, \"metric\": null, \"status\": \"Completed\", \"run_type\": \"azureml.scriptrun\", \"training_percent\": \"100\", \"start_time\": \"2021-03-21T15:51:01.307017Z\", \"end_time\": \"2021-03-21T15:52:59.007484Z\", \"created_time\": \"2021-03-21T15:49:34.205755Z\", \"created_time_dt\": \"2021-03-21T15:49:34.205755Z\", \"duration\": \"0:03:24\", \"iteration\": \"5\", \"goal\": \"accuracy_max\", \"run_name\": \"RobustScaler, KNN\", \"run_properties\": \"copy=True, quantile_range=[10, 90], with_centering=False,\\n             with_scaling=True\", \"primary_metric\": 0.75020202, \"best_metric\": 0.86646465}, {\"run_id\": \"AutoML_111e941e-8cd6-43c2-b951-a097693639d4_6\", \"run_number\": 236, \"metric\": null, \"status\": \"Completed\", \"run_type\": \"azureml.scriptrun\", \"training_percent\": \"100\", \"start_time\": \"2021-03-21T15:51:01.218333Z\", \"end_time\": \"2021-03-21T15:53:00.945712Z\", \"created_time\": \"2021-03-21T15:50:39.4494Z\", \"created_time_dt\": \"2021-03-21T15:50:39.4494Z\", \"duration\": \"0:02:21\", \"iteration\": \"6\", \"goal\": \"accuracy_max\", \"run_name\": \"MinMaxScaler, SVM\", \"run_properties\": \"copy=True, feature_range=(0, 1\", \"primary_metric\": 0.71, \"best_metric\": 0.86646465}, {\"run_id\": \"AutoML_111e941e-8cd6-43c2-b951-a097693639d4_7\", \"run_number\": 237, \"metric\": null, \"status\": \"Completed\", \"run_type\": \"azureml.scriptrun\", \"training_percent\": \"100\", \"start_time\": \"2021-03-21T15:51:57.080731Z\", \"end_time\": \"2021-03-21T15:52:44.89898Z\", \"created_time\": \"2021-03-21T15:51:47.177597Z\", \"created_time_dt\": \"2021-03-21T15:51:47.177597Z\", \"duration\": \"0:00:57\", \"iteration\": \"7\", \"goal\": \"accuracy_max\", \"run_name\": \"MinMaxScaler, SVM\", \"run_properties\": \"copy=True, feature_range=(0, 1\", \"primary_metric\": 0.70111111, \"best_metric\": 0.86646465}, {\"run_id\": \"AutoML_111e941e-8cd6-43c2-b951-a097693639d4_8\", \"run_number\": 238, \"metric\": null, \"status\": \"Completed\", \"run_type\": \"azureml.scriptrun\", \"training_percent\": \"100\", \"start_time\": \"2021-03-21T15:52:59.554797Z\", \"end_time\": \"2021-03-21T15:53:51.554621Z\", \"created_time\": \"2021-03-21T15:52:47.468856Z\", \"created_time_dt\": \"2021-03-21T15:52:47.468856Z\", \"duration\": \"0:01:04\", \"iteration\": \"8\", \"goal\": \"accuracy_max\", \"run_name\": \"MaxAbsScaler, RandomForest\", \"run_properties\": \"copy=True\", \"primary_metric\": 0.75030303, \"best_metric\": 0.86646465}, {\"run_id\": \"AutoML_111e941e-8cd6-43c2-b951-a097693639d4_9\", \"run_number\": 239, \"metric\": null, \"status\": \"Completed\", \"run_type\": \"azureml.scriptrun\", \"training_percent\": \"100\", \"start_time\": \"2021-03-21T15:53:11.924302Z\", \"end_time\": \"2021-03-21T15:53:55.133319Z\", \"created_time\": \"2021-03-21T15:53:01.513624Z\", \"created_time_dt\": \"2021-03-21T15:53:01.513624Z\", \"duration\": \"0:00:53\", \"iteration\": \"9\", \"goal\": \"accuracy_max\", \"run_name\": \"MaxAbsScaler, RandomForest\", \"run_properties\": \"copy=True\", \"primary_metric\": 0.83959596, \"best_metric\": 0.86646465}, {\"run_id\": \"AutoML_111e941e-8cd6-43c2-b951-a097693639d4_10\", \"run_number\": 240, \"metric\": null, \"status\": \"Completed\", \"run_type\": \"azureml.scriptrun\", \"training_percent\": \"100\", \"start_time\": \"2021-03-21T15:53:12.067108Z\", \"end_time\": \"2021-03-21T15:53:59.553778Z\", \"created_time\": \"2021-03-21T15:53:01.640787Z\", \"created_time_dt\": \"2021-03-21T15:53:01.640787Z\", \"duration\": \"0:00:57\", \"iteration\": \"10\", \"goal\": \"accuracy_max\", \"run_name\": \"RobustScaler, RandomForest\", \"run_properties\": \"copy=True, quantile_range=[10, 90], with_centering=True,\\n             with_scaling=True\", \"primary_metric\": 0.8530303, \"best_metric\": 0.86646465}, {\"run_id\": \"AutoML_111e941e-8cd6-43c2-b951-a097693639d4_11\", \"run_number\": 241, \"metric\": null, \"status\": \"Completed\", \"run_type\": \"azureml.scriptrun\", \"training_percent\": \"100\", \"start_time\": \"2021-03-21T15:53:16.616528Z\", \"end_time\": \"2021-03-21T15:54:10.055555Z\", \"created_time\": \"2021-03-21T15:53:05.882828Z\", \"created_time_dt\": \"2021-03-21T15:53:05.882828Z\", \"duration\": \"0:01:04\", \"iteration\": \"11\", \"goal\": \"accuracy_max\", \"run_name\": \"StandardScalerWrapper, GradientBoosting\", \"run_properties\": \"<azureml.automl.runtime.shared.model_wrappers.StandardScalerWrapper object at 0x7ff05b241470\", \"primary_metric\": 0.83070707, \"best_metric\": 0.86646465}, {\"run_id\": \"AutoML_111e941e-8cd6-43c2-b951-a097693639d4_12\", \"run_number\": 242, \"metric\": null, \"status\": \"Completed\", \"run_type\": \"azureml.scriptrun\", \"training_percent\": \"100\", \"start_time\": \"2021-03-21T15:53:18.110018Z\", \"end_time\": \"2021-03-21T15:54:00.443686Z\", \"created_time\": \"2021-03-21T15:53:05.891987Z\", \"created_time_dt\": \"2021-03-21T15:53:05.891987Z\", \"duration\": \"0:00:54\", \"iteration\": \"12\", \"goal\": \"accuracy_max\", \"run_name\": \"MinMaxScaler, LightGBM\", \"run_properties\": \"copy=True, feature_range=(0, 1\", \"primary_metric\": 0.83505051, \"best_metric\": 0.86646465}, {\"run_id\": \"AutoML_111e941e-8cd6-43c2-b951-a097693639d4_13\", \"run_number\": 243, \"metric\": null, \"status\": \"Completed\", \"run_type\": \"azureml.scriptrun\", \"training_percent\": \"100\", \"start_time\": \"2021-03-21T15:54:08.446561Z\", \"end_time\": \"2021-03-21T15:54:58.111298Z\", \"created_time\": \"2021-03-21T15:53:54.309859Z\", \"created_time_dt\": \"2021-03-21T15:53:54.309859Z\", \"duration\": \"0:01:03\", \"iteration\": \"13\", \"goal\": \"accuracy_max\", \"run_name\": \"MinMaxScaler, LightGBM\", \"run_properties\": \"copy=True, feature_range=(0, 1\", \"primary_metric\": 0.77727273, \"best_metric\": 0.86646465}, {\"run_id\": \"AutoML_111e941e-8cd6-43c2-b951-a097693639d4_14\", \"run_number\": 244, \"metric\": null, \"status\": \"Completed\", \"run_type\": \"azureml.scriptrun\", \"training_percent\": \"100\", \"start_time\": \"2021-03-21T15:54:11.118008Z\", \"end_time\": \"2021-03-21T15:55:02.595507Z\", \"created_time\": \"2021-03-21T15:53:58.750464Z\", \"created_time_dt\": \"2021-03-21T15:53:58.750464Z\", \"duration\": \"0:01:03\", \"iteration\": \"14\", \"goal\": \"accuracy_max\", \"run_name\": \"MaxAbsScaler, ExtremeRandomTrees\", \"run_properties\": \"copy=True\", \"primary_metric\": 0.79050505, \"best_metric\": 0.86646465}, {\"run_id\": \"AutoML_111e941e-8cd6-43c2-b951-a097693639d4_16\", \"run_number\": 245, \"metric\": null, \"status\": \"Completed\", \"run_type\": \"azureml.scriptrun\", \"training_percent\": \"100\", \"start_time\": \"2021-03-21T15:54:16.537643Z\", \"end_time\": \"2021-03-21T15:55:11.393651Z\", \"created_time\": \"2021-03-21T15:54:04.4586Z\", \"created_time_dt\": \"2021-03-21T15:54:04.4586Z\", \"duration\": \"0:01:06\", \"iteration\": \"16\", \"goal\": \"accuracy_max\", \"run_name\": \"RobustScaler, LightGBM\", \"run_properties\": \"copy=True, quantile_range=[25, 75], with_centering=False,\\n             with_scaling=False\", \"primary_metric\": 0.79949495, \"best_metric\": 0.86646465}, {\"run_id\": \"AutoML_111e941e-8cd6-43c2-b951-a097693639d4_15\", \"run_number\": 246, \"metric\": null, \"status\": \"Completed\", \"run_type\": \"azureml.scriptrun\", \"training_percent\": \"100\", \"start_time\": \"2021-03-21T15:54:17.104071Z\", \"end_time\": \"2021-03-21T15:55:17.938015Z\", \"created_time\": \"2021-03-21T15:54:04.640419Z\", \"created_time_dt\": \"2021-03-21T15:54:04.640419Z\", \"duration\": \"0:01:13\", \"iteration\": \"15\", \"goal\": \"accuracy_max\", \"run_name\": \"RobustScaler, KNN\", \"run_properties\": \"copy=True, quantile_range=[25, 75], with_centering=True,\\n             with_scaling=False\", \"primary_metric\": 0.57151515, \"best_metric\": 0.86646465}, {\"run_id\": \"AutoML_111e941e-8cd6-43c2-b951-a097693639d4_17\", \"run_number\": 247, \"metric\": null, \"status\": \"Completed\", \"run_type\": \"azureml.scriptrun\", \"training_percent\": \"100\", \"start_time\": \"2021-03-21T15:54:24.181205Z\", \"end_time\": \"2021-03-21T15:55:09.926626Z\", \"created_time\": \"2021-03-21T15:54:12.335087Z\", \"created_time_dt\": \"2021-03-21T15:54:12.335087Z\", \"duration\": \"0:00:57\", \"iteration\": \"17\", \"goal\": \"accuracy_max\", \"run_name\": \"RobustScaler, LightGBM\", \"run_properties\": \"copy=True, quantile_range=[10, 90], with_centering=True,\\n             with_scaling=False\", \"primary_metric\": 0.77727273, \"best_metric\": 0.86646465}, {\"run_id\": \"AutoML_111e941e-8cd6-43c2-b951-a097693639d4_18\", \"run_number\": 248, \"metric\": null, \"status\": \"Completed\", \"run_type\": \"azureml.scriptrun\", \"training_percent\": \"100\", \"start_time\": \"2021-03-21T15:55:13.017724Z\", \"end_time\": \"2021-03-21T15:56:01.47139Z\", \"created_time\": \"2021-03-21T15:55:00.406901Z\", \"created_time_dt\": \"2021-03-21T15:55:00.406901Z\", \"duration\": \"0:01:01\", \"iteration\": \"18\", \"goal\": \"accuracy_max\", \"run_name\": \"StandardScalerWrapper, LightGBM\", \"run_properties\": \"<azureml.automl.runtime.shared.model_wrappers.StandardScalerWrapper object at 0x7f39ac813e80\", \"primary_metric\": 0.79060606, \"best_metric\": 0.86646465}, {\"run_id\": \"AutoML_111e941e-8cd6-43c2-b951-a097693639d4_19\", \"run_number\": 249, \"metric\": null, \"status\": \"Completed\", \"run_type\": \"azureml.scriptrun\", \"training_percent\": \"100\", \"start_time\": \"2021-03-21T15:55:19.300711Z\", \"end_time\": \"2021-03-21T15:55:59.908139Z\", \"created_time\": \"2021-03-21T15:55:04.818821Z\", \"created_time_dt\": \"2021-03-21T15:55:04.818821Z\", \"duration\": \"0:00:55\", \"iteration\": \"19\", \"goal\": \"accuracy_max\", \"run_name\": \"RobustScaler, KNN\", \"run_properties\": \"copy=True, quantile_range=[25, 75], with_centering=True,\\n             with_scaling=False\", \"primary_metric\": 0.60707071, \"best_metric\": 0.86646465}, {\"run_id\": \"AutoML_111e941e-8cd6-43c2-b951-a097693639d4_20\", \"run_number\": 250, \"metric\": null, \"status\": \"Completed\", \"run_type\": \"azureml.scriptrun\", \"training_percent\": \"100\", \"start_time\": \"2021-03-21T15:55:25.210346Z\", \"end_time\": \"2021-03-21T15:56:13.593847Z\", \"created_time\": \"2021-03-21T15:55:12.305995Z\", \"created_time_dt\": \"2021-03-21T15:55:12.305995Z\", \"duration\": \"0:01:01\", \"iteration\": \"20\", \"goal\": \"accuracy_max\", \"run_name\": \"MaxAbsScaler, ExtremeRandomTrees\", \"run_properties\": \"copy=True\", \"primary_metric\": 0.79939394, \"best_metric\": 0.86646465}, {\"run_id\": \"AutoML_111e941e-8cd6-43c2-b951-a097693639d4_21\", \"run_number\": 251, \"metric\": null, \"status\": \"Completed\", \"run_type\": \"azureml.scriptrun\", \"training_percent\": \"100\", \"start_time\": \"2021-03-21T15:55:26.409661Z\", \"end_time\": \"2021-03-21T15:56:17.177925Z\", \"created_time\": \"2021-03-21T15:55:16.763721Z\", \"created_time_dt\": \"2021-03-21T15:55:16.763721Z\", \"duration\": \"0:01:00\", \"iteration\": \"21\", \"goal\": \"accuracy_max\", \"run_name\": \"SparseNormalizer, RandomForest\", \"run_properties\": \"<azureml.automl.runtime.shared.model_wrappers.SparseNormalizer object at 0x7f5854fa6160\", \"primary_metric\": 0.79939394, \"best_metric\": 0.86646465}, {\"run_id\": \"AutoML_111e941e-8cd6-43c2-b951-a097693639d4_22\", \"run_number\": 252, \"metric\": null, \"status\": \"Completed\", \"run_type\": \"azureml.scriptrun\", \"training_percent\": \"100\", \"start_time\": \"2021-03-21T15:55:30.796697Z\", \"end_time\": \"2021-03-21T15:56:24.054808Z\", \"created_time\": \"2021-03-21T15:55:20.660982Z\", \"created_time_dt\": \"2021-03-21T15:55:20.660982Z\", \"duration\": \"0:01:03\", \"iteration\": \"22\", \"goal\": \"accuracy_max\", \"run_name\": \"SparseNormalizer, ExtremeRandomTrees\", \"run_properties\": \"<azureml.automl.runtime.shared.model_wrappers.SparseNormalizer object at 0x7f23aa0d4b70\", \"primary_metric\": 0.71454545, \"best_metric\": 0.86646465}, {\"run_id\": \"AutoML_111e941e-8cd6-43c2-b951-a097693639d4_23\", \"run_number\": 253, \"metric\": null, \"status\": \"Completed\", \"run_type\": \"azureml.scriptrun\", \"training_percent\": \"100\", \"start_time\": \"2021-03-21T15:56:14.256928Z\", \"end_time\": \"2021-03-21T15:56:56.499107Z\", \"created_time\": \"2021-03-21T15:56:02.373926Z\", \"created_time_dt\": \"2021-03-21T15:56:02.373926Z\", \"duration\": \"0:00:54\", \"iteration\": \"23\", \"goal\": \"accuracy_max\", \"run_name\": \"MinMaxScaler, LightGBM\", \"run_properties\": \"copy=True, feature_range=(0, 1\", \"primary_metric\": 0.8530303, \"best_metric\": 0.86646465}, {\"run_id\": \"AutoML_111e941e-8cd6-43c2-b951-a097693639d4_24\", \"run_number\": 254, \"metric\": null, \"status\": \"Completed\", \"run_type\": \"azureml.scriptrun\", \"training_percent\": \"100\", \"start_time\": \"2021-03-21T15:56:16.677871Z\", \"end_time\": \"2021-03-21T15:56:56.858354Z\", \"created_time\": \"2021-03-21T15:56:06.297816Z\", \"created_time_dt\": \"2021-03-21T15:56:06.297816Z\", \"duration\": \"0:00:50\", \"iteration\": \"24\", \"goal\": \"accuracy_max\", \"run_name\": \"MaxAbsScaler, LightGBM\", \"run_properties\": \"copy=True\", \"primary_metric\": 0.72353535, \"best_metric\": 0.86646465}, {\"run_id\": \"AutoML_111e941e-8cd6-43c2-b951-a097693639d4_25\", \"run_number\": 255, \"metric\": null, \"status\": \"Completed\", \"run_type\": \"azureml.scriptrun\", \"training_percent\": \"100\", \"start_time\": \"2021-03-21T15:56:28.381429Z\", \"end_time\": \"2021-03-21T15:57:16.540745Z\", \"created_time\": \"2021-03-21T15:56:16.473259Z\", \"created_time_dt\": \"2021-03-21T15:56:16.473259Z\", \"duration\": \"0:01:00\", \"iteration\": \"25\", \"goal\": \"accuracy_max\", \"run_name\": \"MaxAbsScaler, RandomForest\", \"run_properties\": \"copy=True\", \"primary_metric\": 0.79969697, \"best_metric\": 0.86646465}, {\"run_id\": \"AutoML_111e941e-8cd6-43c2-b951-a097693639d4_26\", \"run_number\": 256, \"metric\": null, \"status\": \"Completed\", \"run_type\": \"azureml.scriptrun\", \"training_percent\": \"100\", \"start_time\": \"2021-03-21T15:56:31.805537Z\", \"end_time\": \"2021-03-21T15:57:16.895518Z\", \"created_time\": \"2021-03-21T15:56:20.64068Z\", \"created_time_dt\": \"2021-03-21T15:56:20.64068Z\", \"duration\": \"0:00:56\", \"iteration\": \"26\", \"goal\": \"accuracy_max\", \"run_name\": \"MaxAbsScaler, RandomForest\", \"run_properties\": \"copy=True\", \"primary_metric\": 0.82181818, \"best_metric\": 0.86646465}, {\"run_id\": \"AutoML_111e941e-8cd6-43c2-b951-a097693639d4_27\", \"run_number\": 257, \"metric\": null, \"status\": \"Completed\", \"run_type\": \"azureml.scriptrun\", \"training_percent\": \"100\", \"start_time\": \"2021-03-21T15:56:40.800487Z\", \"end_time\": \"2021-03-21T15:57:27.619084Z\", \"created_time\": \"2021-03-21T15:56:26.502117Z\", \"created_time_dt\": \"2021-03-21T15:56:26.502117Z\", \"duration\": \"0:01:01\", \"iteration\": \"27\", \"goal\": \"accuracy_max\", \"run_name\": \"MinMaxScaler, RandomForest\", \"run_properties\": \"copy=True, feature_range=(0, 1\", \"primary_metric\": 0.83515152, \"best_metric\": 0.86646465}, {\"run_id\": \"AutoML_111e941e-8cd6-43c2-b951-a097693639d4_28\", \"run_number\": 258, \"metric\": null, \"status\": \"Completed\", \"run_type\": \"azureml.scriptrun\", \"training_percent\": \"100\", \"start_time\": \"2021-03-21T15:57:12.253695Z\", \"end_time\": \"2021-03-21T15:57:58.539107Z\", \"created_time\": \"2021-03-21T15:56:58.924812Z\", \"created_time_dt\": \"2021-03-21T15:56:58.924812Z\", \"duration\": \"0:00:59\", \"iteration\": \"28\", \"goal\": \"accuracy_max\", \"run_name\": \"MinMaxScaler, RandomForest\", \"run_properties\": \"copy=True, feature_range=(0, 1\", \"primary_metric\": 0.85747475, \"best_metric\": 0.86646465}, {\"run_id\": \"AutoML_111e941e-8cd6-43c2-b951-a097693639d4_29\", \"run_number\": 259, \"metric\": null, \"status\": \"Completed\", \"run_type\": \"azureml.scriptrun\", \"training_percent\": \"100\", \"start_time\": \"2021-03-21T15:57:10.388749Z\", \"end_time\": \"2021-03-21T15:57:52.700485Z\", \"created_time\": \"2021-03-21T15:56:59.046666Z\", \"created_time_dt\": \"2021-03-21T15:56:59.046666Z\", \"duration\": \"0:00:53\", \"iteration\": \"29\", \"goal\": \"accuracy_max\", \"run_name\": \"RobustScaler, ExtremeRandomTrees\", \"run_properties\": \"copy=True, quantile_range=[10, 90], with_centering=True,\\n             with_scaling=False\", \"primary_metric\": 0.82606061, \"best_metric\": 0.86646465}, {\"run_id\": \"AutoML_111e941e-8cd6-43c2-b951-a097693639d4_30\", \"run_number\": 260, \"metric\": null, \"status\": \"Completed\", \"run_type\": \"azureml.scriptrun\", \"training_percent\": \"100\", \"start_time\": \"2021-03-21T15:57:31.944655Z\", \"end_time\": \"2021-03-21T15:58:17.44406Z\", \"created_time\": \"2021-03-21T15:57:19.729967Z\", \"created_time_dt\": \"2021-03-21T15:57:19.729967Z\", \"duration\": \"0:00:57\", \"iteration\": \"30\", \"goal\": \"accuracy_max\", \"run_name\": \"MaxAbsScaler, RandomForest\", \"run_properties\": \"copy=True\", \"primary_metric\": 0.80383838, \"best_metric\": 0.86646465}, {\"run_id\": \"AutoML_111e941e-8cd6-43c2-b951-a097693639d4_31\", \"run_number\": 261, \"metric\": null, \"status\": \"Completed\", \"run_type\": \"azureml.scriptrun\", \"training_percent\": \"100\", \"start_time\": \"2021-03-21T15:57:29.500678Z\", \"end_time\": \"2021-03-21T15:58:17.616474Z\", \"created_time\": \"2021-03-21T15:57:19.761691Z\", \"created_time_dt\": \"2021-03-21T15:57:19.761691Z\", \"duration\": \"0:00:57\", \"iteration\": \"31\", \"goal\": \"accuracy_max\", \"run_name\": \"StandardScalerWrapper, LightGBM\", \"run_properties\": \"<azureml.automl.runtime.shared.model_wrappers.StandardScalerWrapper object at 0x7fbc83e89898\", \"primary_metric\": 0.85737374, \"best_metric\": 0.86646465}, {\"run_id\": \"AutoML_111e941e-8cd6-43c2-b951-a097693639d4_32\", \"run_number\": 262, \"metric\": null, \"status\": \"Completed\", \"run_type\": \"azureml.scriptrun\", \"training_percent\": \"100\", \"start_time\": \"2021-03-21T15:57:41.134889Z\", \"end_time\": \"2021-03-21T15:58:31.587697Z\", \"created_time\": \"2021-03-21T15:57:29.785535Z\", \"created_time_dt\": \"2021-03-21T15:57:29.785535Z\", \"duration\": \"0:01:01\", \"iteration\": \"32\", \"goal\": \"accuracy_max\", \"run_name\": \"StandardScalerWrapper, LightGBM\", \"run_properties\": \"<azureml.automl.runtime.shared.model_wrappers.StandardScalerWrapper object at 0x7f68518146a0\", \"primary_metric\": 0.83525253, \"best_metric\": 0.86646465}, {\"run_id\": \"AutoML_111e941e-8cd6-43c2-b951-a097693639d4_33\", \"run_number\": 263, \"metric\": null, \"status\": \"Completed\", \"run_type\": \"azureml.scriptrun\", \"training_percent\": \"100\", \"start_time\": \"2021-03-21T15:58:08.447585Z\", \"end_time\": \"2021-03-21T15:58:54.532203Z\", \"created_time\": \"2021-03-21T15:57:55.799728Z\", \"created_time_dt\": \"2021-03-21T15:57:55.799728Z\", \"duration\": \"0:00:58\", \"iteration\": \"33\", \"goal\": \"accuracy_max\", \"run_name\": \"StandardScalerWrapper, RandomForest\", \"run_properties\": \"<azureml.automl.runtime.shared.model_wrappers.StandardScalerWrapper object at 0x7f9ac767eda0\", \"primary_metric\": 0.83060606, \"best_metric\": 0.86646465}, {\"run_id\": \"AutoML_111e941e-8cd6-43c2-b951-a097693639d4_34\", \"run_number\": 264, \"metric\": null, \"status\": \"Canceled\", \"run_type\": \"azureml.scriptrun\", \"training_percent\": \"100\", \"start_time\": \"2021-03-21T15:58:15.326786Z\", \"end_time\": \"2021-03-21T15:58:58.66203Z\", \"created_time\": \"2021-03-21T15:58:00.799394Z\", \"created_time_dt\": \"2021-03-21T15:58:00.799394Z\", \"duration\": \"0:00:57\", \"iteration\": \"34\", \"goal\": \"accuracy_max\", \"run_name\": \"StandardScalerWrapper, LightGBM\", \"run_properties\": \"<azureml.automl.runtime.shared.model_wrappers.StandardScalerWrapper object at 0x7fe507d1aac8\", \"primary_metric\": 0.84858586, \"best_metric\": 0.86646465}, {\"run_id\": \"AutoML_111e941e-8cd6-43c2-b951-a097693639d4_35\", \"run_number\": 265, \"metric\": null, \"status\": \"Canceled\", \"run_type\": \"azureml.scriptrun\", \"training_percent\": \"100\", \"start_time\": \"2021-03-21T15:58:32.959906Z\", \"end_time\": \"2021-03-21T15:59:01.987638Z\", \"created_time\": \"2021-03-21T15:58:20.726147Z\", \"created_time_dt\": \"2021-03-21T15:58:20.726147Z\", \"duration\": \"0:00:41\", \"iteration\": \"35\", \"goal\": null, \"run_name\": \"StandardScalerWrapper, RandomForest\", \"run_properties\": null}, {\"run_id\": \"AutoML_111e941e-8cd6-43c2-b951-a097693639d4_36\", \"run_number\": 266, \"metric\": null, \"status\": \"Canceled\", \"run_type\": \"azureml.scriptrun\", \"training_percent\": \"100\", \"start_time\": \"2021-03-21T15:58:32.953053Z\", \"end_time\": \"2021-03-21T15:59:04.469063Z\", \"created_time\": \"2021-03-21T15:58:20.733143Z\", \"created_time_dt\": \"2021-03-21T15:58:20.733143Z\", \"duration\": \"0:00:43\", \"iteration\": \"36\", \"goal\": \"accuracy_max\", \"run_name\": \"SparseNormalizer, LightGBM\", \"run_properties\": \"<azureml.automl.runtime.shared.model_wrappers.SparseNormalizer object at 0x7f030cc80f28\", \"primary_metric\": 0.80828283, \"best_metric\": 0.86646465}, {\"run_id\": \"AutoML_111e941e-8cd6-43c2-b951-a097693639d4_37\", \"run_number\": 267, \"metric\": null, \"status\": \"Canceled\", \"run_type\": \"azureml.scriptrun\", \"training_percent\": \"100\", \"start_time\": \"2021-03-21T15:58:46.463194Z\", \"end_time\": \"2021-03-21T15:59:03.71978Z\", \"created_time\": \"2021-03-21T15:58:33.826347Z\", \"created_time_dt\": \"2021-03-21T15:58:33.826347Z\", \"duration\": \"0:00:29\", \"iteration\": \"37\", \"goal\": null, \"run_name\": \"Canceled\", \"run_properties\": null}, {\"run_id\": \"AutoML_111e941e-8cd6-43c2-b951-a097693639d4_38\", \"run_number\": 268, \"metric\": null, \"status\": \"Completed\", \"run_type\": \"azureml.scriptrun\", \"training_percent\": \"100\", \"start_time\": \"2021-03-21T15:59:16.907537Z\", \"end_time\": \"2021-03-21T16:00:29.730037Z\", \"created_time\": \"2021-03-21T15:59:05.772423Z\", \"created_time_dt\": \"2021-03-21T15:59:05.772423Z\", \"duration\": \"0:01:23\", \"iteration\": \"38\", \"goal\": \"accuracy_max\", \"run_name\": \"VotingEnsemble\", \"run_properties\": \"classification_labels=None,\\n                              estimators=[('3',\\n                                           Pipeline(memory=None,\\n                                                    steps=[('minmaxscaler',\\n                                                            MinMaxScaler(copy=True,\\n                                                                         feature_range=(0,\\n                                                                                        1\", \"primary_metric\": 0.87080808, \"best_metric\": 0.87080808}, {\"run_id\": \"AutoML_111e941e-8cd6-43c2-b951-a097693639d4_39\", \"run_number\": 269, \"metric\": null, \"status\": \"Completed\", \"run_type\": \"azureml.scriptrun\", \"training_percent\": \"100\", \"start_time\": \"2021-03-21T15:59:16.175817Z\", \"end_time\": \"2021-03-21T16:00:35.529384Z\", \"created_time\": \"2021-03-21T15:59:05.877651Z\", \"created_time_dt\": \"2021-03-21T15:59:05.877651Z\", \"duration\": \"0:01:29\", \"iteration\": \"39\", \"goal\": \"accuracy_max\", \"run_name\": \"StackEnsemble\", \"run_properties\": \"base_learners=[('3',\\n                                        Pipeline(memory=None,\\n                                                 steps=[('minmaxscaler',\\n                                                         MinMaxScaler(copy=True,\\n                                                                      feature_range=(0,\\n                                                                                     1\", \"primary_metric\": 0.84848485, \"best_metric\": 0.87080808}], \"children_metrics\": {\"categories\": [0], \"series\": {\"norm_macro_recall\": [{\"categories\": [\"0\", \"1\", \"2\", \"3\", \"4\", \"5\", \"6\", \"7\", \"8\", \"9\", \"10\", \"11\", \"12\", \"13\", \"14\", \"15\", \"16\", \"17\", \"18\", \"19\", \"20\", \"21\", \"22\", \"23\", \"24\", \"25\", \"26\", \"27\", \"28\", \"29\", \"30\", \"31\", \"32\", \"33\", \"34\", \"36\", \"38\", \"39\"], \"mode\": \"markers\", \"name\": \"norm_macro_recall\", \"stepped\": false, \"type\": \"scatter\", \"data\": [0.5889270004189359, 0.6036037215472699, 0.5911700530652143, 0.6875322929758414, 0.7040121840525067, 0.28160434995112416, 0.2089556277056277, 0.19207251082251084, 0.24582111436950144, 0.6236402038821394, 0.6281167085602569, 0.553224933668482, 0.5836632453567938, 0.4122617302052786, 0.39917609272447985, 0.028409090909090873, 0.4754381371316855, 0.366642228739003, 0.37705627705627703, 0.05990259740259738, 0.4382724130708002, 0.4889095447563189, 0.12082111436950153, 0.6562822929758414, 0.13571428571428576, 0.4379625750593492, 0.5061199553135036, 0.6242232230135456, 0.6661971093422706, 0.5434035050970535, 0.4859508099427455, 0.6517368384303869, 0.5652379206814692, 0.5858548037983522, 0.6396156263091747, 0.519970150816925, 0.6862606479541963, 0.633272238514174]}, {\"categories\": [\"0\", \"1\", \"2\", \"3\", \"4\", \"5\", \"6\", \"7\", \"8\", \"9\", \"10\", \"11\", \"12\", \"13\", \"14\", \"15\", \"16\", \"17\", \"18\", \"19\", \"20\", \"21\", \"22\", \"23\", \"24\", \"25\", \"26\", \"27\", \"28\", \"29\", \"30\", \"31\", \"32\", \"33\", \"34\", \"36\", \"38\", \"39\"], \"mode\": \"lines\", \"name\": \"norm_macro_recall_max\", \"stepped\": true, \"type\": \"scatter\", \"data\": [0.5889270004189359, 0.6036037215472699, 0.6036037215472699, 0.6875322929758414, 0.7040121840525067, 0.7040121840525067, 0.7040121840525067, 0.7040121840525067, 0.7040121840525067, 0.7040121840525067, 0.7040121840525067, 0.7040121840525067, 0.7040121840525067, 0.7040121840525067, 0.7040121840525067, 0.7040121840525067, 0.7040121840525067, 0.7040121840525067, 0.7040121840525067, 0.7040121840525067, 0.7040121840525067, 0.7040121840525067, 0.7040121840525067, 0.7040121840525067, 0.7040121840525067, 0.7040121840525067, 0.7040121840525067, 0.7040121840525067, 0.7040121840525067, 0.7040121840525067, 0.7040121840525067, 0.7040121840525067, 0.7040121840525067, 0.7040121840525067, 0.7040121840525067, 0.7040121840525067, 0.7040121840525067, 0.7040121840525067]}], \"log_loss\": [{\"categories\": [\"0\", \"1\", \"2\", \"3\", \"4\", \"5\", \"6\", \"7\", \"8\", \"9\", \"10\", \"11\", \"12\", \"13\", \"14\", \"15\", \"16\", \"17\", \"18\", \"19\", \"20\", \"21\", \"22\", \"23\", \"24\", \"25\", \"26\", \"27\", \"28\", \"29\", \"30\", \"31\", \"32\", \"33\", \"34\", \"36\", \"38\", \"39\"], \"mode\": \"markers\", \"name\": \"log_loss\", \"stepped\": false, \"type\": \"scatter\", \"data\": [0.43779613147693724, 0.3789837468265149, 0.3844413415870471, 0.37921047081061715, 0.4257333927462777, 0.6312969682432362, 0.584086660834381, 0.5758104292053693, 0.4744523640000245, 0.3793526503188158, 0.3696001178556937, 0.42131387886021254, 0.38443389556880553, 0.45467092437103257, 0.463357375592843, 1.1390059933344678, 0.4318349565200073, 0.4681634342518626, 0.4640617840085296, 0.7770436678126769, 0.45873561679431585, 0.4073210153559558, 0.5280848380785813, 0.36267024621769484, 0.5220363719759156, 0.4360676592388223, 0.41933595515258837, 0.37987990289431595, 0.36100753753155196, 0.3777737657384338, 0.43792660369557657, 0.3734728987943607, 0.39557047649260385, 0.3911813671074985, 0.36682635146299325, 0.4170240555006677, 0.3664475831329427, 0.38430653841788165]}, {\"categories\": [\"0\", \"1\", \"2\", \"3\", \"4\", \"5\", \"6\", \"7\", \"8\", \"9\", \"10\", \"11\", \"12\", \"13\", \"14\", \"15\", \"16\", \"17\", \"18\", \"19\", \"20\", \"21\", \"22\", \"23\", \"24\", \"25\", \"26\", \"27\", \"28\", \"29\", \"30\", \"31\", \"32\", \"33\", \"34\", \"36\", \"38\", \"39\"], \"mode\": \"lines\", \"name\": \"log_loss_min\", \"stepped\": true, \"type\": \"scatter\", \"data\": [0.43779613147693724, 0.3789837468265149, 0.3789837468265149, 0.3789837468265149, 0.3789837468265149, 0.3789837468265149, 0.3789837468265149, 0.3789837468265149, 0.3789837468265149, 0.3789837468265149, 0.3696001178556937, 0.3696001178556937, 0.3696001178556937, 0.3696001178556937, 0.3696001178556937, 0.3696001178556937, 0.3696001178556937, 0.3696001178556937, 0.3696001178556937, 0.3696001178556937, 0.3696001178556937, 0.3696001178556937, 0.3696001178556937, 0.36267024621769484, 0.36267024621769484, 0.36267024621769484, 0.36267024621769484, 0.36267024621769484, 0.36100753753155196, 0.36100753753155196, 0.36100753753155196, 0.36100753753155196, 0.36100753753155196, 0.36100753753155196, 0.36100753753155196, 0.36100753753155196, 0.36100753753155196, 0.36100753753155196]}], \"recall_score_micro\": [{\"categories\": [\"0\", \"1\", \"2\", \"3\", \"4\", \"5\", \"6\", \"7\", \"8\", \"9\", \"10\", \"11\", \"12\", \"13\", \"14\", \"15\", \"16\", \"17\", \"18\", \"19\", \"20\", \"21\", \"22\", \"23\", \"24\", \"25\", \"26\", \"27\", \"28\", \"29\", \"30\", \"31\", \"32\", \"33\", \"34\", \"36\", \"38\", \"39\"], \"mode\": \"markers\", \"name\": \"recall_score_micro\", \"stepped\": false, \"type\": \"scatter\", \"data\": [0.8307070707070707, 0.8306060606060607, 0.8263636363636364, 0.8664646464646466, 0.8526262626262626, 0.7502020202020202, 0.71, 0.7011111111111111, 0.7503030303030304, 0.8395959595959596, 0.8530303030303029, 0.8307070707070707, 0.835050505050505, 0.7772727272727272, 0.7905050505050506, 0.5715151515151515, 0.7994949494949495, 0.7772727272727272, 0.7906060606060606, 0.6070707070707071, 0.7993939393939394, 0.7993939393939394, 0.7145454545454545, 0.8530303030303029, 0.7235353535353535, 0.7996969696969697, 0.8218181818181819, 0.8351515151515152, 0.8574747474747474, 0.8260606060606059, 0.8038383838383838, 0.8573737373737373, 0.8352525252525252, 0.8306060606060607, 0.8485858585858586, 0.8082828282828283, 0.8708080808080808, 0.8484848484848484]}, {\"categories\": [\"0\", \"1\", \"2\", \"3\", \"4\", \"5\", \"6\", \"7\", \"8\", \"9\", \"10\", \"11\", \"12\", \"13\", \"14\", \"15\", \"16\", \"17\", \"18\", \"19\", \"20\", \"21\", \"22\", \"23\", \"24\", \"25\", \"26\", \"27\", \"28\", \"29\", \"30\", \"31\", \"32\", \"33\", \"34\", \"36\", \"38\", \"39\"], \"mode\": \"lines\", \"name\": \"recall_score_micro_max\", \"stepped\": true, \"type\": \"scatter\", \"data\": [0.8307070707070707, 0.8307070707070707, 0.8307070707070707, 0.8664646464646466, 0.8664646464646466, 0.8664646464646466, 0.8664646464646466, 0.8664646464646466, 0.8664646464646466, 0.8664646464646466, 0.8664646464646466, 0.8664646464646466, 0.8664646464646466, 0.8664646464646466, 0.8664646464646466, 0.8664646464646466, 0.8664646464646466, 0.8664646464646466, 0.8664646464646466, 0.8664646464646466, 0.8664646464646466, 0.8664646464646466, 0.8664646464646466, 0.8664646464646466, 0.8664646464646466, 0.8664646464646466, 0.8664646464646466, 0.8664646464646466, 0.8664646464646466, 0.8664646464646466, 0.8664646464646466, 0.8664646464646466, 0.8664646464646466, 0.8664646464646466, 0.8664646464646466, 0.8664646464646466, 0.8708080808080808, 0.8708080808080808]}], \"AUC_micro\": [{\"categories\": [\"0\", \"1\", \"2\", \"3\", \"4\", \"5\", \"6\", \"7\", \"8\", \"9\", \"10\", \"11\", \"12\", \"13\", \"14\", \"15\", \"16\", \"17\", \"18\", \"19\", \"20\", \"21\", \"22\", \"23\", \"24\", \"25\", \"26\", \"27\", \"28\", \"29\", \"30\", \"31\", \"32\", \"33\", \"34\", \"36\", \"38\", \"39\"], \"mode\": \"markers\", \"name\": \"AUC_micro\", \"stepped\": false, \"type\": \"scatter\", \"data\": [0.9075442301805939, 0.910700183654729, 0.9130898377716559, 0.9138038975614734, 0.9111622793592492, 0.837101877359453, 0.7705828486889092, 0.770842822161004, 0.8716345270890725, 0.9129229670441792, 0.9226689623507806, 0.910884093459851, 0.9123973574125088, 0.8889423018059383, 0.8853447607387002, 0.5948929701050913, 0.9025821344760739, 0.8825849913274156, 0.8889071013161922, 0.6204754616875829, 0.8843843485358637, 0.8922804560759106, 0.8375389245995306, 0.9201010611162127, 0.8481124885215795, 0.89774375063769, 0.9012323232323232, 0.916613610856035, 0.9244297010509133, 0.9242787470666258, 0.88021008060402, 0.9215689215386185, 0.9157826242220182, 0.9190418834812775, 0.9195709111315171, 0.8953041526374859, 0.9263153249668401, 0.917295888174676]}, {\"categories\": [\"0\", \"1\", \"2\", \"3\", \"4\", \"5\", \"6\", \"7\", \"8\", \"9\", \"10\", \"11\", \"12\", \"13\", \"14\", \"15\", \"16\", \"17\", \"18\", \"19\", \"20\", \"21\", \"22\", \"23\", \"24\", \"25\", \"26\", \"27\", \"28\", \"29\", \"30\", \"31\", \"32\", \"33\", \"34\", \"36\", \"38\", \"39\"], \"mode\": \"lines\", \"name\": \"AUC_micro_max\", \"stepped\": true, \"type\": \"scatter\", \"data\": [0.9075442301805939, 0.910700183654729, 0.9130898377716559, 0.9138038975614734, 0.9138038975614734, 0.9138038975614734, 0.9138038975614734, 0.9138038975614734, 0.9138038975614734, 0.9138038975614734, 0.9226689623507806, 0.9226689623507806, 0.9226689623507806, 0.9226689623507806, 0.9226689623507806, 0.9226689623507806, 0.9226689623507806, 0.9226689623507806, 0.9226689623507806, 0.9226689623507806, 0.9226689623507806, 0.9226689623507806, 0.9226689623507806, 0.9226689623507806, 0.9226689623507806, 0.9226689623507806, 0.9226689623507806, 0.9226689623507806, 0.9244297010509133, 0.9244297010509133, 0.9244297010509133, 0.9244297010509133, 0.9244297010509133, 0.9244297010509133, 0.9244297010509133, 0.9244297010509133, 0.9263153249668401, 0.9263153249668401]}], \"recall_score_macro\": [{\"categories\": [\"0\", \"1\", \"2\", \"3\", \"4\", \"5\", \"6\", \"7\", \"8\", \"9\", \"10\", \"11\", \"12\", \"13\", \"14\", \"15\", \"16\", \"17\", \"18\", \"19\", \"20\", \"21\", \"22\", \"23\", \"24\", \"25\", \"26\", \"27\", \"28\", \"29\", \"30\", \"31\", \"32\", \"33\", \"34\", \"36\", \"38\", \"39\"], \"mode\": \"markers\", \"name\": \"recall_score_macro\", \"stepped\": false, \"type\": \"scatter\", \"data\": [0.7944635002094678, 0.801801860773635, 0.7955850265326072, 0.8437661464879207, 0.8520060920262533, 0.640802174975562, 0.6044778138528139, 0.5960362554112554, 0.6229105571847507, 0.8118201019410696, 0.8140583542801286, 0.776612466834241, 0.7918316226783969, 0.7061308651026392, 0.6995880463622399, 0.48146819578271194, 0.7377190685658428, 0.6833211143695015, 0.6885281385281384, 0.5019349602010893, 0.7191362065354001, 0.7444547723781595, 0.5604105571847507, 0.8281411464879206, 0.5678571428571428, 0.7189812875296747, 0.7530599776567518, 0.8121116115067728, 0.8330985546711351, 0.7717017525485266, 0.7429754049713727, 0.8258684192151934, 0.7826189603407345, 0.7929274018991761, 0.8198078131545874, 0.7599850754084625, 0.8431303239770982, 0.816636119257087]}, {\"categories\": [\"0\", \"1\", \"2\", \"3\", \"4\", \"5\", \"6\", \"7\", \"8\", \"9\", \"10\", \"11\", \"12\", \"13\", \"14\", \"15\", \"16\", \"17\", \"18\", \"19\", \"20\", \"21\", \"22\", \"23\", \"24\", \"25\", \"26\", \"27\", \"28\", \"29\", \"30\", \"31\", \"32\", \"33\", \"34\", \"36\", \"38\", \"39\"], \"mode\": \"lines\", \"name\": \"recall_score_macro_max\", \"stepped\": true, \"type\": \"scatter\", \"data\": [0.7944635002094678, 0.801801860773635, 0.801801860773635, 0.8437661464879207, 0.8520060920262533, 0.8520060920262533, 0.8520060920262533, 0.8520060920262533, 0.8520060920262533, 0.8520060920262533, 0.8520060920262533, 0.8520060920262533, 0.8520060920262533, 0.8520060920262533, 0.8520060920262533, 0.8520060920262533, 0.8520060920262533, 0.8520060920262533, 0.8520060920262533, 0.8520060920262533, 0.8520060920262533, 0.8520060920262533, 0.8520060920262533, 0.8520060920262533, 0.8520060920262533, 0.8520060920262533, 0.8520060920262533, 0.8520060920262533, 0.8520060920262533, 0.8520060920262533, 0.8520060920262533, 0.8520060920262533, 0.8520060920262533, 0.8520060920262533, 0.8520060920262533, 0.8520060920262533, 0.8520060920262533, 0.8520060920262533]}], \"recall_score_weighted\": [{\"categories\": [\"0\", \"1\", \"2\", \"3\", \"4\", \"5\", \"6\", \"7\", \"8\", \"9\", \"10\", \"11\", \"12\", \"13\", \"14\", \"15\", \"16\", \"17\", \"18\", \"19\", \"20\", \"21\", \"22\", \"23\", \"24\", \"25\", \"26\", \"27\", \"28\", \"29\", \"30\", \"31\", \"32\", \"33\", \"34\", \"36\", \"38\", \"39\"], \"mode\": \"markers\", \"name\": \"recall_score_weighted\", \"stepped\": false, \"type\": \"scatter\", \"data\": [0.8307070707070707, 0.8306060606060607, 0.8263636363636364, 0.8664646464646466, 0.8526262626262626, 0.7502020202020202, 0.71, 0.7011111111111111, 0.7503030303030304, 0.8395959595959596, 0.8530303030303029, 0.8307070707070707, 0.835050505050505, 0.7772727272727272, 0.7905050505050506, 0.5715151515151515, 0.7994949494949495, 0.7772727272727272, 0.7906060606060606, 0.6070707070707071, 0.7993939393939394, 0.7993939393939394, 0.7145454545454545, 0.8530303030303029, 0.7235353535353535, 0.7996969696969697, 0.8218181818181819, 0.8351515151515152, 0.8574747474747474, 0.8260606060606059, 0.8038383838383838, 0.8573737373737373, 0.8352525252525252, 0.8306060606060607, 0.8485858585858586, 0.8082828282828283, 0.8708080808080808, 0.8484848484848484]}, {\"categories\": [\"0\", \"1\", \"2\", \"3\", \"4\", \"5\", \"6\", \"7\", \"8\", \"9\", \"10\", \"11\", \"12\", \"13\", \"14\", \"15\", \"16\", \"17\", \"18\", \"19\", \"20\", \"21\", \"22\", \"23\", \"24\", \"25\", \"26\", \"27\", \"28\", \"29\", \"30\", \"31\", \"32\", \"33\", \"34\", \"36\", \"38\", \"39\"], \"mode\": \"lines\", \"name\": \"recall_score_weighted_max\", \"stepped\": true, \"type\": \"scatter\", \"data\": [0.8307070707070707, 0.8307070707070707, 0.8307070707070707, 0.8664646464646466, 0.8664646464646466, 0.8664646464646466, 0.8664646464646466, 0.8664646464646466, 0.8664646464646466, 0.8664646464646466, 0.8664646464646466, 0.8664646464646466, 0.8664646464646466, 0.8664646464646466, 0.8664646464646466, 0.8664646464646466, 0.8664646464646466, 0.8664646464646466, 0.8664646464646466, 0.8664646464646466, 0.8664646464646466, 0.8664646464646466, 0.8664646464646466, 0.8664646464646466, 0.8664646464646466, 0.8664646464646466, 0.8664646464646466, 0.8664646464646466, 0.8664646464646466, 0.8664646464646466, 0.8664646464646466, 0.8664646464646466, 0.8664646464646466, 0.8664646464646466, 0.8664646464646466, 0.8664646464646466, 0.8708080808080808, 0.8708080808080808]}], \"f1_score_micro\": [{\"categories\": [\"0\", \"1\", \"2\", \"3\", \"4\", \"5\", \"6\", \"7\", \"8\", \"9\", \"10\", \"11\", \"12\", \"13\", \"14\", \"15\", \"16\", \"17\", \"18\", \"19\", \"20\", \"21\", \"22\", \"23\", \"24\", \"25\", \"26\", \"27\", \"28\", \"29\", \"30\", \"31\", \"32\", \"33\", \"34\", \"36\", \"38\", \"39\"], \"mode\": \"markers\", \"name\": \"f1_score_micro\", \"stepped\": false, \"type\": \"scatter\", \"data\": [0.8307070707070707, 0.8306060606060607, 0.8263636363636364, 0.8664646464646466, 0.8526262626262626, 0.7502020202020202, 0.71, 0.7011111111111111, 0.7503030303030304, 0.8395959595959596, 0.8530303030303031, 0.8307070707070707, 0.835050505050505, 0.7772727272727273, 0.7905050505050506, 0.5715151515151515, 0.7994949494949495, 0.7772727272727273, 0.7906060606060606, 0.6070707070707071, 0.7993939393939394, 0.7993939393939394, 0.7145454545454545, 0.8530303030303031, 0.7235353535353535, 0.7996969696969697, 0.8218181818181819, 0.8351515151515152, 0.8574747474747475, 0.8260606060606062, 0.8038383838383838, 0.8573737373737373, 0.8352525252525252, 0.8306060606060607, 0.8485858585858586, 0.8082828282828283, 0.8708080808080808, 0.8484848484848484]}, {\"categories\": [\"0\", \"1\", \"2\", \"3\", \"4\", \"5\", \"6\", \"7\", \"8\", \"9\", \"10\", \"11\", \"12\", \"13\", \"14\", \"15\", \"16\", \"17\", \"18\", \"19\", \"20\", \"21\", \"22\", \"23\", \"24\", \"25\", \"26\", \"27\", \"28\", \"29\", \"30\", \"31\", \"32\", \"33\", \"34\", \"36\", \"38\", \"39\"], \"mode\": \"lines\", \"name\": \"f1_score_micro_max\", \"stepped\": true, \"type\": \"scatter\", \"data\": [0.8307070707070707, 0.8307070707070707, 0.8307070707070707, 0.8664646464646466, 0.8664646464646466, 0.8664646464646466, 0.8664646464646466, 0.8664646464646466, 0.8664646464646466, 0.8664646464646466, 0.8664646464646466, 0.8664646464646466, 0.8664646464646466, 0.8664646464646466, 0.8664646464646466, 0.8664646464646466, 0.8664646464646466, 0.8664646464646466, 0.8664646464646466, 0.8664646464646466, 0.8664646464646466, 0.8664646464646466, 0.8664646464646466, 0.8664646464646466, 0.8664646464646466, 0.8664646464646466, 0.8664646464646466, 0.8664646464646466, 0.8664646464646466, 0.8664646464646466, 0.8664646464646466, 0.8664646464646466, 0.8664646464646466, 0.8664646464646466, 0.8664646464646466, 0.8664646464646466, 0.8708080808080808, 0.8708080808080808]}], \"average_precision_score_micro\": [{\"categories\": [\"0\", \"1\", \"2\", \"3\", \"4\", \"5\", \"6\", \"7\", \"8\", \"9\", \"10\", \"11\", \"12\", \"13\", \"14\", \"15\", \"16\", \"17\", \"18\", \"19\", \"20\", \"21\", \"22\", \"23\", \"24\", \"25\", \"26\", \"27\", \"28\", \"29\", \"30\", \"31\", \"32\", \"33\", \"34\", \"36\", \"38\", \"39\"], \"mode\": \"markers\", \"name\": \"average_precision_score_micro\", \"stepped\": false, \"type\": \"scatter\", \"data\": [0.9089096439015494, 0.9077797143788157, 0.9183034040214209, 0.9139346709674605, 0.9049120067493612, 0.8398068981466775, 0.7643250005179253, 0.765823290404894, 0.8761130115481057, 0.9135767479900029, 0.9226416339330317, 0.9083023944301345, 0.9084451605235575, 0.8957031790833311, 0.8928016307361997, 0.5983346583481567, 0.9062403786637623, 0.888697524893254, 0.8908472419045973, 0.6150404965195426, 0.8911622514973045, 0.8952891179357083, 0.8517661899079364, 0.9219496299919243, 0.8547605881534979, 0.8989562778530926, 0.90504990128284, 0.9185346885652864, 0.9273574076943232, 0.9275315575928171, 0.8553435845446019, 0.9218600016249985, 0.9140914658672366, 0.91758855765045, 0.9216354373078437, 0.9006043599435083, 0.9286082169460457, 0.9188354016526704]}, {\"categories\": [\"0\", \"1\", \"2\", \"3\", \"4\", \"5\", \"6\", \"7\", \"8\", \"9\", \"10\", \"11\", \"12\", \"13\", \"14\", \"15\", \"16\", \"17\", \"18\", \"19\", \"20\", \"21\", \"22\", \"23\", \"24\", \"25\", \"26\", \"27\", \"28\", \"29\", \"30\", \"31\", \"32\", \"33\", \"34\", \"36\", \"38\", \"39\"], \"mode\": \"lines\", \"name\": \"average_precision_score_micro_max\", \"stepped\": true, \"type\": \"scatter\", \"data\": [0.9089096439015494, 0.9089096439015494, 0.9183034040214209, 0.9183034040214209, 0.9183034040214209, 0.9183034040214209, 0.9183034040214209, 0.9183034040214209, 0.9183034040214209, 0.9183034040214209, 0.9226416339330317, 0.9226416339330317, 0.9226416339330317, 0.9226416339330317, 0.9226416339330317, 0.9226416339330317, 0.9226416339330317, 0.9226416339330317, 0.9226416339330317, 0.9226416339330317, 0.9226416339330317, 0.9226416339330317, 0.9226416339330317, 0.9226416339330317, 0.9226416339330317, 0.9226416339330317, 0.9226416339330317, 0.9226416339330317, 0.9273574076943232, 0.9275315575928171, 0.9275315575928171, 0.9275315575928171, 0.9275315575928171, 0.9275315575928171, 0.9275315575928171, 0.9275315575928171, 0.9286082169460457, 0.9286082169460457]}], \"weighted_accuracy\": [{\"categories\": [\"0\", \"1\", \"2\", \"3\", \"4\", \"5\", \"6\", \"7\", \"8\", \"9\", \"10\", \"11\", \"12\", \"13\", \"14\", \"15\", \"16\", \"17\", \"18\", \"19\", \"20\", \"21\", \"22\", \"23\", \"24\", \"25\", \"26\", \"27\", \"28\", \"29\", \"30\", \"31\", \"32\", \"33\", \"34\", \"36\", \"38\", \"39\"], \"mode\": \"markers\", \"name\": \"weighted_accuracy\", \"stepped\": false, \"type\": \"scatter\", \"data\": [0.8552630736854926, 0.8500314144322327, 0.8471211340761325, 0.8815107591231326, 0.8529164881040343, 0.825415781671617, 0.7830539204590642, 0.7740580660040787, 0.8377397312267254, 0.8578217967486388, 0.8783793760962435, 0.8665749960622705, 0.8636622501105939, 0.82579154314346, 0.8526232225192795, 0.6334053103639901, 0.8413427745091322, 0.84145604743595, 0.8600368224013908, 0.679012763192618, 0.8541981229044804, 0.8364821756759827, 0.8198843792406668, 0.8693650710370739, 0.8302306062140513, 0.8543760795009394, 0.868251750278222, 0.8501203347972772, 0.873500752751433, 0.8621069926569881, 0.8440241363385554, 0.878015872623582, 0.8704989864378281, 0.8556210619571558, 0.8674185990176092, 0.8417145149208011, 0.8889202246662539, 0.8696041004660365]}, {\"categories\": [\"0\", \"1\", \"2\", \"3\", \"4\", \"5\", \"6\", \"7\", \"8\", \"9\", \"10\", \"11\", \"12\", \"13\", \"14\", \"15\", \"16\", \"17\", \"18\", \"19\", \"20\", \"21\", \"22\", \"23\", \"24\", \"25\", \"26\", \"27\", \"28\", \"29\", \"30\", \"31\", \"32\", \"33\", \"34\", \"36\", \"38\", \"39\"], \"mode\": \"lines\", \"name\": \"weighted_accuracy_max\", \"stepped\": true, \"type\": \"scatter\", \"data\": [0.8552630736854926, 0.8552630736854926, 0.8552630736854926, 0.8815107591231326, 0.8815107591231326, 0.8815107591231326, 0.8815107591231326, 0.8815107591231326, 0.8815107591231326, 0.8815107591231326, 0.8815107591231326, 0.8815107591231326, 0.8815107591231326, 0.8815107591231326, 0.8815107591231326, 0.8815107591231326, 0.8815107591231326, 0.8815107591231326, 0.8815107591231326, 0.8815107591231326, 0.8815107591231326, 0.8815107591231326, 0.8815107591231326, 0.8815107591231326, 0.8815107591231326, 0.8815107591231326, 0.8815107591231326, 0.8815107591231326, 0.8815107591231326, 0.8815107591231326, 0.8815107591231326, 0.8815107591231326, 0.8815107591231326, 0.8815107591231326, 0.8815107591231326, 0.8815107591231326, 0.8889202246662539, 0.8889202246662539]}], \"f1_score_weighted\": [{\"categories\": [\"0\", \"1\", \"2\", \"3\", \"4\", \"5\", \"6\", \"7\", \"8\", \"9\", \"10\", \"11\", \"12\", \"13\", \"14\", \"15\", \"16\", \"17\", \"18\", \"19\", \"20\", \"21\", \"22\", \"23\", \"24\", \"25\", \"26\", \"27\", \"28\", \"29\", \"30\", \"31\", \"32\", \"33\", \"34\", \"36\", \"38\", \"39\"], \"mode\": \"markers\", \"name\": \"f1_score_weighted\", \"stepped\": false, \"type\": \"scatter\", \"data\": [0.8285700865487143, 0.8281303794244972, 0.8246449334778572, 0.8661029439274277, 0.854542079692472, 0.7147575976240034, 0.6751125267143574, 0.665394465389735, 0.7002328039585091, 0.8389796300415844, 0.8507327412303308, 0.8234356243874961, 0.8321109749491413, 0.7604255213148455, 0.768063527869028, 0.5449828572308311, 0.7915324759781281, 0.7523085949217215, 0.7649718459167808, 0.5680548572500919, 0.7807885316838543, 0.7943148827780406, 0.6355065194466677, 0.8525287153541534, 0.639600462999299, 0.7788540832769684, 0.8127376054579102, 0.8345756136978257, 0.857189542671777, 0.8206259859563326, 0.796962592871963, 0.8559560308972074, 0.8294504145537116, 0.8273723767943716, 0.8472887214154536, 0.8032427102687972, 0.8695993209404975, 0.8473049100198775]}, {\"categories\": [\"0\", \"1\", \"2\", \"3\", \"4\", \"5\", \"6\", \"7\", \"8\", \"9\", \"10\", \"11\", \"12\", \"13\", \"14\", \"15\", \"16\", \"17\", \"18\", \"19\", \"20\", \"21\", \"22\", \"23\", \"24\", \"25\", \"26\", \"27\", \"28\", \"29\", \"30\", \"31\", \"32\", \"33\", \"34\", \"36\", \"38\", \"39\"], \"mode\": \"lines\", \"name\": \"f1_score_weighted_max\", \"stepped\": true, \"type\": \"scatter\", \"data\": [0.8285700865487143, 0.8285700865487143, 0.8285700865487143, 0.8661029439274277, 0.8661029439274277, 0.8661029439274277, 0.8661029439274277, 0.8661029439274277, 0.8661029439274277, 0.8661029439274277, 0.8661029439274277, 0.8661029439274277, 0.8661029439274277, 0.8661029439274277, 0.8661029439274277, 0.8661029439274277, 0.8661029439274277, 0.8661029439274277, 0.8661029439274277, 0.8661029439274277, 0.8661029439274277, 0.8661029439274277, 0.8661029439274277, 0.8661029439274277, 0.8661029439274277, 0.8661029439274277, 0.8661029439274277, 0.8661029439274277, 0.8661029439274277, 0.8661029439274277, 0.8661029439274277, 0.8661029439274277, 0.8661029439274277, 0.8661029439274277, 0.8661029439274277, 0.8661029439274277, 0.8695993209404975, 0.8695993209404975]}], \"average_precision_score_macro\": [{\"categories\": [\"0\", \"1\", \"2\", \"3\", \"4\", \"5\", \"6\", \"7\", \"8\", \"9\", \"10\", \"11\", \"12\", \"13\", \"14\", \"15\", \"16\", \"17\", \"18\", \"19\", \"20\", \"21\", \"22\", \"23\", \"24\", \"25\", \"26\", \"27\", \"28\", \"29\", \"30\", \"31\", \"32\", \"33\", \"34\", \"36\", \"38\", \"39\"], \"mode\": \"markers\", \"name\": \"average_precision_score_macro\", \"stepped\": false, \"type\": \"scatter\", \"data\": [0.8692715538171413, 0.868227675857891, 0.8851484712112917, 0.86304228094842, 0.8799463814441875, 0.7960556300122569, 0.6990858229095, 0.6984470703543852, 0.8874664733084217, 0.8744016491089027, 0.8840776739619157, 0.8956262656295915, 0.874448192145827, 0.8569779160141904, 0.8845901838311889, 0.5373749350530073, 0.8700752631983623, 0.8844991542904734, 0.8929483390107491, 0.5405725408859705, 0.8851495729156561, 0.8484039667143103, 0.8369170929649407, 0.88609334417442, 0.8660783063100108, 0.8933332912755061, 0.8757812842618151, 0.8938419437935874, 0.8906430749488514, 0.9007638097109345, 0.771601098644008, 0.895470646886275, 0.8901431082117653, 0.9004548452109393, 0.8808444282010199, 0.8607256246683563, 0.898244043619871, 0.8765771251662338]}, {\"categories\": [\"0\", \"1\", \"2\", \"3\", \"4\", \"5\", \"6\", \"7\", \"8\", \"9\", \"10\", \"11\", \"12\", \"13\", \"14\", \"15\", \"16\", \"17\", \"18\", \"19\", \"20\", \"21\", \"22\", \"23\", \"24\", \"25\", \"26\", \"27\", \"28\", \"29\", \"30\", \"31\", \"32\", \"33\", \"34\", \"36\", \"38\", \"39\"], \"mode\": \"lines\", \"name\": \"average_precision_score_macro_max\", \"stepped\": true, \"type\": \"scatter\", \"data\": [0.8692715538171413, 0.8692715538171413, 0.8851484712112917, 0.8851484712112917, 0.8851484712112917, 0.8851484712112917, 0.8851484712112917, 0.8851484712112917, 0.8874664733084217, 0.8874664733084217, 0.8874664733084217, 0.8956262656295915, 0.8956262656295915, 0.8956262656295915, 0.8956262656295915, 0.8956262656295915, 0.8956262656295915, 0.8956262656295915, 0.8956262656295915, 0.8956262656295915, 0.8956262656295915, 0.8956262656295915, 0.8956262656295915, 0.8956262656295915, 0.8956262656295915, 0.8956262656295915, 0.8956262656295915, 0.8956262656295915, 0.8956262656295915, 0.9007638097109345, 0.9007638097109345, 0.9007638097109345, 0.9007638097109345, 0.9007638097109345, 0.9007638097109345, 0.9007638097109345, 0.9007638097109345, 0.9007638097109345]}], \"precision_score_macro\": [{\"categories\": [\"0\", \"1\", \"2\", \"3\", \"4\", \"5\", \"6\", \"7\", \"8\", \"9\", \"10\", \"11\", \"12\", \"13\", \"14\", \"15\", \"16\", \"17\", \"18\", \"19\", \"20\", \"21\", \"22\", \"23\", \"24\", \"25\", \"26\", \"27\", \"28\", \"29\", \"30\", \"31\", \"32\", \"33\", \"34\", \"36\", \"38\", \"39\"], \"mode\": \"markers\", \"name\": \"precision_score_macro\", \"stepped\": false, \"type\": \"scatter\", \"data\": [0.8050334327279298, 0.8065116529743893, 0.8040869905956114, 0.8446278838076504, 0.8348086920781764, 0.7396166698798277, 0.6966973978601885, 0.6833151983151984, 0.799551282051282, 0.8143056970262853, 0.8335868537592674, 0.8301178309520095, 0.8105009555009554, 0.7740073972401459, 0.81975106685633, 0.4717595785242844, 0.7763092690512046, 0.7946291404186141, 0.8309833184833184, 0.517893133997785, 0.8172222222222223, 0.7673993583920055, 0.7713732004429679, 0.8272886054736028, 0.7562399949580891, 0.8170692163124015, 0.8293129904759786, 0.81016159741472, 0.8295624836896185, 0.809218907040915, 0.7887637556535015, 0.8382000840961821, 0.8302159357337626, 0.8092098329306339, 0.8212152670473232, 0.7877228573397927, 0.851615640667511, 0.8253085549789404]}, {\"categories\": [\"0\", \"1\", \"2\", \"3\", \"4\", \"5\", \"6\", \"7\", \"8\", \"9\", \"10\", \"11\", \"12\", \"13\", \"14\", \"15\", \"16\", \"17\", \"18\", \"19\", \"20\", \"21\", \"22\", \"23\", \"24\", \"25\", \"26\", \"27\", \"28\", \"29\", \"30\", \"31\", \"32\", \"33\", \"34\", \"36\", \"38\", \"39\"], \"mode\": \"lines\", \"name\": \"precision_score_macro_max\", \"stepped\": true, \"type\": \"scatter\", \"data\": [0.8050334327279298, 0.8065116529743893, 0.8065116529743893, 0.8446278838076504, 0.8446278838076504, 0.8446278838076504, 0.8446278838076504, 0.8446278838076504, 0.8446278838076504, 0.8446278838076504, 0.8446278838076504, 0.8446278838076504, 0.8446278838076504, 0.8446278838076504, 0.8446278838076504, 0.8446278838076504, 0.8446278838076504, 0.8446278838076504, 0.8446278838076504, 0.8446278838076504, 0.8446278838076504, 0.8446278838076504, 0.8446278838076504, 0.8446278838076504, 0.8446278838076504, 0.8446278838076504, 0.8446278838076504, 0.8446278838076504, 0.8446278838076504, 0.8446278838076504, 0.8446278838076504, 0.8446278838076504, 0.8446278838076504, 0.8446278838076504, 0.8446278838076504, 0.8446278838076504, 0.851615640667511, 0.851615640667511]}], \"f1_score_macro\": [{\"categories\": [\"0\", \"1\", \"2\", \"3\", \"4\", \"5\", \"6\", \"7\", \"8\", \"9\", \"10\", \"11\", \"12\", \"13\", \"14\", \"15\", \"16\", \"17\", \"18\", \"19\", \"20\", \"21\", \"22\", \"23\", \"24\", \"25\", \"26\", \"27\", \"28\", \"29\", \"30\", \"31\", \"32\", \"33\", \"34\", \"36\", \"38\", \"39\"], \"mode\": \"markers\", \"name\": \"f1_score_macro\", \"stepped\": false, \"type\": \"scatter\", \"data\": [0.7965492961048738, 0.799065019947373, 0.7936035418560075, 0.8428442318725795, 0.8338440725091857, 0.6414499102759234, 0.5973207553299086, 0.5833448464365585, 0.6196987566891877, 0.8110994381308224, 0.8208062422441706, 0.7872077922077922, 0.7973481222187921, 0.7107767142121386, 0.7168112209329218, 0.4590838757326302, 0.7483736100855666, 0.6988026344695326, 0.704912722412683, 0.47684066404786096, 0.7360501542318187, 0.751096002681529, 0.5250856253661849, 0.8264730076326442, 0.5291103433069086, 0.7308813757940426, 0.774465273394682, 0.8064518839615511, 0.830827248470891, 0.7830665263655125, 0.7546513455660857, 0.8298908199643495, 0.7960522630774868, 0.7952916080793317, 0.8188758504286617, 0.7660668190505147, 0.8450455818691113, 0.8190291921849449]}, {\"categories\": [\"0\", \"1\", \"2\", \"3\", \"4\", \"5\", \"6\", \"7\", \"8\", \"9\", \"10\", \"11\", \"12\", \"13\", \"14\", \"15\", \"16\", \"17\", \"18\", \"19\", \"20\", \"21\", \"22\", \"23\", \"24\", \"25\", \"26\", \"27\", \"28\", \"29\", \"30\", \"31\", \"32\", \"33\", \"34\", \"36\", \"38\", \"39\"], \"mode\": \"lines\", \"name\": \"f1_score_macro_max\", \"stepped\": true, \"type\": \"scatter\", \"data\": [0.7965492961048738, 0.799065019947373, 0.799065019947373, 0.8428442318725795, 0.8428442318725795, 0.8428442318725795, 0.8428442318725795, 0.8428442318725795, 0.8428442318725795, 0.8428442318725795, 0.8428442318725795, 0.8428442318725795, 0.8428442318725795, 0.8428442318725795, 0.8428442318725795, 0.8428442318725795, 0.8428442318725795, 0.8428442318725795, 0.8428442318725795, 0.8428442318725795, 0.8428442318725795, 0.8428442318725795, 0.8428442318725795, 0.8428442318725795, 0.8428442318725795, 0.8428442318725795, 0.8428442318725795, 0.8428442318725795, 0.8428442318725795, 0.8428442318725795, 0.8428442318725795, 0.8428442318725795, 0.8428442318725795, 0.8428442318725795, 0.8428442318725795, 0.8428442318725795, 0.8450455818691113, 0.8450455818691113]}], \"balanced_accuracy\": [{\"categories\": [\"0\", \"1\", \"2\", \"3\", \"4\", \"5\", \"6\", \"7\", \"8\", \"9\", \"10\", \"11\", \"12\", \"13\", \"14\", \"15\", \"16\", \"17\", \"18\", \"19\", \"20\", \"21\", \"22\", \"23\", \"24\", \"25\", \"26\", \"27\", \"28\", \"29\", \"30\", \"31\", \"32\", \"33\", \"34\", \"36\", \"38\", \"39\"], \"mode\": \"markers\", \"name\": \"balanced_accuracy\", \"stepped\": false, \"type\": \"scatter\", \"data\": [0.7944635002094678, 0.801801860773635, 0.7955850265326072, 0.8437661464879207, 0.8520060920262533, 0.640802174975562, 0.6044778138528139, 0.5960362554112554, 0.6229105571847507, 0.8118201019410696, 0.8140583542801286, 0.776612466834241, 0.7918316226783969, 0.7061308651026392, 0.6995880463622399, 0.48146819578271194, 0.7377190685658428, 0.6833211143695015, 0.6885281385281384, 0.5019349602010893, 0.7191362065354001, 0.7444547723781595, 0.5604105571847507, 0.8281411464879206, 0.5678571428571428, 0.7189812875296747, 0.7530599776567518, 0.8121116115067728, 0.8330985546711351, 0.7717017525485266, 0.7429754049713727, 0.8258684192151934, 0.7826189603407345, 0.7929274018991761, 0.8198078131545874, 0.7599850754084625, 0.8431303239770982, 0.816636119257087]}, {\"categories\": [\"0\", \"1\", \"2\", \"3\", \"4\", \"5\", \"6\", \"7\", \"8\", \"9\", \"10\", \"11\", \"12\", \"13\", \"14\", \"15\", \"16\", \"17\", \"18\", \"19\", \"20\", \"21\", \"22\", \"23\", \"24\", \"25\", \"26\", \"27\", \"28\", \"29\", \"30\", \"31\", \"32\", \"33\", \"34\", \"36\", \"38\", \"39\"], \"mode\": \"lines\", \"name\": \"balanced_accuracy_max\", \"stepped\": true, \"type\": \"scatter\", \"data\": [0.7944635002094678, 0.801801860773635, 0.801801860773635, 0.8437661464879207, 0.8520060920262533, 0.8520060920262533, 0.8520060920262533, 0.8520060920262533, 0.8520060920262533, 0.8520060920262533, 0.8520060920262533, 0.8520060920262533, 0.8520060920262533, 0.8520060920262533, 0.8520060920262533, 0.8520060920262533, 0.8520060920262533, 0.8520060920262533, 0.8520060920262533, 0.8520060920262533, 0.8520060920262533, 0.8520060920262533, 0.8520060920262533, 0.8520060920262533, 0.8520060920262533, 0.8520060920262533, 0.8520060920262533, 0.8520060920262533, 0.8520060920262533, 0.8520060920262533, 0.8520060920262533, 0.8520060920262533, 0.8520060920262533, 0.8520060920262533, 0.8520060920262533, 0.8520060920262533, 0.8520060920262533, 0.8520060920262533]}], \"precision_score_micro\": [{\"categories\": [\"0\", \"1\", \"2\", \"3\", \"4\", \"5\", \"6\", \"7\", \"8\", \"9\", \"10\", \"11\", \"12\", \"13\", \"14\", \"15\", \"16\", \"17\", \"18\", \"19\", \"20\", \"21\", \"22\", \"23\", \"24\", \"25\", \"26\", \"27\", \"28\", \"29\", \"30\", \"31\", \"32\", \"33\", \"34\", \"36\", \"38\", \"39\"], \"mode\": \"markers\", \"name\": \"precision_score_micro\", \"stepped\": false, \"type\": \"scatter\", \"data\": [0.8307070707070707, 0.8306060606060607, 0.8263636363636364, 0.8664646464646466, 0.8526262626262626, 0.7502020202020202, 0.71, 0.7011111111111111, 0.7503030303030304, 0.8395959595959596, 0.8530303030303029, 0.8307070707070707, 0.835050505050505, 0.7772727272727272, 0.7905050505050506, 0.5715151515151515, 0.7994949494949495, 0.7772727272727272, 0.7906060606060606, 0.6070707070707071, 0.7993939393939394, 0.7993939393939394, 0.7145454545454545, 0.8530303030303029, 0.7235353535353535, 0.7996969696969697, 0.8218181818181819, 0.8351515151515152, 0.8574747474747474, 0.8260606060606059, 0.8038383838383838, 0.8573737373737373, 0.8352525252525252, 0.8306060606060607, 0.8485858585858586, 0.8082828282828283, 0.8708080808080808, 0.8484848484848484]}, {\"categories\": [\"0\", \"1\", \"2\", \"3\", \"4\", \"5\", \"6\", \"7\", \"8\", \"9\", \"10\", \"11\", \"12\", \"13\", \"14\", \"15\", \"16\", \"17\", \"18\", \"19\", \"20\", \"21\", \"22\", \"23\", \"24\", \"25\", \"26\", \"27\", \"28\", \"29\", \"30\", \"31\", \"32\", \"33\", \"34\", \"36\", \"38\", \"39\"], \"mode\": \"lines\", \"name\": \"precision_score_micro_max\", \"stepped\": true, \"type\": \"scatter\", \"data\": [0.8307070707070707, 0.8307070707070707, 0.8307070707070707, 0.8664646464646466, 0.8664646464646466, 0.8664646464646466, 0.8664646464646466, 0.8664646464646466, 0.8664646464646466, 0.8664646464646466, 0.8664646464646466, 0.8664646464646466, 0.8664646464646466, 0.8664646464646466, 0.8664646464646466, 0.8664646464646466, 0.8664646464646466, 0.8664646464646466, 0.8664646464646466, 0.8664646464646466, 0.8664646464646466, 0.8664646464646466, 0.8664646464646466, 0.8664646464646466, 0.8664646464646466, 0.8664646464646466, 0.8664646464646466, 0.8664646464646466, 0.8664646464646466, 0.8664646464646466, 0.8664646464646466, 0.8664646464646466, 0.8664646464646466, 0.8664646464646466, 0.8664646464646466, 0.8664646464646466, 0.8708080808080808, 0.8708080808080808]}], \"matthews_correlation\": [{\"categories\": [\"0\", \"1\", \"2\", \"3\", \"4\", \"5\", \"6\", \"7\", \"8\", \"9\", \"10\", \"11\", \"12\", \"13\", \"14\", \"15\", \"16\", \"17\", \"18\", \"19\", \"20\", \"21\", \"22\", \"23\", \"24\", \"25\", \"26\", \"27\", \"28\", \"29\", \"30\", \"31\", \"32\", \"33\", \"34\", \"36\", \"38\", \"39\"], \"mode\": \"markers\", \"name\": \"matthews_correlation\", \"stepped\": false, \"type\": \"scatter\", \"data\": [0.5988478708609857, 0.6077526850780856, 0.5986627559236298, 0.6882471376271448, 0.6848415196825332, 0.36497271455583735, 0.27494021110261724, 0.24448891391725436, 0.38074138884921654, 0.6258704118571253, 0.646637885041956, 0.6012417899654079, 0.6011574566841726, 0.46835868906645467, 0.5035826884439731, -0.04316890702359938, 0.5121009221530377, 0.4638856288019582, 0.49421557863471044, 0.01678033470879503, 0.5252311072750042, 0.5106717663916498, 0.25485731729140887, 0.65520013668526, 0.2775127938039342, 0.5219850165023382, 0.5765349536557574, 0.6218574294609216, 0.6625481610601721, 0.5787609207985144, 0.5278486265421336, 0.663492662603709, 0.6093355144761947, 0.6010022607577822, 0.6406786722360431, 0.5462011833168827, 0.6941205997015152, 0.6415997068498305]}, {\"categories\": [\"0\", \"1\", \"2\", \"3\", \"4\", \"5\", \"6\", \"7\", \"8\", \"9\", \"10\", \"11\", \"12\", \"13\", \"14\", \"15\", \"16\", \"17\", \"18\", \"19\", \"20\", \"21\", \"22\", \"23\", \"24\", \"25\", \"26\", \"27\", \"28\", \"29\", \"30\", \"31\", \"32\", \"33\", \"34\", \"36\", \"38\", \"39\"], \"mode\": \"lines\", \"name\": \"matthews_correlation_max\", \"stepped\": true, \"type\": \"scatter\", \"data\": [0.5988478708609857, 0.6077526850780856, 0.6077526850780856, 0.6882471376271448, 0.6882471376271448, 0.6882471376271448, 0.6882471376271448, 0.6882471376271448, 0.6882471376271448, 0.6882471376271448, 0.6882471376271448, 0.6882471376271448, 0.6882471376271448, 0.6882471376271448, 0.6882471376271448, 0.6882471376271448, 0.6882471376271448, 0.6882471376271448, 0.6882471376271448, 0.6882471376271448, 0.6882471376271448, 0.6882471376271448, 0.6882471376271448, 0.6882471376271448, 0.6882471376271448, 0.6882471376271448, 0.6882471376271448, 0.6882471376271448, 0.6882471376271448, 0.6882471376271448, 0.6882471376271448, 0.6882471376271448, 0.6882471376271448, 0.6882471376271448, 0.6882471376271448, 0.6882471376271448, 0.6941205997015152, 0.6941205997015152]}], \"accuracy\": [{\"categories\": [\"0\", \"1\", \"2\", \"3\", \"4\", \"5\", \"6\", \"7\", \"8\", \"9\", \"10\", \"11\", \"12\", \"13\", \"14\", \"15\", \"16\", \"17\", \"18\", \"19\", \"20\", \"21\", \"22\", \"23\", \"24\", \"25\", \"26\", \"27\", \"28\", \"29\", \"30\", \"31\", \"32\", \"33\", \"34\", \"36\", \"38\", \"39\"], \"mode\": \"markers\", \"name\": \"accuracy\", \"stepped\": false, \"type\": \"scatter\", \"data\": [0.8307070707070707, 0.8306060606060607, 0.8263636363636364, 0.8664646464646466, 0.8526262626262626, 0.7502020202020202, 0.71, 0.7011111111111111, 0.7503030303030304, 0.8395959595959596, 0.8530303030303029, 0.8307070707070707, 0.835050505050505, 0.7772727272727272, 0.7905050505050506, 0.5715151515151515, 0.7994949494949495, 0.7772727272727272, 0.7906060606060606, 0.6070707070707071, 0.7993939393939394, 0.7993939393939394, 0.7145454545454545, 0.8530303030303029, 0.7235353535353535, 0.7996969696969697, 0.8218181818181819, 0.8351515151515152, 0.8574747474747474, 0.8260606060606059, 0.8038383838383838, 0.8573737373737373, 0.8352525252525252, 0.8306060606060607, 0.8485858585858586, 0.8082828282828283, 0.8708080808080808, 0.8484848484848484]}, {\"categories\": [\"0\", \"1\", \"2\", \"3\", \"4\", \"5\", \"6\", \"7\", \"8\", \"9\", \"10\", \"11\", \"12\", \"13\", \"14\", \"15\", \"16\", \"17\", \"18\", \"19\", \"20\", \"21\", \"22\", \"23\", \"24\", \"25\", \"26\", \"27\", \"28\", \"29\", \"30\", \"31\", \"32\", \"33\", \"34\", \"36\", \"38\", \"39\"], \"mode\": \"lines\", \"name\": \"accuracy_max\", \"stepped\": true, \"type\": \"scatter\", \"data\": [0.8307070707070707, 0.8307070707070707, 0.8307070707070707, 0.8664646464646466, 0.8664646464646466, 0.8664646464646466, 0.8664646464646466, 0.8664646464646466, 0.8664646464646466, 0.8664646464646466, 0.8664646464646466, 0.8664646464646466, 0.8664646464646466, 0.8664646464646466, 0.8664646464646466, 0.8664646464646466, 0.8664646464646466, 0.8664646464646466, 0.8664646464646466, 0.8664646464646466, 0.8664646464646466, 0.8664646464646466, 0.8664646464646466, 0.8664646464646466, 0.8664646464646466, 0.8664646464646466, 0.8664646464646466, 0.8664646464646466, 0.8664646464646466, 0.8664646464646466, 0.8664646464646466, 0.8664646464646466, 0.8664646464646466, 0.8664646464646466, 0.8664646464646466, 0.8664646464646466, 0.8708080808080808, 0.8708080808080808]}], \"precision_score_weighted\": [{\"categories\": [\"0\", \"1\", \"2\", \"3\", \"4\", \"5\", \"6\", \"7\", \"8\", \"9\", \"10\", \"11\", \"12\", \"13\", \"14\", \"15\", \"16\", \"17\", \"18\", \"19\", \"20\", \"21\", \"22\", \"23\", \"24\", \"25\", \"26\", \"27\", \"28\", \"29\", \"30\", \"31\", \"32\", \"33\", \"34\", \"36\", \"38\", \"39\"], \"mode\": \"markers\", \"name\": \"precision_score_weighted\", \"stepped\": false, \"type\": \"scatter\", \"data\": [0.8315005517358459, 0.8349433021557603, 0.8332016296718491, 0.8681253372125581, 0.8705298824057742, 0.7544821494295177, 0.7166386626851742, 0.7097073437073437, 0.7801610241610242, 0.841680483641268, 0.852470011354024, 0.8399211579495555, 0.834557201829929, 0.7855293724238047, 0.8087241835136572, 0.5521093346975701, 0.7973203168511087, 0.7859502031080978, 0.8146198386198386, 0.5879805594921873, 0.809658810325477, 0.7965235365235366, 0.7586643847108963, 0.853993617797707, 0.7476356964744183, 0.8130156878076533, 0.8272231731654482, 0.8423153928441106, 0.8576574463557387, 0.8259742431902677, 0.8055925655308596, 0.857639060274269, 0.8384832052583249, 0.8336058725602662, 0.8484799941664363, 0.811186802444867, 0.8717520327573605, 0.8492710774313208]}, {\"categories\": [\"0\", \"1\", \"2\", \"3\", \"4\", \"5\", \"6\", \"7\", \"8\", \"9\", \"10\", \"11\", \"12\", \"13\", \"14\", \"15\", \"16\", \"17\", \"18\", \"19\", \"20\", \"21\", \"22\", \"23\", \"24\", \"25\", \"26\", \"27\", \"28\", \"29\", \"30\", \"31\", \"32\", \"33\", \"34\", \"36\", \"38\", \"39\"], \"mode\": \"lines\", \"name\": \"precision_score_weighted_max\", \"stepped\": true, \"type\": \"scatter\", \"data\": [0.8315005517358459, 0.8349433021557603, 0.8349433021557603, 0.8681253372125581, 0.8705298824057742, 0.8705298824057742, 0.8705298824057742, 0.8705298824057742, 0.8705298824057742, 0.8705298824057742, 0.8705298824057742, 0.8705298824057742, 0.8705298824057742, 0.8705298824057742, 0.8705298824057742, 0.8705298824057742, 0.8705298824057742, 0.8705298824057742, 0.8705298824057742, 0.8705298824057742, 0.8705298824057742, 0.8705298824057742, 0.8705298824057742, 0.8705298824057742, 0.8705298824057742, 0.8705298824057742, 0.8705298824057742, 0.8705298824057742, 0.8705298824057742, 0.8705298824057742, 0.8705298824057742, 0.8705298824057742, 0.8705298824057742, 0.8705298824057742, 0.8705298824057742, 0.8705298824057742, 0.8717520327573605, 0.8717520327573605]}], \"average_precision_score_weighted\": [{\"categories\": [\"0\", \"1\", \"2\", \"3\", \"4\", \"5\", \"6\", \"7\", \"8\", \"9\", \"10\", \"11\", \"12\", \"13\", \"14\", \"15\", \"16\", \"17\", \"18\", \"19\", \"20\", \"21\", \"22\", \"23\", \"24\", \"25\", \"26\", \"27\", \"28\", \"29\", \"30\", \"31\", \"32\", \"33\", \"34\", \"36\", \"38\", \"39\"], \"mode\": \"markers\", \"name\": \"average_precision_score_weighted\", \"stepped\": false, \"type\": \"scatter\", \"data\": [0.8984760410381087, 0.8929906884425364, 0.9121181738263802, 0.896017314212901, 0.9053601447199522, 0.8366601633664141, 0.7536466667397634, 0.7532397649072553, 0.9078381058829225, 0.9040368463720588, 0.9096861587260576, 0.9142885949520398, 0.8988682900896746, 0.8910971843079174, 0.9106529735067592, 0.5949326502243842, 0.8999699447240488, 0.9073385740586168, 0.9122743824960322, 0.5979207654806589, 0.9090880086238128, 0.8860299882918111, 0.8745728320418811, 0.9107145506408261, 0.8891554306576868, 0.9126003304326316, 0.9008318556122801, 0.916549444895581, 0.9166082623320877, 0.9231878239982547, 0.8207498039576766, 0.9151551069034418, 0.9101484511471633, 0.918172164589093, 0.9086631005408885, 0.8946019919121742, 0.91954924262132, 0.9043266975117078]}, {\"categories\": [\"0\", \"1\", \"2\", \"3\", \"4\", \"5\", \"6\", \"7\", \"8\", \"9\", \"10\", \"11\", \"12\", \"13\", \"14\", \"15\", \"16\", \"17\", \"18\", \"19\", \"20\", \"21\", \"22\", \"23\", \"24\", \"25\", \"26\", \"27\", \"28\", \"29\", \"30\", \"31\", \"32\", \"33\", \"34\", \"36\", \"38\", \"39\"], \"mode\": \"lines\", \"name\": \"average_precision_score_weighted_max\", \"stepped\": true, \"type\": \"scatter\", \"data\": [0.8984760410381087, 0.8984760410381087, 0.9121181738263802, 0.9121181738263802, 0.9121181738263802, 0.9121181738263802, 0.9121181738263802, 0.9121181738263802, 0.9121181738263802, 0.9121181738263802, 0.9121181738263802, 0.9142885949520398, 0.9142885949520398, 0.9142885949520398, 0.9142885949520398, 0.9142885949520398, 0.9142885949520398, 0.9142885949520398, 0.9142885949520398, 0.9142885949520398, 0.9142885949520398, 0.9142885949520398, 0.9142885949520398, 0.9142885949520398, 0.9142885949520398, 0.9142885949520398, 0.9142885949520398, 0.916549444895581, 0.9166082623320877, 0.9231878239982547, 0.9231878239982547, 0.9231878239982547, 0.9231878239982547, 0.9231878239982547, 0.9231878239982547, 0.9231878239982547, 0.9231878239982547, 0.9231878239982547]}], \"AUC_macro\": [{\"categories\": [\"0\", \"1\", \"2\", \"3\", \"4\", \"5\", \"6\", \"7\", \"8\", \"9\", \"10\", \"11\", \"12\", \"13\", \"14\", \"15\", \"16\", \"17\", \"18\", \"19\", \"20\", \"21\", \"22\", \"23\", \"24\", \"25\", \"26\", \"27\", \"28\", \"29\", \"30\", \"31\", \"32\", \"33\", \"34\", \"36\", \"38\", \"39\"], \"mode\": \"markers\", \"name\": \"AUC_macro\", \"stepped\": false, \"type\": \"scatter\", \"data\": [0.889529875366569, 0.893416305916306, 0.9079164339244985, 0.8987545384722804, 0.9015472262952102, 0.8165518229530326, 0.7065884943909138, 0.705846846925476, 0.9042300161755807, 0.9024408834892705, 0.9055967218265606, 0.9113753462039753, 0.8975938823721081, 0.8935986448587254, 0.9019795448726899, 0.45321846052692827, 0.8945300499231952, 0.9053961271703207, 0.9078918505329796, 0.4574905884885723, 0.8992175499231951, 0.8741057609505191, 0.856525944933203, 0.9059789281059443, 0.883671827724247, 0.9116808930316995, 0.8926673852581111, 0.9072860663082437, 0.9145047101196294, 0.9134386055252991, 0.8490085910952846, 0.9074921158590513, 0.9080022575990319, 0.9096273070567426, 0.9060432958618442, 0.8825141536331053, 0.9128422764511473, 0.9036099037611134]}, {\"categories\": [\"0\", \"1\", \"2\", \"3\", \"4\", \"5\", \"6\", \"7\", \"8\", \"9\", \"10\", \"11\", \"12\", \"13\", \"14\", \"15\", \"16\", \"17\", \"18\", \"19\", \"20\", \"21\", \"22\", \"23\", \"24\", \"25\", \"26\", \"27\", \"28\", \"29\", \"30\", \"31\", \"32\", \"33\", \"34\", \"36\", \"38\", \"39\"], \"mode\": \"lines\", \"name\": \"AUC_macro_max\", \"stepped\": true, \"type\": \"scatter\", \"data\": [0.889529875366569, 0.893416305916306, 0.9079164339244985, 0.9079164339244985, 0.9079164339244985, 0.9079164339244985, 0.9079164339244985, 0.9079164339244985, 0.9079164339244985, 0.9079164339244985, 0.9079164339244985, 0.9113753462039753, 0.9113753462039753, 0.9113753462039753, 0.9113753462039753, 0.9113753462039753, 0.9113753462039753, 0.9113753462039753, 0.9113753462039753, 0.9113753462039753, 0.9113753462039753, 0.9113753462039753, 0.9113753462039753, 0.9113753462039753, 0.9113753462039753, 0.9116808930316995, 0.9116808930316995, 0.9116808930316995, 0.9145047101196294, 0.9145047101196294, 0.9145047101196294, 0.9145047101196294, 0.9145047101196294, 0.9145047101196294, 0.9145047101196294, 0.9145047101196294, 0.9145047101196294, 0.9145047101196294]}], \"AUC_weighted\": [{\"categories\": [\"0\", \"1\", \"2\", \"3\", \"4\", \"5\", \"6\", \"7\", \"8\", \"9\", \"10\", \"11\", \"12\", \"13\", \"14\", \"15\", \"16\", \"17\", \"18\", \"19\", \"20\", \"21\", \"22\", \"23\", \"24\", \"25\", \"26\", \"27\", \"28\", \"29\", \"30\", \"31\", \"32\", \"33\", \"34\", \"36\", \"38\", \"39\"], \"mode\": \"markers\", \"name\": \"AUC_weighted\", \"stepped\": false, \"type\": \"scatter\", \"data\": [0.8895298753665688, 0.893416305916306, 0.9079164339244986, 0.8987545384722804, 0.9015472262952102, 0.8165518229530326, 0.7065884943909138, 0.705846846925476, 0.9042300161755807, 0.9024408834892705, 0.9055967218265607, 0.9113753462039753, 0.8975938823721081, 0.8935986448587254, 0.9019795448726899, 0.45321846052692827, 0.8945300499231952, 0.9053961271703207, 0.9078918505329796, 0.4574905884885723, 0.8992175499231951, 0.8741779110226691, 0.856525944933203, 0.905978928105944, 0.883671827724247, 0.9116808930316995, 0.8926673852581111, 0.9072860663082437, 0.9145047101196294, 0.9134386055252991, 0.8490085910952846, 0.9074921158590513, 0.9080022575990319, 0.9096273070567426, 0.9060432958618442, 0.8825141536331053, 0.9128422764511473, 0.9036099037611134]}, {\"categories\": [\"0\", \"1\", \"2\", \"3\", \"4\", \"5\", \"6\", \"7\", \"8\", \"9\", \"10\", \"11\", \"12\", \"13\", \"14\", \"15\", \"16\", \"17\", \"18\", \"19\", \"20\", \"21\", \"22\", \"23\", \"24\", \"25\", \"26\", \"27\", \"28\", \"29\", \"30\", \"31\", \"32\", \"33\", \"34\", \"36\", \"38\", \"39\"], \"mode\": \"lines\", \"name\": \"AUC_weighted_max\", \"stepped\": true, \"type\": \"scatter\", \"data\": [0.8895298753665688, 0.893416305916306, 0.9079164339244986, 0.9079164339244986, 0.9079164339244986, 0.9079164339244986, 0.9079164339244986, 0.9079164339244986, 0.9079164339244986, 0.9079164339244986, 0.9079164339244986, 0.9113753462039753, 0.9113753462039753, 0.9113753462039753, 0.9113753462039753, 0.9113753462039753, 0.9113753462039753, 0.9113753462039753, 0.9113753462039753, 0.9113753462039753, 0.9113753462039753, 0.9113753462039753, 0.9113753462039753, 0.9113753462039753, 0.9113753462039753, 0.9116808930316995, 0.9116808930316995, 0.9116808930316995, 0.9145047101196294, 0.9145047101196294, 0.9145047101196294, 0.9145047101196294, 0.9145047101196294, 0.9145047101196294, 0.9145047101196294, 0.9145047101196294, 0.9145047101196294, 0.9145047101196294]}]}, \"metricName\": null, \"primaryMetricName\": \"accuracy\", \"showLegend\": false}, \"run_metrics\": [{\"name\": \"experiment_status\", \"run_id\": \"AutoML_111e941e-8cd6-43c2-b951-a097693639d4\", \"categories\": [0, 1, 2, 3, 4, 5, 6, 7, 8, 9, 10, 11, 12, 13], \"series\": [{\"data\": [\"DatasetEvaluation\", \"FeaturesGeneration\", \"DatasetFeaturization\", \"DatasetFeaturizationCompleted\", \"DatasetCrossValidationSplit\", \"ModelSelection\", \"BestRunExplainModel\", \"ModelExplanationDataSetSetup\", \"PickSurrogateModel\", \"EngineeredFeatureExplanations\", \"EngineeredFeatureExplanations\", \"RawFeaturesExplanations\", \"RawFeaturesExplanations\", \"BestRunExplainModel\"]}]}, {\"name\": \"experiment_status_description\", \"run_id\": \"AutoML_111e941e-8cd6-43c2-b951-a097693639d4\", \"categories\": [0, 1, 2, 3, 4, 5, 6, 7, 8, 9, 10, 11, 12, 13], \"series\": [{\"data\": [\"Gathering dataset statistics.\", \"Generating features for the dataset.\", \"Beginning to fit featurizers and featurize the dataset.\", \"Completed fit featurizers and featurizing the dataset.\", \"Generating individually featurized CV splits.\", \"Beginning model selection.\", \"Best run model explanations started\", \"Model explanations data setup completed\", \"Choosing LightGBM as the surrogate model for explanations\", \"Computation of engineered features started\", \"Computation of engineered features completed\", \"Computation of raw features started\", \"Computation of raw features completed\", \"Best run model explanations completed\"]}]}, {\"name\": \"f1_score_micro\", \"run_id\": \"AutoML_111e941e-8cd6-43c2-b951-a097693639d4\", \"categories\": [0], \"series\": [{\"data\": [0.8708080808080808]}]}, {\"name\": \"average_precision_score_micro\", \"run_id\": \"AutoML_111e941e-8cd6-43c2-b951-a097693639d4\", \"categories\": [0], \"series\": [{\"data\": [0.9286082169460457]}]}, {\"name\": \"precision_score_micro\", \"run_id\": \"AutoML_111e941e-8cd6-43c2-b951-a097693639d4\", \"categories\": [0], \"series\": [{\"data\": [0.8708080808080808]}]}, {\"name\": \"f1_score_macro\", \"run_id\": \"AutoML_111e941e-8cd6-43c2-b951-a097693639d4\", \"categories\": [0], \"series\": [{\"data\": [0.8450455818691113]}]}, {\"name\": \"balanced_accuracy\", \"run_id\": \"AutoML_111e941e-8cd6-43c2-b951-a097693639d4\", \"categories\": [0], \"series\": [{\"data\": [0.8431303239770982]}]}, {\"name\": \"precision_score_macro\", \"run_id\": \"AutoML_111e941e-8cd6-43c2-b951-a097693639d4\", \"categories\": [0], \"series\": [{\"data\": [0.851615640667511]}]}, {\"name\": \"AUC_micro\", \"run_id\": \"AutoML_111e941e-8cd6-43c2-b951-a097693639d4\", \"categories\": [0], \"series\": [{\"data\": [0.9263153249668401]}]}, {\"name\": \"norm_macro_recall\", \"run_id\": \"AutoML_111e941e-8cd6-43c2-b951-a097693639d4\", \"categories\": [0], \"series\": [{\"data\": [0.6862606479541963]}]}, {\"name\": \"average_precision_score_macro\", \"run_id\": \"AutoML_111e941e-8cd6-43c2-b951-a097693639d4\", \"categories\": [0], \"series\": [{\"data\": [0.898244043619871]}]}, {\"name\": \"weighted_accuracy\", \"run_id\": \"AutoML_111e941e-8cd6-43c2-b951-a097693639d4\", \"categories\": [0], \"series\": [{\"data\": [0.8889202246662539]}]}, {\"name\": \"AUC_weighted\", \"run_id\": \"AutoML_111e941e-8cd6-43c2-b951-a097693639d4\", \"categories\": [0], \"series\": [{\"data\": [0.9128422764511473]}]}, {\"name\": \"average_precision_score_weighted\", \"run_id\": \"AutoML_111e941e-8cd6-43c2-b951-a097693639d4\", \"categories\": [0], \"series\": [{\"data\": [0.91954924262132]}]}, {\"name\": \"recall_score_micro\", \"run_id\": \"AutoML_111e941e-8cd6-43c2-b951-a097693639d4\", \"categories\": [0], \"series\": [{\"data\": [0.8708080808080808]}]}, {\"name\": \"AUC_macro\", \"run_id\": \"AutoML_111e941e-8cd6-43c2-b951-a097693639d4\", \"categories\": [0], \"series\": [{\"data\": [0.9128422764511473]}]}, {\"name\": \"matthews_correlation\", \"run_id\": \"AutoML_111e941e-8cd6-43c2-b951-a097693639d4\", \"categories\": [0], \"series\": [{\"data\": [0.6941205997015152]}]}, {\"name\": \"f1_score_weighted\", \"run_id\": \"AutoML_111e941e-8cd6-43c2-b951-a097693639d4\", \"categories\": [0], \"series\": [{\"data\": [0.8695993209404975]}]}, {\"name\": \"recall_score_weighted\", \"run_id\": \"AutoML_111e941e-8cd6-43c2-b951-a097693639d4\", \"categories\": [0], \"series\": [{\"data\": [0.8708080808080808]}]}, {\"name\": \"recall_score_macro\", \"run_id\": \"AutoML_111e941e-8cd6-43c2-b951-a097693639d4\", \"categories\": [0], \"series\": [{\"data\": [0.8431303239770982]}]}, {\"name\": \"log_loss\", \"run_id\": \"AutoML_111e941e-8cd6-43c2-b951-a097693639d4\", \"categories\": [0], \"series\": [{\"data\": [0.3664475831329427]}]}, {\"name\": \"accuracy\", \"run_id\": \"AutoML_111e941e-8cd6-43c2-b951-a097693639d4\", \"categories\": [0], \"series\": [{\"data\": [0.8708080808080808]}]}, {\"name\": \"precision_score_weighted\", \"run_id\": \"AutoML_111e941e-8cd6-43c2-b951-a097693639d4\", \"categories\": [0], \"series\": [{\"data\": [0.8717520327573605]}]}], \"run_logs\": \"\\nRun is completed.\", \"graph\": {}, \"widget_settings\": {\"childWidgetDisplay\": \"popup\", \"send_telemetry\": false, \"log_level\": \"INFO\", \"sdk_version\": \"1.24.0\"}, \"loading\": false}"
          },
          "metadata": {}
        },
        {
          "output_type": "stream",
          "name": "stdout",
          "text": [
            "\n",
            "\n",
            "****************************************************************************************************\n",
            "DATA GUARDRAILS: \n",
            "\n",
            "TYPE:         Class balancing detection\n",
            "STATUS:       PASSED\n",
            "DESCRIPTION:  Your inputs were analyzed, and all classes are balanced in your training data.\n",
            "              Learn more about imbalanced data: https://aka.ms/AutomatedMLImbalancedData\n",
            "\n",
            "****************************************************************************************************\n",
            "\n",
            "TYPE:         Missing feature values imputation\n",
            "STATUS:       PASSED\n",
            "DESCRIPTION:  No feature missing values were detected in the training data.\n",
            "              Learn more about missing value imputation: https://aka.ms/AutomatedMLFeaturization\n",
            "\n",
            "****************************************************************************************************\n",
            "\n",
            "TYPE:         High cardinality feature detection\n",
            "STATUS:       PASSED\n",
            "DESCRIPTION:  Your inputs were analyzed, and no high cardinality features were detected.\n",
            "              Learn more about high cardinality feature handling: https://aka.ms/AutomatedMLFeaturization\n",
            "\n",
            "****************************************************************************************************\n",
            "\n",
            "****************************************************************************************************\n",
            "ITERATION: The iteration being evaluated.\n",
            "PIPELINE: A summary description of the pipeline being evaluated.\n",
            "DURATION: Time taken for the current iteration.\n",
            "METRIC: The result of computing score on the fitted pipeline.\n",
            "BEST: The best observed score thus far.\n",
            "****************************************************************************************************\n",
            "\n",
            " ITERATION   PIPELINE                                       DURATION      METRIC      BEST\n",
            "         0   MaxAbsScaler LightGBM                          0:01:54       0.8307    0.8307\n",
            "         1   MinMaxScaler RandomForest                      0:00:43       0.8306    0.8307\n",
            "         2   MinMaxScaler RandomForest                      0:00:49       0.8264    0.8307\n",
            "         3   MinMaxScaler RandomForest                      0:00:45       0.8665    0.8665\n",
            "         4   MinMaxScaler RandomForest                      0:01:57       0.8526    0.8665\n",
            "         5   RobustScaler KNN                               0:01:58       0.7502    0.8665\n",
            "         6   MinMaxScaler SVM                               0:02:00       0.7100    0.8665\n",
            "         7   MinMaxScaler SVM                               0:00:48       0.7011    0.8665\n",
            "         8   MaxAbsScaler RandomForest                      0:00:52       0.7503    0.8665\n",
            "         9   MaxAbsScaler RandomForest                      0:00:43       0.8396    0.8665\n",
            "        10   RobustScaler RandomForest                      0:00:47       0.8530    0.8665\n",
            "        11   StandardScalerWrapper GradientBoosting         0:00:53       0.8307    0.8665\n",
            "        12   MinMaxScaler LightGBM                          0:00:42       0.8351    0.8665\n",
            "        13   MinMaxScaler LightGBM                          0:00:50       0.7773    0.8665\n",
            "        14   MaxAbsScaler ExtremeRandomTrees                0:00:51       0.7905    0.8665\n",
            "        15   RobustScaler KNN                               0:01:01       0.5715    0.8665\n",
            "        16   RobustScaler LightGBM                          0:00:55       0.7995    0.8665\n",
            "        17   RobustScaler LightGBM                          0:00:46       0.7773    0.8665\n",
            "        18   StandardScalerWrapper LightGBM                 0:00:48       0.7906    0.8665\n",
            "        19   RobustScaler KNN                               0:00:41       0.6071    0.8665\n",
            "        20   MaxAbsScaler ExtremeRandomTrees                0:00:48       0.7994    0.8665\n",
            "        21   SparseNormalizer RandomForest                  0:00:51       0.7994    0.8665\n",
            "        22   SparseNormalizer ExtremeRandomTrees            0:00:53       0.7145    0.8665\n",
            "        23   MinMaxScaler LightGBM                          0:00:42       0.8530    0.8665\n",
            "        24   MaxAbsScaler LightGBM                          0:00:40       0.7235    0.8665\n",
            "        25   MaxAbsScaler RandomForest                      0:00:48       0.7997    0.8665\n",
            "        26   MaxAbsScaler RandomForest                      0:00:45       0.8218    0.8665\n",
            "        27   MinMaxScaler RandomForest                      0:00:47       0.8352    0.8665\n",
            "        28   MinMaxScaler RandomForest                      0:00:46       0.8575    0.8665\n",
            "        29   RobustScaler ExtremeRandomTrees                0:00:42       0.8261    0.8665\n",
            "        30   MaxAbsScaler RandomForest                      0:00:45       0.8038    0.8665\n",
            "        31   StandardScalerWrapper LightGBM                 0:00:48       0.8574    0.8665\n",
            "        32   StandardScalerWrapper LightGBM                 0:00:50       0.8353    0.8665\n",
            "        33   StandardScalerWrapper RandomForest             0:00:46       0.8306    0.8665\n",
            "        34   StandardScalerWrapper LightGBM                 0:00:43       0.8486    0.8665\n",
            "        35   StandardScalerWrapper RandomForest             0:00:29          nan    0.8665\n",
            "        36   SparseNormalizer LightGBM                      0:00:32       0.8083    0.8665\n",
            "        37                                                  0:00:17          nan    0.8665\n",
            "        38    VotingEnsemble                                0:01:13       0.8708    0.8708\n",
            "        39    StackEnsemble                                 0:01:19       0.8485    0.8708\n"
          ]
        },
        {
          "output_type": "execute_result",
          "execution_count": 6,
          "data": {
            "text/plain": "{'runId': 'AutoML_111e941e-8cd6-43c2-b951-a097693639d4',\n 'target': 'arvccompute1',\n 'status': 'Completed',\n 'startTimeUtc': '2021-03-21T15:42:38.804108Z',\n 'endTimeUtc': '2021-03-21T16:00:42.561973Z',\n 'properties': {'num_iterations': '1000',\n  'training_type': 'TrainFull',\n  'acquisition_function': 'EI',\n  'primary_metric': 'accuracy',\n  'train_split': '0',\n  'acquisition_parameter': '0',\n  'num_cross_validation': '5',\n  'target': 'arvccompute1',\n  'AMLSettingsJsonString': '{\"path\":null,\"name\":\"arvc-azureml-project3-experiment-automl\",\"subscription_id\":\"61c5c3f0-6dc7-4ed9-a7f3-c704b20e3b30\",\"resource_group\":\"aml-quickstarts-141038\",\"workspace_name\":\"quick-starts-ws-141038\",\"region\":\"southcentralus\",\"compute_target\":\"arvccompute1\",\"spark_service\":null,\"azure_service\":\"remote\",\"many_models\":false,\"pipeline_fetch_max_batch_size\":1,\"enable_batch_run\":false,\"iterations\":1000,\"primary_metric\":\"accuracy\",\"task_type\":\"classification\",\"data_script\":null,\"validation_size\":0.0,\"n_cross_validations\":5,\"y_min\":null,\"y_max\":null,\"num_classes\":null,\"featurization\":\"auto\",\"_ignore_package_version_incompatibilities\":false,\"is_timeseries\":false,\"max_cores_per_iteration\":1,\"max_concurrent_iterations\":5,\"iteration_timeout_minutes\":null,\"mem_in_mb\":null,\"enforce_time_on_windows\":false,\"experiment_timeout_minutes\":15,\"experiment_exit_score\":null,\"whitelist_models\":null,\"blacklist_algos\":[\"XGBoostClassifier\",\"TensorFlowLinearClassifier\",\"TensorFlowDNN\"],\"supported_models\":[\"LinearSVM\",\"KNN\",\"SVM\",\"XGBoostClassifier\",\"LogisticRegression\",\"DecisionTree\",\"AveragedPerceptronClassifier\",\"GradientBoosting\",\"SGD\",\"TensorFlowDNN\",\"TensorFlowLinearClassifier\",\"ExtremeRandomTrees\",\"BernoulliNaiveBayes\",\"RandomForest\",\"MultinomialNaiveBayes\",\"LightGBM\"],\"private_models\":[],\"auto_blacklist\":true,\"blacklist_samples_reached\":false,\"exclude_nan_labels\":true,\"verbosity\":20,\"_debug_log\":\"azureml_automl.log\",\"show_warnings\":false,\"model_explainability\":true,\"service_url\":null,\"sdk_url\":null,\"sdk_packages\":null,\"enable_onnx_compatible_models\":false,\"enable_split_onnx_featurizer_estimator_models\":false,\"vm_type\":\"STANDARD_DS12_V2\",\"telemetry_verbosity\":20,\"send_telemetry\":true,\"enable_dnn\":false,\"scenario\":\"SDK-1.13.0\",\"environment_label\":null,\"save_mlflow\":false,\"force_text_dnn\":false,\"enable_feature_sweeping\":true,\"enable_early_stopping\":true,\"early_stopping_n_iters\":10,\"metrics\":null,\"enable_metric_confidence\":false,\"enable_ensembling\":true,\"enable_stack_ensembling\":true,\"ensemble_iterations\":15,\"enable_tf\":false,\"enable_subsampling\":null,\"subsample_seed\":null,\"enable_nimbusml\":false,\"enable_streaming\":false,\"force_streaming\":false,\"track_child_runs\":true,\"allowed_private_models\":[],\"label_column_name\":\"DEATH_EVENT\",\"weight_column_name\":null,\"cv_split_column_names\":null,\"enable_local_managed\":false,\"_local_managed_run_id\":null,\"cost_mode\":1,\"lag_length\":0,\"metric_operation\":\"maximize\",\"preprocess\":true}',\n  'DataPrepJsonString': '{\\\\\"training_data\\\\\": \\\\\"{\\\\\\\\\\\\\"blocks\\\\\\\\\\\\\": [{\\\\\\\\\\\\\"id\\\\\\\\\\\\\": \\\\\\\\\\\\\"5441f5ad-336b-4f77-89e6-0839e354d88c\\\\\\\\\\\\\", \\\\\\\\\\\\\"type\\\\\\\\\\\\\": \\\\\\\\\\\\\"Microsoft.DPrep.GetDatastoreFilesBlock\\\\\\\\\\\\\", \\\\\\\\\\\\\"arguments\\\\\\\\\\\\\": {\\\\\\\\\\\\\"datastores\\\\\\\\\\\\\": [{\\\\\\\\\\\\\"datastoreName\\\\\\\\\\\\\": \\\\\\\\\\\\\"workspaceblobstore\\\\\\\\\\\\\", \\\\\\\\\\\\\"path\\\\\\\\\\\\\": \\\\\\\\\\\\\"train.csv\\\\\\\\\\\\\", \\\\\\\\\\\\\"resourceGroup\\\\\\\\\\\\\": \\\\\\\\\\\\\"aml-quickstarts-141038\\\\\\\\\\\\\", \\\\\\\\\\\\\"subscription\\\\\\\\\\\\\": \\\\\\\\\\\\\"61c5c3f0-6dc7-4ed9-a7f3-c704b20e3b30\\\\\\\\\\\\\", \\\\\\\\\\\\\"workspaceName\\\\\\\\\\\\\": \\\\\\\\\\\\\"quick-starts-ws-141038\\\\\\\\\\\\\"}]}, \\\\\\\\\\\\\"localData\\\\\\\\\\\\\": {}, \\\\\\\\\\\\\"isEnabled\\\\\\\\\\\\\": true, \\\\\\\\\\\\\"name\\\\\\\\\\\\\": null, \\\\\\\\\\\\\"annotation\\\\\\\\\\\\\": null}, {\\\\\\\\\\\\\"id\\\\\\\\\\\\\": \\\\\\\\\\\\\"a689fc7f-0770-4903-b9f8-ef4572101f39\\\\\\\\\\\\\", \\\\\\\\\\\\\"type\\\\\\\\\\\\\": \\\\\\\\\\\\\"Microsoft.DPrep.ParseDelimitedBlock\\\\\\\\\\\\\", \\\\\\\\\\\\\"arguments\\\\\\\\\\\\\": {\\\\\\\\\\\\\"columnHeadersMode\\\\\\\\\\\\\": 3, \\\\\\\\\\\\\"fileEncoding\\\\\\\\\\\\\": 0, \\\\\\\\\\\\\"handleQuotedLineBreaks\\\\\\\\\\\\\": false, \\\\\\\\\\\\\"preview\\\\\\\\\\\\\": false, \\\\\\\\\\\\\"separator\\\\\\\\\\\\\": \\\\\\\\\\\\\",\\\\\\\\\\\\\", \\\\\\\\\\\\\"skipRows\\\\\\\\\\\\\": 0, \\\\\\\\\\\\\"skipRowsMode\\\\\\\\\\\\\": 0}, \\\\\\\\\\\\\"localData\\\\\\\\\\\\\": {}, \\\\\\\\\\\\\"isEnabled\\\\\\\\\\\\\": true, \\\\\\\\\\\\\"name\\\\\\\\\\\\\": null, \\\\\\\\\\\\\"annotation\\\\\\\\\\\\\": null}, {\\\\\\\\\\\\\"id\\\\\\\\\\\\\": \\\\\\\\\\\\\"90dd1cf4-dd61-4898-852f-a10d8fc30643\\\\\\\\\\\\\", \\\\\\\\\\\\\"type\\\\\\\\\\\\\": \\\\\\\\\\\\\"Microsoft.DPrep.DropColumnsBlock\\\\\\\\\\\\\", \\\\\\\\\\\\\"arguments\\\\\\\\\\\\\": {\\\\\\\\\\\\\"columns\\\\\\\\\\\\\": {\\\\\\\\\\\\\"type\\\\\\\\\\\\\": 0, \\\\\\\\\\\\\"details\\\\\\\\\\\\\": {\\\\\\\\\\\\\"selectedColumns\\\\\\\\\\\\\": [\\\\\\\\\\\\\"Path\\\\\\\\\\\\\"]}}}, \\\\\\\\\\\\\"localData\\\\\\\\\\\\\": {}, \\\\\\\\\\\\\"isEnabled\\\\\\\\\\\\\": true, \\\\\\\\\\\\\"name\\\\\\\\\\\\\": null, \\\\\\\\\\\\\"annotation\\\\\\\\\\\\\": null}, {\\\\\\\\\\\\\"id\\\\\\\\\\\\\": \\\\\\\\\\\\\"02d6c0e5-188f-4ada-bf63-34185c052227\\\\\\\\\\\\\", \\\\\\\\\\\\\"type\\\\\\\\\\\\\": \\\\\\\\\\\\\"Microsoft.DPrep.SetColumnTypesBlock\\\\\\\\\\\\\", \\\\\\\\\\\\\"arguments\\\\\\\\\\\\\": {\\\\\\\\\\\\\"columnConversion\\\\\\\\\\\\\": [{\\\\\\\\\\\\\"column\\\\\\\\\\\\\": {\\\\\\\\\\\\\"type\\\\\\\\\\\\\": 2, \\\\\\\\\\\\\"details\\\\\\\\\\\\\": {\\\\\\\\\\\\\"selectedColumn\\\\\\\\\\\\\": \\\\\\\\\\\\\"age\\\\\\\\\\\\\"}}, \\\\\\\\\\\\\"typeProperty\\\\\\\\\\\\\": 3}, {\\\\\\\\\\\\\"column\\\\\\\\\\\\\": {\\\\\\\\\\\\\"type\\\\\\\\\\\\\": 2, \\\\\\\\\\\\\"details\\\\\\\\\\\\\": {\\\\\\\\\\\\\"selectedColumn\\\\\\\\\\\\\": \\\\\\\\\\\\\"anaemia\\\\\\\\\\\\\"}}, \\\\\\\\\\\\\"typeProperty\\\\\\\\\\\\\": 2}, {\\\\\\\\\\\\\"column\\\\\\\\\\\\\": {\\\\\\\\\\\\\"type\\\\\\\\\\\\\": 2, \\\\\\\\\\\\\"details\\\\\\\\\\\\\": {\\\\\\\\\\\\\"selectedColumn\\\\\\\\\\\\\": \\\\\\\\\\\\\"creatinine_phosphokinase\\\\\\\\\\\\\"}}, \\\\\\\\\\\\\"typeProperty\\\\\\\\\\\\\": 2}, {\\\\\\\\\\\\\"column\\\\\\\\\\\\\": {\\\\\\\\\\\\\"type\\\\\\\\\\\\\": 2, \\\\\\\\\\\\\"details\\\\\\\\\\\\\": {\\\\\\\\\\\\\"selectedColumn\\\\\\\\\\\\\": \\\\\\\\\\\\\"diabetes\\\\\\\\\\\\\"}}, \\\\\\\\\\\\\"typeProperty\\\\\\\\\\\\\": 2}, {\\\\\\\\\\\\\"column\\\\\\\\\\\\\": {\\\\\\\\\\\\\"type\\\\\\\\\\\\\": 2, \\\\\\\\\\\\\"details\\\\\\\\\\\\\": {\\\\\\\\\\\\\"selectedColumn\\\\\\\\\\\\\": \\\\\\\\\\\\\"ejection_fraction\\\\\\\\\\\\\"}}, \\\\\\\\\\\\\"typeProperty\\\\\\\\\\\\\": 2}, {\\\\\\\\\\\\\"column\\\\\\\\\\\\\": {\\\\\\\\\\\\\"type\\\\\\\\\\\\\": 2, \\\\\\\\\\\\\"details\\\\\\\\\\\\\": {\\\\\\\\\\\\\"selectedColumn\\\\\\\\\\\\\": \\\\\\\\\\\\\"high_blood_pressure\\\\\\\\\\\\\"}}, \\\\\\\\\\\\\"typeProperty\\\\\\\\\\\\\": 2}, {\\\\\\\\\\\\\"column\\\\\\\\\\\\\": {\\\\\\\\\\\\\"type\\\\\\\\\\\\\": 2, \\\\\\\\\\\\\"details\\\\\\\\\\\\\": {\\\\\\\\\\\\\"selectedColumn\\\\\\\\\\\\\": \\\\\\\\\\\\\"platelets\\\\\\\\\\\\\"}}, \\\\\\\\\\\\\"typeProperty\\\\\\\\\\\\\": 3}, {\\\\\\\\\\\\\"column\\\\\\\\\\\\\": {\\\\\\\\\\\\\"type\\\\\\\\\\\\\": 2, \\\\\\\\\\\\\"details\\\\\\\\\\\\\": {\\\\\\\\\\\\\"selectedColumn\\\\\\\\\\\\\": \\\\\\\\\\\\\"serum_creatinine\\\\\\\\\\\\\"}}, \\\\\\\\\\\\\"typeProperty\\\\\\\\\\\\\": 3}, {\\\\\\\\\\\\\"column\\\\\\\\\\\\\": {\\\\\\\\\\\\\"type\\\\\\\\\\\\\": 2, \\\\\\\\\\\\\"details\\\\\\\\\\\\\": {\\\\\\\\\\\\\"selectedColumn\\\\\\\\\\\\\": \\\\\\\\\\\\\"serum_sodium\\\\\\\\\\\\\"}}, \\\\\\\\\\\\\"typeProperty\\\\\\\\\\\\\": 2}, {\\\\\\\\\\\\\"column\\\\\\\\\\\\\": {\\\\\\\\\\\\\"type\\\\\\\\\\\\\": 2, \\\\\\\\\\\\\"details\\\\\\\\\\\\\": {\\\\\\\\\\\\\"selectedColumn\\\\\\\\\\\\\": \\\\\\\\\\\\\"sex\\\\\\\\\\\\\"}}, \\\\\\\\\\\\\"typeProperty\\\\\\\\\\\\\": 2}, {\\\\\\\\\\\\\"column\\\\\\\\\\\\\": {\\\\\\\\\\\\\"type\\\\\\\\\\\\\": 2, \\\\\\\\\\\\\"details\\\\\\\\\\\\\": {\\\\\\\\\\\\\"selectedColumn\\\\\\\\\\\\\": \\\\\\\\\\\\\"smoking\\\\\\\\\\\\\"}}, \\\\\\\\\\\\\"typeProperty\\\\\\\\\\\\\": 2}, {\\\\\\\\\\\\\"column\\\\\\\\\\\\\": {\\\\\\\\\\\\\"type\\\\\\\\\\\\\": 2, \\\\\\\\\\\\\"details\\\\\\\\\\\\\": {\\\\\\\\\\\\\"selectedColumn\\\\\\\\\\\\\": \\\\\\\\\\\\\"time\\\\\\\\\\\\\"}}, \\\\\\\\\\\\\"typeProperty\\\\\\\\\\\\\": 2}, {\\\\\\\\\\\\\"column\\\\\\\\\\\\\": {\\\\\\\\\\\\\"type\\\\\\\\\\\\\": 2, \\\\\\\\\\\\\"details\\\\\\\\\\\\\": {\\\\\\\\\\\\\"selectedColumn\\\\\\\\\\\\\": \\\\\\\\\\\\\"DEATH_EVENT\\\\\\\\\\\\\"}}, \\\\\\\\\\\\\"typeProperty\\\\\\\\\\\\\": 2}]}, \\\\\\\\\\\\\"localData\\\\\\\\\\\\\": {}, \\\\\\\\\\\\\"isEnabled\\\\\\\\\\\\\": true, \\\\\\\\\\\\\"name\\\\\\\\\\\\\": null, \\\\\\\\\\\\\"annotation\\\\\\\\\\\\\": null}], \\\\\\\\\\\\\"inspectors\\\\\\\\\\\\\": [], \\\\\\\\\\\\\"meta\\\\\\\\\\\\\": {\\\\\\\\\\\\\"savedDatasetId\\\\\\\\\\\\\": \\\\\\\\\\\\\"30ae4ff0-d3b8-4419-8e58-4069c4368bbd\\\\\\\\\\\\\", \\\\\\\\\\\\\"datasetType\\\\\\\\\\\\\": \\\\\\\\\\\\\"tabular\\\\\\\\\\\\\", \\\\\\\\\\\\\"subscriptionId\\\\\\\\\\\\\": \\\\\\\\\\\\\"61c5c3f0-6dc7-4ed9-a7f3-c704b20e3b30\\\\\\\\\\\\\", \\\\\\\\\\\\\"workspaceId\\\\\\\\\\\\\": \\\\\\\\\\\\\"f0ccd108-f747-47d1-88ab-98f0cf920db0\\\\\\\\\\\\\", \\\\\\\\\\\\\"workspaceLocation\\\\\\\\\\\\\": \\\\\\\\\\\\\"southcentralus\\\\\\\\\\\\\", \\\\\\\\\\\\\"partition_keys\\\\\\\\\\\\\": \\\\\\\\\\\\\"true\\\\\\\\\\\\\"}}\\\\\", \\\\\"activities\\\\\": 0}',\n  'EnableSubsampling': None,\n  'runTemplate': 'AutoML',\n  'azureml.runsource': 'automl',\n  'display_task_type': 'classification',\n  'dependencies_versions': '{\"azureml-widgets\": \"1.24.0\", \"azureml-train\": \"1.24.0\", \"azureml-train-restclients-hyperdrive\": \"1.24.0\", \"azureml-train-core\": \"1.24.0\", \"azureml-train-automl\": \"1.24.0\", \"azureml-train-automl-runtime\": \"1.24.0\", \"azureml-train-automl-client\": \"1.24.0\", \"azureml-tensorboard\": \"1.24.0\", \"azureml-telemetry\": \"1.24.0\", \"azureml-sdk\": \"1.24.0\", \"azureml-samples\": \"0+unknown\", \"azureml-pipeline\": \"1.24.0\", \"azureml-pipeline-steps\": \"1.24.0\", \"azureml-pipeline-core\": \"1.24.0\", \"azureml-opendatasets\": \"1.24.0\", \"azureml-model-management-sdk\": \"1.0.1b6.post1\", \"azureml-mlflow\": \"1.24.0\", \"azureml-interpret\": \"1.24.0\", \"azureml-explain-model\": \"1.24.0\", \"azureml-defaults\": \"1.24.0\", \"azureml-dataset-runtime\": \"1.24.0\", \"azureml-dataprep\": \"2.11.1\", \"azureml-dataprep-rslex\": \"1.9.0\", \"azureml-dataprep-native\": \"30.0.0\", \"azureml-datadrift\": \"1.24.0\", \"azureml-core\": \"1.24.0\", \"azureml-contrib-services\": \"1.24.0\", \"azureml-contrib-server\": \"1.24.0\", \"azureml-contrib-reinforcementlearning\": \"1.24.0\", \"azureml-contrib-pipeline-steps\": \"1.24.0\", \"azureml-contrib-notebook\": \"1.24.0\", \"azureml-contrib-gbdt\": \"1.24.0\", \"azureml-contrib-fairness\": \"1.24.0\", \"azureml-contrib-dataset\": \"1.24.0\", \"azureml-cli-common\": \"1.24.0\", \"azureml-automl-runtime\": \"1.24.0\", \"azureml-automl-dnn-nlp\": \"1.24.0\", \"azureml-automl-core\": \"1.24.0\", \"azureml-accel-models\": \"1.24.0\"}',\n  '_aml_system_scenario_identification': 'Remote.Parent',\n  'ClientType': 'SDK',\n  'environment_cpu_name': 'AzureML-AutoML',\n  'environment_cpu_label': 'prod',\n  'environment_gpu_name': 'AzureML-AutoML-GPU',\n  'environment_gpu_label': 'prod',\n  'root_attribution': 'automl',\n  'attribution': 'AutoML',\n  'Orchestrator': 'AutoML',\n  'CancelUri': 'https://southcentralus.experiments.azureml.net/jasmine/v1.0/subscriptions/61c5c3f0-6dc7-4ed9-a7f3-c704b20e3b30/resourceGroups/aml-quickstarts-141038/providers/Microsoft.MachineLearningServices/workspaces/quick-starts-ws-141038/experimentids/f33c163f-d21a-4ec7-bdf0-3fb34d02ba39/cancel/AutoML_111e941e-8cd6-43c2-b951-a097693639d4',\n  'ClientSdkVersion': '1.24.0',\n  'snapshotId': '00000000-0000-0000-0000-000000000000',\n  'SetupRunId': 'AutoML_111e941e-8cd6-43c2-b951-a097693639d4_setup',\n  'SetupRunContainerId': 'dcid.AutoML_111e941e-8cd6-43c2-b951-a097693639d4_setup',\n  'FeaturizationRunJsonPath': 'featurizer_container.json',\n  'FeaturizationRunId': 'AutoML_111e941e-8cd6-43c2-b951-a097693639d4_featurize',\n  'ProblemInfoJsonString': '{\"dataset_num_categorical\": 0, \"is_sparse\": false, \"subsampling\": false, \"dataset_classes\": 2, \"dataset_features\": 12, \"dataset_samples\": 224, \"single_frequency_class_detected\": false}',\n  'ModelExplainRunId': 'AutoML_111e941e-8cd6-43c2-b951-a097693639d4_ModelExplain'},\n 'inputDatasets': [{'dataset': {'id': '30ae4ff0-d3b8-4419-8e58-4069c4368bbd'}, 'consumptionDetails': {'type': 'RunInput', 'inputName': 'training_data', 'mechanism': 'Direct'}}],\n 'outputDatasets': [],\n 'logFiles': {},\n 'submittedBy': 'ODL_User 141038'}"
          },
          "metadata": {}
        }
      ],
      "execution_count": 6,
      "metadata": {
        "gather": {
          "logged": 1616342772311
        },
        "jupyter": {
          "outputs_hidden": false,
          "source_hidden": false
        },
        "nteract": {
          "transient": {
            "deleting": false
          }
        }
      }
    },
    {
      "cell_type": "markdown",
      "source": [
        "## Best Model\n",
        "\n",
        "TODO: In the cell below, get the best model from the automl experiments and display all the properties of the model.\n",
        "\n"
      ],
      "metadata": {}
    },
    {
      "cell_type": "code",
      "source": [
        "best_run, model = remote_run.get_output()\n",
        "print(best_run)\n",
        "print(model)\n",
        "best_run.get_tags()\n",
        "best_run_metrics = best_run.get_metrics()\n",
        "for metric_name in best_run_metrics:\n",
        "    metric = best_run_metrics[metric_name]\n",
        "    print(metric_name, metric)"
      ],
      "outputs": [
        {
          "output_type": "stream",
          "name": "stdout",
          "text": [
            "Run(Experiment: arvc-azureml-project3-experiment-automl,\n",
            "Id: AutoML_111e941e-8cd6-43c2-b951-a097693639d4_38,\n",
            "Type: azureml.scriptrun,\n",
            "Status: Completed)\n",
            "Pipeline(memory=None,\n",
            "         steps=[('datatransformer',\n",
            "                 DataTransformer(enable_dnn=None, enable_feature_sweeping=None,\n",
            "                                 feature_sweeping_config=None,\n",
            "                                 feature_sweeping_timeout=None,\n",
            "                                 featurization_config=None, force_text_dnn=None,\n",
            "                                 is_cross_validation=None,\n",
            "                                 is_onnx_compatible=None, logger=None,\n",
            "                                 observer=None, task=None, working_dir=None)),\n",
            "                ('prefittedsoftvotingclassifier',...\n",
            "                                                                                                objective=None,\n",
            "                                                                                                random_state=None,\n",
            "                                                                                                reg_alpha=0.21052631578947367,\n",
            "                                                                                                reg_lambda=0.3684210526315789,\n",
            "                                                                                                silent=True,\n",
            "                                                                                                subsample=1,\n",
            "                                                                                                subsample_for_bin=200000,\n",
            "                                                                                                subsample_freq=0,\n",
            "                                                                                                verbose=-10))],\n",
            "                                                                     verbose=False))],\n",
            "                                               flatten_transform=None,\n",
            "                                               weights=[0.16666666666666666,\n",
            "                                                        0.16666666666666666,\n",
            "                                                        0.16666666666666666,\n",
            "                                                        0.16666666666666666,\n",
            "                                                        0.16666666666666666,\n",
            "                                                        0.16666666666666666]))],\n",
            "         verbose=False)\n",
            "AUC_micro 0.9263153249668401\n",
            "precision_score_weighted 0.8717520327573605\n",
            "f1_score_micro 0.8708080808080808\n",
            "average_precision_score_micro 0.9286082169460457\n",
            "accuracy 0.8708080808080808\n",
            "AUC_weighted 0.9128422764511473\n",
            "f1_score_weighted 0.8695993209404975\n",
            "norm_macro_recall 0.6862606479541963\n",
            "AUC_macro 0.9128422764511473\n",
            "balanced_accuracy 0.8431303239770982\n",
            "precision_score_macro 0.851615640667511\n",
            "recall_score_weighted 0.8708080808080808\n",
            "log_loss 0.3664475831329427\n",
            "recall_score_micro 0.8708080808080808\n",
            "average_precision_score_weighted 0.91954924262132\n",
            "matthews_correlation 0.6941205997015152\n",
            "f1_score_macro 0.8450455818691113\n",
            "precision_score_micro 0.8708080808080808\n",
            "average_precision_score_macro 0.898244043619871\n",
            "weighted_accuracy 0.8889202246662539\n",
            "recall_score_macro 0.8431303239770982\n",
            "confusion_matrix aml://artifactId/ExperimentRun/dcid.AutoML_111e941e-8cd6-43c2-b951-a097693639d4_38/confusion_matrix\n",
            "accuracy_table aml://artifactId/ExperimentRun/dcid.AutoML_111e941e-8cd6-43c2-b951-a097693639d4_38/accuracy_table\n"
          ]
        }
      ],
      "execution_count": 18,
      "metadata": {
        "gather": {
          "logged": 1616343523943
        },
        "jupyter": {
          "outputs_hidden": false,
          "source_hidden": false
        },
        "nteract": {
          "transient": {
            "deleting": false
          }
        }
      }
    },
    {
      "cell_type": "code",
      "source": [
        "best_run_metrics"
      ],
      "outputs": [
        {
          "output_type": "execute_result",
          "execution_count": 35,
          "data": {
            "text/plain": "{'AUC_micro': 0.9263153249668401,\n 'precision_score_weighted': 0.8717520327573605,\n 'f1_score_micro': 0.8708080808080808,\n 'average_precision_score_micro': 0.9286082169460457,\n 'accuracy': 0.8708080808080808,\n 'AUC_weighted': 0.9128422764511473,\n 'f1_score_weighted': 0.8695993209404975,\n 'norm_macro_recall': 0.6862606479541963,\n 'AUC_macro': 0.9128422764511473,\n 'balanced_accuracy': 0.8431303239770982,\n 'precision_score_macro': 0.851615640667511,\n 'recall_score_weighted': 0.8708080808080808,\n 'log_loss': 0.3664475831329427,\n 'recall_score_micro': 0.8708080808080808,\n 'average_precision_score_weighted': 0.91954924262132,\n 'matthews_correlation': 0.6941205997015152,\n 'f1_score_macro': 0.8450455818691113,\n 'precision_score_micro': 0.8708080808080808,\n 'average_precision_score_macro': 0.898244043619871,\n 'weighted_accuracy': 0.8889202246662539,\n 'recall_score_macro': 0.8431303239770982,\n 'confusion_matrix': 'aml://artifactId/ExperimentRun/dcid.AutoML_111e941e-8cd6-43c2-b951-a097693639d4_38/confusion_matrix',\n 'accuracy_table': 'aml://artifactId/ExperimentRun/dcid.AutoML_111e941e-8cd6-43c2-b951-a097693639d4_38/accuracy_table'}"
          },
          "metadata": {}
        }
      ],
      "execution_count": 35,
      "metadata": {
        "gather": {
          "logged": 1616344351114
        },
        "jupyter": {
          "outputs_hidden": false,
          "source_hidden": false
        },
        "nteract": {
          "transient": {
            "deleting": false
          }
        }
      }
    },
    {
      "cell_type": "markdown",
      "source": [
        "## Model Deployment\n",
        "\n",
        "Remember you have to deploy only one of the two models you trained.. Perform the steps in the rest of this notebook only if you wish to deploy this model.\n",
        "\n",
        "TODO: In the cell below, register the model, create an inference config and deploy the model as a web service."
      ],
      "metadata": {}
    },
    {
      "cell_type": "code",
      "source": [
        "#TODO: Save the best model\n",
        "from azureml.core import Model\n",
        "\n",
        "# Register model\n",
        "best_run.register_model(model_path='outputs/model.pkl', model_name='arvc_automl_model3',\n",
        "                        tags={'Training context':'Auto ML'},\n",
        "                        properties={'AUC': best_run_metrics['AUC_weighted'], 'Accuracy': best_run_metrics['accuracy']})\n",
        "\n",
        "\n",
        "# List registered models\n",
        "for m in Model.list(ws):\n",
        "    print(m.name, 'version:', m.version)\n",
        "    for tag_name in m.tags:\n",
        "        tag = m.tags[tag_name]\n",
        "        print ('\\t',tag_name, ':', tag)\n",
        "    for prop_name in m.properties:\n",
        "        prop = m.properties[prop_name]\n",
        "        print ('\\t',prop_name, ':', prop)\n",
        "    print('\\n')"
      ],
      "outputs": [
        {
          "output_type": "stream",
          "name": "stdout",
          "text": [
            "arvc_automl_model3 version: 1\n",
            "\t Training context : Auto ML\n",
            "\t AUC : 0.9128422764511473\n",
            "\t Accuracy : 0.8708080808080808\n",
            "\n",
            "\n",
            "arvc_automl_model2 version: 1\n",
            "\t Training context : Auto ML\n",
            "\t AUC : 0.9128422764511473\n",
            "\t Accuracy : 0.8708080808080808\n",
            "\n",
            "\n",
            "arvc_automl_model version: 4\n",
            "\t Training context : Auto ML\n",
            "\t AUC : 0.9128422764511473\n",
            "\t Accuracy : 0.8708080808080808\n",
            "\n",
            "\n",
            "arvc_automl_model version: 3\n",
            "\t Training context : Auto ML\n",
            "\t AUC : 0.9128422764511473\n",
            "\t Accuracy : 0.8708080808080808\n",
            "\n",
            "\n",
            "arvc_best_hyperdrive_model5 version: 1\n",
            "\n",
            "\n"
          ]
        }
      ],
      "execution_count": 47,
      "metadata": {
        "gather": {
          "logged": 1616344986460
        }
      }
    },
    {
      "cell_type": "code",
      "source": [
        "from azureml.automl.core.shared import constants\n",
        "best_run.download_file(constants.CONDA_ENV_FILE_PATH, 'myenv.yml')"
      ],
      "outputs": [],
      "execution_count": 48,
      "metadata": {
        "gather": {
          "logged": 1616345031038
        },
        "jupyter": {
          "outputs_hidden": false,
          "source_hidden": false
        },
        "nteract": {
          "transient": {
            "deleting": false
          }
        }
      }
    },
    {
      "cell_type": "code",
      "source": [
        "# create inference_config\n",
        "from azureml.core.model import InferenceConfig\n",
        "from azureml.core.environment import Environment\n",
        "\n",
        "inference_config = InferenceConfig(entry_script=\"scoring.py\")"
      ],
      "outputs": [],
      "execution_count": 50,
      "metadata": {
        "gather": {
          "logged": 1616345042236
        },
        "jupyter": {
          "outputs_hidden": false,
          "source_hidden": false
        },
        "nteract": {
          "transient": {
            "deleting": false
          }
        }
      }
    },
    {
      "cell_type": "code",
      "source": [
        "from azureml.core.webservice import Webservice, AciWebservice\n",
        "deployment_config = AciWebservice.deploy_configuration(cpu_cores=1, memory_gb = 1)"
      ],
      "outputs": [],
      "execution_count": 51,
      "metadata": {
        "gather": {
          "logged": 1616345045667
        },
        "jupyter": {
          "outputs_hidden": false,
          "source_hidden": false
        },
        "nteract": {
          "transient": {
            "deleting": false
          }
        }
      }
    },
    {
      "cell_type": "markdown",
      "source": [
        "TODO: In the cell below, send a request to the web service you deployed to test it."
      ],
      "metadata": {
        "collapsed": true,
        "gather": {
          "logged": 1598431657736
        },
        "jupyter": {
          "outputs_hidden": false,
          "source_hidden": false
        },
        "nteract": {
          "transient": {
            "deleting": false
          }
        }
      }
    },
    {
      "cell_type": "code",
      "source": [
        "mybestmodel = ws.models[\"arvc_automl_model3\"]"
      ],
      "outputs": [],
      "execution_count": 62,
      "metadata": {
        "collapsed": true,
        "jupyter": {
          "source_hidden": false,
          "outputs_hidden": false
        },
        "nteract": {
          "transient": {
            "deleting": false
          }
        },
        "gather": {
          "logged": 1616345380480
        }
      }
    },
    {
      "cell_type": "code",
      "source": [
        "#deploy the model\n",
        "service=Model.deploy(workspace=ws,\n",
        "                    name=\"arvc-automl-best-model-svc6\",\n",
        "                    models=[mybestmodel],\n",
        "                    inference_config=inference_config\n",
        "                    #deployment_config=deployment_config\n",
        "                    )\n",
        "service.wait_for_deployment(show_output=True)"
      ],
      "outputs": [
        {
          "output_type": "stream",
          "name": "stdout",
          "text": [
            "Tips: You can try get_logs(): https://aka.ms/debugimage#dockerlog or local deployment: https://aka.ms/debugimage#debug-locally to debug if deployment takes longer than 10 minutes.\n",
            "Running\n",
            "2021-03-21 16:50:35+00:00 Creating Container Registry if not exists.\n",
            "2021-03-21 16:50:38+00:00 Use the existing image.\n",
            "2021-03-21 16:50:39+00:00 Generating deployment configuration.\n",
            "2021-03-21 16:50:41+00:00 Submitting deployment to compute..\n",
            "2021-03-21 16:50:46+00:00 Checking the status of deployment arvc-automl-best-model-svc6."
          ]
        }
      ],
      "execution_count": 64,
      "metadata": {
        "gather": {
          "logged": 1611017492274
        },
        "jupyter": {
          "outputs_hidden": false,
          "source_hidden": false
        },
        "nteract": {
          "transient": {
            "deleting": false
          }
        }
      }
    },
    {
      "cell_type": "markdown",
      "source": [
        "TODO: In the cell below, print the logs of the web service and delete the service"
      ],
      "metadata": {
        "collapsed": true,
        "gather": {
          "logged": 1598432765711
        },
        "jupyter": {
          "outputs_hidden": false,
          "source_hidden": false
        },
        "nteract": {
          "transient": {
            "deleting": false
          }
        }
      }
    },
    {
      "cell_type": "code",
      "source": [
        "print(service.get_logs())"
      ],
      "outputs": [
        {
          "output_type": "stream",
          "name": "stdout",
          "text": [
            "None\n"
          ]
        }
      ],
      "execution_count": 45,
      "metadata": {
        "gather": {
          "logged": 1616344733001
        },
        "jupyter": {
          "outputs_hidden": false,
          "source_hidden": false
        },
        "nteract": {
          "transient": {
            "deleting": false
          }
        }
      }
    },
    {
      "cell_type": "code",
      "source": [
        "scoring_uri = service.scoring_uri\n",
        "\n",
        "print(f'\\nservice state: {service.state}\\n')\n",
        "print(f'scoring URI: \\n{service.scoring_uri}\\n')\n",
        "print(f'swagger URI: \\n{service.swagger_uri}\\n')\n",
        "\n",
        "print(service.scoring_uri)\n",
        "print(service.swagger_uri)"
      ],
      "outputs": [],
      "execution_count": null,
      "metadata": {
        "gather": {
          "logged": 1611017525452
        }
      }
    },
    {
      "cell_type": "code",
      "source": [
        "import requests\n",
        "import json\n",
        "\n",
        "data={\"data\":\n",
        "  [{'age': 87.0,\n",
        "  'anaemia': 0,\n",
        "  'creatinine_phosphokinase': 981,\n",
        "  'diabetes': 0,\n",
        "  'ejection_fraction': 55,\n",
        "  'high_blood_pressure': 1,\n",
        "  'platelets': 368000,\n",
        "  'serum_creatinine': 3.5,\n",
        "  'serum_sodium': 137,\n",
        "  'sex': 0,\n",
        "  'smoking': 0,\n",
        "  'time': 4}]\n",
        "  }\n",
        "\n",
        "input_data=json.dumps(data)\n",
        "\n",
        "with open(\"data.json\",\"w\") as file:\n",
        "    file.write(input_data)\n",
        "\n",
        "headers={\"Content-Type\":\"application/json\"}\n",
        "\n",
        "result=requests.post(scoring_uri, input_data, headers=headers)\n",
        "print(\"The output is: \",result.json())"
      ],
      "outputs": [],
      "execution_count": null,
      "metadata": {
        "gather": {
          "logged": 1611017529091
        }
      }
    },
    {
      "cell_type": "code",
      "source": [
        "result.status_code"
      ],
      "outputs": [],
      "execution_count": null,
      "metadata": {
        "gather": {
          "logged": 1611017652290
        }
      }
    },
    {
      "cell_type": "code",
      "source": [
        "service.delete()\n",
        "compute_target.delete()\n",
        "model.delete()\n",
        "run.delete()\n",
        "experiment.delete()"
      ],
      "outputs": [],
      "execution_count": null,
      "metadata": {}
    }
  ],
  "metadata": {
    "kernel_info": {
      "name": "python3"
    },
    "kernelspec": {
      "name": "python3",
      "language": "python",
      "display_name": "Python 3"
    },
    "language_info": {
      "name": "python",
      "version": "3.6.9",
      "mimetype": "text/x-python",
      "codemirror_mode": {
        "name": "ipython",
        "version": 3
      },
      "pygments_lexer": "ipython3",
      "nbconvert_exporter": "python",
      "file_extension": ".py"
    },
    "microsoft": {
      "host": {
        "AzureML": {
          "notebookHasBeenCompleted": true
        }
      }
    },
    "nteract": {
      "version": "nteract-front-end@1.0.0"
    }
  },
  "nbformat": 4,
  "nbformat_minor": 2
}