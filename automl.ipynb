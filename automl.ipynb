{
  "cells": [
    {
      "cell_type": "markdown",
      "source": [
        "# Automated ML\n",
        "\n",
        "TODO: Import Dependencies. In the cell below, import all the dependencies that you will need to complete the project."
      ],
      "metadata": {}
    },
    {
      "cell_type": "markdown",
      "source": [
        "## Dataset\n",
        "\n",
        "### Overview\n",
        "TODO: In this markdown cell, give an overview of the dataset you are using. Also mention the task you will be performing.\n",
        "\n",
        "\n",
        "TODO: Get data. In the cell below, write code to access the data you will be using in this project. Remember that the dataset needs to be external."
      ],
      "metadata": {}
    },
    {
      "cell_type": "code",
      "source": [
        "from azureml.core.experiment import Experiment\n",
        "from azureml.core.workspace import Workspace\n",
        "\n",
        "ws = Workspace.from_config()\n",
        "\n",
        "experiment_name = 'arvc-azureml-project3-experiment-automl'\n",
        "\n",
        "experiment=Experiment(ws, experiment_name)"
      ],
      "outputs": [
        {
          "output_type": "stream",
          "name": "stdout",
          "text": [
            "Performing interactive authentication. Please follow the instructions on the terminal.\n",
            "To sign in, use a web browser to open the page https://microsoft.com/devicelogin and enter the code R8RK5WZUY to authenticate.\n",
            "You have logged in. Now let us find all the subscriptions to which you have access...\n",
            "Interactive authentication successfully completed.\n"
          ]
        }
      ],
      "execution_count": 1,
      "metadata": {
        "gather": {
          "logged": 1616253073091
        },
        "jupyter": {
          "outputs_hidden": false,
          "source_hidden": false
        },
        "nteract": {
          "transient": {
            "deleting": false
          }
        }
      }
    },
    {
      "cell_type": "code",
      "source": [
        "from azureml.core.compute import ComputeTarget, AmlCompute\n",
        "from azureml.core.compute_target import ComputeTargetException\n",
        "\n",
        "compute_cluster_name = 'arvccompute'\n",
        "\n",
        "try:\n",
        "    compute_target = ComputeTarget(workspace=ws, name = compute_cluster_name)\n",
        "    print('Found the compute cluster')\n",
        "\n",
        "except ComputeTargetException:\n",
        "    compute_config = AmlCompute.provisioning_configuration(vm_size=\"Standard_DS12_v2\", max_nodes=5)\n",
        "    compute_target = ComputeTarget.create(ws, compute_cluster_name, compute_config)\n",
        "    compute_target.wait_for_completion(show_output=True)"
      ],
      "outputs": [
        {
          "output_type": "stream",
          "name": "stdout",
          "text": [
            "Creating....\n",
            "SucceededProvisioning operation finished, operation \"Succeeded\"\n",
            "Succeeded\n",
            "AmlCompute wait for completion finished\n",
            "\n",
            "Minimum number of nodes requested have been provisioned\n"
          ]
        }
      ],
      "execution_count": 3,
      "metadata": {
        "collapsed": true,
        "jupyter": {
          "source_hidden": false,
          "outputs_hidden": false
        },
        "nteract": {
          "transient": {
            "deleting": false
          }
        },
        "gather": {
          "logged": 1616253117870
        }
      }
    },
    {
      "cell_type": "code",
      "source": [
        "from azureml.core.dataset import Dataset\r\n",
        "from sklearn.model_selection import train_test_split\r\n",
        "\r\n",
        "key = 'heart_failure_dataset'\r\n",
        "if key in ws.datasets.keys():\r\n",
        "    dataset = ws.datasets[key]\r\n",
        "    print(\"existing dataset found.\")\r\n",
        "\r\n",
        "else:\r\n",
        "    print(\"existing dataset not found. creating new one.\")\r\n",
        "    url = 'https://archive.ics.uci.edu/ml/machine-learning-databases/00519/heart_failure_clinical_records_dataset.csv'\r\n",
        "    dataset = Dataset.Tabular.from_delimited_files(url)\r\n",
        "    dataset = dataset.register(ws,key)\r\n",
        "\r\n",
        "df = dataset.to_pandas_dataframe()\r\n",
        "train, test = train_test_split(df, shuffle=True)\r\n",
        "train.to_csv('train.csv',index = False)\r\n",
        "\r\n",
        "datastore = ws.get_default_datastore()\r\n",
        "datastore.upload_files(files = ['./train.csv'])\r\n",
        "\r\n",
        "train = Dataset.Tabular.from_delimited_files([(datastore,'train.csv')])"
      ],
      "outputs": [
        {
          "output_type": "stream",
          "name": "stdout",
          "text": [
            "existing dataset not found. creating new one.\n",
            "Uploading an estimated of 1 files\n",
            "Uploading ./train.csv\n",
            "Uploaded ./train.csv, 1 files out of an estimated total of 1\n",
            "Uploaded 1 files\n"
          ]
        }
      ],
      "execution_count": 4,
      "metadata": {
        "collapsed": true,
        "jupyter": {
          "source_hidden": false,
          "outputs_hidden": false
        },
        "nteract": {
          "transient": {
            "deleting": false
          }
        },
        "gather": {
          "logged": 1616253148070
        }
      }
    },
    {
      "cell_type": "markdown",
      "source": [
        "## AutoML Configuration\n",
        "\n",
        "TODO: Explain why you chose the automl settings and cofiguration you used below."
      ],
      "metadata": {}
    },
    {
      "cell_type": "code",
      "source": [
        "from azureml.train.automl import AutoMLConfig\n",
        "\n",
        "# TODO: Put your automl settings here\n",
        "automl_settings = {\"primary_metric\":\"accuracy\", \"experiment_timeout_minutes\":30, \"enable_early_stopping\":True, \"n_cross_validations\":5,\"max_concurrent_iterations\": 5}\n",
        "\n",
        "# TODO: Put your automl config here\n",
        "automl_config = AutoMLConfig(compute_target = compute_target, task = 'classification', training_data = train, label_column_name = 'DEATH_EVENT',**automl_settings)"
      ],
      "outputs": [],
      "execution_count": 5,
      "metadata": {
        "gather": {
          "logged": 1616253225151
        },
        "jupyter": {
          "outputs_hidden": false,
          "source_hidden": false
        },
        "nteract": {
          "transient": {
            "deleting": false
          }
        }
      }
    },
    {
      "cell_type": "code",
      "source": [
        "# TODO: Submit your experiment\n",
        "remote_run = experiment.submit(automl_config, show_output=True)"
      ],
      "outputs": [
        {
          "output_type": "stream",
          "name": "stdout",
          "text": [
            "Running on remote.\n",
            "No run_configuration provided, running on arvccompute with default configuration\n",
            "Running on remote compute: arvccompute\n",
            "Parent Run ID: AutoML_f53cdb49-dddb-4905-ac95-d30de4607c16\n",
            "\n",
            "Current status: FeaturesGeneration. Generating features for the dataset.\n",
            "Current status: DatasetCrossValidationSplit. Generating individually featurized CV splits.\n",
            "Current status: ModelSelection. Beginning model selection.\n",
            "\n",
            "****************************************************************************************************\n",
            "DATA GUARDRAILS: \n",
            "\n",
            "TYPE:         Class balancing detection\n",
            "STATUS:       PASSED\n",
            "DESCRIPTION:  Your inputs were analyzed, and all classes are balanced in your training data.\n",
            "              Learn more about imbalanced data: https://aka.ms/AutomatedMLImbalancedData\n",
            "\n",
            "****************************************************************************************************\n",
            "\n",
            "TYPE:         Missing feature values imputation\n",
            "STATUS:       PASSED\n",
            "DESCRIPTION:  No feature missing values were detected in the training data.\n",
            "              Learn more about missing value imputation: https://aka.ms/AutomatedMLFeaturization\n",
            "\n",
            "****************************************************************************************************\n",
            "\n",
            "TYPE:         High cardinality feature detection\n",
            "STATUS:       PASSED\n",
            "DESCRIPTION:  Your inputs were analyzed, and no high cardinality features were detected.\n",
            "              Learn more about high cardinality feature handling: https://aka.ms/AutomatedMLFeaturization\n",
            "\n",
            "****************************************************************************************************\n",
            "\n",
            "****************************************************************************************************\n",
            "ITERATION: The iteration being evaluated.\n",
            "PIPELINE: A summary description of the pipeline being evaluated.\n",
            "DURATION: Time taken for the current iteration.\n",
            "METRIC: The result of computing score on the fitted pipeline.\n",
            "BEST: The best observed score thus far.\n",
            "****************************************************************************************************\n",
            "\n",
            " ITERATION   PIPELINE                                       DURATION      METRIC      BEST\n",
            "         2   MinMaxScaler RandomForest                      0:00:54       0.8171    0.8171\n",
            "         4   MinMaxScaler RandomForest                      0:00:51       0.8485    0.8485\n",
            "         5   RobustScaler KNN                               0:00:58       0.6070    0.8485\n",
            "         1   MaxAbsScaler XGBoostClassifier                 0:02:00       0.8349    0.8485\n",
            "         3   MinMaxScaler RandomForest                      0:02:04       0.8305    0.8485\n",
            "         0   MaxAbsScaler LightGBM                          0:02:01       0.8260    0.8485\n",
            "         6   MinMaxScaler SVM                               0:00:58       0.7057    0.8485\n",
            "         7   SparseNormalizer XGBoostClassifier             0:00:48       0.8126    0.8485\n",
            "         8   SparseNormalizer XGBoostClassifier             0:00:50       0.8216    0.8485\n",
            "         9   SparseNormalizer XGBoostClassifier             0:00:56       0.8305    0.8485\n",
            "        10   SparseNormalizer XGBoostClassifier             0:00:49       0.8261    0.8485\n",
            "        11   SparseNormalizer XGBoostClassifier             0:00:56       0.8216    0.8485\n",
            "        12   MaxAbsScaler ExtremeRandomTrees                0:00:59       0.8306    0.8485\n",
            "        13   RobustScaler ExtremeRandomTrees                0:00:48       0.8306    0.8485\n",
            "        14   StandardScalerWrapper LightGBM                 0:01:04       0.7858    0.8485\n",
            "        15   MaxAbsScaler LightGBM                          0:00:51       0.7905    0.8485\n",
            "        16   MaxAbsScaler LightGBM                          0:00:56       0.8305    0.8485\n",
            "        17   StandardScalerWrapper XGBoostClassifier        0:00:48       0.7949    0.8485\n",
            "        19   StandardScalerWrapper LightGBM                 0:01:01       0.8261    0.8485\n",
            "        18   StandardScalerWrapper LightGBM                 0:01:53       0.8395    0.8485\n",
            "        20   SparseNormalizer XGBoostClassifier             0:00:40       0.8261    0.8485\n",
            "        21   StandardScalerWrapper LightGBM                 0:00:55       0.8483    0.8485\n",
            "        22   StandardScalerWrapper XGBoostClassifier        0:00:41       0.7903    0.8485\n",
            "        23   MaxAbsScaler ExtremeRandomTrees                0:00:53       0.8395    0.8485\n",
            "        25   MinMaxScaler RandomForest                      0:00:47       0.8394    0.8485\n",
            "        24   StandardScalerWrapper ExtremeRandomTrees       0:00:51       0.6923    0.8485\n",
            "        26   StandardScalerWrapper XGBoostClassifier        0:00:49       0.8172    0.8485\n",
            "        29   RobustScaler ExtremeRandomTrees                0:00:45       0.7901    0.8485\n",
            "        30   RobustScaler RandomForest                      0:00:54       0.7946    0.8485\n",
            "        32   MinMaxScaler LogisticRegression                0:00:50       0.7903    0.8485\n",
            "        34   MaxAbsScaler ExtremeRandomTrees                0:00:54       0.8395    0.8485\n",
            "        35   SparseNormalizer RandomForest                  0:00:40       0.6924    0.8485\n",
            "        36                                                  0:00:17          nan    0.8485\n",
            "        37                                                  0:00:12          nan    0.8485\n"
          ]
        }
      ],
      "execution_count": 6,
      "metadata": {
        "gather": {
          "logged": 1616255219294
        },
        "jupyter": {
          "outputs_hidden": false,
          "source_hidden": false
        },
        "nteract": {
          "transient": {
            "deleting": false
          }
        }
      }
    },
    {
      "cell_type": "markdown",
      "source": [
        "## Run Details\n",
        "\n",
        "OPTIONAL: Write about the different models trained and their performance. Why do you think some models did better than others?\n",
        "\n",
        "TODO: In the cell below, use the `RunDetails` widget to show the different experiments."
      ],
      "metadata": {}
    },
    {
      "cell_type": "code",
      "source": [
        "from azureml.widgets import RunDetails\r\n",
        "\r\n",
        "RunDetails(remote_run).show()\r\n",
        "remote_run.wait_for_completion(show_output=True)"
      ],
      "outputs": [
        {
          "output_type": "display_data",
          "data": {
            "text/plain": "_AutoMLWidget(widget_settings={'childWidgetDisplay': 'popup', 'send_telemetry': False, 'log_level': 'INFO', 's…",
            "application/vnd.jupyter.widget-view+json": {
              "version_major": 2,
              "version_minor": 0,
              "model_id": "79e9291d90494fe8ab34eb502dcedf74"
            }
          },
          "metadata": {}
        },
        {
          "output_type": "display_data",
          "data": {
            "application/aml.mini.widget.v1": "{\"status\": \"Completed\", \"workbench_run_details_uri\": \"https://ml.azure.com/experiments/arvc-azureml-project3-experiment-automl/runs/AutoML_f53cdb49-dddb-4905-ac95-d30de4607c16?wsid=/subscriptions/1b944a9b-fdae-4f97-aeb1-b7eea0beac53/resourcegroups/aml-quickstarts-140959/workspaces/quick-starts-ws-140959\", \"run_id\": \"AutoML_f53cdb49-dddb-4905-ac95-d30de4607c16\", \"run_properties\": {\"run_id\": \"AutoML_f53cdb49-dddb-4905-ac95-d30de4607c16\", \"created_utc\": \"2021-03-20T15:13:55.641336Z\", \"properties\": {\"num_iterations\": \"1000\", \"training_type\": \"TrainFull\", \"acquisition_function\": \"EI\", \"primary_metric\": \"accuracy\", \"train_split\": \"0\", \"acquisition_parameter\": \"0\", \"num_cross_validation\": \"5\", \"target\": \"arvccompute\", \"AMLSettingsJsonString\": \"{\\\"path\\\":null,\\\"name\\\":\\\"arvc-azureml-project3-experiment-automl\\\",\\\"subscription_id\\\":\\\"1b944a9b-fdae-4f97-aeb1-b7eea0beac53\\\",\\\"resource_group\\\":\\\"aml-quickstarts-140959\\\",\\\"workspace_name\\\":\\\"quick-starts-ws-140959\\\",\\\"region\\\":\\\"southcentralus\\\",\\\"compute_target\\\":\\\"arvccompute\\\",\\\"spark_service\\\":null,\\\"azure_service\\\":\\\"remote\\\",\\\"many_models\\\":false,\\\"pipeline_fetch_max_batch_size\\\":1,\\\"enable_batch_run\\\":false,\\\"iterations\\\":1000,\\\"primary_metric\\\":\\\"accuracy\\\",\\\"task_type\\\":\\\"classification\\\",\\\"data_script\\\":null,\\\"validation_size\\\":0.0,\\\"n_cross_validations\\\":5,\\\"y_min\\\":null,\\\"y_max\\\":null,\\\"num_classes\\\":null,\\\"featurization\\\":\\\"auto\\\",\\\"_ignore_package_version_incompatibilities\\\":false,\\\"is_timeseries\\\":false,\\\"max_cores_per_iteration\\\":1,\\\"max_concurrent_iterations\\\":5,\\\"iteration_timeout_minutes\\\":null,\\\"mem_in_mb\\\":null,\\\"enforce_time_on_windows\\\":false,\\\"experiment_timeout_minutes\\\":30,\\\"experiment_exit_score\\\":null,\\\"whitelist_models\\\":null,\\\"blacklist_algos\\\":[\\\"TensorFlowLinearClassifier\\\",\\\"TensorFlowDNN\\\"],\\\"supported_models\\\":[\\\"RandomForest\\\",\\\"ExtremeRandomTrees\\\",\\\"XGBoostClassifier\\\",\\\"SGD\\\",\\\"BernoulliNaiveBayes\\\",\\\"LinearSVM\\\",\\\"KNN\\\",\\\"LogisticRegression\\\",\\\"DecisionTree\\\",\\\"LightGBM\\\",\\\"AveragedPerceptronClassifier\\\",\\\"MultinomialNaiveBayes\\\",\\\"GradientBoosting\\\",\\\"TensorFlowDNN\\\",\\\"SVM\\\",\\\"TensorFlowLinearClassifier\\\"],\\\"private_models\\\":[],\\\"auto_blacklist\\\":true,\\\"blacklist_samples_reached\\\":false,\\\"exclude_nan_labels\\\":true,\\\"verbosity\\\":20,\\\"_debug_log\\\":\\\"azureml_automl.log\\\",\\\"show_warnings\\\":false,\\\"model_explainability\\\":true,\\\"service_url\\\":null,\\\"sdk_url\\\":null,\\\"sdk_packages\\\":null,\\\"enable_onnx_compatible_models\\\":false,\\\"enable_split_onnx_featurizer_estimator_models\\\":false,\\\"vm_type\\\":\\\"STANDARD_DS12_V2\\\",\\\"telemetry_verbosity\\\":20,\\\"send_telemetry\\\":true,\\\"enable_dnn\\\":false,\\\"scenario\\\":\\\"SDK-1.13.0\\\",\\\"environment_label\\\":null,\\\"save_mlflow\\\":false,\\\"force_text_dnn\\\":false,\\\"enable_feature_sweeping\\\":true,\\\"enable_early_stopping\\\":true,\\\"early_stopping_n_iters\\\":10,\\\"metrics\\\":null,\\\"enable_metric_confidence\\\":false,\\\"enable_ensembling\\\":true,\\\"enable_stack_ensembling\\\":true,\\\"ensemble_iterations\\\":15,\\\"enable_tf\\\":false,\\\"enable_subsampling\\\":null,\\\"subsample_seed\\\":null,\\\"enable_nimbusml\\\":false,\\\"enable_streaming\\\":false,\\\"force_streaming\\\":false,\\\"track_child_runs\\\":true,\\\"allowed_private_models\\\":[],\\\"label_column_name\\\":\\\"DEATH_EVENT\\\",\\\"weight_column_name\\\":null,\\\"cv_split_column_names\\\":null,\\\"enable_local_managed\\\":false,\\\"_local_managed_run_id\\\":null,\\\"cost_mode\\\":1,\\\"lag_length\\\":0,\\\"metric_operation\\\":\\\"maximize\\\",\\\"preprocess\\\":true}\", \"DataPrepJsonString\": \"{\\\\\\\"training_data\\\\\\\": \\\\\\\"{\\\\\\\\\\\\\\\"blocks\\\\\\\\\\\\\\\": [{\\\\\\\\\\\\\\\"id\\\\\\\\\\\\\\\": \\\\\\\\\\\\\\\"68cbc03f-eeef-4d87-aeb1-6e8d9269588c\\\\\\\\\\\\\\\", \\\\\\\\\\\\\\\"type\\\\\\\\\\\\\\\": \\\\\\\\\\\\\\\"Microsoft.DPrep.GetDatastoreFilesBlock\\\\\\\\\\\\\\\", \\\\\\\\\\\\\\\"arguments\\\\\\\\\\\\\\\": {\\\\\\\\\\\\\\\"datastores\\\\\\\\\\\\\\\": [{\\\\\\\\\\\\\\\"datastoreName\\\\\\\\\\\\\\\": \\\\\\\\\\\\\\\"workspaceblobstore\\\\\\\\\\\\\\\", \\\\\\\\\\\\\\\"path\\\\\\\\\\\\\\\": \\\\\\\\\\\\\\\"train.csv\\\\\\\\\\\\\\\", \\\\\\\\\\\\\\\"resourceGroup\\\\\\\\\\\\\\\": \\\\\\\\\\\\\\\"aml-quickstarts-140959\\\\\\\\\\\\\\\", \\\\\\\\\\\\\\\"subscription\\\\\\\\\\\\\\\": \\\\\\\\\\\\\\\"1b944a9b-fdae-4f97-aeb1-b7eea0beac53\\\\\\\\\\\\\\\", \\\\\\\\\\\\\\\"workspaceName\\\\\\\\\\\\\\\": \\\\\\\\\\\\\\\"quick-starts-ws-140959\\\\\\\\\\\\\\\"}]}, \\\\\\\\\\\\\\\"localData\\\\\\\\\\\\\\\": {}, \\\\\\\\\\\\\\\"isEnabled\\\\\\\\\\\\\\\": true, \\\\\\\\\\\\\\\"name\\\\\\\\\\\\\\\": null, \\\\\\\\\\\\\\\"annotation\\\\\\\\\\\\\\\": null}, {\\\\\\\\\\\\\\\"id\\\\\\\\\\\\\\\": \\\\\\\\\\\\\\\"7d8bbd7e-5d08-4f1b-bbfa-a601f99b5fe4\\\\\\\\\\\\\\\", \\\\\\\\\\\\\\\"type\\\\\\\\\\\\\\\": \\\\\\\\\\\\\\\"Microsoft.DPrep.ParseDelimitedBlock\\\\\\\\\\\\\\\", \\\\\\\\\\\\\\\"arguments\\\\\\\\\\\\\\\": {\\\\\\\\\\\\\\\"columnHeadersMode\\\\\\\\\\\\\\\": 3, \\\\\\\\\\\\\\\"fileEncoding\\\\\\\\\\\\\\\": 0, \\\\\\\\\\\\\\\"handleQuotedLineBreaks\\\\\\\\\\\\\\\": false, \\\\\\\\\\\\\\\"preview\\\\\\\\\\\\\\\": false, \\\\\\\\\\\\\\\"separator\\\\\\\\\\\\\\\": \\\\\\\\\\\\\\\",\\\\\\\\\\\\\\\", \\\\\\\\\\\\\\\"skipRows\\\\\\\\\\\\\\\": 0, \\\\\\\\\\\\\\\"skipRowsMode\\\\\\\\\\\\\\\": 0}, \\\\\\\\\\\\\\\"localData\\\\\\\\\\\\\\\": {}, \\\\\\\\\\\\\\\"isEnabled\\\\\\\\\\\\\\\": true, \\\\\\\\\\\\\\\"name\\\\\\\\\\\\\\\": null, \\\\\\\\\\\\\\\"annotation\\\\\\\\\\\\\\\": null}, {\\\\\\\\\\\\\\\"id\\\\\\\\\\\\\\\": \\\\\\\\\\\\\\\"4ebf2eb3-f06a-4e65-8d8a-45f98c977990\\\\\\\\\\\\\\\", \\\\\\\\\\\\\\\"type\\\\\\\\\\\\\\\": \\\\\\\\\\\\\\\"Microsoft.DPrep.DropColumnsBlock\\\\\\\\\\\\\\\", \\\\\\\\\\\\\\\"arguments\\\\\\\\\\\\\\\": {\\\\\\\\\\\\\\\"columns\\\\\\\\\\\\\\\": {\\\\\\\\\\\\\\\"type\\\\\\\\\\\\\\\": 0, \\\\\\\\\\\\\\\"details\\\\\\\\\\\\\\\": {\\\\\\\\\\\\\\\"selectedColumns\\\\\\\\\\\\\\\": [\\\\\\\\\\\\\\\"Path\\\\\\\\\\\\\\\"]}}}, \\\\\\\\\\\\\\\"localData\\\\\\\\\\\\\\\": {}, \\\\\\\\\\\\\\\"isEnabled\\\\\\\\\\\\\\\": true, \\\\\\\\\\\\\\\"name\\\\\\\\\\\\\\\": null, \\\\\\\\\\\\\\\"annotation\\\\\\\\\\\\\\\": null}, {\\\\\\\\\\\\\\\"id\\\\\\\\\\\\\\\": \\\\\\\\\\\\\\\"cb269074-f31e-4d9e-a5d9-c7e9c8af9efd\\\\\\\\\\\\\\\", \\\\\\\\\\\\\\\"type\\\\\\\\\\\\\\\": \\\\\\\\\\\\\\\"Microsoft.DPrep.SetColumnTypesBlock\\\\\\\\\\\\\\\", \\\\\\\\\\\\\\\"arguments\\\\\\\\\\\\\\\": {\\\\\\\\\\\\\\\"columnConversion\\\\\\\\\\\\\\\": [{\\\\\\\\\\\\\\\"column\\\\\\\\\\\\\\\": {\\\\\\\\\\\\\\\"type\\\\\\\\\\\\\\\": 2, \\\\\\\\\\\\\\\"details\\\\\\\\\\\\\\\": {\\\\\\\\\\\\\\\"selectedColumn\\\\\\\\\\\\\\\": \\\\\\\\\\\\\\\"age\\\\\\\\\\\\\\\"}}, \\\\\\\\\\\\\\\"typeProperty\\\\\\\\\\\\\\\": 3}, {\\\\\\\\\\\\\\\"column\\\\\\\\\\\\\\\": {\\\\\\\\\\\\\\\"type\\\\\\\\\\\\\\\": 2, \\\\\\\\\\\\\\\"details\\\\\\\\\\\\\\\": {\\\\\\\\\\\\\\\"selectedColumn\\\\\\\\\\\\\\\": \\\\\\\\\\\\\\\"anaemia\\\\\\\\\\\\\\\"}}, \\\\\\\\\\\\\\\"typeProperty\\\\\\\\\\\\\\\": 2}, {\\\\\\\\\\\\\\\"column\\\\\\\\\\\\\\\": {\\\\\\\\\\\\\\\"type\\\\\\\\\\\\\\\": 2, \\\\\\\\\\\\\\\"details\\\\\\\\\\\\\\\": {\\\\\\\\\\\\\\\"selectedColumn\\\\\\\\\\\\\\\": \\\\\\\\\\\\\\\"creatinine_phosphokinase\\\\\\\\\\\\\\\"}}, \\\\\\\\\\\\\\\"typeProperty\\\\\\\\\\\\\\\": 2}, {\\\\\\\\\\\\\\\"column\\\\\\\\\\\\\\\": {\\\\\\\\\\\\\\\"type\\\\\\\\\\\\\\\": 2, \\\\\\\\\\\\\\\"details\\\\\\\\\\\\\\\": {\\\\\\\\\\\\\\\"selectedColumn\\\\\\\\\\\\\\\": \\\\\\\\\\\\\\\"diabetes\\\\\\\\\\\\\\\"}}, \\\\\\\\\\\\\\\"typeProperty\\\\\\\\\\\\\\\": 2}, {\\\\\\\\\\\\\\\"column\\\\\\\\\\\\\\\": {\\\\\\\\\\\\\\\"type\\\\\\\\\\\\\\\": 2, \\\\\\\\\\\\\\\"details\\\\\\\\\\\\\\\": {\\\\\\\\\\\\\\\"selectedColumn\\\\\\\\\\\\\\\": \\\\\\\\\\\\\\\"ejection_fraction\\\\\\\\\\\\\\\"}}, \\\\\\\\\\\\\\\"typeProperty\\\\\\\\\\\\\\\": 2}, {\\\\\\\\\\\\\\\"column\\\\\\\\\\\\\\\": {\\\\\\\\\\\\\\\"type\\\\\\\\\\\\\\\": 2, \\\\\\\\\\\\\\\"details\\\\\\\\\\\\\\\": {\\\\\\\\\\\\\\\"selectedColumn\\\\\\\\\\\\\\\": \\\\\\\\\\\\\\\"high_blood_pressure\\\\\\\\\\\\\\\"}}, \\\\\\\\\\\\\\\"typeProperty\\\\\\\\\\\\\\\": 2}, {\\\\\\\\\\\\\\\"column\\\\\\\\\\\\\\\": {\\\\\\\\\\\\\\\"type\\\\\\\\\\\\\\\": 2, \\\\\\\\\\\\\\\"details\\\\\\\\\\\\\\\": {\\\\\\\\\\\\\\\"selectedColumn\\\\\\\\\\\\\\\": \\\\\\\\\\\\\\\"platelets\\\\\\\\\\\\\\\"}}, \\\\\\\\\\\\\\\"typeProperty\\\\\\\\\\\\\\\": 3}, {\\\\\\\\\\\\\\\"column\\\\\\\\\\\\\\\": {\\\\\\\\\\\\\\\"type\\\\\\\\\\\\\\\": 2, \\\\\\\\\\\\\\\"details\\\\\\\\\\\\\\\": {\\\\\\\\\\\\\\\"selectedColumn\\\\\\\\\\\\\\\": \\\\\\\\\\\\\\\"serum_creatinine\\\\\\\\\\\\\\\"}}, \\\\\\\\\\\\\\\"typeProperty\\\\\\\\\\\\\\\": 3}, {\\\\\\\\\\\\\\\"column\\\\\\\\\\\\\\\": {\\\\\\\\\\\\\\\"type\\\\\\\\\\\\\\\": 2, \\\\\\\\\\\\\\\"details\\\\\\\\\\\\\\\": {\\\\\\\\\\\\\\\"selectedColumn\\\\\\\\\\\\\\\": \\\\\\\\\\\\\\\"serum_sodium\\\\\\\\\\\\\\\"}}, \\\\\\\\\\\\\\\"typeProperty\\\\\\\\\\\\\\\": 2}, {\\\\\\\\\\\\\\\"column\\\\\\\\\\\\\\\": {\\\\\\\\\\\\\\\"type\\\\\\\\\\\\\\\": 2, \\\\\\\\\\\\\\\"details\\\\\\\\\\\\\\\": {\\\\\\\\\\\\\\\"selectedColumn\\\\\\\\\\\\\\\": \\\\\\\\\\\\\\\"sex\\\\\\\\\\\\\\\"}}, \\\\\\\\\\\\\\\"typeProperty\\\\\\\\\\\\\\\": 2}, {\\\\\\\\\\\\\\\"column\\\\\\\\\\\\\\\": {\\\\\\\\\\\\\\\"type\\\\\\\\\\\\\\\": 2, \\\\\\\\\\\\\\\"details\\\\\\\\\\\\\\\": {\\\\\\\\\\\\\\\"selectedColumn\\\\\\\\\\\\\\\": \\\\\\\\\\\\\\\"smoking\\\\\\\\\\\\\\\"}}, \\\\\\\\\\\\\\\"typeProperty\\\\\\\\\\\\\\\": 2}, {\\\\\\\\\\\\\\\"column\\\\\\\\\\\\\\\": {\\\\\\\\\\\\\\\"type\\\\\\\\\\\\\\\": 2, \\\\\\\\\\\\\\\"details\\\\\\\\\\\\\\\": {\\\\\\\\\\\\\\\"selectedColumn\\\\\\\\\\\\\\\": \\\\\\\\\\\\\\\"time\\\\\\\\\\\\\\\"}}, \\\\\\\\\\\\\\\"typeProperty\\\\\\\\\\\\\\\": 2}, {\\\\\\\\\\\\\\\"column\\\\\\\\\\\\\\\": {\\\\\\\\\\\\\\\"type\\\\\\\\\\\\\\\": 2, \\\\\\\\\\\\\\\"details\\\\\\\\\\\\\\\": {\\\\\\\\\\\\\\\"selectedColumn\\\\\\\\\\\\\\\": \\\\\\\\\\\\\\\"DEATH_EVENT\\\\\\\\\\\\\\\"}}, \\\\\\\\\\\\\\\"typeProperty\\\\\\\\\\\\\\\": 2}]}, \\\\\\\\\\\\\\\"localData\\\\\\\\\\\\\\\": {}, \\\\\\\\\\\\\\\"isEnabled\\\\\\\\\\\\\\\": true, \\\\\\\\\\\\\\\"name\\\\\\\\\\\\\\\": null, \\\\\\\\\\\\\\\"annotation\\\\\\\\\\\\\\\": null}], \\\\\\\\\\\\\\\"inspectors\\\\\\\\\\\\\\\": [], \\\\\\\\\\\\\\\"meta\\\\\\\\\\\\\\\": {\\\\\\\\\\\\\\\"savedDatasetId\\\\\\\\\\\\\\\": \\\\\\\\\\\\\\\"8c230cb8-e486-444e-94d2-7de6e49c4e55\\\\\\\\\\\\\\\", \\\\\\\\\\\\\\\"datasetType\\\\\\\\\\\\\\\": \\\\\\\\\\\\\\\"tabular\\\\\\\\\\\\\\\", \\\\\\\\\\\\\\\"subscriptionId\\\\\\\\\\\\\\\": \\\\\\\\\\\\\\\"1b944a9b-fdae-4f97-aeb1-b7eea0beac53\\\\\\\\\\\\\\\", \\\\\\\\\\\\\\\"workspaceId\\\\\\\\\\\\\\\": \\\\\\\\\\\\\\\"8e006e0e-2795-4610-a18c-3857190dfbf2\\\\\\\\\\\\\\\", \\\\\\\\\\\\\\\"workspaceLocation\\\\\\\\\\\\\\\": \\\\\\\\\\\\\\\"southcentralus\\\\\\\\\\\\\\\", \\\\\\\\\\\\\\\"partition_keys\\\\\\\\\\\\\\\": \\\\\\\\\\\\\\\"true\\\\\\\\\\\\\\\"}}\\\\\\\", \\\\\\\"activities\\\\\\\": 0}\", \"EnableSubsampling\": null, \"runTemplate\": \"AutoML\", \"azureml.runsource\": \"automl\", \"display_task_type\": \"classification\", \"dependencies_versions\": \"{\\\"azureml-widgets\\\": \\\"1.24.0\\\", \\\"azureml-train\\\": \\\"1.24.0\\\", \\\"azureml-train-restclients-hyperdrive\\\": \\\"1.24.0\\\", \\\"azureml-train-core\\\": \\\"1.24.0\\\", \\\"azureml-train-automl\\\": \\\"1.24.0\\\", \\\"azureml-train-automl-runtime\\\": \\\"1.24.0\\\", \\\"azureml-train-automl-client\\\": \\\"1.24.0\\\", \\\"azureml-tensorboard\\\": \\\"1.24.0\\\", \\\"azureml-telemetry\\\": \\\"1.24.0\\\", \\\"azureml-sdk\\\": \\\"1.24.0\\\", \\\"azureml-samples\\\": \\\"0+unknown\\\", \\\"azureml-pipeline\\\": \\\"1.24.0\\\", \\\"azureml-pipeline-steps\\\": \\\"1.24.0\\\", \\\"azureml-pipeline-core\\\": \\\"1.24.0\\\", \\\"azureml-opendatasets\\\": \\\"1.24.0\\\", \\\"azureml-model-management-sdk\\\": \\\"1.0.1b6.post1\\\", \\\"azureml-mlflow\\\": \\\"1.24.0\\\", \\\"azureml-interpret\\\": \\\"1.24.0\\\", \\\"azureml-explain-model\\\": \\\"1.24.0\\\", \\\"azureml-defaults\\\": \\\"1.24.0\\\", \\\"azureml-dataset-runtime\\\": \\\"1.24.0\\\", \\\"azureml-dataprep\\\": \\\"2.11.1\\\", \\\"azureml-dataprep-rslex\\\": \\\"1.9.0\\\", \\\"azureml-dataprep-native\\\": \\\"30.0.0\\\", \\\"azureml-datadrift\\\": \\\"1.24.0\\\", \\\"azureml-core\\\": \\\"1.24.0\\\", \\\"azureml-contrib-services\\\": \\\"1.24.0\\\", \\\"azureml-contrib-server\\\": \\\"1.24.0\\\", \\\"azureml-contrib-reinforcementlearning\\\": \\\"1.24.0\\\", \\\"azureml-contrib-pipeline-steps\\\": \\\"1.24.0\\\", \\\"azureml-contrib-notebook\\\": \\\"1.24.0\\\", \\\"azureml-contrib-gbdt\\\": \\\"1.24.0\\\", \\\"azureml-contrib-fairness\\\": \\\"1.24.0\\\", \\\"azureml-contrib-dataset\\\": \\\"1.24.0\\\", \\\"azureml-cli-common\\\": \\\"1.24.0\\\", \\\"azureml-automl-runtime\\\": \\\"1.24.0\\\", \\\"azureml-automl-dnn-nlp\\\": \\\"1.24.0\\\", \\\"azureml-automl-core\\\": \\\"1.24.0\\\", \\\"azureml-accel-models\\\": \\\"1.24.0\\\"}\", \"_aml_system_scenario_identification\": \"Remote.Parent\", \"ClientType\": \"SDK\", \"environment_cpu_name\": \"AzureML-AutoML\", \"environment_cpu_label\": \"prod\", \"environment_gpu_name\": \"AzureML-AutoML-GPU\", \"environment_gpu_label\": \"prod\", \"root_attribution\": \"automl\", \"attribution\": \"AutoML\", \"Orchestrator\": \"AutoML\", \"CancelUri\": \"https://southcentralus.experiments.azureml.net/jasmine/v1.0/subscriptions/1b944a9b-fdae-4f97-aeb1-b7eea0beac53/resourceGroups/aml-quickstarts-140959/providers/Microsoft.MachineLearningServices/workspaces/quick-starts-ws-140959/experimentids/b6f3ddde-0f17-4ee4-bb82-354c3f4db6b2/cancel/AutoML_f53cdb49-dddb-4905-ac95-d30de4607c16\", \"ClientSdkVersion\": \"1.23.0\", \"snapshotId\": \"00000000-0000-0000-0000-000000000000\", \"SetupRunId\": \"AutoML_f53cdb49-dddb-4905-ac95-d30de4607c16_setup\", \"SetupRunContainerId\": \"dcid.AutoML_f53cdb49-dddb-4905-ac95-d30de4607c16_setup\", \"FeaturizationRunJsonPath\": \"featurizer_container.json\", \"FeaturizationRunId\": \"AutoML_f53cdb49-dddb-4905-ac95-d30de4607c16_featurize\", \"ProblemInfoJsonString\": \"{\\\"dataset_num_categorical\\\": 0, \\\"is_sparse\\\": false, \\\"subsampling\\\": false, \\\"dataset_classes\\\": 2, \\\"dataset_features\\\": 12, \\\"dataset_samples\\\": 224, \\\"single_frequency_class_detected\\\": false}\", \"ModelExplainRunId\": \"AutoML_f53cdb49-dddb-4905-ac95-d30de4607c16_ModelExplain\"}, \"tags\": {\"model_explain_run\": \"best_run\", \"_aml_system_azureml.automlComponent\": \"AutoML\", \"pipeline_id\": \"\", \"score\": \"\", \"predicted_cost\": \"\", \"fit_time\": \"\", \"training_percent\": \"\", \"iteration\": \"\", \"run_preprocessor\": \"\", \"run_algorithm\": \"\", \"dynamic_whitelisting_iterations\": \"<25>;<30>;<35>;\", \"automl_best_child_run_id\": \"AutoML_f53cdb49-dddb-4905-ac95-d30de4607c16_4\", \"model_explain_best_run_child_id\": \"AutoML_f53cdb49-dddb-4905-ac95-d30de4607c16_4\"}, \"end_time_utc\": \"2021-03-20T15:46:49.32487Z\", \"status\": \"Completed\", \"log_files\": {}, \"log_groups\": [], \"run_duration\": \"0:32:53\", \"run_number\": \"1\", \"run_queued_details\": {\"status\": \"Completed\", \"details\": null}}, \"child_runs\": [{\"run_id\": \"AutoML_f53cdb49-dddb-4905-ac95-d30de4607c16_1\", \"run_number\": 5, \"metric\": null, \"status\": \"Completed\", \"run_type\": \"azureml.scriptrun\", \"training_percent\": \"100\", \"start_time\": \"2021-03-20T15:23:41.042823Z\", \"end_time\": \"2021-03-20T15:25:41.462671Z\", \"created_time\": \"2021-03-20T15:21:35.371634Z\", \"created_time_dt\": \"2021-03-20T15:21:35.371634Z\", \"duration\": \"0:04:06\", \"iteration\": \"1\", \"goal\": \"accuracy_max\", \"run_name\": \"MaxAbsScaler, XGBoostClassifier\", \"run_properties\": \"copy=True\", \"primary_metric\": 0.83494949, \"best_metric\": 0.83494949}, {\"run_id\": \"AutoML_f53cdb49-dddb-4905-ac95-d30de4607c16_3\", \"run_number\": 6, \"metric\": null, \"status\": \"Completed\", \"run_type\": \"azureml.scriptrun\", \"training_percent\": \"100\", \"start_time\": \"2021-03-20T15:23:36.869985Z\", \"end_time\": \"2021-03-20T15:25:41.150898Z\", \"created_time\": \"2021-03-20T15:21:35.384371Z\", \"created_time_dt\": \"2021-03-20T15:21:35.384371Z\", \"duration\": \"0:04:05\", \"iteration\": \"3\", \"goal\": \"accuracy_max\", \"run_name\": \"MinMaxScaler, RandomForest\", \"run_properties\": \"copy=True, feature_range=(0, 1\", \"primary_metric\": 0.83050505, \"best_metric\": 0.83494949}, {\"run_id\": \"AutoML_f53cdb49-dddb-4905-ac95-d30de4607c16_4\", \"run_number\": 7, \"metric\": null, \"status\": \"Completed\", \"run_type\": \"azureml.scriptrun\", \"training_percent\": \"100\", \"start_time\": \"2021-03-20T15:22:57.235021Z\", \"end_time\": \"2021-03-20T15:23:48.009785Z\", \"created_time\": \"2021-03-20T15:21:35.38676Z\", \"created_time_dt\": \"2021-03-20T15:21:35.38676Z\", \"duration\": \"0:02:12\", \"iteration\": \"4\", \"goal\": \"accuracy_max\", \"run_name\": \"MinMaxScaler, RandomForest\", \"run_properties\": \"copy=True, feature_range=(0, 1\", \"primary_metric\": 0.84848485, \"best_metric\": 0.84848485}, {\"run_id\": \"AutoML_f53cdb49-dddb-4905-ac95-d30de4607c16_2\", \"run_number\": 8, \"metric\": null, \"status\": \"Completed\", \"run_type\": \"azureml.scriptrun\", \"training_percent\": \"100\", \"start_time\": \"2021-03-20T15:21:47.891163Z\", \"end_time\": \"2021-03-20T15:22:41.835312Z\", \"created_time\": \"2021-03-20T15:21:35.371073Z\", \"created_time_dt\": \"2021-03-20T15:21:35.371073Z\", \"duration\": \"0:01:06\", \"iteration\": \"2\", \"goal\": \"accuracy_max\", \"run_name\": \"MinMaxScaler, RandomForest\", \"run_properties\": \"copy=True, feature_range=(0, 1\", \"primary_metric\": 0.81707071, \"best_metric\": 0.83494949}, {\"run_id\": \"AutoML_f53cdb49-dddb-4905-ac95-d30de4607c16_0\", \"run_number\": 9, \"metric\": null, \"status\": \"Completed\", \"run_type\": \"azureml.scriptrun\", \"training_percent\": \"100\", \"start_time\": \"2021-03-20T15:23:43.490047Z\", \"end_time\": \"2021-03-20T15:25:44.257322Z\", \"created_time\": \"2021-03-20T15:21:35.384272Z\", \"created_time_dt\": \"2021-03-20T15:21:35.384272Z\", \"duration\": \"0:04:08\", \"iteration\": \"0\", \"goal\": \"accuracy_max\", \"run_name\": \"MaxAbsScaler, LightGBM\", \"run_properties\": \"copy=True\", \"primary_metric\": 0.8259596, \"best_metric\": 0.8259596}, {\"run_id\": \"AutoML_f53cdb49-dddb-4905-ac95-d30de4607c16_5\", \"run_number\": 10, \"metric\": null, \"status\": \"Completed\", \"run_type\": \"azureml.scriptrun\", \"training_percent\": \"100\", \"start_time\": \"2021-03-20T15:24:08.333224Z\", \"end_time\": \"2021-03-20T15:25:06.23657Z\", \"created_time\": \"2021-03-20T15:22:48.68326Z\", \"created_time_dt\": \"2021-03-20T15:22:48.68326Z\", \"duration\": \"0:02:17\", \"iteration\": \"5\", \"goal\": \"accuracy_max\", \"run_name\": \"RobustScaler, KNN\", \"run_properties\": \"copy=True, quantile_range=[10, 90], with_centering=True,\\n             with_scaling=False\", \"primary_metric\": 0.6069697, \"best_metric\": 0.84848485}, {\"run_id\": \"AutoML_f53cdb49-dddb-4905-ac95-d30de4607c16_6\", \"run_number\": 11, \"metric\": null, \"status\": \"Completed\", \"run_type\": \"azureml.scriptrun\", \"training_percent\": \"100\", \"start_time\": \"2021-03-20T15:25:23.825001Z\", \"end_time\": \"2021-03-20T15:26:21.799408Z\", \"created_time\": \"2021-03-20T15:23:50.123088Z\", \"created_time_dt\": \"2021-03-20T15:23:50.123088Z\", \"duration\": \"0:02:31\", \"iteration\": \"6\", \"goal\": \"accuracy_max\", \"run_name\": \"MinMaxScaler, SVM\", \"run_properties\": \"copy=True, feature_range=(0, 1\", \"primary_metric\": 0.70565657, \"best_metric\": 0.84848485}, {\"run_id\": \"AutoML_f53cdb49-dddb-4905-ac95-d30de4607c16_7\", \"run_number\": 12, \"metric\": null, \"status\": \"Completed\", \"run_type\": \"azureml.scriptrun\", \"training_percent\": \"100\", \"start_time\": \"2021-03-20T15:25:52.086495Z\", \"end_time\": \"2021-03-20T15:26:39.919077Z\", \"created_time\": \"2021-03-20T15:25:10.402Z\", \"created_time_dt\": \"2021-03-20T15:25:10.402Z\", \"duration\": \"0:01:29\", \"iteration\": \"7\", \"goal\": \"accuracy_max\", \"run_name\": \"SparseNormalizer, XGBoostClassifier\", \"run_properties\": \"<azureml.automl.runtime.shared.model_wrappers.SparseNormalizer object at 0x7f7ae20ba668\", \"primary_metric\": 0.81262626, \"best_metric\": 0.84848485}, {\"run_id\": \"AutoML_f53cdb49-dddb-4905-ac95-d30de4607c16_9\", \"run_number\": 13, \"metric\": null, \"status\": \"Completed\", \"run_type\": \"azureml.scriptrun\", \"training_percent\": \"100\", \"start_time\": \"2021-03-20T15:25:56.956466Z\", \"end_time\": \"2021-03-20T15:26:52.80368Z\", \"created_time\": \"2021-03-20T15:25:44.741709Z\", \"created_time_dt\": \"2021-03-20T15:25:44.741709Z\", \"duration\": \"0:01:08\", \"iteration\": \"9\", \"goal\": \"accuracy_max\", \"run_name\": \"SparseNormalizer, XGBoostClassifier\", \"run_properties\": \"<azureml.automl.runtime.shared.model_wrappers.SparseNormalizer object at 0x7f50068d7128\", \"primary_metric\": 0.83050505, \"best_metric\": 0.84848485}, {\"run_id\": \"AutoML_f53cdb49-dddb-4905-ac95-d30de4607c16_8\", \"run_number\": 14, \"metric\": null, \"status\": \"Completed\", \"run_type\": \"azureml.scriptrun\", \"training_percent\": \"100\", \"start_time\": \"2021-03-20T15:25:54.982026Z\", \"end_time\": \"2021-03-20T15:26:44.651863Z\", \"created_time\": \"2021-03-20T15:25:44.758269Z\", \"created_time_dt\": \"2021-03-20T15:25:44.758269Z\", \"duration\": \"0:00:59\", \"iteration\": \"8\", \"goal\": \"accuracy_max\", \"run_name\": \"SparseNormalizer, XGBoostClassifier\", \"run_properties\": \"<azureml.automl.runtime.shared.model_wrappers.SparseNormalizer object at 0x7f07ede6a1d0\", \"primary_metric\": 0.82161616, \"best_metric\": 0.84848485}, {\"run_id\": \"AutoML_f53cdb49-dddb-4905-ac95-d30de4607c16_10\", \"run_number\": 15, \"metric\": null, \"status\": \"Completed\", \"run_type\": \"azureml.scriptrun\", \"training_percent\": \"100\", \"start_time\": \"2021-03-20T15:26:36.17807Z\", \"end_time\": \"2021-03-20T15:27:25.176374Z\", \"created_time\": \"2021-03-20T15:25:49.321013Z\", \"created_time_dt\": \"2021-03-20T15:25:49.321013Z\", \"duration\": \"0:01:35\", \"iteration\": \"10\", \"goal\": \"accuracy_max\", \"run_name\": \"SparseNormalizer, XGBoostClassifier\", \"run_properties\": \"<azureml.automl.runtime.shared.model_wrappers.SparseNormalizer object at 0x7f4db0720940\", \"primary_metric\": 0.82606061, \"best_metric\": 0.84848485}, {\"run_id\": \"AutoML_f53cdb49-dddb-4905-ac95-d30de4607c16_11\", \"run_number\": 16, \"metric\": null, \"status\": \"Completed\", \"run_type\": \"azureml.scriptrun\", \"training_percent\": \"100\", \"start_time\": \"2021-03-20T15:26:53.408686Z\", \"end_time\": \"2021-03-20T15:27:48.961252Z\", \"created_time\": \"2021-03-20T15:26:24.59872Z\", \"created_time_dt\": \"2021-03-20T15:26:24.59872Z\", \"duration\": \"0:01:24\", \"iteration\": \"11\", \"goal\": \"accuracy_max\", \"run_name\": \"SparseNormalizer, XGBoostClassifier\", \"run_properties\": \"<azureml.automl.runtime.shared.model_wrappers.SparseNormalizer object at 0x7fea365ac2e8\", \"primary_metric\": 0.82161616, \"best_metric\": 0.84848485}, {\"run_id\": \"AutoML_f53cdb49-dddb-4905-ac95-d30de4607c16_12\", \"run_number\": 17, \"metric\": null, \"status\": \"Completed\", \"run_type\": \"azureml.scriptrun\", \"training_percent\": \"100\", \"start_time\": \"2021-03-20T15:27:01.957973Z\", \"end_time\": \"2021-03-20T15:28:01.404841Z\", \"created_time\": \"2021-03-20T15:26:42.388058Z\", \"created_time_dt\": \"2021-03-20T15:26:42.388058Z\", \"duration\": \"0:01:19\", \"iteration\": \"12\", \"goal\": \"accuracy_max\", \"run_name\": \"MaxAbsScaler, ExtremeRandomTrees\", \"run_properties\": \"copy=True\", \"primary_metric\": 0.83060606, \"best_metric\": 0.84848485}, {\"run_id\": \"AutoML_f53cdb49-dddb-4905-ac95-d30de4607c16_13\", \"run_number\": 18, \"metric\": null, \"status\": \"Completed\", \"run_type\": \"azureml.scriptrun\", \"training_percent\": \"100\", \"start_time\": \"2021-03-20T15:27:07.990705Z\", \"end_time\": \"2021-03-20T15:27:55.952369Z\", \"created_time\": \"2021-03-20T15:26:48.391437Z\", \"created_time_dt\": \"2021-03-20T15:26:48.391437Z\", \"duration\": \"0:01:07\", \"iteration\": \"13\", \"goal\": \"accuracy_max\", \"run_name\": \"RobustScaler, ExtremeRandomTrees\", \"run_properties\": \"copy=True, quantile_range=[10, 90], with_centering=True,\\n             with_scaling=False\", \"primary_metric\": 0.83060606, \"best_metric\": 0.84848485}, {\"run_id\": \"AutoML_f53cdb49-dddb-4905-ac95-d30de4607c16_14\", \"run_number\": 19, \"metric\": null, \"status\": \"Completed\", \"run_type\": \"azureml.scriptrun\", \"training_percent\": \"100\", \"start_time\": \"2021-03-20T15:27:41.853856Z\", \"end_time\": \"2021-03-20T15:28:45.738154Z\", \"created_time\": \"2021-03-20T15:26:54.600792Z\", \"created_time_dt\": \"2021-03-20T15:26:54.600792Z\", \"duration\": \"0:01:51\", \"iteration\": \"14\", \"goal\": \"accuracy_max\", \"run_name\": \"StandardScalerWrapper, LightGBM\", \"run_properties\": \"<azureml.automl.runtime.shared.model_wrappers.StandardScalerWrapper object at 0x7fba903857f0\", \"primary_metric\": 0.78575758, \"best_metric\": 0.84848485}, {\"run_id\": \"AutoML_f53cdb49-dddb-4905-ac95-d30de4607c16_15\", \"run_number\": 20, \"metric\": null, \"status\": \"Completed\", \"run_type\": \"azureml.scriptrun\", \"training_percent\": \"100\", \"start_time\": \"2021-03-20T15:28:07.289667Z\", \"end_time\": \"2021-03-20T15:28:58.212041Z\", \"created_time\": \"2021-03-20T15:27:26.9789Z\", \"created_time_dt\": \"2021-03-20T15:27:26.9789Z\", \"duration\": \"0:01:31\", \"iteration\": \"15\", \"goal\": \"accuracy_max\", \"run_name\": \"MaxAbsScaler, LightGBM\", \"run_properties\": \"copy=True\", \"primary_metric\": 0.79050505, \"best_metric\": 0.84848485}, {\"run_id\": \"AutoML_f53cdb49-dddb-4905-ac95-d30de4607c16_16\", \"run_number\": 21, \"metric\": null, \"status\": \"Completed\", \"run_type\": \"azureml.scriptrun\", \"training_percent\": \"100\", \"start_time\": \"2021-03-20T15:28:10.745262Z\", \"end_time\": \"2021-03-20T15:29:06.367471Z\", \"created_time\": \"2021-03-20T15:27:51.191173Z\", \"created_time_dt\": \"2021-03-20T15:27:51.191173Z\", \"duration\": \"0:01:15\", \"iteration\": \"16\", \"goal\": \"accuracy_max\", \"run_name\": \"MaxAbsScaler, LightGBM\", \"run_properties\": \"copy=True\", \"primary_metric\": 0.83050505, \"best_metric\": 0.84848485}, {\"run_id\": \"AutoML_f53cdb49-dddb-4905-ac95-d30de4607c16_17\", \"run_number\": 22, \"metric\": null, \"status\": \"Completed\", \"run_type\": \"azureml.scriptrun\", \"training_percent\": \"100\", \"start_time\": \"2021-03-20T15:28:21.87518Z\", \"end_time\": \"2021-03-20T15:29:09.755182Z\", \"created_time\": \"2021-03-20T15:28:10.961427Z\", \"created_time_dt\": \"2021-03-20T15:28:10.961427Z\", \"duration\": \"0:00:58\", \"iteration\": \"17\", \"goal\": \"accuracy_max\", \"run_name\": \"StandardScalerWrapper, XGBoostClassifier\", \"run_properties\": \"<azureml.automl.runtime.shared.model_wrappers.StandardScalerWrapper object at 0x7fb1ad964ef0\", \"primary_metric\": 0.79494949, \"best_metric\": 0.84848485}, {\"run_id\": \"AutoML_f53cdb49-dddb-4905-ac95-d30de4607c16_18\", \"run_number\": 23, \"metric\": null, \"status\": \"Completed\", \"run_type\": \"azureml.scriptrun\", \"training_percent\": \"100\", \"start_time\": \"2021-03-20T15:28:46.50164Z\", \"end_time\": \"2021-03-20T15:30:39.724095Z\", \"created_time\": \"2021-03-20T15:28:17.007423Z\", \"created_time_dt\": \"2021-03-20T15:28:17.007423Z\", \"duration\": \"0:02:22\", \"iteration\": \"18\", \"goal\": \"accuracy_max\", \"run_name\": \"StandardScalerWrapper, LightGBM\", \"run_properties\": \"<azureml.automl.runtime.shared.model_wrappers.StandardScalerWrapper object at 0x7f676ae2ec88\", \"primary_metric\": 0.83949495, \"best_metric\": 0.84848485}, {\"run_id\": \"AutoML_f53cdb49-dddb-4905-ac95-d30de4607c16_19\", \"run_number\": 24, \"metric\": null, \"status\": \"Completed\", \"run_type\": \"azureml.scriptrun\", \"training_percent\": \"100\", \"start_time\": \"2021-03-20T15:29:02.315926Z\", \"end_time\": \"2021-03-20T15:30:03.812644Z\", \"created_time\": \"2021-03-20T15:28:48.123892Z\", \"created_time_dt\": \"2021-03-20T15:28:48.123892Z\", \"duration\": \"0:01:15\", \"iteration\": \"19\", \"goal\": \"accuracy_max\", \"run_name\": \"StandardScalerWrapper, LightGBM\", \"run_properties\": \"<azureml.automl.runtime.shared.model_wrappers.StandardScalerWrapper object at 0x7f43a2a5ef98\", \"primary_metric\": 0.82606061, \"best_metric\": 0.84848485}, {\"run_id\": \"AutoML_f53cdb49-dddb-4905-ac95-d30de4607c16_20\", \"run_number\": 25, \"metric\": null, \"status\": \"Completed\", \"run_type\": \"azureml.scriptrun\", \"training_percent\": \"100\", \"start_time\": \"2021-03-20T15:40:56.089423Z\", \"end_time\": \"2021-03-20T15:41:36.280289Z\", \"created_time\": \"2021-03-20T15:29:00.76667Z\", \"created_time_dt\": \"2021-03-20T15:29:00.76667Z\", \"duration\": \"0:12:35\", \"iteration\": \"20\", \"goal\": \"accuracy_max\", \"run_name\": \"SparseNormalizer, XGBoostClassifier\", \"run_properties\": \"<azureml.automl.runtime.shared.model_wrappers.SparseNormalizer object at 0x7f59db4efb70\", \"primary_metric\": 0.82606061, \"best_metric\": 0.84848485}, {\"run_id\": \"AutoML_f53cdb49-dddb-4905-ac95-d30de4607c16_21\", \"run_number\": 26, \"metric\": null, \"status\": \"Completed\", \"run_type\": \"azureml.scriptrun\", \"training_percent\": \"100\", \"start_time\": \"2021-03-20T15:41:19.461257Z\", \"end_time\": \"2021-03-20T15:42:14.223661Z\", \"created_time\": \"2021-03-20T15:29:08.182006Z\", \"created_time_dt\": \"2021-03-20T15:29:08.182006Z\", \"duration\": \"0:13:06\", \"iteration\": \"21\", \"goal\": \"accuracy_max\", \"run_name\": \"StandardScalerWrapper, LightGBM\", \"run_properties\": \"<azureml.automl.runtime.shared.model_wrappers.StandardScalerWrapper object at 0x7f4de5e88320\", \"primary_metric\": 0.84828283, \"best_metric\": 0.84848485}, {\"run_id\": \"AutoML_f53cdb49-dddb-4905-ac95-d30de4607c16_22\", \"run_number\": 27, \"metric\": null, \"status\": \"Completed\", \"run_type\": \"azureml.scriptrun\", \"training_percent\": \"100\", \"start_time\": \"2021-03-20T15:41:34.131495Z\", \"end_time\": \"2021-03-20T15:42:15.321492Z\", \"created_time\": \"2021-03-20T15:29:13.46078Z\", \"created_time_dt\": \"2021-03-20T15:29:13.46078Z\", \"duration\": \"0:13:01\", \"iteration\": \"22\", \"goal\": \"accuracy_max\", \"run_name\": \"StandardScalerWrapper, XGBoostClassifier\", \"run_properties\": \"<azureml.automl.runtime.shared.model_wrappers.StandardScalerWrapper object at 0x7fe948403358\", \"primary_metric\": 0.79030303, \"best_metric\": 0.84848485}, {\"run_id\": \"AutoML_f53cdb49-dddb-4905-ac95-d30de4607c16_23\", \"run_number\": 28, \"metric\": null, \"status\": \"Completed\", \"run_type\": \"azureml.scriptrun\", \"training_percent\": \"100\", \"start_time\": \"2021-03-20T15:41:47.670915Z\", \"end_time\": \"2021-03-20T15:42:41.118885Z\", \"created_time\": \"2021-03-20T15:30:05.541889Z\", \"created_time_dt\": \"2021-03-20T15:30:05.541889Z\", \"duration\": \"0:12:35\", \"iteration\": \"23\", \"goal\": \"accuracy_max\", \"run_name\": \"MaxAbsScaler, ExtremeRandomTrees\", \"run_properties\": \"copy=True\", \"primary_metric\": 0.83949495, \"best_metric\": 0.84848485}, {\"run_id\": \"AutoML_f53cdb49-dddb-4905-ac95-d30de4607c16_24\", \"run_number\": 29, \"metric\": null, \"status\": \"Completed\", \"run_type\": \"azureml.scriptrun\", \"training_percent\": \"100\", \"start_time\": \"2021-03-20T15:41:58.387378Z\", \"end_time\": \"2021-03-20T15:42:49.693587Z\", \"created_time\": \"2021-03-20T15:30:42.12411Z\", \"created_time_dt\": \"2021-03-20T15:30:42.12411Z\", \"duration\": \"0:12:07\", \"iteration\": \"24\", \"goal\": \"accuracy_max\", \"run_name\": \"StandardScalerWrapper, ExtremeRandomTrees\", \"run_properties\": \"<azureml.automl.runtime.shared.model_wrappers.StandardScalerWrapper object at 0x7fa497394048\", \"primary_metric\": 0.69232323, \"best_metric\": 0.84848485}, {\"run_id\": \"AutoML_f53cdb49-dddb-4905-ac95-d30de4607c16_25\", \"run_number\": 30, \"metric\": null, \"status\": \"Completed\", \"run_type\": \"azureml.scriptrun\", \"training_percent\": \"100\", \"start_time\": \"2021-03-20T15:41:53.701738Z\", \"end_time\": \"2021-03-20T15:42:40.396822Z\", \"created_time\": \"2021-03-20T15:41:41.795443Z\", \"created_time_dt\": \"2021-03-20T15:41:41.795443Z\", \"duration\": \"0:00:58\", \"iteration\": \"25\", \"goal\": \"accuracy_max\", \"run_name\": \"MinMaxScaler, RandomForest\", \"run_properties\": \"copy=True, feature_range=(0, 1\", \"primary_metric\": 0.83939394, \"best_metric\": 0.84848485}, {\"run_id\": \"AutoML_f53cdb49-dddb-4905-ac95-d30de4607c16_26\", \"run_number\": 31, \"metric\": null, \"status\": \"Completed\", \"run_type\": \"azureml.scriptrun\", \"training_percent\": \"100\", \"start_time\": \"2021-03-20T15:42:27.197619Z\", \"end_time\": \"2021-03-20T15:43:16.289418Z\", \"created_time\": \"2021-03-20T15:42:17.449377Z\", \"created_time_dt\": \"2021-03-20T15:42:17.449377Z\", \"duration\": \"0:00:58\", \"iteration\": \"26\", \"goal\": \"accuracy_max\", \"run_name\": \"StandardScalerWrapper, XGBoostClassifier\", \"run_properties\": \"<azureml.automl.runtime.shared.model_wrappers.StandardScalerWrapper object at 0x7ff93ac7c0f0\", \"primary_metric\": 0.81717172, \"best_metric\": 0.84848485}, {\"run_id\": \"AutoML_f53cdb49-dddb-4905-ac95-d30de4607c16_27\", \"run_number\": 32, \"metric\": null, \"status\": \"Completed\", \"run_type\": \"azureml.scriptrun\", \"training_percent\": \"100\", \"start_time\": \"2021-03-20T15:42:34.676834Z\", \"end_time\": \"2021-03-20T15:43:20.171676Z\", \"created_time\": \"2021-03-20T15:42:23.57534Z\", \"created_time_dt\": \"2021-03-20T15:42:23.57534Z\", \"duration\": \"0:00:56\", \"iteration\": \"27\", \"goal\": \"accuracy_max\", \"run_name\": \"MaxAbsScaler, ExtremeRandomTrees\", \"run_properties\": \"copy=True\", \"primary_metric\": 0.82171717, \"best_metric\": 0.84848485}, {\"run_id\": \"AutoML_f53cdb49-dddb-4905-ac95-d30de4607c16_28\", \"run_number\": 33, \"metric\": null, \"status\": \"Completed\", \"run_type\": \"azureml.scriptrun\", \"training_percent\": \"100\", \"start_time\": \"2021-03-20T15:42:52.922697Z\", \"end_time\": \"2021-03-20T15:43:37.197451Z\", \"created_time\": \"2021-03-20T15:42:42.401625Z\", \"created_time_dt\": \"2021-03-20T15:42:42.401625Z\", \"duration\": \"0:00:54\", \"iteration\": \"28\", \"goal\": \"accuracy_max\", \"run_name\": \"MinMaxScaler, LightGBM\", \"run_properties\": \"copy=True, feature_range=(0, 1\", \"primary_metric\": 0.81707071, \"best_metric\": 0.84848485}, {\"run_id\": \"AutoML_f53cdb49-dddb-4905-ac95-d30de4607c16_29\", \"run_number\": 34, \"metric\": null, \"status\": \"Completed\", \"run_type\": \"azureml.scriptrun\", \"training_percent\": \"100\", \"start_time\": \"2021-03-20T15:42:56.963588Z\", \"end_time\": \"2021-03-20T15:43:42.133623Z\", \"created_time\": \"2021-03-20T15:42:46.090994Z\", \"created_time_dt\": \"2021-03-20T15:42:46.090994Z\", \"duration\": \"0:00:56\", \"iteration\": \"29\", \"goal\": \"accuracy_max\", \"run_name\": \"RobustScaler, ExtremeRandomTrees\", \"run_properties\": \"copy=True, quantile_range=[25, 75], with_centering=False,\\n             with_scaling=True\", \"primary_metric\": 0.79010101, \"best_metric\": 0.84848485}, {\"run_id\": \"AutoML_f53cdb49-dddb-4905-ac95-d30de4607c16_30\", \"run_number\": 35, \"metric\": null, \"status\": \"Completed\", \"run_type\": \"azureml.scriptrun\", \"training_percent\": \"100\", \"start_time\": \"2021-03-20T15:43:02.652604Z\", \"end_time\": \"2021-03-20T15:43:56.485247Z\", \"created_time\": \"2021-03-20T15:42:52.465118Z\", \"created_time_dt\": \"2021-03-20T15:42:52.465118Z\", \"duration\": \"0:01:04\", \"iteration\": \"30\", \"goal\": \"accuracy_max\", \"run_name\": \"RobustScaler, RandomForest\", \"run_properties\": \"copy=True, quantile_range=[25, 75], with_centering=False,\\n             with_scaling=True\", \"primary_metric\": 0.79464646, \"best_metric\": 0.84848485}, {\"run_id\": \"AutoML_f53cdb49-dddb-4905-ac95-d30de4607c16_31\", \"run_number\": 36, \"metric\": null, \"status\": \"Completed\", \"run_type\": \"azureml.scriptrun\", \"training_percent\": \"100\", \"start_time\": \"2021-03-20T15:43:30.864468Z\", \"end_time\": \"2021-03-20T15:44:19.716761Z\", \"created_time\": \"2021-03-20T15:43:17.999017Z\", \"created_time_dt\": \"2021-03-20T15:43:17.999017Z\", \"duration\": \"0:01:01\", \"iteration\": \"31\", \"goal\": \"accuracy_max\", \"run_name\": \"RobustScaler, LightGBM\", \"run_properties\": \"copy=True, quantile_range=[25, 75], with_centering=True,\\n             with_scaling=True\", \"primary_metric\": 0.83050505, \"best_metric\": 0.84848485}, {\"run_id\": \"AutoML_f53cdb49-dddb-4905-ac95-d30de4607c16_32\", \"run_number\": 37, \"metric\": null, \"status\": \"Completed\", \"run_type\": \"azureml.scriptrun\", \"training_percent\": \"100\", \"start_time\": \"2021-03-20T15:43:35.785094Z\", \"end_time\": \"2021-03-20T15:44:25.43194Z\", \"created_time\": \"2021-03-20T15:43:22.449785Z\", \"created_time_dt\": \"2021-03-20T15:43:22.449785Z\", \"duration\": \"0:01:02\", \"iteration\": \"32\", \"goal\": \"accuracy_max\", \"run_name\": \"MinMaxScaler, LogisticRegression\", \"run_properties\": \"copy=True, feature_range=(0, 1\", \"primary_metric\": 0.79030303, \"best_metric\": 0.84848485}, {\"run_id\": \"AutoML_f53cdb49-dddb-4905-ac95-d30de4607c16_33\", \"run_number\": 38, \"metric\": null, \"status\": \"Completed\", \"run_type\": \"azureml.scriptrun\", \"training_percent\": \"100\", \"start_time\": \"2021-03-20T15:43:52.333638Z\", \"end_time\": \"2021-03-20T15:44:43.397249Z\", \"created_time\": \"2021-03-20T15:43:38.851174Z\", \"created_time_dt\": \"2021-03-20T15:43:38.851174Z\", \"duration\": \"0:01:04\", \"iteration\": \"33\", \"goal\": \"accuracy_max\", \"run_name\": \"StandardScalerWrapper, LightGBM\", \"run_properties\": \"<azureml.automl.runtime.shared.model_wrappers.StandardScalerWrapper object at 0x7f36184bddd8\", \"primary_metric\": 0.82585859, \"best_metric\": 0.84848485}, {\"run_id\": \"AutoML_f53cdb49-dddb-4905-ac95-d30de4607c16_34\", \"run_number\": 39, \"metric\": null, \"status\": \"Canceled\", \"run_type\": \"azureml.scriptrun\", \"training_percent\": \"100\", \"start_time\": \"2021-03-20T15:43:57.774878Z\", \"end_time\": \"2021-03-20T15:44:52.009208Z\", \"created_time\": \"2021-03-20T15:43:44.131526Z\", \"created_time_dt\": \"2021-03-20T15:43:44.131526Z\", \"duration\": \"0:01:07\", \"iteration\": \"34\", \"goal\": \"accuracy_max\", \"run_name\": \"MaxAbsScaler, ExtremeRandomTrees\", \"run_properties\": \"copy=True\", \"primary_metric\": 0.83949495, \"best_metric\": 0.84848485}, {\"run_id\": \"AutoML_f53cdb49-dddb-4905-ac95-d30de4607c16_35\", \"run_number\": 40, \"metric\": null, \"status\": \"Canceled\", \"run_type\": \"azureml.scriptrun\", \"training_percent\": \"100\", \"start_time\": \"2021-03-20T15:44:13.322296Z\", \"end_time\": \"2021-03-20T15:44:53.739528Z\", \"created_time\": \"2021-03-20T15:43:58.989356Z\", \"created_time_dt\": \"2021-03-20T15:43:58.989356Z\", \"duration\": \"0:00:54\", \"iteration\": \"35\", \"goal\": \"accuracy_max\", \"run_name\": \"SparseNormalizer, RandomForest\", \"run_properties\": \"<azureml.automl.runtime.shared.model_wrappers.SparseNormalizer object at 0x7f879dd60b70\", \"primary_metric\": 0.69242424, \"best_metric\": 0.84848485}, {\"run_id\": \"AutoML_f53cdb49-dddb-4905-ac95-d30de4607c16_36\", \"run_number\": 41, \"metric\": null, \"status\": \"Canceled\", \"run_type\": \"azureml.scriptrun\", \"training_percent\": \"100\", \"start_time\": \"2021-03-20T15:44:35.035971Z\", \"end_time\": \"2021-03-20T15:44:51.936613Z\", \"created_time\": \"2021-03-20T15:44:21.388235Z\", \"created_time_dt\": \"2021-03-20T15:44:21.388235Z\", \"duration\": \"0:00:30\", \"iteration\": \"36\", \"goal\": null, \"run_name\": \"Canceled\", \"run_properties\": null}, {\"run_id\": \"AutoML_f53cdb49-dddb-4905-ac95-d30de4607c16_37\", \"run_number\": 42, \"metric\": null, \"status\": \"Canceled\", \"run_type\": \"azureml.scriptrun\", \"training_percent\": \"100\", \"start_time\": \"2021-03-20T15:44:41.796959Z\", \"end_time\": \"2021-03-20T15:44:54.042188Z\", \"created_time\": \"2021-03-20T15:44:27.669862Z\", \"created_time_dt\": \"2021-03-20T15:44:27.669862Z\", \"duration\": \"0:00:26\", \"iteration\": \"37\", \"goal\": null, \"run_name\": \"Canceled\", \"run_properties\": null}, {\"run_id\": \"AutoML_f53cdb49-dddb-4905-ac95-d30de4607c16_38\", \"run_number\": 43, \"metric\": null, \"status\": \"Completed\", \"run_type\": \"azureml.scriptrun\", \"training_percent\": \"100\", \"start_time\": \"2021-03-20T15:45:04.827726Z\", \"end_time\": \"2021-03-20T15:46:31.550008Z\", \"created_time\": \"2021-03-20T15:44:55.023427Z\", \"created_time_dt\": \"2021-03-20T15:44:55.023427Z\", \"duration\": \"0:01:36\", \"iteration\": \"38\", \"goal\": \"accuracy_max\", \"run_name\": \"VotingEnsemble\", \"run_properties\": \"classification_labels=None,\\n                              estimators=[('4',\\n                                           Pipeline(memory=None,\\n                                                    steps=[('minmaxscaler',\\n                                                            MinMaxScaler(copy=True,\\n                                                                         feature_range=(0,\\n                                                                                        1\", \"primary_metric\": 0.86171717, \"best_metric\": 0.86171717}, {\"run_id\": \"AutoML_f53cdb49-dddb-4905-ac95-d30de4607c16_39\", \"run_number\": 44, \"metric\": null, \"status\": \"Completed\", \"run_type\": \"azureml.scriptrun\", \"training_percent\": \"100\", \"start_time\": \"2021-03-20T15:45:03.778637Z\", \"end_time\": \"2021-03-20T15:46:31.749192Z\", \"created_time\": \"2021-03-20T15:44:55.039123Z\", \"created_time_dt\": \"2021-03-20T15:44:55.039123Z\", \"duration\": \"0:01:36\", \"iteration\": \"39\", \"goal\": \"accuracy_max\", \"run_name\": \"StackEnsemble\", \"run_properties\": \"base_learners=[('4',\\n                                        Pipeline(memory=None,\\n                                                 steps=[('minmaxscaler',\\n                                                         MinMaxScaler(copy=True,\\n                                                                      feature_range=(0,\\n                                                                                     1\", \"primary_metric\": 0.83060606, \"best_metric\": 0.86171717}], \"children_metrics\": {\"categories\": [0], \"series\": {\"f1_score_micro\": [{\"categories\": [\"0\", \"1\", \"2\", \"3\", \"4\", \"5\", \"6\", \"7\", \"8\", \"9\", \"10\", \"11\", \"12\", \"13\", \"14\", \"15\", \"16\", \"17\", \"18\", \"19\", \"20\", \"21\", \"22\", \"23\", \"24\", \"25\", \"26\", \"27\", \"28\", \"29\", \"30\", \"31\", \"32\", \"33\", \"34\", \"35\", \"38\", \"39\"], \"mode\": \"markers\", \"name\": \"f1_score_micro\", \"stepped\": false, \"type\": \"scatter\", \"data\": [0.8259595959595961, 0.834949494949495, 0.8170707070707071, 0.8305050505050504, 0.8484848484848484, 0.606969696969697, 0.7056565656565656, 0.8126262626262626, 0.8216161616161616, 0.8305050505050506, 0.8260606060606059, 0.8216161616161616, 0.8306060606060607, 0.8306060606060607, 0.7857575757575758, 0.7905050505050506, 0.8305050505050504, 0.794949494949495, 0.8394949494949495, 0.8260606060606059, 0.8260606060606059, 0.8482828282828281, 0.7903030303030303, 0.8394949494949495, 0.6923232323232323, 0.8393939393939395, 0.8171717171717171, 0.8217171717171718, 0.8170707070707071, 0.7901010101010101, 0.7946464646464646, 0.8305050505050506, 0.7903030303030304, 0.8258585858585861, 0.8394949494949495, 0.6924242424242424, 0.8617171717171719, 0.8306060606060607]}, {\"categories\": [\"0\", \"1\", \"2\", \"3\", \"4\", \"5\", \"6\", \"7\", \"8\", \"9\", \"10\", \"11\", \"12\", \"13\", \"14\", \"15\", \"16\", \"17\", \"18\", \"19\", \"20\", \"21\", \"22\", \"23\", \"24\", \"25\", \"26\", \"27\", \"28\", \"29\", \"30\", \"31\", \"32\", \"33\", \"34\", \"35\", \"38\", \"39\"], \"mode\": \"lines\", \"name\": \"f1_score_micro_max\", \"stepped\": true, \"type\": \"scatter\", \"data\": [0.8259595959595961, 0.834949494949495, 0.834949494949495, 0.834949494949495, 0.8484848484848484, 0.8484848484848484, 0.8484848484848484, 0.8484848484848484, 0.8484848484848484, 0.8484848484848484, 0.8484848484848484, 0.8484848484848484, 0.8484848484848484, 0.8484848484848484, 0.8484848484848484, 0.8484848484848484, 0.8484848484848484, 0.8484848484848484, 0.8484848484848484, 0.8484848484848484, 0.8484848484848484, 0.8484848484848484, 0.8484848484848484, 0.8484848484848484, 0.8484848484848484, 0.8484848484848484, 0.8484848484848484, 0.8484848484848484, 0.8484848484848484, 0.8484848484848484, 0.8484848484848484, 0.8484848484848484, 0.8484848484848484, 0.8484848484848484, 0.8484848484848484, 0.8484848484848484, 0.8617171717171719, 0.8617171717171719]}], \"norm_macro_recall\": [{\"categories\": [\"0\", \"1\", \"2\", \"3\", \"4\", \"5\", \"6\", \"7\", \"8\", \"9\", \"10\", \"11\", \"12\", \"13\", \"14\", \"15\", \"16\", \"17\", \"18\", \"19\", \"20\", \"21\", \"22\", \"23\", \"24\", \"25\", \"26\", \"27\", \"28\", \"29\", \"30\", \"31\", \"32\", \"33\", \"34\", \"35\", \"38\", \"39\"], \"mode\": \"markers\", \"name\": \"norm_macro_recall\", \"stepped\": false, \"type\": \"scatter\", \"data\": [0.5924857959378084, 0.6213200988897584, 0.5547360907925923, 0.5802680343392418, 0.6729713849102394, 0.07385602014084984, 0.26841864276074806, 0.5243075448803003, 0.571713276403679, 0.5825256013336509, 0.5684030778303224, 0.5732549133013529, 0.5497009917327256, 0.5618961855997461, 0.4556358656823053, 0.44145040202315755, 0.6151934842763016, 0.4665917480352465, 0.59789648045453, 0.5887298137878634, 0.5757361163088718, 0.6423363414191587, 0.4694287188559634, 0.5697009917327256, 0.07814536340852132, 0.6552238911759035, 0.549668458476508, 0.537460095374182, 0.5745713406820218, 0.5435130813458986, 0.5431863453883579, 0.6143310340330463, 0.5161236660656165, 0.5949472805316459, 0.5697009917327256, 0.29093416516404136, 0.6459017878406423, 0.5896851291123736]}, {\"categories\": [\"0\", \"1\", \"2\", \"3\", \"4\", \"5\", \"6\", \"7\", \"8\", \"9\", \"10\", \"11\", \"12\", \"13\", \"14\", \"15\", \"16\", \"17\", \"18\", \"19\", \"20\", \"21\", \"22\", \"23\", \"24\", \"25\", \"26\", \"27\", \"28\", \"29\", \"30\", \"31\", \"32\", \"33\", \"34\", \"35\", \"38\", \"39\"], \"mode\": \"lines\", \"name\": \"norm_macro_recall_max\", \"stepped\": true, \"type\": \"scatter\", \"data\": [0.5924857959378084, 0.6213200988897584, 0.6213200988897584, 0.6213200988897584, 0.6729713849102394, 0.6729713849102394, 0.6729713849102394, 0.6729713849102394, 0.6729713849102394, 0.6729713849102394, 0.6729713849102394, 0.6729713849102394, 0.6729713849102394, 0.6729713849102394, 0.6729713849102394, 0.6729713849102394, 0.6729713849102394, 0.6729713849102394, 0.6729713849102394, 0.6729713849102394, 0.6729713849102394, 0.6729713849102394, 0.6729713849102394, 0.6729713849102394, 0.6729713849102394, 0.6729713849102394, 0.6729713849102394, 0.6729713849102394, 0.6729713849102394, 0.6729713849102394, 0.6729713849102394, 0.6729713849102394, 0.6729713849102394, 0.6729713849102394, 0.6729713849102394, 0.6729713849102394, 0.6729713849102394, 0.6729713849102394]}], \"matthews_correlation\": [{\"categories\": [\"0\", \"1\", \"2\", \"3\", \"4\", \"5\", \"6\", \"7\", \"8\", \"9\", \"10\", \"11\", \"12\", \"13\", \"14\", \"15\", \"16\", \"17\", \"18\", \"19\", \"20\", \"21\", \"22\", \"23\", \"24\", \"25\", \"26\", \"27\", \"28\", \"29\", \"30\", \"31\", \"32\", \"33\", \"34\", \"35\", \"38\", \"39\"], \"mode\": \"markers\", \"name\": \"matthews_correlation\", \"stepped\": false, \"type\": \"scatter\", \"data\": [0.6020278275725474, 0.6233290942721331, 0.5787488677741035, 0.6102118015533124, 0.6696353725047725, 0.023887801061835655, 0.2837891112919806, 0.5631877521445119, 0.5919552173226414, 0.6115680406302373, 0.6082737100617254, 0.5992773813032525, 0.6129947931391311, 0.6061518755916764, 0.5041567749237902, 0.4944186997987094, 0.6167625908684937, 0.5256150405716385, 0.6326943637523075, 0.6112346782210353, 0.6025255832505269, 0.6524520387306211, 0.5120101241419582, 0.6356726615196846, 0.16368317714371186, 0.6527751411605586, 0.5747026886316199, 0.5917152807846014, 0.5882911313781152, 0.5445399305906903, 0.5390795015932663, 0.6259390123568026, 0.5455811643650218, 0.6054016412486793, 0.6356726615196846, 0.2948405774009633, 0.6838703848725439, 0.6189510616631656]}, {\"categories\": [\"0\", \"1\", \"2\", \"3\", \"4\", \"5\", \"6\", \"7\", \"8\", \"9\", \"10\", \"11\", \"12\", \"13\", \"14\", \"15\", \"16\", \"17\", \"18\", \"19\", \"20\", \"21\", \"22\", \"23\", \"24\", \"25\", \"26\", \"27\", \"28\", \"29\", \"30\", \"31\", \"32\", \"33\", \"34\", \"35\", \"38\", \"39\"], \"mode\": \"lines\", \"name\": \"matthews_correlation_max\", \"stepped\": true, \"type\": \"scatter\", \"data\": [0.6020278275725474, 0.6233290942721331, 0.6233290942721331, 0.6233290942721331, 0.6696353725047725, 0.6696353725047725, 0.6696353725047725, 0.6696353725047725, 0.6696353725047725, 0.6696353725047725, 0.6696353725047725, 0.6696353725047725, 0.6696353725047725, 0.6696353725047725, 0.6696353725047725, 0.6696353725047725, 0.6696353725047725, 0.6696353725047725, 0.6696353725047725, 0.6696353725047725, 0.6696353725047725, 0.6696353725047725, 0.6696353725047725, 0.6696353725047725, 0.6696353725047725, 0.6696353725047725, 0.6696353725047725, 0.6696353725047725, 0.6696353725047725, 0.6696353725047725, 0.6696353725047725, 0.6696353725047725, 0.6696353725047725, 0.6696353725047725, 0.6696353725047725, 0.6696353725047725, 0.6838703848725439, 0.6838703848725439]}], \"average_precision_score_micro\": [{\"categories\": [\"0\", \"1\", \"2\", \"3\", \"4\", \"5\", \"6\", \"7\", \"8\", \"9\", \"10\", \"11\", \"12\", \"13\", \"14\", \"15\", \"16\", \"17\", \"18\", \"19\", \"20\", \"21\", \"22\", \"23\", \"24\", \"25\", \"26\", \"27\", \"28\", \"29\", \"30\", \"31\", \"32\", \"33\", \"34\", \"35\", \"38\", \"39\"], \"mode\": \"markers\", \"name\": \"average_precision_score_micro\", \"stepped\": false, \"type\": \"scatter\", \"data\": [0.8849888161679538, 0.8985674349122096, 0.906094115136151, 0.8895483914938259, 0.9009520050002999, 0.5943687571135994, 0.7454364359752352, 0.883592207238366, 0.891929010163673, 0.9035023610730143, 0.9027441493322572, 0.8781160741103641, 0.8768449249557033, 0.8920818814367081, 0.8985727710423914, 0.8764598154737813, 0.8947637557130428, 0.8816474069480534, 0.8878625421761589, 0.8910466043224803, 0.8960085846406665, 0.8969645162599347, 0.8826406423348601, 0.8911181562902062, 0.826790568943102, 0.8873096870462731, 0.8940477270466353, 0.8800189305262682, 0.9004773934531277, 0.8706229042723874, 0.8863869882963596, 0.8974187538823843, 0.8536394069386318, 0.88451859767874, 0.8939251475535167, 0.7704544837607238, 0.9066403597244648, 0.9013164440442795]}, {\"categories\": [\"0\", \"1\", \"2\", \"3\", \"4\", \"5\", \"6\", \"7\", \"8\", \"9\", \"10\", \"11\", \"12\", \"13\", \"14\", \"15\", \"16\", \"17\", \"18\", \"19\", \"20\", \"21\", \"22\", \"23\", \"24\", \"25\", \"26\", \"27\", \"28\", \"29\", \"30\", \"31\", \"32\", \"33\", \"34\", \"35\", \"38\", \"39\"], \"mode\": \"lines\", \"name\": \"average_precision_score_micro_max\", \"stepped\": true, \"type\": \"scatter\", \"data\": [0.8849888161679538, 0.8985674349122096, 0.906094115136151, 0.906094115136151, 0.906094115136151, 0.906094115136151, 0.906094115136151, 0.906094115136151, 0.906094115136151, 0.906094115136151, 0.906094115136151, 0.906094115136151, 0.906094115136151, 0.906094115136151, 0.906094115136151, 0.906094115136151, 0.906094115136151, 0.906094115136151, 0.906094115136151, 0.906094115136151, 0.906094115136151, 0.906094115136151, 0.906094115136151, 0.906094115136151, 0.906094115136151, 0.906094115136151, 0.906094115136151, 0.906094115136151, 0.906094115136151, 0.906094115136151, 0.906094115136151, 0.906094115136151, 0.906094115136151, 0.906094115136151, 0.906094115136151, 0.906094115136151, 0.9066403597244648, 0.9066403597244648]}], \"balanced_accuracy\": [{\"categories\": [\"0\", \"1\", \"2\", \"3\", \"4\", \"5\", \"6\", \"7\", \"8\", \"9\", \"10\", \"11\", \"12\", \"13\", \"14\", \"15\", \"16\", \"17\", \"18\", \"19\", \"20\", \"21\", \"22\", \"23\", \"24\", \"25\", \"26\", \"27\", \"28\", \"29\", \"30\", \"31\", \"32\", \"33\", \"34\", \"35\", \"38\", \"39\"], \"mode\": \"markers\", \"name\": \"balanced_accuracy\", \"stepped\": false, \"type\": \"scatter\", \"data\": [0.7962428979689042, 0.8106600494448791, 0.7773680453962962, 0.7901340171696208, 0.8364856924551196, 0.5068387243561392, 0.6293773886072648, 0.76215377244015, 0.7858566382018395, 0.7912628006668255, 0.7842015389151612, 0.7866274566506763, 0.7748504958663629, 0.7809480927998731, 0.7278179328411527, 0.7207252010115788, 0.8075967421381508, 0.7332958740176233, 0.798948240227265, 0.7943649068939317, 0.7878680581544358, 0.8211681707095794, 0.7347143594279817, 0.7848504958663629, 0.5390726817042607, 0.8276119455879517, 0.7748342292382541, 0.7687300476870911, 0.7872856703410109, 0.7717565406729493, 0.7715931726941789, 0.8071655170165231, 0.7580618330328083, 0.7974736402658229, 0.7848504958663629, 0.6454670825820207, 0.8229508939203212, 0.7948425645561867]}, {\"categories\": [\"0\", \"1\", \"2\", \"3\", \"4\", \"5\", \"6\", \"7\", \"8\", \"9\", \"10\", \"11\", \"12\", \"13\", \"14\", \"15\", \"16\", \"17\", \"18\", \"19\", \"20\", \"21\", \"22\", \"23\", \"24\", \"25\", \"26\", \"27\", \"28\", \"29\", \"30\", \"31\", \"32\", \"33\", \"34\", \"35\", \"38\", \"39\"], \"mode\": \"lines\", \"name\": \"balanced_accuracy_max\", \"stepped\": true, \"type\": \"scatter\", \"data\": [0.7962428979689042, 0.8106600494448791, 0.8106600494448791, 0.8106600494448791, 0.8364856924551196, 0.8364856924551196, 0.8364856924551196, 0.8364856924551196, 0.8364856924551196, 0.8364856924551196, 0.8364856924551196, 0.8364856924551196, 0.8364856924551196, 0.8364856924551196, 0.8364856924551196, 0.8364856924551196, 0.8364856924551196, 0.8364856924551196, 0.8364856924551196, 0.8364856924551196, 0.8364856924551196, 0.8364856924551196, 0.8364856924551196, 0.8364856924551196, 0.8364856924551196, 0.8364856924551196, 0.8364856924551196, 0.8364856924551196, 0.8364856924551196, 0.8364856924551196, 0.8364856924551196, 0.8364856924551196, 0.8364856924551196, 0.8364856924551196, 0.8364856924551196, 0.8364856924551196, 0.8364856924551196, 0.8364856924551196]}], \"accuracy\": [{\"categories\": [\"0\", \"1\", \"2\", \"3\", \"4\", \"5\", \"6\", \"7\", \"8\", \"9\", \"10\", \"11\", \"12\", \"13\", \"14\", \"15\", \"16\", \"17\", \"18\", \"19\", \"20\", \"21\", \"22\", \"23\", \"24\", \"25\", \"26\", \"27\", \"28\", \"29\", \"30\", \"31\", \"32\", \"33\", \"34\", \"35\", \"38\", \"39\"], \"mode\": \"markers\", \"name\": \"accuracy\", \"stepped\": false, \"type\": \"scatter\", \"data\": [0.8259595959595959, 0.8349494949494949, 0.8170707070707071, 0.8305050505050504, 0.8484848484848484, 0.606969696969697, 0.7056565656565656, 0.8126262626262626, 0.8216161616161616, 0.8305050505050506, 0.8260606060606059, 0.8216161616161616, 0.8306060606060607, 0.8306060606060607, 0.7857575757575758, 0.7905050505050506, 0.8305050505050504, 0.794949494949495, 0.8394949494949495, 0.8260606060606059, 0.8260606060606059, 0.8482828282828281, 0.7903030303030303, 0.8394949494949495, 0.6923232323232323, 0.8393939393939392, 0.8171717171717171, 0.8217171717171718, 0.8170707070707071, 0.7901010101010101, 0.7946464646464646, 0.8305050505050504, 0.7903030303030304, 0.8258585858585858, 0.8394949494949495, 0.6924242424242424, 0.8617171717171717, 0.8306060606060607]}, {\"categories\": [\"0\", \"1\", \"2\", \"3\", \"4\", \"5\", \"6\", \"7\", \"8\", \"9\", \"10\", \"11\", \"12\", \"13\", \"14\", \"15\", \"16\", \"17\", \"18\", \"19\", \"20\", \"21\", \"22\", \"23\", \"24\", \"25\", \"26\", \"27\", \"28\", \"29\", \"30\", \"31\", \"32\", \"33\", \"34\", \"35\", \"38\", \"39\"], \"mode\": \"lines\", \"name\": \"accuracy_max\", \"stepped\": true, \"type\": \"scatter\", \"data\": [0.8259595959595959, 0.8349494949494949, 0.8349494949494949, 0.8349494949494949, 0.8484848484848484, 0.8484848484848484, 0.8484848484848484, 0.8484848484848484, 0.8484848484848484, 0.8484848484848484, 0.8484848484848484, 0.8484848484848484, 0.8484848484848484, 0.8484848484848484, 0.8484848484848484, 0.8484848484848484, 0.8484848484848484, 0.8484848484848484, 0.8484848484848484, 0.8484848484848484, 0.8484848484848484, 0.8484848484848484, 0.8484848484848484, 0.8484848484848484, 0.8484848484848484, 0.8484848484848484, 0.8484848484848484, 0.8484848484848484, 0.8484848484848484, 0.8484848484848484, 0.8484848484848484, 0.8484848484848484, 0.8484848484848484, 0.8484848484848484, 0.8484848484848484, 0.8484848484848484, 0.8617171717171717, 0.8617171717171717]}], \"precision_score_micro\": [{\"categories\": [\"0\", \"1\", \"2\", \"3\", \"4\", \"5\", \"6\", \"7\", \"8\", \"9\", \"10\", \"11\", \"12\", \"13\", \"14\", \"15\", \"16\", \"17\", \"18\", \"19\", \"20\", \"21\", \"22\", \"23\", \"24\", \"25\", \"26\", \"27\", \"28\", \"29\", \"30\", \"31\", \"32\", \"33\", \"34\", \"35\", \"38\", \"39\"], \"mode\": \"markers\", \"name\": \"precision_score_micro\", \"stepped\": false, \"type\": \"scatter\", \"data\": [0.8259595959595959, 0.8349494949494949, 0.8170707070707071, 0.8305050505050504, 0.8484848484848484, 0.606969696969697, 0.7056565656565656, 0.8126262626262626, 0.8216161616161616, 0.8305050505050506, 0.8260606060606059, 0.8216161616161616, 0.8306060606060607, 0.8306060606060607, 0.7857575757575758, 0.7905050505050506, 0.8305050505050504, 0.794949494949495, 0.8394949494949495, 0.8260606060606059, 0.8260606060606059, 0.8482828282828281, 0.7903030303030303, 0.8394949494949495, 0.6923232323232323, 0.8393939393939392, 0.8171717171717171, 0.8217171717171718, 0.8170707070707071, 0.7901010101010101, 0.7946464646464646, 0.8305050505050504, 0.7903030303030304, 0.8258585858585858, 0.8394949494949495, 0.6924242424242424, 0.8617171717171717, 0.8306060606060607]}, {\"categories\": [\"0\", \"1\", \"2\", \"3\", \"4\", \"5\", \"6\", \"7\", \"8\", \"9\", \"10\", \"11\", \"12\", \"13\", \"14\", \"15\", \"16\", \"17\", \"18\", \"19\", \"20\", \"21\", \"22\", \"23\", \"24\", \"25\", \"26\", \"27\", \"28\", \"29\", \"30\", \"31\", \"32\", \"33\", \"34\", \"35\", \"38\", \"39\"], \"mode\": \"lines\", \"name\": \"precision_score_micro_max\", \"stepped\": true, \"type\": \"scatter\", \"data\": [0.8259595959595959, 0.8349494949494949, 0.8349494949494949, 0.8349494949494949, 0.8484848484848484, 0.8484848484848484, 0.8484848484848484, 0.8484848484848484, 0.8484848484848484, 0.8484848484848484, 0.8484848484848484, 0.8484848484848484, 0.8484848484848484, 0.8484848484848484, 0.8484848484848484, 0.8484848484848484, 0.8484848484848484, 0.8484848484848484, 0.8484848484848484, 0.8484848484848484, 0.8484848484848484, 0.8484848484848484, 0.8484848484848484, 0.8484848484848484, 0.8484848484848484, 0.8484848484848484, 0.8484848484848484, 0.8484848484848484, 0.8484848484848484, 0.8484848484848484, 0.8484848484848484, 0.8484848484848484, 0.8484848484848484, 0.8484848484848484, 0.8484848484848484, 0.8484848484848484, 0.8617171717171717, 0.8617171717171717]}], \"recall_score_weighted\": [{\"categories\": [\"0\", \"1\", \"2\", \"3\", \"4\", \"5\", \"6\", \"7\", \"8\", \"9\", \"10\", \"11\", \"12\", \"13\", \"14\", \"15\", \"16\", \"17\", \"18\", \"19\", \"20\", \"21\", \"22\", \"23\", \"24\", \"25\", \"26\", \"27\", \"28\", \"29\", \"30\", \"31\", \"32\", \"33\", \"34\", \"35\", \"38\", \"39\"], \"mode\": \"markers\", \"name\": \"recall_score_weighted\", \"stepped\": false, \"type\": \"scatter\", \"data\": [0.8259595959595959, 0.8349494949494949, 0.8170707070707071, 0.8305050505050504, 0.8484848484848484, 0.606969696969697, 0.7056565656565656, 0.8126262626262626, 0.8216161616161616, 0.8305050505050506, 0.8260606060606059, 0.8216161616161616, 0.8306060606060607, 0.8306060606060607, 0.7857575757575758, 0.7905050505050506, 0.8305050505050504, 0.794949494949495, 0.8394949494949495, 0.8260606060606059, 0.8260606060606059, 0.8482828282828281, 0.7903030303030303, 0.8394949494949495, 0.6923232323232323, 0.8393939393939392, 0.8171717171717171, 0.8217171717171718, 0.8170707070707071, 0.7901010101010101, 0.7946464646464646, 0.8305050505050504, 0.7903030303030304, 0.8258585858585858, 0.8394949494949495, 0.6924242424242424, 0.8617171717171717, 0.8306060606060607]}, {\"categories\": [\"0\", \"1\", \"2\", \"3\", \"4\", \"5\", \"6\", \"7\", \"8\", \"9\", \"10\", \"11\", \"12\", \"13\", \"14\", \"15\", \"16\", \"17\", \"18\", \"19\", \"20\", \"21\", \"22\", \"23\", \"24\", \"25\", \"26\", \"27\", \"28\", \"29\", \"30\", \"31\", \"32\", \"33\", \"34\", \"35\", \"38\", \"39\"], \"mode\": \"lines\", \"name\": \"recall_score_weighted_max\", \"stepped\": true, \"type\": \"scatter\", \"data\": [0.8259595959595959, 0.8349494949494949, 0.8349494949494949, 0.8349494949494949, 0.8484848484848484, 0.8484848484848484, 0.8484848484848484, 0.8484848484848484, 0.8484848484848484, 0.8484848484848484, 0.8484848484848484, 0.8484848484848484, 0.8484848484848484, 0.8484848484848484, 0.8484848484848484, 0.8484848484848484, 0.8484848484848484, 0.8484848484848484, 0.8484848484848484, 0.8484848484848484, 0.8484848484848484, 0.8484848484848484, 0.8484848484848484, 0.8484848484848484, 0.8484848484848484, 0.8484848484848484, 0.8484848484848484, 0.8484848484848484, 0.8484848484848484, 0.8484848484848484, 0.8484848484848484, 0.8484848484848484, 0.8484848484848484, 0.8484848484848484, 0.8484848484848484, 0.8484848484848484, 0.8617171717171717, 0.8617171717171717]}], \"average_precision_score_macro\": [{\"categories\": [\"0\", \"1\", \"2\", \"3\", \"4\", \"5\", \"6\", \"7\", \"8\", \"9\", \"10\", \"11\", \"12\", \"13\", \"14\", \"15\", \"16\", \"17\", \"18\", \"19\", \"20\", \"21\", \"22\", \"23\", \"24\", \"25\", \"26\", \"27\", \"28\", \"29\", \"30\", \"31\", \"32\", \"33\", \"34\", \"35\", \"38\", \"39\"], \"mode\": \"markers\", \"name\": \"average_precision_score_macro\", \"stepped\": false, \"type\": \"scatter\", \"data\": [0.8513125265078649, 0.8669011515712679, 0.8740128684159719, 0.8597734469649805, 0.8806889037290807, 0.5259735710935841, 0.7041424482747305, 0.8570637886080501, 0.8630752969819403, 0.8788122996273877, 0.884652030194313, 0.8462835308179546, 0.8649476985349246, 0.8780502448015692, 0.8765133026798331, 0.8352333362795678, 0.8647318567894555, 0.8703239493103926, 0.8646247057127165, 0.877115335559561, 0.8679015863230852, 0.8620224361786448, 0.8502211842979591, 0.8746750591270607, 0.8294225323483818, 0.8679623003569628, 0.861338303848784, 0.8596114562668291, 0.8748348481370526, 0.8591871478045257, 0.8778519733649549, 0.870993726326113, 0.8296332521823212, 0.8593388982183059, 0.8838532005282745, 0.7186519788558335, 0.8832194559112801, 0.8841429283818798]}, {\"categories\": [\"0\", \"1\", \"2\", \"3\", \"4\", \"5\", \"6\", \"7\", \"8\", \"9\", \"10\", \"11\", \"12\", \"13\", \"14\", \"15\", \"16\", \"17\", \"18\", \"19\", \"20\", \"21\", \"22\", \"23\", \"24\", \"25\", \"26\", \"27\", \"28\", \"29\", \"30\", \"31\", \"32\", \"33\", \"34\", \"35\", \"38\", \"39\"], \"mode\": \"lines\", \"name\": \"average_precision_score_macro_max\", \"stepped\": true, \"type\": \"scatter\", \"data\": [0.8513125265078649, 0.8669011515712679, 0.8740128684159719, 0.8740128684159719, 0.8806889037290807, 0.8806889037290807, 0.8806889037290807, 0.8806889037290807, 0.8806889037290807, 0.8806889037290807, 0.884652030194313, 0.884652030194313, 0.884652030194313, 0.884652030194313, 0.884652030194313, 0.884652030194313, 0.884652030194313, 0.884652030194313, 0.884652030194313, 0.884652030194313, 0.884652030194313, 0.884652030194313, 0.884652030194313, 0.884652030194313, 0.884652030194313, 0.884652030194313, 0.884652030194313, 0.884652030194313, 0.884652030194313, 0.884652030194313, 0.884652030194313, 0.884652030194313, 0.884652030194313, 0.884652030194313, 0.884652030194313, 0.884652030194313, 0.884652030194313, 0.884652030194313]}], \"AUC_weighted\": [{\"categories\": [\"0\", \"1\", \"2\", \"3\", \"4\", \"5\", \"6\", \"7\", \"8\", \"9\", \"10\", \"11\", \"12\", \"13\", \"14\", \"15\", \"16\", \"17\", \"18\", \"19\", \"20\", \"21\", \"22\", \"23\", \"24\", \"25\", \"26\", \"27\", \"28\", \"29\", \"30\", \"31\", \"32\", \"33\", \"34\", \"35\", \"38\", \"39\"], \"mode\": \"markers\", \"name\": \"AUC_weighted\", \"stepped\": false, \"type\": \"scatter\", \"data\": [0.8762759243035946, 0.8921870648056792, 0.8983890617144293, 0.8851526478337624, 0.9018404240238607, 0.47256936317036935, 0.7092155979125792, 0.8879731880606494, 0.8892831813224615, 0.9025645235827124, 0.9065058876452066, 0.872810027165387, 0.8795515126428441, 0.8861677362240442, 0.8917922157391972, 0.8765718936528728, 0.8849970278259752, 0.8858702568071763, 0.8810434166581611, 0.8942980514067976, 0.8919184927344757, 0.8876758045660911, 0.8772410652857634, 0.8924742103656579, 0.8416914524244244, 0.8871667967288129, 0.8964512308297138, 0.8760695271360905, 0.892155133308384, 0.8737915133327284, 0.8893897807773582, 0.8922153219587429, 0.8471344781164827, 0.8846151287438051, 0.895447635160677, 0.7387447971597545, 0.90446104467428, 0.9077159669535831]}, {\"categories\": [\"0\", \"1\", \"2\", \"3\", \"4\", \"5\", \"6\", \"7\", \"8\", \"9\", \"10\", \"11\", \"12\", \"13\", \"14\", \"15\", \"16\", \"17\", \"18\", \"19\", \"20\", \"21\", \"22\", \"23\", \"24\", \"25\", \"26\", \"27\", \"28\", \"29\", \"30\", \"31\", \"32\", \"33\", \"34\", \"35\", \"38\", \"39\"], \"mode\": \"lines\", \"name\": \"AUC_weighted_max\", \"stepped\": true, \"type\": \"scatter\", \"data\": [0.8762759243035946, 0.8921870648056792, 0.8983890617144293, 0.8983890617144293, 0.9018404240238607, 0.9018404240238607, 0.9018404240238607, 0.9018404240238607, 0.9018404240238607, 0.9025645235827124, 0.9065058876452066, 0.9065058876452066, 0.9065058876452066, 0.9065058876452066, 0.9065058876452066, 0.9065058876452066, 0.9065058876452066, 0.9065058876452066, 0.9065058876452066, 0.9065058876452066, 0.9065058876452066, 0.9065058876452066, 0.9065058876452066, 0.9065058876452066, 0.9065058876452066, 0.9065058876452066, 0.9065058876452066, 0.9065058876452066, 0.9065058876452066, 0.9065058876452066, 0.9065058876452066, 0.9065058876452066, 0.9065058876452066, 0.9065058876452066, 0.9065058876452066, 0.9065058876452066, 0.9065058876452066, 0.9077159669535831]}], \"weighted_accuracy\": [{\"categories\": [\"0\", \"1\", \"2\", \"3\", \"4\", \"5\", \"6\", \"7\", \"8\", \"9\", \"10\", \"11\", \"12\", \"13\", \"14\", \"15\", \"16\", \"17\", \"18\", \"19\", \"20\", \"21\", \"22\", \"23\", \"24\", \"25\", \"26\", \"27\", \"28\", \"29\", \"30\", \"31\", \"32\", \"33\", \"34\", \"35\", \"38\", \"39\"], \"mode\": \"markers\", \"name\": \"weighted_accuracy\", \"stepped\": false, \"type\": \"scatter\", \"data\": [0.8479839049394942, 0.8534622471660072, 0.8442483924892734, 0.8584842126921395, 0.859772392010403, 0.6760905072849585, 0.7617159810858899, 0.8490302896449775, 0.8465726386238511, 0.8576910100857491, 0.8557580511566807, 0.8479323516218432, 0.8712941180013724, 0.8660139909351912, 0.8283843202614571, 0.8399518950232278, 0.8466043771438114, 0.8418006369087611, 0.8696303541527615, 0.8500595778970534, 0.8536877440798316, 0.8678233892593752, 0.8317846511144443, 0.8792941180013724, 0.8022664049107506, 0.848586724477243, 0.8471889791022607, 0.8602397532918351, 0.8389173115003905, 0.8019417562933624, 0.8112410802142584, 0.8489377449391539, 0.8167226522494266, 0.8472214457396235, 0.8792941180013724, 0.7249413652737821, 0.8897464755342993, 0.857293350034864]}, {\"categories\": [\"0\", \"1\", \"2\", \"3\", \"4\", \"5\", \"6\", \"7\", \"8\", \"9\", \"10\", \"11\", \"12\", \"13\", \"14\", \"15\", \"16\", \"17\", \"18\", \"19\", \"20\", \"21\", \"22\", \"23\", \"24\", \"25\", \"26\", \"27\", \"28\", \"29\", \"30\", \"31\", \"32\", \"33\", \"34\", \"35\", \"38\", \"39\"], \"mode\": \"lines\", \"name\": \"weighted_accuracy_max\", \"stepped\": true, \"type\": \"scatter\", \"data\": [0.8479839049394942, 0.8534622471660072, 0.8534622471660072, 0.8584842126921395, 0.859772392010403, 0.859772392010403, 0.859772392010403, 0.859772392010403, 0.859772392010403, 0.859772392010403, 0.859772392010403, 0.859772392010403, 0.8712941180013724, 0.8712941180013724, 0.8712941180013724, 0.8712941180013724, 0.8712941180013724, 0.8712941180013724, 0.8712941180013724, 0.8712941180013724, 0.8712941180013724, 0.8712941180013724, 0.8712941180013724, 0.8792941180013724, 0.8792941180013724, 0.8792941180013724, 0.8792941180013724, 0.8792941180013724, 0.8792941180013724, 0.8792941180013724, 0.8792941180013724, 0.8792941180013724, 0.8792941180013724, 0.8792941180013724, 0.8792941180013724, 0.8792941180013724, 0.8897464755342993, 0.8897464755342993]}], \"recall_score_micro\": [{\"categories\": [\"0\", \"1\", \"2\", \"3\", \"4\", \"5\", \"6\", \"7\", \"8\", \"9\", \"10\", \"11\", \"12\", \"13\", \"14\", \"15\", \"16\", \"17\", \"18\", \"19\", \"20\", \"21\", \"22\", \"23\", \"24\", \"25\", \"26\", \"27\", \"28\", \"29\", \"30\", \"31\", \"32\", \"33\", \"34\", \"35\", \"38\", \"39\"], \"mode\": \"markers\", \"name\": \"recall_score_micro\", \"stepped\": false, \"type\": \"scatter\", \"data\": [0.8259595959595959, 0.8349494949494949, 0.8170707070707071, 0.8305050505050504, 0.8484848484848484, 0.606969696969697, 0.7056565656565656, 0.8126262626262626, 0.8216161616161616, 0.8305050505050506, 0.8260606060606059, 0.8216161616161616, 0.8306060606060607, 0.8306060606060607, 0.7857575757575758, 0.7905050505050506, 0.8305050505050504, 0.794949494949495, 0.8394949494949495, 0.8260606060606059, 0.8260606060606059, 0.8482828282828281, 0.7903030303030303, 0.8394949494949495, 0.6923232323232323, 0.8393939393939392, 0.8171717171717171, 0.8217171717171718, 0.8170707070707071, 0.7901010101010101, 0.7946464646464646, 0.8305050505050504, 0.7903030303030304, 0.8258585858585858, 0.8394949494949495, 0.6924242424242424, 0.8617171717171717, 0.8306060606060607]}, {\"categories\": [\"0\", \"1\", \"2\", \"3\", \"4\", \"5\", \"6\", \"7\", \"8\", \"9\", \"10\", \"11\", \"12\", \"13\", \"14\", \"15\", \"16\", \"17\", \"18\", \"19\", \"20\", \"21\", \"22\", \"23\", \"24\", \"25\", \"26\", \"27\", \"28\", \"29\", \"30\", \"31\", \"32\", \"33\", \"34\", \"35\", \"38\", \"39\"], \"mode\": \"lines\", \"name\": \"recall_score_micro_max\", \"stepped\": true, \"type\": \"scatter\", \"data\": [0.8259595959595959, 0.8349494949494949, 0.8349494949494949, 0.8349494949494949, 0.8484848484848484, 0.8484848484848484, 0.8484848484848484, 0.8484848484848484, 0.8484848484848484, 0.8484848484848484, 0.8484848484848484, 0.8484848484848484, 0.8484848484848484, 0.8484848484848484, 0.8484848484848484, 0.8484848484848484, 0.8484848484848484, 0.8484848484848484, 0.8484848484848484, 0.8484848484848484, 0.8484848484848484, 0.8484848484848484, 0.8484848484848484, 0.8484848484848484, 0.8484848484848484, 0.8484848484848484, 0.8484848484848484, 0.8484848484848484, 0.8484848484848484, 0.8484848484848484, 0.8484848484848484, 0.8484848484848484, 0.8484848484848484, 0.8484848484848484, 0.8484848484848484, 0.8484848484848484, 0.8617171717171717, 0.8617171717171717]}], \"precision_score_macro\": [{\"categories\": [\"0\", \"1\", \"2\", \"3\", \"4\", \"5\", \"6\", \"7\", \"8\", \"9\", \"10\", \"11\", \"12\", \"13\", \"14\", \"15\", \"16\", \"17\", \"18\", \"19\", \"20\", \"21\", \"22\", \"23\", \"24\", \"25\", \"26\", \"27\", \"28\", \"29\", \"30\", \"31\", \"32\", \"33\", \"34\", \"35\", \"38\", \"39\"], \"mode\": \"markers\", \"name\": \"precision_score_macro\", \"stepped\": false, \"type\": \"scatter\", \"data\": [0.8061892945763913, 0.8131582838413959, 0.8023444295503118, 0.822422194034036, 0.8338229155901569, 0.5180848557868949, 0.6561060348865227, 0.8037648329477077, 0.8081152848799908, 0.822786865282328, 0.8283952528379773, 0.8161531279178338, 0.8439927672779965, 0.8281906282405632, 0.7801592495342495, 0.7798443205796147, 0.8098816365626711, 0.7987554048409311, 0.8359733436761425, 0.8193823741617858, 0.817972582972583, 0.8321730129189806, 0.7808766233766233, 0.8568499101351392, 0.6117893217893218, 0.8263409234661605, 0.8013578538578539, 0.8279538062390355, 0.8029699121027722, 0.7739473867362999, 0.7681033141225839, 0.8205112122713378, 0.7924998349998351, 0.8087831777973602, 0.8568499101351392, 0.6505094408556429, 0.8628878314362186, 0.82678497896796]}, {\"categories\": [\"0\", \"1\", \"2\", \"3\", \"4\", \"5\", \"6\", \"7\", \"8\", \"9\", \"10\", \"11\", \"12\", \"13\", \"14\", \"15\", \"16\", \"17\", \"18\", \"19\", \"20\", \"21\", \"22\", \"23\", \"24\", \"25\", \"26\", \"27\", \"28\", \"29\", \"30\", \"31\", \"32\", \"33\", \"34\", \"35\", \"38\", \"39\"], \"mode\": \"lines\", \"name\": \"precision_score_macro_max\", \"stepped\": true, \"type\": \"scatter\", \"data\": [0.8061892945763913, 0.8131582838413959, 0.8131582838413959, 0.822422194034036, 0.8338229155901569, 0.8338229155901569, 0.8338229155901569, 0.8338229155901569, 0.8338229155901569, 0.8338229155901569, 0.8338229155901569, 0.8338229155901569, 0.8439927672779965, 0.8439927672779965, 0.8439927672779965, 0.8439927672779965, 0.8439927672779965, 0.8439927672779965, 0.8439927672779965, 0.8439927672779965, 0.8439927672779965, 0.8439927672779965, 0.8439927672779965, 0.8568499101351392, 0.8568499101351392, 0.8568499101351392, 0.8568499101351392, 0.8568499101351392, 0.8568499101351392, 0.8568499101351392, 0.8568499101351392, 0.8568499101351392, 0.8568499101351392, 0.8568499101351392, 0.8568499101351392, 0.8568499101351392, 0.8628878314362186, 0.8628878314362186]}], \"AUC_macro\": [{\"categories\": [\"0\", \"1\", \"2\", \"3\", \"4\", \"5\", \"6\", \"7\", \"8\", \"9\", \"10\", \"11\", \"12\", \"13\", \"14\", \"15\", \"16\", \"17\", \"18\", \"19\", \"20\", \"21\", \"22\", \"23\", \"24\", \"25\", \"26\", \"27\", \"28\", \"29\", \"30\", \"31\", \"32\", \"33\", \"34\", \"35\", \"38\", \"39\"], \"mode\": \"markers\", \"name\": \"AUC_macro\", \"stepped\": false, \"type\": \"scatter\", \"data\": [0.8762759243035946, 0.8921870648056792, 0.8983890617144293, 0.8851526478337624, 0.9018404240238607, 0.47256936317036935, 0.7092155979125794, 0.8879731880606494, 0.8892831813224615, 0.9025645235827124, 0.9065058876452066, 0.872810027165387, 0.8795515126428437, 0.8861677362240442, 0.8917922157391971, 0.8765718936528728, 0.8849970278259752, 0.8858702568071763, 0.8810434166581611, 0.8942980514067976, 0.8919184927344757, 0.8876758045660911, 0.8772410652857634, 0.8924742103656577, 0.8416914524244247, 0.8871667967288129, 0.8964512308297138, 0.8760695271360905, 0.892155133308384, 0.8737915133327284, 0.8893897807773581, 0.8922153219587429, 0.8471344781164827, 0.8846151287438051, 0.895447635160677, 0.7387447971597545, 0.90446104467428, 0.9077159669535831]}, {\"categories\": [\"0\", \"1\", \"2\", \"3\", \"4\", \"5\", \"6\", \"7\", \"8\", \"9\", \"10\", \"11\", \"12\", \"13\", \"14\", \"15\", \"16\", \"17\", \"18\", \"19\", \"20\", \"21\", \"22\", \"23\", \"24\", \"25\", \"26\", \"27\", \"28\", \"29\", \"30\", \"31\", \"32\", \"33\", \"34\", \"35\", \"38\", \"39\"], \"mode\": \"lines\", \"name\": \"AUC_macro_max\", \"stepped\": true, \"type\": \"scatter\", \"data\": [0.8762759243035946, 0.8921870648056792, 0.8983890617144293, 0.8983890617144293, 0.9018404240238607, 0.9018404240238607, 0.9018404240238607, 0.9018404240238607, 0.9018404240238607, 0.9025645235827124, 0.9065058876452066, 0.9065058876452066, 0.9065058876452066, 0.9065058876452066, 0.9065058876452066, 0.9065058876452066, 0.9065058876452066, 0.9065058876452066, 0.9065058876452066, 0.9065058876452066, 0.9065058876452066, 0.9065058876452066, 0.9065058876452066, 0.9065058876452066, 0.9065058876452066, 0.9065058876452066, 0.9065058876452066, 0.9065058876452066, 0.9065058876452066, 0.9065058876452066, 0.9065058876452066, 0.9065058876452066, 0.9065058876452066, 0.9065058876452066, 0.9065058876452066, 0.9065058876452066, 0.9065058876452066, 0.9077159669535831]}], \"f1_score_macro\": [{\"categories\": [\"0\", \"1\", \"2\", \"3\", \"4\", \"5\", \"6\", \"7\", \"8\", \"9\", \"10\", \"11\", \"12\", \"13\", \"14\", \"15\", \"16\", \"17\", \"18\", \"19\", \"20\", \"21\", \"22\", \"23\", \"24\", \"25\", \"26\", \"27\", \"28\", \"29\", \"30\", \"31\", \"32\", \"33\", \"34\", \"35\", \"38\", \"39\"], \"mode\": \"markers\", \"name\": \"f1_score_macro\", \"stepped\": false, \"type\": \"scatter\", \"data\": [0.7978259068650135, 0.8086872163238672, 0.7852579219709257, 0.796698082441211, 0.830829633330222, 0.49771160136611153, 0.6192611637036601, 0.7695465096432839, 0.786114911198362, 0.7966230059692828, 0.7886086053585348, 0.7843797472193419, 0.7867072398391054, 0.792053551345067, 0.736620612258761, 0.7264235840908272, 0.8044772173135695, 0.7392716042917655, 0.8057561403129206, 0.7937387311987374, 0.7873630313277575, 0.8214785532073658, 0.7410014843315009, 0.7977841629160285, 0.47513687719167175, 0.8192936629013481, 0.7799763977593392, 0.778352335484201, 0.7863749948677874, 0.7661242093493615, 0.765251625744093, 0.8047195689407424, 0.7526385057970895, 0.797475980281166, 0.7977841629160285, 0.6419203359782693, 0.8332798872791042, 0.7983052117265798]}, {\"categories\": [\"0\", \"1\", \"2\", \"3\", \"4\", \"5\", \"6\", \"7\", \"8\", \"9\", \"10\", \"11\", \"12\", \"13\", \"14\", \"15\", \"16\", \"17\", \"18\", \"19\", \"20\", \"21\", \"22\", \"23\", \"24\", \"25\", \"26\", \"27\", \"28\", \"29\", \"30\", \"31\", \"32\", \"33\", \"34\", \"35\", \"38\", \"39\"], \"mode\": \"lines\", \"name\": \"f1_score_macro_max\", \"stepped\": true, \"type\": \"scatter\", \"data\": [0.7978259068650135, 0.8086872163238672, 0.8086872163238672, 0.8086872163238672, 0.830829633330222, 0.830829633330222, 0.830829633330222, 0.830829633330222, 0.830829633330222, 0.830829633330222, 0.830829633330222, 0.830829633330222, 0.830829633330222, 0.830829633330222, 0.830829633330222, 0.830829633330222, 0.830829633330222, 0.830829633330222, 0.830829633330222, 0.830829633330222, 0.830829633330222, 0.830829633330222, 0.830829633330222, 0.830829633330222, 0.830829633330222, 0.830829633330222, 0.830829633330222, 0.830829633330222, 0.830829633330222, 0.830829633330222, 0.830829633330222, 0.830829633330222, 0.830829633330222, 0.830829633330222, 0.830829633330222, 0.830829633330222, 0.8332798872791042, 0.8332798872791042]}], \"precision_score_weighted\": [{\"categories\": [\"0\", \"1\", \"2\", \"3\", \"4\", \"5\", \"6\", \"7\", \"8\", \"9\", \"10\", \"11\", \"12\", \"13\", \"14\", \"15\", \"16\", \"17\", \"18\", \"19\", \"20\", \"21\", \"22\", \"23\", \"24\", \"25\", \"26\", \"27\", \"28\", \"29\", \"30\", \"31\", \"32\", \"33\", \"34\", \"35\", \"38\", \"39\"], \"mode\": \"markers\", \"name\": \"precision_score_weighted\", \"stepped\": false, \"type\": \"scatter\", \"data\": [0.8284851349367479, 0.8381768931749957, 0.8185557140102594, 0.8367309590993802, 0.8526286644390094, 0.593210482993053, 0.6880717776652737, 0.8196185461545993, 0.8297879799840583, 0.8369562446694934, 0.8406412644802739, 0.8348665553763593, 0.8457247009210789, 0.8363269323860555, 0.7933483921514226, 0.7971649641257484, 0.836709506117552, 0.804537754888632, 0.8482163634266733, 0.8397211847702044, 0.839638589442511, 0.8534665796171172, 0.7986884720218054, 0.8562008913972694, 0.6399717813051147, 0.8511506584169455, 0.8203253928253929, 0.8337044989008768, 0.8298083735061423, 0.8049947996363604, 0.8032216348747789, 0.8431116225773689, 0.8128526085192753, 0.831825529247665, 0.8562008913972694, 0.6972389732262767, 0.8689641141254043, 0.838652741816257]}, {\"categories\": [\"0\", \"1\", \"2\", \"3\", \"4\", \"5\", \"6\", \"7\", \"8\", \"9\", \"10\", \"11\", \"12\", \"13\", \"14\", \"15\", \"16\", \"17\", \"18\", \"19\", \"20\", \"21\", \"22\", \"23\", \"24\", \"25\", \"26\", \"27\", \"28\", \"29\", \"30\", \"31\", \"32\", \"33\", \"34\", \"35\", \"38\", \"39\"], \"mode\": \"lines\", \"name\": \"precision_score_weighted_max\", \"stepped\": true, \"type\": \"scatter\", \"data\": [0.8284851349367479, 0.8381768931749957, 0.8381768931749957, 0.8381768931749957, 0.8526286644390094, 0.8526286644390094, 0.8526286644390094, 0.8526286644390094, 0.8526286644390094, 0.8526286644390094, 0.8526286644390094, 0.8526286644390094, 0.8526286644390094, 0.8526286644390094, 0.8526286644390094, 0.8526286644390094, 0.8526286644390094, 0.8526286644390094, 0.8526286644390094, 0.8526286644390094, 0.8526286644390094, 0.8534665796171172, 0.8534665796171172, 0.8562008913972694, 0.8562008913972694, 0.8562008913972694, 0.8562008913972694, 0.8562008913972694, 0.8562008913972694, 0.8562008913972694, 0.8562008913972694, 0.8562008913972694, 0.8562008913972694, 0.8562008913972694, 0.8562008913972694, 0.8562008913972694, 0.8689641141254043, 0.8689641141254043]}], \"f1_score_weighted\": [{\"categories\": [\"0\", \"1\", \"2\", \"3\", \"4\", \"5\", \"6\", \"7\", \"8\", \"9\", \"10\", \"11\", \"12\", \"13\", \"14\", \"15\", \"16\", \"17\", \"18\", \"19\", \"20\", \"21\", \"22\", \"23\", \"24\", \"25\", \"26\", \"27\", \"28\", \"29\", \"30\", \"31\", \"32\", \"33\", \"34\", \"35\", \"38\", \"39\"], \"mode\": \"markers\", \"name\": \"f1_score_weighted\", \"stepped\": false, \"type\": \"scatter\", \"data\": [0.8241489825596181, 0.8338233535240569, 0.8140152058780243, 0.8259852263890876, 0.8467848011086812, 0.5871597715459207, 0.6773846332284854, 0.8046182631917398, 0.8164786547546756, 0.8254196376400925, 0.8187209829111728, 0.8133263589546635, 0.8193872681055696, 0.8233516114974083, 0.7745535119853338, 0.7748338149410976, 0.8301701823039929, 0.7772015081692502, 0.8335923977378819, 0.8216192096356615, 0.8194208244886847, 0.8466610460652702, 0.7797559790029784, 0.828823165541467, 0.5888485047389157, 0.8390531351964471, 0.8118723034250646, 0.811031640194386, 0.8161382418071383, 0.7923691586003959, 0.7951642093456168, 0.8291435316591427, 0.7824065015821926, 0.823892006567568, 0.828823165541467, 0.6902827072019437, 0.857178133348952, 0.824228924243735]}, {\"categories\": [\"0\", \"1\", \"2\", \"3\", \"4\", \"5\", \"6\", \"7\", \"8\", \"9\", \"10\", \"11\", \"12\", \"13\", \"14\", \"15\", \"16\", \"17\", \"18\", \"19\", \"20\", \"21\", \"22\", \"23\", \"24\", \"25\", \"26\", \"27\", \"28\", \"29\", \"30\", \"31\", \"32\", \"33\", \"34\", \"35\", \"38\", \"39\"], \"mode\": \"lines\", \"name\": \"f1_score_weighted_max\", \"stepped\": true, \"type\": \"scatter\", \"data\": [0.8241489825596181, 0.8338233535240569, 0.8338233535240569, 0.8338233535240569, 0.8467848011086812, 0.8467848011086812, 0.8467848011086812, 0.8467848011086812, 0.8467848011086812, 0.8467848011086812, 0.8467848011086812, 0.8467848011086812, 0.8467848011086812, 0.8467848011086812, 0.8467848011086812, 0.8467848011086812, 0.8467848011086812, 0.8467848011086812, 0.8467848011086812, 0.8467848011086812, 0.8467848011086812, 0.8467848011086812, 0.8467848011086812, 0.8467848011086812, 0.8467848011086812, 0.8467848011086812, 0.8467848011086812, 0.8467848011086812, 0.8467848011086812, 0.8467848011086812, 0.8467848011086812, 0.8467848011086812, 0.8467848011086812, 0.8467848011086812, 0.8467848011086812, 0.8467848011086812, 0.857178133348952, 0.857178133348952]}], \"AUC_micro\": [{\"categories\": [\"0\", \"1\", \"2\", \"3\", \"4\", \"5\", \"6\", \"7\", \"8\", \"9\", \"10\", \"11\", \"12\", \"13\", \"14\", \"15\", \"16\", \"17\", \"18\", \"19\", \"20\", \"21\", \"22\", \"23\", \"24\", \"25\", \"26\", \"27\", \"28\", \"29\", \"30\", \"31\", \"32\", \"33\", \"34\", \"35\", \"38\", \"39\"], \"mode\": \"markers\", \"name\": \"AUC_micro\", \"stepped\": false, \"type\": \"scatter\", \"data\": [0.8841800326497296, 0.8982728293031323, 0.9044598510356087, 0.8923298642995613, 0.9030782573206816, 0.6159732170186715, 0.7626429956126926, 0.8921618712376288, 0.8984873992449749, 0.9035437200285685, 0.904727782879298, 0.8836067238036934, 0.8756237628813388, 0.8922276808488931, 0.8908086419753086, 0.8767941536577901, 0.8916305479032751, 0.8824816855422914, 0.8888060912151822, 0.8940055096418732, 0.8990901948780736, 0.8944845423936332, 0.8825350474441382, 0.8906451892664012, 0.8191129476584023, 0.8882010509131721, 0.8990129578614428, 0.8783074686256505, 0.8986792674216917, 0.8734248546066727, 0.8888470054076114, 0.8965302520151004, 0.8536536067748189, 0.8861326395265788, 0.8936013161922253, 0.7582836445260688, 0.9063148148148148, 0.900871390674421]}, {\"categories\": [\"0\", \"1\", \"2\", \"3\", \"4\", \"5\", \"6\", \"7\", \"8\", \"9\", \"10\", \"11\", \"12\", \"13\", \"14\", \"15\", \"16\", \"17\", \"18\", \"19\", \"20\", \"21\", \"22\", \"23\", \"24\", \"25\", \"26\", \"27\", \"28\", \"29\", \"30\", \"31\", \"32\", \"33\", \"34\", \"35\", \"38\", \"39\"], \"mode\": \"lines\", \"name\": \"AUC_micro_max\", \"stepped\": true, \"type\": \"scatter\", \"data\": [0.8841800326497296, 0.8982728293031323, 0.9044598510356087, 0.9044598510356087, 0.9044598510356087, 0.9044598510356087, 0.9044598510356087, 0.9044598510356087, 0.9044598510356087, 0.9044598510356087, 0.904727782879298, 0.904727782879298, 0.904727782879298, 0.904727782879298, 0.904727782879298, 0.904727782879298, 0.904727782879298, 0.904727782879298, 0.904727782879298, 0.904727782879298, 0.904727782879298, 0.904727782879298, 0.904727782879298, 0.904727782879298, 0.904727782879298, 0.904727782879298, 0.904727782879298, 0.904727782879298, 0.904727782879298, 0.904727782879298, 0.904727782879298, 0.904727782879298, 0.904727782879298, 0.904727782879298, 0.904727782879298, 0.904727782879298, 0.9063148148148148, 0.9063148148148148]}], \"log_loss\": [{\"categories\": [\"0\", \"1\", \"2\", \"3\", \"4\", \"5\", \"6\", \"7\", \"8\", \"9\", \"10\", \"11\", \"12\", \"13\", \"14\", \"15\", \"16\", \"17\", \"18\", \"19\", \"20\", \"21\", \"22\", \"23\", \"24\", \"25\", \"26\", \"27\", \"28\", \"29\", \"30\", \"31\", \"32\", \"33\", \"34\", \"35\", \"38\", \"39\"], \"mode\": \"markers\", \"name\": \"log_loss\", \"stepped\": false, \"type\": \"scatter\", \"data\": [0.5190700829379405, 0.4493062292899842, 0.3932996069433467, 0.43271419898001096, 0.40294094564307514, 0.8204935456329563, 0.6041652458491488, 0.42414201397920925, 0.40087918401437594, 0.4010345676759622, 0.3966925150915938, 0.4865228972757021, 0.45686942209452147, 0.4148315528956168, 0.43883145731530854, 0.47284226790516826, 0.4188242795565603, 0.5156115478789918, 0.4227919401430764, 0.40852378467444117, 0.4038189604841945, 0.41083911662359435, 0.5155681740222876, 0.42939630563020464, 0.5661704372678342, 0.4492131115852397, 0.4795284930002168, 0.4318998961321411, 0.40748301014127514, 0.5109624101324745, 0.6127153686715905, 0.4105109177885494, 0.4846321010644779, 0.4440806070202905, 0.43799055855141145, 0.6882907019547966, 0.4095536467909772, 0.4116513161411876]}, {\"categories\": [\"0\", \"1\", \"2\", \"3\", \"4\", \"5\", \"6\", \"7\", \"8\", \"9\", \"10\", \"11\", \"12\", \"13\", \"14\", \"15\", \"16\", \"17\", \"18\", \"19\", \"20\", \"21\", \"22\", \"23\", \"24\", \"25\", \"26\", \"27\", \"28\", \"29\", \"30\", \"31\", \"32\", \"33\", \"34\", \"35\", \"38\", \"39\"], \"mode\": \"lines\", \"name\": \"log_loss_min\", \"stepped\": true, \"type\": \"scatter\", \"data\": [0.5190700829379405, 0.4493062292899842, 0.3932996069433467, 0.3932996069433467, 0.3932996069433467, 0.3932996069433467, 0.3932996069433467, 0.3932996069433467, 0.3932996069433467, 0.3932996069433467, 0.3932996069433467, 0.3932996069433467, 0.3932996069433467, 0.3932996069433467, 0.3932996069433467, 0.3932996069433467, 0.3932996069433467, 0.3932996069433467, 0.3932996069433467, 0.3932996069433467, 0.3932996069433467, 0.3932996069433467, 0.3932996069433467, 0.3932996069433467, 0.3932996069433467, 0.3932996069433467, 0.3932996069433467, 0.3932996069433467, 0.3932996069433467, 0.3932996069433467, 0.3932996069433467, 0.3932996069433467, 0.3932996069433467, 0.3932996069433467, 0.3932996069433467, 0.3932996069433467, 0.3932996069433467, 0.3932996069433467]}], \"recall_score_macro\": [{\"categories\": [\"0\", \"1\", \"2\", \"3\", \"4\", \"5\", \"6\", \"7\", \"8\", \"9\", \"10\", \"11\", \"12\", \"13\", \"14\", \"15\", \"16\", \"17\", \"18\", \"19\", \"20\", \"21\", \"22\", \"23\", \"24\", \"25\", \"26\", \"27\", \"28\", \"29\", \"30\", \"31\", \"32\", \"33\", \"34\", \"35\", \"38\", \"39\"], \"mode\": \"markers\", \"name\": \"recall_score_macro\", \"stepped\": false, \"type\": \"scatter\", \"data\": [0.7962428979689042, 0.8106600494448791, 0.7773680453962962, 0.7901340171696208, 0.8364856924551196, 0.5068387243561392, 0.6293773886072648, 0.76215377244015, 0.7858566382018395, 0.7912628006668255, 0.7842015389151612, 0.7866274566506763, 0.7748504958663629, 0.7809480927998731, 0.7278179328411527, 0.7207252010115788, 0.8075967421381508, 0.7332958740176233, 0.798948240227265, 0.7943649068939317, 0.7878680581544358, 0.8211681707095794, 0.7347143594279817, 0.7848504958663629, 0.5390726817042607, 0.8276119455879517, 0.7748342292382541, 0.7687300476870911, 0.7872856703410109, 0.7717565406729493, 0.7715931726941789, 0.8071655170165231, 0.7580618330328083, 0.7974736402658229, 0.7848504958663629, 0.6454670825820207, 0.8229508939203212, 0.7948425645561867]}, {\"categories\": [\"0\", \"1\", \"2\", \"3\", \"4\", \"5\", \"6\", \"7\", \"8\", \"9\", \"10\", \"11\", \"12\", \"13\", \"14\", \"15\", \"16\", \"17\", \"18\", \"19\", \"20\", \"21\", \"22\", \"23\", \"24\", \"25\", \"26\", \"27\", \"28\", \"29\", \"30\", \"31\", \"32\", \"33\", \"34\", \"35\", \"38\", \"39\"], \"mode\": \"lines\", \"name\": \"recall_score_macro_max\", \"stepped\": true, \"type\": \"scatter\", \"data\": [0.7962428979689042, 0.8106600494448791, 0.8106600494448791, 0.8106600494448791, 0.8364856924551196, 0.8364856924551196, 0.8364856924551196, 0.8364856924551196, 0.8364856924551196, 0.8364856924551196, 0.8364856924551196, 0.8364856924551196, 0.8364856924551196, 0.8364856924551196, 0.8364856924551196, 0.8364856924551196, 0.8364856924551196, 0.8364856924551196, 0.8364856924551196, 0.8364856924551196, 0.8364856924551196, 0.8364856924551196, 0.8364856924551196, 0.8364856924551196, 0.8364856924551196, 0.8364856924551196, 0.8364856924551196, 0.8364856924551196, 0.8364856924551196, 0.8364856924551196, 0.8364856924551196, 0.8364856924551196, 0.8364856924551196, 0.8364856924551196, 0.8364856924551196, 0.8364856924551196, 0.8364856924551196, 0.8364856924551196]}], \"average_precision_score_weighted\": [{\"categories\": [\"0\", \"1\", \"2\", \"3\", \"4\", \"5\", \"6\", \"7\", \"8\", \"9\", \"10\", \"11\", \"12\", \"13\", \"14\", \"15\", \"16\", \"17\", \"18\", \"19\", \"20\", \"21\", \"22\", \"23\", \"24\", \"25\", \"26\", \"27\", \"28\", \"29\", \"30\", \"31\", \"32\", \"33\", \"34\", \"35\", \"38\", \"39\"], \"mode\": \"markers\", \"name\": \"average_precision_score_weighted\", \"stepped\": false, \"type\": \"scatter\", \"data\": [0.8816531686756182, 0.8952264403782841, 0.900650139663757, 0.8879624912968529, 0.9034510440687498, 0.5874421786640491, 0.7441813897430339, 0.8859485778223488, 0.8910140601625697, 0.9050001714156671, 0.9093165035440507, 0.875487547878748, 0.8916425233172873, 0.8995573313585681, 0.9020469648621026, 0.8723796367445166, 0.8938530762645807, 0.8911948316539181, 0.8907639122766525, 0.901050922589631, 0.8954465719969431, 0.8925406487612207, 0.8797515455114823, 0.9005742998869968, 0.8592953479321134, 0.8918734365113771, 0.8886638359172316, 0.8884787175254016, 0.902372995345168, 0.8848590719621446, 0.8974904806418914, 0.8983522658750802, 0.8606577461199414, 0.8877178062906644, 0.9052285120658692, 0.7749266776459283, 0.9081418436139159, 0.9097587931686217]}, {\"categories\": [\"0\", \"1\", \"2\", \"3\", \"4\", \"5\", \"6\", \"7\", \"8\", \"9\", \"10\", \"11\", \"12\", \"13\", \"14\", \"15\", \"16\", \"17\", \"18\", \"19\", \"20\", \"21\", \"22\", \"23\", \"24\", \"25\", \"26\", \"27\", \"28\", \"29\", \"30\", \"31\", \"32\", \"33\", \"34\", \"35\", \"38\", \"39\"], \"mode\": \"lines\", \"name\": \"average_precision_score_weighted_max\", \"stepped\": true, \"type\": \"scatter\", \"data\": [0.8816531686756182, 0.8952264403782841, 0.900650139663757, 0.900650139663757, 0.9034510440687498, 0.9034510440687498, 0.9034510440687498, 0.9034510440687498, 0.9034510440687498, 0.9050001714156671, 0.9093165035440507, 0.9093165035440507, 0.9093165035440507, 0.9093165035440507, 0.9093165035440507, 0.9093165035440507, 0.9093165035440507, 0.9093165035440507, 0.9093165035440507, 0.9093165035440507, 0.9093165035440507, 0.9093165035440507, 0.9093165035440507, 0.9093165035440507, 0.9093165035440507, 0.9093165035440507, 0.9093165035440507, 0.9093165035440507, 0.9093165035440507, 0.9093165035440507, 0.9093165035440507, 0.9093165035440507, 0.9093165035440507, 0.9093165035440507, 0.9093165035440507, 0.9093165035440507, 0.9093165035440507, 0.9097587931686217]}]}, \"metricName\": null, \"primaryMetricName\": \"accuracy\", \"showLegend\": false}, \"run_metrics\": [{\"name\": \"experiment_status\", \"run_id\": \"AutoML_f53cdb49-dddb-4905-ac95-d30de4607c16\", \"categories\": [0, 1, 2, 3, 4, 5, 6, 7, 8, 9, 10, 11, 12, 13], \"series\": [{\"data\": [\"DatasetEvaluation\", \"FeaturesGeneration\", \"DatasetFeaturization\", \"DatasetFeaturizationCompleted\", \"DatasetCrossValidationSplit\", \"ModelSelection\", \"BestRunExplainModel\", \"ModelExplanationDataSetSetup\", \"PickSurrogateModel\", \"EngineeredFeatureExplanations\", \"EngineeredFeatureExplanations\", \"RawFeaturesExplanations\", \"RawFeaturesExplanations\", \"BestRunExplainModel\"]}]}, {\"name\": \"experiment_status_description\", \"run_id\": \"AutoML_f53cdb49-dddb-4905-ac95-d30de4607c16\", \"categories\": [0, 1, 2, 3, 4, 5, 6, 7, 8, 9, 10, 11, 12, 13], \"series\": [{\"data\": [\"Gathering dataset statistics.\", \"Generating features for the dataset.\", \"Beginning to fit featurizers and featurize the dataset.\", \"Completed fit featurizers and featurizing the dataset.\", \"Generating individually featurized CV splits.\", \"Beginning model selection.\", \"Best run model explanations started\", \"Model explanations data setup completed\", \"Choosing LightGBM as the surrogate model for explanations\", \"Computation of engineered features started\", \"Computation of engineered features completed\", \"Computation of raw features started\", \"Computation of raw features completed\", \"Best run model explanations completed\"]}]}, {\"name\": \"f1_score_micro\", \"run_id\": \"AutoML_f53cdb49-dddb-4905-ac95-d30de4607c16\", \"categories\": [0], \"series\": [{\"data\": [0.8484848484848484]}]}, {\"name\": \"average_precision_score_weighted\", \"run_id\": \"AutoML_f53cdb49-dddb-4905-ac95-d30de4607c16\", \"categories\": [0], \"series\": [{\"data\": [0.9034510440687498]}]}, {\"name\": \"precision_score_macro\", \"run_id\": \"AutoML_f53cdb49-dddb-4905-ac95-d30de4607c16\", \"categories\": [0], \"series\": [{\"data\": [0.8338229155901569]}]}, {\"name\": \"accuracy\", \"run_id\": \"AutoML_f53cdb49-dddb-4905-ac95-d30de4607c16\", \"categories\": [0], \"series\": [{\"data\": [0.8484848484848484]}]}, {\"name\": \"f1_score_macro\", \"run_id\": \"AutoML_f53cdb49-dddb-4905-ac95-d30de4607c16\", \"categories\": [0], \"series\": [{\"data\": [0.830829633330222]}]}, {\"name\": \"average_precision_score_macro\", \"run_id\": \"AutoML_f53cdb49-dddb-4905-ac95-d30de4607c16\", \"categories\": [0], \"series\": [{\"data\": [0.8806889037290807]}]}, {\"name\": \"matthews_correlation\", \"run_id\": \"AutoML_f53cdb49-dddb-4905-ac95-d30de4607c16\", \"categories\": [0], \"series\": [{\"data\": [0.6696353725047725]}]}, {\"name\": \"norm_macro_recall\", \"run_id\": \"AutoML_f53cdb49-dddb-4905-ac95-d30de4607c16\", \"categories\": [0], \"series\": [{\"data\": [0.6729713849102394]}]}, {\"name\": \"recall_score_micro\", \"run_id\": \"AutoML_f53cdb49-dddb-4905-ac95-d30de4607c16\", \"categories\": [0], \"series\": [{\"data\": [0.8484848484848484]}]}, {\"name\": \"weighted_accuracy\", \"run_id\": \"AutoML_f53cdb49-dddb-4905-ac95-d30de4607c16\", \"categories\": [0], \"series\": [{\"data\": [0.859772392010403]}]}, {\"name\": \"recall_score_weighted\", \"run_id\": \"AutoML_f53cdb49-dddb-4905-ac95-d30de4607c16\", \"categories\": [0], \"series\": [{\"data\": [0.8484848484848484]}]}, {\"name\": \"recall_score_macro\", \"run_id\": \"AutoML_f53cdb49-dddb-4905-ac95-d30de4607c16\", \"categories\": [0], \"series\": [{\"data\": [0.8364856924551196]}]}, {\"name\": \"precision_score_weighted\", \"run_id\": \"AutoML_f53cdb49-dddb-4905-ac95-d30de4607c16\", \"categories\": [0], \"series\": [{\"data\": [0.8526286644390094]}]}, {\"name\": \"AUC_weighted\", \"run_id\": \"AutoML_f53cdb49-dddb-4905-ac95-d30de4607c16\", \"categories\": [0], \"series\": [{\"data\": [0.9018404240238607]}]}, {\"name\": \"average_precision_score_micro\", \"run_id\": \"AutoML_f53cdb49-dddb-4905-ac95-d30de4607c16\", \"categories\": [0], \"series\": [{\"data\": [0.9009520050002999]}]}, {\"name\": \"precision_score_micro\", \"run_id\": \"AutoML_f53cdb49-dddb-4905-ac95-d30de4607c16\", \"categories\": [0], \"series\": [{\"data\": [0.8484848484848484]}]}, {\"name\": \"balanced_accuracy\", \"run_id\": \"AutoML_f53cdb49-dddb-4905-ac95-d30de4607c16\", \"categories\": [0], \"series\": [{\"data\": [0.8364856924551196]}]}, {\"name\": \"AUC_micro\", \"run_id\": \"AutoML_f53cdb49-dddb-4905-ac95-d30de4607c16\", \"categories\": [0], \"series\": [{\"data\": [0.9030782573206816]}]}, {\"name\": \"f1_score_weighted\", \"run_id\": \"AutoML_f53cdb49-dddb-4905-ac95-d30de4607c16\", \"categories\": [0], \"series\": [{\"data\": [0.8467848011086812]}]}, {\"name\": \"AUC_macro\", \"run_id\": \"AutoML_f53cdb49-dddb-4905-ac95-d30de4607c16\", \"categories\": [0], \"series\": [{\"data\": [0.9018404240238607]}]}, {\"name\": \"log_loss\", \"run_id\": \"AutoML_f53cdb49-dddb-4905-ac95-d30de4607c16\", \"categories\": [0], \"series\": [{\"data\": [0.40294094564307514]}]}], \"run_logs\": \"\\nRun is completed.\", \"graph\": {}, \"widget_settings\": {\"childWidgetDisplay\": \"popup\", \"send_telemetry\": false, \"log_level\": \"INFO\", \"sdk_version\": \"1.24.0\"}, \"loading\": false}"
          },
          "metadata": {}
        },
        {
          "output_type": "stream",
          "name": "stdout",
          "text": [
            "\n",
            "\n",
            "****************************************************************************************************\n",
            "DATA GUARDRAILS: \n",
            "\n",
            "TYPE:         Class balancing detection\n",
            "STATUS:       PASSED\n",
            "DESCRIPTION:  Your inputs were analyzed, and all classes are balanced in your training data.\n",
            "              Learn more about imbalanced data: https://aka.ms/AutomatedMLImbalancedData\n",
            "\n",
            "****************************************************************************************************\n",
            "\n",
            "TYPE:         Missing feature values imputation\n",
            "STATUS:       PASSED\n",
            "DESCRIPTION:  No feature missing values were detected in the training data.\n",
            "              Learn more about missing value imputation: https://aka.ms/AutomatedMLFeaturization\n",
            "\n",
            "****************************************************************************************************\n",
            "\n",
            "TYPE:         High cardinality feature detection\n",
            "STATUS:       PASSED\n",
            "DESCRIPTION:  Your inputs were analyzed, and no high cardinality features were detected.\n",
            "              Learn more about high cardinality feature handling: https://aka.ms/AutomatedMLFeaturization\n",
            "\n",
            "****************************************************************************************************\n",
            "\n",
            "****************************************************************************************************\n",
            "ITERATION: The iteration being evaluated.\n",
            "PIPELINE: A summary description of the pipeline being evaluated.\n",
            "DURATION: Time taken for the current iteration.\n",
            "METRIC: The result of computing score on the fitted pipeline.\n",
            "BEST: The best observed score thus far.\n",
            "****************************************************************************************************\n",
            "\n",
            " ITERATION   PIPELINE                                       DURATION      METRIC      BEST\n",
            "         0   MaxAbsScaler LightGBM                          0:02:01       0.8260    0.8260\n",
            "         1   MaxAbsScaler XGBoostClassifier                 0:02:00       0.8349    0.8349\n",
            "         2   MinMaxScaler RandomForest                      0:00:54       0.8171    0.8349\n",
            "         3   MinMaxScaler RandomForest                      0:02:04       0.8305    0.8349\n",
            "         4   MinMaxScaler RandomForest                      0:00:51       0.8485    0.8485\n",
            "         5   RobustScaler KNN                               0:00:58       0.6070    0.8485\n",
            "         6   MinMaxScaler SVM                               0:00:58       0.7057    0.8485\n",
            "         7   SparseNormalizer XGBoostClassifier             0:00:48       0.8126    0.8485\n",
            "         8   SparseNormalizer XGBoostClassifier             0:00:50       0.8216    0.8485\n",
            "         9   SparseNormalizer XGBoostClassifier             0:00:56       0.8305    0.8485\n",
            "        10   SparseNormalizer XGBoostClassifier             0:00:49       0.8261    0.8485\n",
            "        11   SparseNormalizer XGBoostClassifier             0:00:56       0.8216    0.8485\n",
            "        12   MaxAbsScaler ExtremeRandomTrees                0:00:59       0.8306    0.8485\n",
            "        13   RobustScaler ExtremeRandomTrees                0:00:48       0.8306    0.8485\n",
            "        14   StandardScalerWrapper LightGBM                 0:01:04       0.7858    0.8485\n",
            "        15   MaxAbsScaler LightGBM                          0:00:51       0.7905    0.8485\n",
            "        16   MaxAbsScaler LightGBM                          0:00:56       0.8305    0.8485\n",
            "        17   StandardScalerWrapper XGBoostClassifier        0:00:48       0.7949    0.8485\n",
            "        18   StandardScalerWrapper LightGBM                 0:01:53       0.8395    0.8485\n",
            "        19   StandardScalerWrapper LightGBM                 0:01:01       0.8261    0.8485\n",
            "        20   SparseNormalizer XGBoostClassifier             0:00:40       0.8261    0.8485\n",
            "        21   StandardScalerWrapper LightGBM                 0:00:55       0.8483    0.8485\n",
            "        22   StandardScalerWrapper XGBoostClassifier        0:00:41       0.7903    0.8485\n",
            "        23   MaxAbsScaler ExtremeRandomTrees                0:00:53       0.8395    0.8485\n",
            "        24   StandardScalerWrapper ExtremeRandomTrees       0:00:51       0.6923    0.8485\n",
            "        25   MinMaxScaler RandomForest                      0:00:47       0.8394    0.8485\n",
            "        26   StandardScalerWrapper XGBoostClassifier        0:00:49       0.8172    0.8485\n",
            "        27   MaxAbsScaler ExtremeRandomTrees                0:00:45       0.8217    0.8485\n",
            "        28   MinMaxScaler LightGBM                          0:00:44       0.8171    0.8485\n",
            "        29   RobustScaler ExtremeRandomTrees                0:00:45       0.7901    0.8485\n",
            "        30   RobustScaler RandomForest                      0:00:54       0.7946    0.8485\n",
            "        31   RobustScaler LightGBM                          0:00:49       0.8305    0.8485\n",
            "        32   MinMaxScaler LogisticRegression                0:00:50       0.7903    0.8485\n",
            "        33   StandardScalerWrapper LightGBM                 0:00:51       0.8259    0.8485\n",
            "        34   MaxAbsScaler ExtremeRandomTrees                0:00:54       0.8395    0.8485\n",
            "        35   SparseNormalizer RandomForest                  0:00:40       0.6924    0.8485\n",
            "        36                                                  0:00:17          nan    0.8485\n",
            "        37                                                  0:00:12          nan    0.8485\n",
            "        38    VotingEnsemble                                0:01:27       0.8617    0.8617\n",
            "        39    StackEnsemble                                 0:01:28       0.8306    0.8617\n"
          ]
        },
        {
          "output_type": "execute_result",
          "execution_count": 9,
          "data": {
            "text/plain": "{'runId': 'AutoML_f53cdb49-dddb-4905-ac95-d30de4607c16',\n 'target': 'arvccompute',\n 'status': 'Completed',\n 'startTimeUtc': '2021-03-20T15:14:12.181896Z',\n 'endTimeUtc': '2021-03-20T15:46:49.32487Z',\n 'properties': {'num_iterations': '1000',\n  'training_type': 'TrainFull',\n  'acquisition_function': 'EI',\n  'primary_metric': 'accuracy',\n  'train_split': '0',\n  'acquisition_parameter': '0',\n  'num_cross_validation': '5',\n  'target': 'arvccompute',\n  'AMLSettingsJsonString': '{\"path\":null,\"name\":\"arvc-azureml-project3-experiment-automl\",\"subscription_id\":\"1b944a9b-fdae-4f97-aeb1-b7eea0beac53\",\"resource_group\":\"aml-quickstarts-140959\",\"workspace_name\":\"quick-starts-ws-140959\",\"region\":\"southcentralus\",\"compute_target\":\"arvccompute\",\"spark_service\":null,\"azure_service\":\"remote\",\"many_models\":false,\"pipeline_fetch_max_batch_size\":1,\"enable_batch_run\":false,\"iterations\":1000,\"primary_metric\":\"accuracy\",\"task_type\":\"classification\",\"data_script\":null,\"validation_size\":0.0,\"n_cross_validations\":5,\"y_min\":null,\"y_max\":null,\"num_classes\":null,\"featurization\":\"auto\",\"_ignore_package_version_incompatibilities\":false,\"is_timeseries\":false,\"max_cores_per_iteration\":1,\"max_concurrent_iterations\":5,\"iteration_timeout_minutes\":null,\"mem_in_mb\":null,\"enforce_time_on_windows\":false,\"experiment_timeout_minutes\":30,\"experiment_exit_score\":null,\"whitelist_models\":null,\"blacklist_algos\":[\"TensorFlowLinearClassifier\",\"TensorFlowDNN\"],\"supported_models\":[\"RandomForest\",\"ExtremeRandomTrees\",\"XGBoostClassifier\",\"SGD\",\"BernoulliNaiveBayes\",\"LinearSVM\",\"KNN\",\"LogisticRegression\",\"DecisionTree\",\"LightGBM\",\"AveragedPerceptronClassifier\",\"MultinomialNaiveBayes\",\"GradientBoosting\",\"TensorFlowDNN\",\"SVM\",\"TensorFlowLinearClassifier\"],\"private_models\":[],\"auto_blacklist\":true,\"blacklist_samples_reached\":false,\"exclude_nan_labels\":true,\"verbosity\":20,\"_debug_log\":\"azureml_automl.log\",\"show_warnings\":false,\"model_explainability\":true,\"service_url\":null,\"sdk_url\":null,\"sdk_packages\":null,\"enable_onnx_compatible_models\":false,\"enable_split_onnx_featurizer_estimator_models\":false,\"vm_type\":\"STANDARD_DS12_V2\",\"telemetry_verbosity\":20,\"send_telemetry\":true,\"enable_dnn\":false,\"scenario\":\"SDK-1.13.0\",\"environment_label\":null,\"save_mlflow\":false,\"force_text_dnn\":false,\"enable_feature_sweeping\":true,\"enable_early_stopping\":true,\"early_stopping_n_iters\":10,\"metrics\":null,\"enable_metric_confidence\":false,\"enable_ensembling\":true,\"enable_stack_ensembling\":true,\"ensemble_iterations\":15,\"enable_tf\":false,\"enable_subsampling\":null,\"subsample_seed\":null,\"enable_nimbusml\":false,\"enable_streaming\":false,\"force_streaming\":false,\"track_child_runs\":true,\"allowed_private_models\":[],\"label_column_name\":\"DEATH_EVENT\",\"weight_column_name\":null,\"cv_split_column_names\":null,\"enable_local_managed\":false,\"_local_managed_run_id\":null,\"cost_mode\":1,\"lag_length\":0,\"metric_operation\":\"maximize\",\"preprocess\":true}',\n  'DataPrepJsonString': '{\\\\\"training_data\\\\\": \\\\\"{\\\\\\\\\\\\\"blocks\\\\\\\\\\\\\": [{\\\\\\\\\\\\\"id\\\\\\\\\\\\\": \\\\\\\\\\\\\"68cbc03f-eeef-4d87-aeb1-6e8d9269588c\\\\\\\\\\\\\", \\\\\\\\\\\\\"type\\\\\\\\\\\\\": \\\\\\\\\\\\\"Microsoft.DPrep.GetDatastoreFilesBlock\\\\\\\\\\\\\", \\\\\\\\\\\\\"arguments\\\\\\\\\\\\\": {\\\\\\\\\\\\\"datastores\\\\\\\\\\\\\": [{\\\\\\\\\\\\\"datastoreName\\\\\\\\\\\\\": \\\\\\\\\\\\\"workspaceblobstore\\\\\\\\\\\\\", \\\\\\\\\\\\\"path\\\\\\\\\\\\\": \\\\\\\\\\\\\"train.csv\\\\\\\\\\\\\", \\\\\\\\\\\\\"resourceGroup\\\\\\\\\\\\\": \\\\\\\\\\\\\"aml-quickstarts-140959\\\\\\\\\\\\\", \\\\\\\\\\\\\"subscription\\\\\\\\\\\\\": \\\\\\\\\\\\\"1b944a9b-fdae-4f97-aeb1-b7eea0beac53\\\\\\\\\\\\\", \\\\\\\\\\\\\"workspaceName\\\\\\\\\\\\\": \\\\\\\\\\\\\"quick-starts-ws-140959\\\\\\\\\\\\\"}]}, \\\\\\\\\\\\\"localData\\\\\\\\\\\\\": {}, \\\\\\\\\\\\\"isEnabled\\\\\\\\\\\\\": true, \\\\\\\\\\\\\"name\\\\\\\\\\\\\": null, \\\\\\\\\\\\\"annotation\\\\\\\\\\\\\": null}, {\\\\\\\\\\\\\"id\\\\\\\\\\\\\": \\\\\\\\\\\\\"7d8bbd7e-5d08-4f1b-bbfa-a601f99b5fe4\\\\\\\\\\\\\", \\\\\\\\\\\\\"type\\\\\\\\\\\\\": \\\\\\\\\\\\\"Microsoft.DPrep.ParseDelimitedBlock\\\\\\\\\\\\\", \\\\\\\\\\\\\"arguments\\\\\\\\\\\\\": {\\\\\\\\\\\\\"columnHeadersMode\\\\\\\\\\\\\": 3, \\\\\\\\\\\\\"fileEncoding\\\\\\\\\\\\\": 0, \\\\\\\\\\\\\"handleQuotedLineBreaks\\\\\\\\\\\\\": false, \\\\\\\\\\\\\"preview\\\\\\\\\\\\\": false, \\\\\\\\\\\\\"separator\\\\\\\\\\\\\": \\\\\\\\\\\\\",\\\\\\\\\\\\\", \\\\\\\\\\\\\"skipRows\\\\\\\\\\\\\": 0, \\\\\\\\\\\\\"skipRowsMode\\\\\\\\\\\\\": 0}, \\\\\\\\\\\\\"localData\\\\\\\\\\\\\": {}, \\\\\\\\\\\\\"isEnabled\\\\\\\\\\\\\": true, \\\\\\\\\\\\\"name\\\\\\\\\\\\\": null, \\\\\\\\\\\\\"annotation\\\\\\\\\\\\\": null}, {\\\\\\\\\\\\\"id\\\\\\\\\\\\\": \\\\\\\\\\\\\"4ebf2eb3-f06a-4e65-8d8a-45f98c977990\\\\\\\\\\\\\", \\\\\\\\\\\\\"type\\\\\\\\\\\\\": \\\\\\\\\\\\\"Microsoft.DPrep.DropColumnsBlock\\\\\\\\\\\\\", \\\\\\\\\\\\\"arguments\\\\\\\\\\\\\": {\\\\\\\\\\\\\"columns\\\\\\\\\\\\\": {\\\\\\\\\\\\\"type\\\\\\\\\\\\\": 0, \\\\\\\\\\\\\"details\\\\\\\\\\\\\": {\\\\\\\\\\\\\"selectedColumns\\\\\\\\\\\\\": [\\\\\\\\\\\\\"Path\\\\\\\\\\\\\"]}}}, \\\\\\\\\\\\\"localData\\\\\\\\\\\\\": {}, \\\\\\\\\\\\\"isEnabled\\\\\\\\\\\\\": true, \\\\\\\\\\\\\"name\\\\\\\\\\\\\": null, \\\\\\\\\\\\\"annotation\\\\\\\\\\\\\": null}, {\\\\\\\\\\\\\"id\\\\\\\\\\\\\": \\\\\\\\\\\\\"cb269074-f31e-4d9e-a5d9-c7e9c8af9efd\\\\\\\\\\\\\", \\\\\\\\\\\\\"type\\\\\\\\\\\\\": \\\\\\\\\\\\\"Microsoft.DPrep.SetColumnTypesBlock\\\\\\\\\\\\\", \\\\\\\\\\\\\"arguments\\\\\\\\\\\\\": {\\\\\\\\\\\\\"columnConversion\\\\\\\\\\\\\": [{\\\\\\\\\\\\\"column\\\\\\\\\\\\\": {\\\\\\\\\\\\\"type\\\\\\\\\\\\\": 2, \\\\\\\\\\\\\"details\\\\\\\\\\\\\": {\\\\\\\\\\\\\"selectedColumn\\\\\\\\\\\\\": \\\\\\\\\\\\\"age\\\\\\\\\\\\\"}}, \\\\\\\\\\\\\"typeProperty\\\\\\\\\\\\\": 3}, {\\\\\\\\\\\\\"column\\\\\\\\\\\\\": {\\\\\\\\\\\\\"type\\\\\\\\\\\\\": 2, \\\\\\\\\\\\\"details\\\\\\\\\\\\\": {\\\\\\\\\\\\\"selectedColumn\\\\\\\\\\\\\": \\\\\\\\\\\\\"anaemia\\\\\\\\\\\\\"}}, \\\\\\\\\\\\\"typeProperty\\\\\\\\\\\\\": 2}, {\\\\\\\\\\\\\"column\\\\\\\\\\\\\": {\\\\\\\\\\\\\"type\\\\\\\\\\\\\": 2, \\\\\\\\\\\\\"details\\\\\\\\\\\\\": {\\\\\\\\\\\\\"selectedColumn\\\\\\\\\\\\\": \\\\\\\\\\\\\"creatinine_phosphokinase\\\\\\\\\\\\\"}}, \\\\\\\\\\\\\"typeProperty\\\\\\\\\\\\\": 2}, {\\\\\\\\\\\\\"column\\\\\\\\\\\\\": {\\\\\\\\\\\\\"type\\\\\\\\\\\\\": 2, \\\\\\\\\\\\\"details\\\\\\\\\\\\\": {\\\\\\\\\\\\\"selectedColumn\\\\\\\\\\\\\": \\\\\\\\\\\\\"diabetes\\\\\\\\\\\\\"}}, \\\\\\\\\\\\\"typeProperty\\\\\\\\\\\\\": 2}, {\\\\\\\\\\\\\"column\\\\\\\\\\\\\": {\\\\\\\\\\\\\"type\\\\\\\\\\\\\": 2, \\\\\\\\\\\\\"details\\\\\\\\\\\\\": {\\\\\\\\\\\\\"selectedColumn\\\\\\\\\\\\\": \\\\\\\\\\\\\"ejection_fraction\\\\\\\\\\\\\"}}, \\\\\\\\\\\\\"typeProperty\\\\\\\\\\\\\": 2}, {\\\\\\\\\\\\\"column\\\\\\\\\\\\\": {\\\\\\\\\\\\\"type\\\\\\\\\\\\\": 2, \\\\\\\\\\\\\"details\\\\\\\\\\\\\": {\\\\\\\\\\\\\"selectedColumn\\\\\\\\\\\\\": \\\\\\\\\\\\\"high_blood_pressure\\\\\\\\\\\\\"}}, \\\\\\\\\\\\\"typeProperty\\\\\\\\\\\\\": 2}, {\\\\\\\\\\\\\"column\\\\\\\\\\\\\": {\\\\\\\\\\\\\"type\\\\\\\\\\\\\": 2, \\\\\\\\\\\\\"details\\\\\\\\\\\\\": {\\\\\\\\\\\\\"selectedColumn\\\\\\\\\\\\\": \\\\\\\\\\\\\"platelets\\\\\\\\\\\\\"}}, \\\\\\\\\\\\\"typeProperty\\\\\\\\\\\\\": 3}, {\\\\\\\\\\\\\"column\\\\\\\\\\\\\": {\\\\\\\\\\\\\"type\\\\\\\\\\\\\": 2, \\\\\\\\\\\\\"details\\\\\\\\\\\\\": {\\\\\\\\\\\\\"selectedColumn\\\\\\\\\\\\\": \\\\\\\\\\\\\"serum_creatinine\\\\\\\\\\\\\"}}, \\\\\\\\\\\\\"typeProperty\\\\\\\\\\\\\": 3}, {\\\\\\\\\\\\\"column\\\\\\\\\\\\\": {\\\\\\\\\\\\\"type\\\\\\\\\\\\\": 2, \\\\\\\\\\\\\"details\\\\\\\\\\\\\": {\\\\\\\\\\\\\"selectedColumn\\\\\\\\\\\\\": \\\\\\\\\\\\\"serum_sodium\\\\\\\\\\\\\"}}, \\\\\\\\\\\\\"typeProperty\\\\\\\\\\\\\": 2}, {\\\\\\\\\\\\\"column\\\\\\\\\\\\\": {\\\\\\\\\\\\\"type\\\\\\\\\\\\\": 2, \\\\\\\\\\\\\"details\\\\\\\\\\\\\": {\\\\\\\\\\\\\"selectedColumn\\\\\\\\\\\\\": \\\\\\\\\\\\\"sex\\\\\\\\\\\\\"}}, \\\\\\\\\\\\\"typeProperty\\\\\\\\\\\\\": 2}, {\\\\\\\\\\\\\"column\\\\\\\\\\\\\": {\\\\\\\\\\\\\"type\\\\\\\\\\\\\": 2, \\\\\\\\\\\\\"details\\\\\\\\\\\\\": {\\\\\\\\\\\\\"selectedColumn\\\\\\\\\\\\\": \\\\\\\\\\\\\"smoking\\\\\\\\\\\\\"}}, \\\\\\\\\\\\\"typeProperty\\\\\\\\\\\\\": 2}, {\\\\\\\\\\\\\"column\\\\\\\\\\\\\": {\\\\\\\\\\\\\"type\\\\\\\\\\\\\": 2, \\\\\\\\\\\\\"details\\\\\\\\\\\\\": {\\\\\\\\\\\\\"selectedColumn\\\\\\\\\\\\\": \\\\\\\\\\\\\"time\\\\\\\\\\\\\"}}, \\\\\\\\\\\\\"typeProperty\\\\\\\\\\\\\": 2}, {\\\\\\\\\\\\\"column\\\\\\\\\\\\\": {\\\\\\\\\\\\\"type\\\\\\\\\\\\\": 2, \\\\\\\\\\\\\"details\\\\\\\\\\\\\": {\\\\\\\\\\\\\"selectedColumn\\\\\\\\\\\\\": \\\\\\\\\\\\\"DEATH_EVENT\\\\\\\\\\\\\"}}, \\\\\\\\\\\\\"typeProperty\\\\\\\\\\\\\": 2}]}, \\\\\\\\\\\\\"localData\\\\\\\\\\\\\": {}, \\\\\\\\\\\\\"isEnabled\\\\\\\\\\\\\": true, \\\\\\\\\\\\\"name\\\\\\\\\\\\\": null, \\\\\\\\\\\\\"annotation\\\\\\\\\\\\\": null}], \\\\\\\\\\\\\"inspectors\\\\\\\\\\\\\": [], \\\\\\\\\\\\\"meta\\\\\\\\\\\\\": {\\\\\\\\\\\\\"savedDatasetId\\\\\\\\\\\\\": \\\\\\\\\\\\\"8c230cb8-e486-444e-94d2-7de6e49c4e55\\\\\\\\\\\\\", \\\\\\\\\\\\\"datasetType\\\\\\\\\\\\\": \\\\\\\\\\\\\"tabular\\\\\\\\\\\\\", \\\\\\\\\\\\\"subscriptionId\\\\\\\\\\\\\": \\\\\\\\\\\\\"1b944a9b-fdae-4f97-aeb1-b7eea0beac53\\\\\\\\\\\\\", \\\\\\\\\\\\\"workspaceId\\\\\\\\\\\\\": \\\\\\\\\\\\\"8e006e0e-2795-4610-a18c-3857190dfbf2\\\\\\\\\\\\\", \\\\\\\\\\\\\"workspaceLocation\\\\\\\\\\\\\": \\\\\\\\\\\\\"southcentralus\\\\\\\\\\\\\", \\\\\\\\\\\\\"partition_keys\\\\\\\\\\\\\": \\\\\\\\\\\\\"true\\\\\\\\\\\\\"}}\\\\\", \\\\\"activities\\\\\": 0}',\n  'EnableSubsampling': None,\n  'runTemplate': 'AutoML',\n  'azureml.runsource': 'automl',\n  'display_task_type': 'classification',\n  'dependencies_versions': '{\"azureml-widgets\": \"1.24.0\", \"azureml-train\": \"1.24.0\", \"azureml-train-restclients-hyperdrive\": \"1.24.0\", \"azureml-train-core\": \"1.24.0\", \"azureml-train-automl\": \"1.24.0\", \"azureml-train-automl-runtime\": \"1.24.0\", \"azureml-train-automl-client\": \"1.24.0\", \"azureml-tensorboard\": \"1.24.0\", \"azureml-telemetry\": \"1.24.0\", \"azureml-sdk\": \"1.24.0\", \"azureml-samples\": \"0+unknown\", \"azureml-pipeline\": \"1.24.0\", \"azureml-pipeline-steps\": \"1.24.0\", \"azureml-pipeline-core\": \"1.24.0\", \"azureml-opendatasets\": \"1.24.0\", \"azureml-model-management-sdk\": \"1.0.1b6.post1\", \"azureml-mlflow\": \"1.24.0\", \"azureml-interpret\": \"1.24.0\", \"azureml-explain-model\": \"1.24.0\", \"azureml-defaults\": \"1.24.0\", \"azureml-dataset-runtime\": \"1.24.0\", \"azureml-dataprep\": \"2.11.1\", \"azureml-dataprep-rslex\": \"1.9.0\", \"azureml-dataprep-native\": \"30.0.0\", \"azureml-datadrift\": \"1.24.0\", \"azureml-core\": \"1.24.0\", \"azureml-contrib-services\": \"1.24.0\", \"azureml-contrib-server\": \"1.24.0\", \"azureml-contrib-reinforcementlearning\": \"1.24.0\", \"azureml-contrib-pipeline-steps\": \"1.24.0\", \"azureml-contrib-notebook\": \"1.24.0\", \"azureml-contrib-gbdt\": \"1.24.0\", \"azureml-contrib-fairness\": \"1.24.0\", \"azureml-contrib-dataset\": \"1.24.0\", \"azureml-cli-common\": \"1.24.0\", \"azureml-automl-runtime\": \"1.24.0\", \"azureml-automl-dnn-nlp\": \"1.24.0\", \"azureml-automl-core\": \"1.24.0\", \"azureml-accel-models\": \"1.24.0\"}',\n  '_aml_system_scenario_identification': 'Remote.Parent',\n  'ClientType': 'SDK',\n  'environment_cpu_name': 'AzureML-AutoML',\n  'environment_cpu_label': 'prod',\n  'environment_gpu_name': 'AzureML-AutoML-GPU',\n  'environment_gpu_label': 'prod',\n  'root_attribution': 'automl',\n  'attribution': 'AutoML',\n  'Orchestrator': 'AutoML',\n  'CancelUri': 'https://southcentralus.experiments.azureml.net/jasmine/v1.0/subscriptions/1b944a9b-fdae-4f97-aeb1-b7eea0beac53/resourceGroups/aml-quickstarts-140959/providers/Microsoft.MachineLearningServices/workspaces/quick-starts-ws-140959/experimentids/b6f3ddde-0f17-4ee4-bb82-354c3f4db6b2/cancel/AutoML_f53cdb49-dddb-4905-ac95-d30de4607c16',\n  'ClientSdkVersion': '1.23.0',\n  'snapshotId': '00000000-0000-0000-0000-000000000000',\n  'SetupRunId': 'AutoML_f53cdb49-dddb-4905-ac95-d30de4607c16_setup',\n  'SetupRunContainerId': 'dcid.AutoML_f53cdb49-dddb-4905-ac95-d30de4607c16_setup',\n  'FeaturizationRunJsonPath': 'featurizer_container.json',\n  'FeaturizationRunId': 'AutoML_f53cdb49-dddb-4905-ac95-d30de4607c16_featurize',\n  'ProblemInfoJsonString': '{\"dataset_num_categorical\": 0, \"is_sparse\": false, \"subsampling\": false, \"dataset_classes\": 2, \"dataset_features\": 12, \"dataset_samples\": 224, \"single_frequency_class_detected\": false}',\n  'ModelExplainRunId': 'AutoML_f53cdb49-dddb-4905-ac95-d30de4607c16_ModelExplain'},\n 'inputDatasets': [{'dataset': {'id': '8c230cb8-e486-444e-94d2-7de6e49c4e55'}, 'consumptionDetails': {'type': 'RunInput', 'inputName': 'training_data', 'mechanism': 'Direct'}}],\n 'outputDatasets': [],\n 'logFiles': {},\n 'submittedBy': 'ODL_User 140959'}"
          },
          "metadata": {}
        }
      ],
      "execution_count": 9,
      "metadata": {
        "gather": {
          "logged": 1616255860282
        },
        "jupyter": {
          "outputs_hidden": false,
          "source_hidden": false
        },
        "nteract": {
          "transient": {
            "deleting": false
          }
        }
      }
    },
    {
      "cell_type": "markdown",
      "source": [
        "## Best Model\n",
        "\n",
        "TODO: In the cell below, get the best model from the automl experiments and display all the properties of the model.\n",
        "\n"
      ],
      "metadata": {}
    },
    {
      "cell_type": "code",
      "source": [
        "best_run, model = remote_run.get_output()\n",
        "print(best_run)\n",
        "print(model)\n",
        "best_run.get_tags()\n",
        "best_run_metrics = best_run.get_metrics()\n",
        "for metric_name in best_run_metrics:\n",
        "    metric = best_run_metrics[metric_name]\n",
        "    print(metric_name, metric)"
      ],
      "outputs": [
        {
          "output_type": "stream",
          "name": "stdout",
          "text": [
            "Run(Experiment: arvc-azureml-project3-experiment-automl,\n",
            "Id: AutoML_f53cdb49-dddb-4905-ac95-d30de4607c16_4,\n",
            "Type: azureml.scriptrun,\n",
            "Status: Completed)\n",
            "Pipeline(memory=None,\n",
            "         steps=[('datatransformer',\n",
            "                 DataTransformer(enable_dnn=None, enable_feature_sweeping=None,\n",
            "                                 feature_sweeping_config=None,\n",
            "                                 feature_sweeping_timeout=None,\n",
            "                                 featurization_config=None, force_text_dnn=None,\n",
            "                                 is_cross_validation=None,\n",
            "                                 is_onnx_compatible=None, logger=None,\n",
            "                                 observer=None, task=None, working_dir=None)),\n",
            "                ('MinMaxScaler', MinMaxScaler(copy...\n",
            "                 RandomForestClassifier(bootstrap=True, ccp_alpha=0.0,\n",
            "                                        class_weight='balanced',\n",
            "                                        criterion='gini', max_depth=None,\n",
            "                                        max_features='log2',\n",
            "                                        max_leaf_nodes=None, max_samples=None,\n",
            "                                        min_impurity_decrease=0.0,\n",
            "                                        min_impurity_split=None,\n",
            "                                        min_samples_leaf=0.01,\n",
            "                                        min_samples_split=0.01,\n",
            "                                        min_weight_fraction_leaf=0.0,\n",
            "                                        n_estimators=25, n_jobs=1,\n",
            "                                        oob_score=True, random_state=None,\n",
            "                                        verbose=0, warm_start=False))],\n",
            "         verbose=False)\n",
            "average_precision_score_weighted 0.9034510440687498\n",
            "norm_macro_recall 0.6729713849102394\n",
            "f1_score_micro 0.8484848484848484\n",
            "average_precision_score_macro 0.8806889037290807\n",
            "f1_score_macro 0.830829633330222\n",
            "matthews_correlation 0.6696353725047725\n",
            "precision_score_macro 0.8338229155901569\n",
            "recall_score_weighted 0.8484848484848484\n",
            "accuracy 0.8484848484848484\n",
            "weighted_accuracy 0.859772392010403\n",
            "f1_score_weighted 0.8467848011086812\n",
            "recall_score_micro 0.8484848484848484\n",
            "AUC_macro 0.9018404240238607\n",
            "balanced_accuracy 0.8364856924551196\n",
            "recall_score_macro 0.8364856924551196\n",
            "precision_score_micro 0.8484848484848484\n",
            "average_precision_score_micro 0.9009520050002999\n",
            "AUC_weighted 0.9018404240238607\n",
            "AUC_micro 0.9030782573206816\n",
            "log_loss 0.40294094564307514\n",
            "precision_score_weighted 0.8526286644390094\n",
            "accuracy_table aml://artifactId/ExperimentRun/dcid.AutoML_f53cdb49-dddb-4905-ac95-d30de4607c16_4/accuracy_table\n",
            "confusion_matrix aml://artifactId/ExperimentRun/dcid.AutoML_f53cdb49-dddb-4905-ac95-d30de4607c16_4/confusion_matrix\n"
          ]
        }
      ],
      "execution_count": 8,
      "metadata": {
        "gather": {
          "logged": 1616255456440
        },
        "jupyter": {
          "outputs_hidden": false,
          "source_hidden": false
        },
        "nteract": {
          "transient": {
            "deleting": false
          }
        }
      }
    },
    {
      "cell_type": "code",
      "source": [
        "best_run_metrics"
      ],
      "outputs": [
        {
          "output_type": "execute_result",
          "execution_count": 10,
          "data": {
            "text/plain": "{'average_precision_score_weighted': 0.9034510440687498,\n 'norm_macro_recall': 0.6729713849102394,\n 'f1_score_micro': 0.8484848484848484,\n 'average_precision_score_macro': 0.8806889037290807,\n 'f1_score_macro': 0.830829633330222,\n 'matthews_correlation': 0.6696353725047725,\n 'precision_score_macro': 0.8338229155901569,\n 'recall_score_weighted': 0.8484848484848484,\n 'accuracy': 0.8484848484848484,\n 'weighted_accuracy': 0.859772392010403,\n 'f1_score_weighted': 0.8467848011086812,\n 'recall_score_micro': 0.8484848484848484,\n 'AUC_macro': 0.9018404240238607,\n 'balanced_accuracy': 0.8364856924551196,\n 'recall_score_macro': 0.8364856924551196,\n 'precision_score_micro': 0.8484848484848484,\n 'average_precision_score_micro': 0.9009520050002999,\n 'AUC_weighted': 0.9018404240238607,\n 'AUC_micro': 0.9030782573206816,\n 'log_loss': 0.40294094564307514,\n 'precision_score_weighted': 0.8526286644390094,\n 'accuracy_table': 'aml://artifactId/ExperimentRun/dcid.AutoML_f53cdb49-dddb-4905-ac95-d30de4607c16_4/accuracy_table',\n 'confusion_matrix': 'aml://artifactId/ExperimentRun/dcid.AutoML_f53cdb49-dddb-4905-ac95-d30de4607c16_4/confusion_matrix'}"
          },
          "metadata": {}
        }
      ],
      "execution_count": 10,
      "metadata": {
        "collapsed": true,
        "jupyter": {
          "source_hidden": false,
          "outputs_hidden": false
        },
        "nteract": {
          "transient": {
            "deleting": false
          }
        },
        "gather": {
          "logged": 1616255860549
        }
      }
    },
    {
      "cell_type": "markdown",
      "source": [
        "## Model Deployment\n",
        "\n",
        "Remember you have to deploy only one of the two models you trained.. Perform the steps in the rest of this notebook only if you wish to deploy this model.\n",
        "\n",
        "TODO: In the cell below, register the model, create an inference config and deploy the model as a web service."
      ],
      "metadata": {}
    },
    {
      "cell_type": "code",
      "source": [
        "#TODO: Save the best model\n",
        "from azureml.core import Model\n",
        "\n",
        "# Register model\n",
        "best_run.register_model(model_path='outputs/model.pkl', model_name='automl_model',\n",
        "                        tags={'Training context':'Auto ML'},\n",
        "                        properties={'AUC': best_run_metrics['AUC_weighted'], 'Accuracy': best_run_metrics['accuracy']})\n",
        "\n",
        "# List registered models\n",
        "for model in Model.list(ws):\n",
        "    print(model.name, 'version:', model.version)\n",
        "    for tag_name in model.tags:\n",
        "        tag = model.tags[tag_name]\n",
        "        print ('\\t',tag_name, ':', tag)\n",
        "    for prop_name in model.properties:\n",
        "        prop = model.properties[prop_name]\n",
        "        print ('\\t',prop_name, ':', prop)\n",
        "    print('\\n')"
      ],
      "outputs": [],
      "execution_count": null,
      "metadata": {
        "gather": {
          "logged": 1611052636995
        }
      }
    },
    {
      "cell_type": "code",
      "source": [
        "from azureml.automl.core.shared import constants\n",
        "best_run.download_file(constants.CONDA_ENV_FILE_PATH, 'myenv.yml')"
      ],
      "outputs": [],
      "execution_count": 10,
      "metadata": {
        "collapsed": true,
        "jupyter": {
          "source_hidden": false,
          "outputs_hidden": false
        },
        "nteract": {
          "transient": {
            "deleting": false
          }
        },
        "gather": {
          "logged": 1611052683730
        }
      }
    },
    {
      "cell_type": "code",
      "source": [
        "# create inference_config\r\n",
        "from azureml.core.model import InferenceConfig\r\n",
        "from azureml.core.environment import Environment\r\n",
        "\r\n",
        "inference_config = InferenceConfig(entry_script=\"scoring.py\",environment=myenv)"
      ],
      "outputs": [],
      "execution_count": null,
      "metadata": {
        "collapsed": true,
        "jupyter": {
          "source_hidden": false,
          "outputs_hidden": false
        },
        "nteract": {
          "transient": {
            "deleting": false
          }
        },
        "gather": {
          "logged": 1611017292129
        }
      }
    },
    {
      "cell_type": "code",
      "source": [
        "from azureml.core.webservice import Webservice, AciWebservice\r\n",
        "deployment_config = AciWebservice.deploy_configuration(cpu_cores=1, memory_gb = 1)"
      ],
      "outputs": [],
      "execution_count": null,
      "metadata": {
        "collapsed": true,
        "jupyter": {
          "source_hidden": false,
          "outputs_hidden": false
        },
        "nteract": {
          "transient": {
            "deleting": false
          }
        },
        "gather": {
          "logged": 1611017295054
        }
      }
    },
    {
      "cell_type": "markdown",
      "source": [
        "TODO: In the cell below, send a request to the web service you deployed to test it."
      ],
      "metadata": {
        "collapsed": true,
        "gather": {
          "logged": 1598431657736
        },
        "jupyter": {
          "outputs_hidden": false,
          "source_hidden": false
        },
        "nteract": {
          "transient": {
            "deleting": false
          }
        }
      }
    },
    {
      "cell_type": "code",
      "source": [
        "#deploy the model\n",
        "service=Model.deploy(workspace=ws,\n",
        "                    name=\"heart-deploy-service\",\n",
        "                    models=[model],\n",
        "                    inference_config=inference_config,\n",
        "                    deployment_config=deployment_config)\n",
        "service.wait_for_deployment(show_output=True)"
      ],
      "outputs": [
        {
          "output_type": "stream",
          "name": "stdout",
          "text": [
            "Tips: You can try get_logs(): https://aka.ms/debugimage#dockerlog or local deployment: https://aka.ms/debugimage#debug-locally to debug if deployment takes longer than 10 minutes.\n",
            "Running..................................\n",
            "Succeeded\n",
            "ACI service creation operation finished, operation \"Succeeded\"\n"
          ]
        }
      ],
      "execution_count": 15,
      "metadata": {
        "gather": {
          "logged": 1611017492274
        },
        "jupyter": {
          "outputs_hidden": false,
          "source_hidden": false
        },
        "nteract": {
          "transient": {
            "deleting": false
          }
        }
      }
    },
    {
      "cell_type": "markdown",
      "source": [
        "TODO: In the cell below, print the logs of the web service and delete the service"
      ],
      "metadata": {
        "collapsed": true,
        "gather": {
          "logged": 1598432765711
        },
        "jupyter": {
          "outputs_hidden": false,
          "source_hidden": false
        },
        "nteract": {
          "transient": {
            "deleting": false
          }
        }
      }
    },
    {
      "cell_type": "code",
      "source": [
        "print(service.get_logs())"
      ],
      "outputs": [
        {
          "output_type": "stream",
          "name": "stdout",
          "text": [
            "2021-01-19T00:50:57,776027517+00:00 - rsyslog/run \n",
            "2021-01-19T00:50:57,776144220+00:00 - gunicorn/run \n",
            "2021-01-19T00:50:57,776145420+00:00 - iot-server/run \n",
            "2021-01-19T00:50:57,827470300+00:00 - nginx/run \n",
            "/usr/sbin/nginx: /azureml-envs/azureml_8eff28b157f42edcd2424a5aae6c8074/lib/libcrypto.so.1.0.0: no version information available (required by /usr/sbin/nginx)\n",
            "/usr/sbin/nginx: /azureml-envs/azureml_8eff28b157f42edcd2424a5aae6c8074/lib/libcrypto.so.1.0.0: no version information available (required by /usr/sbin/nginx)\n",
            "/usr/sbin/nginx: /azureml-envs/azureml_8eff28b157f42edcd2424a5aae6c8074/lib/libssl.so.1.0.0: no version information available (required by /usr/sbin/nginx)\n",
            "/usr/sbin/nginx: /azureml-envs/azureml_8eff28b157f42edcd2424a5aae6c8074/lib/libssl.so.1.0.0: no version information available (required by /usr/sbin/nginx)\n",
            "/usr/sbin/nginx: /azureml-envs/azureml_8eff28b157f42edcd2424a5aae6c8074/lib/libssl.so.1.0.0: no version information available (required by /usr/sbin/nginx)\n",
            "EdgeHubConnectionString and IOTEDGE_IOTHUBHOSTNAME are not set. Exiting...\n",
            "2021-01-19T00:50:58,030657961+00:00 - iot-server/finish 1 0\n",
            "2021-01-19T00:50:58,031916695+00:00 - Exit code 1 is normal. Not restarting iot-server.\n",
            "rsyslogd: /azureml-envs/azureml_8eff28b157f42edcd2424a5aae6c8074/lib/libuuid.so.1: no version information available (required by rsyslogd)\n",
            "Starting gunicorn 19.9.0\n",
            "Listening at: http://127.0.0.1:31311 (15)\n",
            "Using worker: sync\n",
            "worker timeout is set to 300\n",
            "Booting worker with pid: 43\n",
            "SPARK_HOME not set. Skipping PySpark Initialization.\n",
            "Initializing logger\n",
            "2021-01-19 00:50:58,889 | root | INFO | Starting up app insights client\n",
            "Starting up app insights client\n",
            "2021-01-19 00:50:58,889 | root | INFO | Starting up request id generator\n",
            "Starting up request id generator\n",
            "2021-01-19 00:50:58,889 | root | INFO | Starting up app insight hooks\n",
            "Starting up app insight hooks\n",
            "2021-01-19 00:50:58,889 | root | INFO | Invoking user's init function\n",
            "Invoking user's init function\n",
            "Generating new fontManager, this may take some time...\n",
            "2021-01-19 00:51:01,595 | root | INFO | Users's init has completed successfully\n",
            "Users's init has completed successfully\n",
            "2021-01-19 00:51:01,599 | root | INFO | Skipping middleware: dbg_model_info as it's not enabled.\n",
            "Skipping middleware: dbg_model_info as it's not enabled.\n",
            "2021-01-19 00:51:01,599 | root | INFO | Skipping middleware: dbg_resource_usage as it's not enabled.\n",
            "Skipping middleware: dbg_resource_usage as it's not enabled.\n",
            "2021-01-19 00:51:01,600 | root | INFO | Scoring timeout is found from os.environ: 60000 ms\n",
            "Scoring timeout is found from os.environ: 60000 ms\n",
            "2021-01-19 00:51:13,678 | root | INFO | Swagger file not present\n",
            "Swagger file not present\n",
            "2021-01-19 00:51:13,678 | root | INFO | 404\n",
            "404\n",
            "127.0.0.1 - - [19/Jan/2021:00:51:13 +0000] \"GET /swagger.json HTTP/1.0\" 404 19 \"-\" \"Go-http-client/1.1\"\n",
            "2021-01-19 00:51:31,958 | root | INFO | Swagger file not present\n",
            "Swagger file not present\n",
            "2021-01-19 00:51:31,958 | root | INFO | 404\n",
            "404\n",
            "127.0.0.1 - - [19/Jan/2021:00:51:31 +0000] \"GET /swagger.json HTTP/1.0\" 404 19 \"-\" \"Go-http-client/1.1\"\n",
            "\n"
          ]
        }
      ],
      "execution_count": 16,
      "metadata": {
        "jupyter": {
          "outputs_hidden": false,
          "source_hidden": false
        },
        "nteract": {
          "transient": {
            "deleting": false
          }
        },
        "gather": {
          "logged": 1611017521568
        }
      }
    },
    {
      "cell_type": "code",
      "source": [
        "scoring_uri = service.scoring_uri\n",
        "\n",
        "print(f'\\nservice state: {service.state}\\n')\n",
        "print(f'scoring URI: \\n{service.scoring_uri}\\n')\n",
        "print(f'swagger URI: \\n{service.swagger_uri}\\n')\n",
        "\n",
        "print(service.scoring_uri)\n",
        "print(service.swagger_uri)"
      ],
      "outputs": [
        {
          "output_type": "stream",
          "name": "stdout",
          "text": [
            "\n",
            "service state: Healthy\n",
            "\n",
            "scoring URI: \n",
            "http://ec7be877-6f29-47ac-aab9-cbdf6f72b95f.southcentralus.azurecontainer.io/score\n",
            "\n",
            "swagger URI: \n",
            "http://ec7be877-6f29-47ac-aab9-cbdf6f72b95f.southcentralus.azurecontainer.io/swagger.json\n",
            "\n",
            "http://ec7be877-6f29-47ac-aab9-cbdf6f72b95f.southcentralus.azurecontainer.io/score\n",
            "http://ec7be877-6f29-47ac-aab9-cbdf6f72b95f.southcentralus.azurecontainer.io/swagger.json\n"
          ]
        }
      ],
      "execution_count": 17,
      "metadata": {
        "gather": {
          "logged": 1611017525452
        }
      }
    },
    {
      "cell_type": "code",
      "source": [
        "import requests\n",
        "import json\n",
        "\n",
        "data={\"data\":\n",
        "  [{'age': 87.0,\n",
        "  'anaemia': 0,\n",
        "  'creatinine_phosphokinase': 981,\n",
        "  'diabetes': 0,\n",
        "  'ejection_fraction': 55,\n",
        "  'high_blood_pressure': 1,\n",
        "  'platelets': 368000,\n",
        "  'serum_creatinine': 3.5,\n",
        "  'serum_sodium': 137,\n",
        "  'sex': 0,\n",
        "  'smoking': 0,\n",
        "  'time': 4}]\n",
        "  }\n",
        "\n",
        "input_data=json.dumps(data)\n",
        "\n",
        "with open(\"data.json\",\"w\") as file:\n",
        "    file.write(input_data)\n",
        "\n",
        "headers={\"Content-Type\":\"application/json\"}\n",
        "\n",
        "result=requests.post(scoring_uri, input_data, headers=headers)\n",
        "print(\"The output is: \",result.json())"
      ],
      "outputs": [
        {
          "output_type": "stream",
          "name": "stdout",
          "text": [
            "The output is:  Must pass 2-d input\n"
          ]
        }
      ],
      "execution_count": 18,
      "metadata": {
        "gather": {
          "logged": 1611017529091
        }
      }
    },
    {
      "cell_type": "code",
      "source": [
        "result.status_code"
      ],
      "outputs": [
        {
          "output_type": "execute_result",
          "execution_count": 19,
          "data": {
            "text/plain": "200"
          },
          "metadata": {}
        }
      ],
      "execution_count": 19,
      "metadata": {
        "gather": {
          "logged": 1611017652290
        }
      }
    },
    {
      "cell_type": "code",
      "source": [
        "service.delete()\n",
        "compute_target.delete()\n",
        "model.delete()\n",
        "run.delete()\n",
        "experiment.delete()"
      ],
      "outputs": [
        {
          "output_type": "error",
          "ename": "NameError",
          "evalue": "name 'run' is not defined",
          "traceback": [
            "\u001b[0;31m---------------------------------------------------------------------------\u001b[0m",
            "\u001b[0;31mNameError\u001b[0m                                 Traceback (most recent call last)",
            "\u001b[0;32m<ipython-input-20-8ba60bbe9b4c>\u001b[0m in \u001b[0;36m<module>\u001b[0;34m\u001b[0m\n\u001b[1;32m      2\u001b[0m \u001b[0mcompute_target\u001b[0m\u001b[0;34m.\u001b[0m\u001b[0mdelete\u001b[0m\u001b[0;34m(\u001b[0m\u001b[0;34m)\u001b[0m\u001b[0;34m\u001b[0m\u001b[0;34m\u001b[0m\u001b[0m\n\u001b[1;32m      3\u001b[0m \u001b[0mmodel\u001b[0m\u001b[0;34m.\u001b[0m\u001b[0mdelete\u001b[0m\u001b[0;34m(\u001b[0m\u001b[0;34m)\u001b[0m\u001b[0;34m\u001b[0m\u001b[0;34m\u001b[0m\u001b[0m\n\u001b[0;32m----> 4\u001b[0;31m \u001b[0mrun\u001b[0m\u001b[0;34m.\u001b[0m\u001b[0mdelete\u001b[0m\u001b[0;34m(\u001b[0m\u001b[0;34m)\u001b[0m\u001b[0;34m\u001b[0m\u001b[0;34m\u001b[0m\u001b[0m\n\u001b[0m\u001b[1;32m      5\u001b[0m \u001b[0mexperiment\u001b[0m\u001b[0;34m.\u001b[0m\u001b[0mdelete\u001b[0m\u001b[0;34m(\u001b[0m\u001b[0;34m)\u001b[0m\u001b[0;34m\u001b[0m\u001b[0;34m\u001b[0m\u001b[0m\n",
            "\u001b[0;31mNameError\u001b[0m: name 'run' is not defined"
          ]
        }
      ],
      "execution_count": 20,
      "metadata": {}
    }
  ],
  "metadata": {
    "kernel_info": {
      "name": "python3"
    },
    "kernelspec": {
      "name": "python3",
      "language": "python",
      "display_name": "Python 3"
    },
    "language_info": {
      "name": "python",
      "version": "3.6.9",
      "mimetype": "text/x-python",
      "codemirror_mode": {
        "name": "ipython",
        "version": 3
      },
      "pygments_lexer": "ipython3",
      "nbconvert_exporter": "python",
      "file_extension": ".py"
    },
    "nteract": {
      "version": "nteract-front-end@1.0.0"
    },
    "microsoft": {
      "host": {
        "AzureML": {
          "notebookHasBeenCompleted": true
        }
      }
    }
  },
  "nbformat": 4,
  "nbformat_minor": 2
}