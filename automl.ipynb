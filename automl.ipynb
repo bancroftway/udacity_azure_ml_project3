{
  "cells": [
    {
      "cell_type": "markdown",
      "source": [
        "# Automated ML\n",
        "\n",
        "TODO: Import Dependencies. In the cell below, import all the dependencies that you will need to complete the project."
      ],
      "metadata": {}
    },
    {
      "cell_type": "markdown",
      "source": [
        "## Dataset\n",
        "\n",
        "### Overview\n",
        "TODO: In this markdown cell, give an overview of the dataset you are using. Also mention the task you will be performing.\n",
        "\n",
        "\n",
        "TODO: Get data. In the cell below, write code to access the data you will be using in this project. Remember that the dataset needs to be external."
      ],
      "metadata": {}
    },
    {
      "cell_type": "code",
      "source": [
        "from azureml.core.experiment import Experiment\n",
        "from azureml.core.workspace import Workspace\n",
        "\n",
        "ws = Workspace.from_config()\n",
        "\n",
        "experiment_name = 'arvc-azureml-project3-experiment-automl'\n",
        "\n",
        "experiment=Experiment(ws, experiment_name)"
      ],
      "outputs": [
        {
          "output_type": "stream",
          "name": "stdout",
          "text": [
            "Performing interactive authentication. Please follow the instructions on the terminal.\n",
            "To sign in, use a web browser to open the page https://microsoft.com/devicelogin and enter the code FAVJPNJ28 to authenticate.\n",
            "You have logged in. Now let us find all the subscriptions to which you have access...\n",
            "Interactive authentication successfully completed.\n"
          ]
        }
      ],
      "execution_count": 1,
      "metadata": {
        "gather": {
          "logged": 1616347616369
        },
        "jupyter": {
          "outputs_hidden": false,
          "source_hidden": false
        },
        "nteract": {
          "transient": {
            "deleting": false
          }
        }
      }
    },
    {
      "cell_type": "code",
      "source": [
        "from azureml.core.compute import ComputeTarget, AmlCompute\n",
        "from azureml.core.compute_target import ComputeTargetException\n",
        "\n",
        "compute_cluster_name = 'arvccompute1'\n",
        "\n",
        "try:\n",
        "    compute_target = ComputeTarget(workspace=ws, name = compute_cluster_name)\n",
        "    print('Found the compute cluster')\n",
        "\n",
        "except ComputeTargetException:\n",
        "    compute_config = AmlCompute.provisioning_configuration(vm_size=\"Standard_DS12_v2\", max_nodes=5)\n",
        "    compute_target = ComputeTarget.create(ws, compute_cluster_name, compute_config)\n",
        "    compute_target.wait_for_completion(show_output=True)"
      ],
      "outputs": [
        {
          "output_type": "stream",
          "name": "stdout",
          "text": [
            "Creating....\n",
            "SucceededProvisioning operation finished, operation \"Succeeded\"\n",
            "Succeeded\n",
            "AmlCompute wait for completion finished\n",
            "\n",
            "Minimum number of nodes requested have been provisioned\n"
          ]
        }
      ],
      "execution_count": 2,
      "metadata": {
        "gather": {
          "logged": 1616347640002
        },
        "jupyter": {
          "outputs_hidden": false,
          "source_hidden": false
        },
        "nteract": {
          "transient": {
            "deleting": false
          }
        }
      }
    },
    {
      "cell_type": "code",
      "source": [
        "from azureml.core.dataset import Dataset\n",
        "from sklearn.model_selection import train_test_split\n",
        "\n",
        "key = 'heart_failure_dataset'\n",
        "if key in ws.datasets.keys():\n",
        "    dataset = ws.datasets[key]\n",
        "    print(\"existing dataset found.\")\n",
        "\n",
        "else:\n",
        "    print(\"existing dataset not found. creating new one.\")\n",
        "    url = 'https://archive.ics.uci.edu/ml/machine-learning-databases/00519/heart_failure_clinical_records_dataset.csv'\n",
        "    dataset = Dataset.Tabular.from_delimited_files(url)\n",
        "    dataset = dataset.register(ws,key)\n",
        "\n",
        "df = dataset.to_pandas_dataframe()\n",
        "train, test = train_test_split(df, shuffle=True)\n",
        "train.to_csv('train.csv',index = False)\n",
        "\n",
        "datastore = ws.get_default_datastore()\n",
        "datastore.upload_files(files = ['./train.csv'])\n",
        "\n",
        "train = Dataset.Tabular.from_delimited_files([(datastore,'train.csv')])"
      ],
      "outputs": [
        {
          "output_type": "stream",
          "name": "stdout",
          "text": [
            "existing dataset not found. creating new one.\n",
            "Uploading an estimated of 1 files\n",
            "Uploading ./train.csv\n",
            "Uploaded ./train.csv, 1 files out of an estimated total of 1\n",
            "Uploaded 1 files\n"
          ]
        }
      ],
      "execution_count": 3,
      "metadata": {
        "gather": {
          "logged": 1616347684231
        },
        "jupyter": {
          "outputs_hidden": false,
          "source_hidden": false
        },
        "nteract": {
          "transient": {
            "deleting": false
          }
        }
      }
    },
    {
      "cell_type": "markdown",
      "source": [
        "## AutoML Configuration\n",
        "\n",
        "TODO: Explain why you chose the automl settings and cofiguration you used below."
      ],
      "metadata": {}
    },
    {
      "cell_type": "code",
      "source": [
        "from azureml.train.automl import AutoMLConfig\n",
        "\n",
        "# TODO: Put your automl settings here\n",
        "automl_settings = {\"primary_metric\":\"accuracy\", \"experiment_timeout_minutes\":30, \"enable_early_stopping\":True, \"n_cross_validations\":5,\"max_concurrent_iterations\": 5}\n",
        "\n",
        "# TODO: Put your automl config here\n",
        "automl_config = AutoMLConfig(compute_target = compute_target, task = 'classification', training_data = train, label_column_name = 'DEATH_EVENT', blocked_models=['XGBoostClassifier'],**automl_settings)"
      ],
      "outputs": [],
      "execution_count": 4,
      "metadata": {
        "gather": {
          "logged": 1616347684479
        },
        "jupyter": {
          "outputs_hidden": false,
          "source_hidden": false
        },
        "nteract": {
          "transient": {
            "deleting": false
          }
        }
      }
    },
    {
      "cell_type": "code",
      "source": [
        "# TODO: Submit your experiment\n",
        "remote_run = experiment.submit(automl_config, show_output=True)"
      ],
      "outputs": [
        {
          "output_type": "stream",
          "name": "stdout",
          "text": [
            "Running on remote.\n",
            "No run_configuration provided, running on arvccompute1 with default configuration\n",
            "Running on remote compute: arvccompute1\n",
            "Parent Run ID: AutoML_9770219e-abe3-4ceb-8d3f-26327ad67283\n",
            "\n",
            "Current status: FeaturesGeneration. Generating features for the dataset.\n",
            "Current status: ModelSelection. Beginning model selection.\n",
            "\n",
            "****************************************************************************************************\n",
            "DATA GUARDRAILS: \n",
            "\n",
            "TYPE:         Class balancing detection\n",
            "STATUS:       PASSED\n",
            "DESCRIPTION:  Your inputs were analyzed, and all classes are balanced in your training data.\n",
            "              Learn more about imbalanced data: https://aka.ms/AutomatedMLImbalancedData\n",
            "\n",
            "****************************************************************************************************\n",
            "\n",
            "TYPE:         Missing feature values imputation\n",
            "STATUS:       PASSED\n",
            "DESCRIPTION:  No feature missing values were detected in the training data.\n",
            "              Learn more about missing value imputation: https://aka.ms/AutomatedMLFeaturization\n",
            "\n",
            "****************************************************************************************************\n",
            "\n",
            "TYPE:         High cardinality feature detection\n",
            "STATUS:       PASSED\n",
            "DESCRIPTION:  Your inputs were analyzed, and no high cardinality features were detected.\n",
            "              Learn more about high cardinality feature handling: https://aka.ms/AutomatedMLFeaturization\n",
            "\n",
            "****************************************************************************************************\n",
            "\n",
            "****************************************************************************************************\n",
            "ITERATION: The iteration being evaluated.\n",
            "PIPELINE: A summary description of the pipeline being evaluated.\n",
            "DURATION: Time taken for the current iteration.\n",
            "METRIC: The result of computing score on the fitted pipeline.\n",
            "BEST: The best observed score thus far.\n",
            "****************************************************************************************************\n",
            "\n",
            " ITERATION   PIPELINE                                       DURATION      METRIC      BEST\n",
            "         2   MinMaxScaler RandomForest                      0:01:06       0.8346    0.8346\n",
            "         1   MinMaxScaler RandomForest                      0:00:55       0.7632    0.8346\n",
            "         4   MinMaxScaler RandomForest                      0:00:50       0.8435    0.8435\n",
            "         7   MinMaxScaler SVM                               0:00:44       0.7272    0.8435\n",
            "         6   MinMaxScaler SVM                               0:01:54       0.7183    0.8435\n",
            "         0   MaxAbsScaler LightGBM                          0:01:58       0.8390    0.8435\n",
            "         3   MinMaxScaler RandomForest                      0:02:03       0.8301    0.8435\n",
            "         5   RobustScaler LightGBM                          0:01:59       0.8523    0.8523\n",
            "         8   MaxAbsScaler RandomForest                      0:00:54       0.7542    0.8523\n",
            "         9   RobustScaler RandomForest                      0:00:42       0.8299    0.8523\n",
            "        10   StandardScalerWrapper GradientBoosting         0:00:51       0.8611    0.8611\n",
            "        11   MinMaxScaler RandomForest                      0:00:49       0.8388    0.8611\n",
            "        12   StandardScalerWrapper LightGBM                 0:00:48       0.8523    0.8611\n",
            "        13   SparseNormalizer GradientBoosting              0:00:46       0.8478    0.8611\n",
            "        14   MinMaxScaler LightGBM                          0:00:49       0.8523    0.8611\n",
            "        15   RobustScaler LightGBM                          0:00:55       0.7854    0.8611\n",
            "        16   StandardScalerWrapper LightGBM                 0:00:49       0.8568    0.8611\n",
            "        17   MaxAbsScaler ExtremeRandomTrees                0:00:48       0.8257    0.8611\n",
            "        18   RobustScaler LightGBM                          0:00:46       0.7944    0.8611\n",
            "        19   RobustScaler ExtremeRandomTrees                0:00:45       0.8479    0.8611\n",
            "        20   MaxAbsScaler ExtremeRandomTrees                0:00:57       0.8479    0.8611\n",
            "        21   RobustScaler KNN                               0:00:48       0.5533    0.8611\n",
            "        22   MinMaxScaler ExtremeRandomTrees                0:00:57       0.8479    0.8611\n",
            "        23   StandardScalerWrapper RandomForest             0:00:55       0.8257    0.8611\n",
            "        24   SparseNormalizer RandomForest                  0:00:44       0.8478    0.8611\n",
            "        25   StandardScalerWrapper GradientBoosting         0:00:48       0.6649    0.8611\n",
            "        26   RobustScaler LightGBM                          0:00:43       0.8434    0.8611\n",
            "        27   StandardScalerWrapper LightGBM                 0:00:49       0.8344    0.8611\n",
            "        28   MaxAbsScaler LightGBM                          0:00:49       0.8300    0.8611\n",
            "        29   MaxAbsScaler RandomForest                      0:00:58       0.8388    0.8611\n",
            "        30   MaxAbsScaler GradientBoosting                  0:00:57       0.8432    0.8611\n",
            "        31   MaxAbsScaler LightGBM                          0:00:49       0.8032    0.8611\n",
            "        32   RobustScaler GradientBoosting                  0:00:50       0.8385    0.8611\n",
            "        33   StandardScalerWrapper ExtremeRandomTrees       0:00:49       0.7898    0.8611\n",
            "        34   StandardScalerWrapper ExtremeRandomTrees       0:00:49       0.8074    0.8611\n",
            "        35   RobustScaler GradientBoosting                  0:00:30       0.8210    0.8611\n",
            "        36   MinMaxScaler LightGBM                          0:00:27          nan    0.8611\n",
            "        37                                                  0:00:15          nan    0.8611\n",
            "        38    VotingEnsemble                                0:01:20       0.8790    0.8790\n",
            "        39    StackEnsemble                                 0:01:21       0.8612    0.8790\n"
          ]
        }
      ],
      "execution_count": 5,
      "metadata": {
        "gather": {
          "logged": 1616348967600
        },
        "jupyter": {
          "outputs_hidden": false,
          "source_hidden": false
        },
        "nteract": {
          "transient": {
            "deleting": false
          }
        }
      }
    },
    {
      "cell_type": "markdown",
      "source": [
        "## Run Details\n",
        "\n",
        "OPTIONAL: Write about the different models trained and their performance. Why do you think some models did better than others?\n",
        "\n",
        "TODO: In the cell below, use the `RunDetails` widget to show the different experiments."
      ],
      "metadata": {}
    },
    {
      "cell_type": "code",
      "source": [
        "from azureml.widgets import RunDetails\n",
        "\n",
        "RunDetails(remote_run).show()\n",
        "remote_run.wait_for_completion(show_output=True)"
      ],
      "outputs": [
        {
          "output_type": "display_data",
          "data": {
            "text/plain": "_AutoMLWidget(widget_settings={'childWidgetDisplay': 'popup', 'send_telemetry': False, 'log_level': 'INFO', 's…",
            "application/vnd.jupyter.widget-view+json": {
              "version_major": 2,
              "version_minor": 0,
              "model_id": "9c79b9ec573941a5a2e6a8134d3a6c0a"
            }
          },
          "metadata": {}
        },
        {
          "output_type": "display_data",
          "data": {
            "application/aml.mini.widget.v1": "{\"status\": \"Completed\", \"workbench_run_details_uri\": \"https://ml.azure.com/experiments/arvc-azureml-project3-experiment-automl/runs/AutoML_9770219e-abe3-4ceb-8d3f-26327ad67283?wsid=/subscriptions/a24a24d5-8d87-4c8a-99b6-91ed2d2df51f/resourcegroups/aml-quickstarts-141063/workspaces/quick-starts-ws-141063\", \"run_id\": \"AutoML_9770219e-abe3-4ceb-8d3f-26327ad67283\", \"run_properties\": {\"run_id\": \"AutoML_9770219e-abe3-4ceb-8d3f-26327ad67283\", \"created_utc\": \"2021-03-21T17:28:13.425249Z\", \"properties\": {\"num_iterations\": \"1000\", \"training_type\": \"TrainFull\", \"acquisition_function\": \"EI\", \"primary_metric\": \"accuracy\", \"train_split\": \"0\", \"acquisition_parameter\": \"0\", \"num_cross_validation\": \"5\", \"target\": \"arvccompute1\", \"AMLSettingsJsonString\": \"{\\\"path\\\":null,\\\"name\\\":\\\"arvc-azureml-project3-experiment-automl\\\",\\\"subscription_id\\\":\\\"a24a24d5-8d87-4c8a-99b6-91ed2d2df51f\\\",\\\"resource_group\\\":\\\"aml-quickstarts-141063\\\",\\\"workspace_name\\\":\\\"quick-starts-ws-141063\\\",\\\"region\\\":\\\"southcentralus\\\",\\\"compute_target\\\":\\\"arvccompute1\\\",\\\"spark_service\\\":null,\\\"azure_service\\\":\\\"remote\\\",\\\"many_models\\\":false,\\\"pipeline_fetch_max_batch_size\\\":1,\\\"enable_batch_run\\\":false,\\\"iterations\\\":1000,\\\"primary_metric\\\":\\\"accuracy\\\",\\\"task_type\\\":\\\"classification\\\",\\\"data_script\\\":null,\\\"validation_size\\\":0.0,\\\"n_cross_validations\\\":5,\\\"y_min\\\":null,\\\"y_max\\\":null,\\\"num_classes\\\":null,\\\"featurization\\\":\\\"auto\\\",\\\"_ignore_package_version_incompatibilities\\\":false,\\\"is_timeseries\\\":false,\\\"max_cores_per_iteration\\\":1,\\\"max_concurrent_iterations\\\":5,\\\"iteration_timeout_minutes\\\":null,\\\"mem_in_mb\\\":null,\\\"enforce_time_on_windows\\\":false,\\\"experiment_timeout_minutes\\\":15,\\\"experiment_exit_score\\\":null,\\\"whitelist_models\\\":null,\\\"blacklist_algos\\\":[\\\"XGBoostClassifier\\\",\\\"TensorFlowLinearClassifier\\\",\\\"TensorFlowDNN\\\"],\\\"supported_models\\\":[\\\"TensorFlowDNN\\\",\\\"DecisionTree\\\",\\\"BernoulliNaiveBayes\\\",\\\"LogisticRegression\\\",\\\"SVM\\\",\\\"AveragedPerceptronClassifier\\\",\\\"XGBoostClassifier\\\",\\\"GradientBoosting\\\",\\\"RandomForest\\\",\\\"LinearSVM\\\",\\\"TensorFlowLinearClassifier\\\",\\\"ExtremeRandomTrees\\\",\\\"SGD\\\",\\\"KNN\\\",\\\"MultinomialNaiveBayes\\\",\\\"LightGBM\\\"],\\\"private_models\\\":[],\\\"auto_blacklist\\\":true,\\\"blacklist_samples_reached\\\":false,\\\"exclude_nan_labels\\\":true,\\\"verbosity\\\":20,\\\"_debug_log\\\":\\\"azureml_automl.log\\\",\\\"show_warnings\\\":false,\\\"model_explainability\\\":true,\\\"service_url\\\":null,\\\"sdk_url\\\":null,\\\"sdk_packages\\\":null,\\\"enable_onnx_compatible_models\\\":false,\\\"enable_split_onnx_featurizer_estimator_models\\\":false,\\\"vm_type\\\":\\\"STANDARD_DS12_V2\\\",\\\"telemetry_verbosity\\\":20,\\\"send_telemetry\\\":true,\\\"enable_dnn\\\":false,\\\"scenario\\\":\\\"SDK-1.13.0\\\",\\\"environment_label\\\":null,\\\"save_mlflow\\\":false,\\\"force_text_dnn\\\":false,\\\"enable_feature_sweeping\\\":true,\\\"enable_early_stopping\\\":true,\\\"early_stopping_n_iters\\\":10,\\\"metrics\\\":null,\\\"enable_metric_confidence\\\":false,\\\"enable_ensembling\\\":true,\\\"enable_stack_ensembling\\\":true,\\\"ensemble_iterations\\\":15,\\\"enable_tf\\\":false,\\\"enable_subsampling\\\":null,\\\"subsample_seed\\\":null,\\\"enable_nimbusml\\\":false,\\\"enable_streaming\\\":false,\\\"force_streaming\\\":false,\\\"track_child_runs\\\":true,\\\"allowed_private_models\\\":[],\\\"label_column_name\\\":\\\"DEATH_EVENT\\\",\\\"weight_column_name\\\":null,\\\"cv_split_column_names\\\":null,\\\"enable_local_managed\\\":false,\\\"_local_managed_run_id\\\":null,\\\"cost_mode\\\":1,\\\"lag_length\\\":0,\\\"metric_operation\\\":\\\"maximize\\\",\\\"preprocess\\\":true}\", \"DataPrepJsonString\": \"{\\\\\\\"training_data\\\\\\\": \\\\\\\"{\\\\\\\\\\\\\\\"blocks\\\\\\\\\\\\\\\": [{\\\\\\\\\\\\\\\"id\\\\\\\\\\\\\\\": \\\\\\\\\\\\\\\"b8b26028-3137-4a52-907f-2c37504ea775\\\\\\\\\\\\\\\", \\\\\\\\\\\\\\\"type\\\\\\\\\\\\\\\": \\\\\\\\\\\\\\\"Microsoft.DPrep.GetDatastoreFilesBlock\\\\\\\\\\\\\\\", \\\\\\\\\\\\\\\"arguments\\\\\\\\\\\\\\\": {\\\\\\\\\\\\\\\"datastores\\\\\\\\\\\\\\\": [{\\\\\\\\\\\\\\\"datastoreName\\\\\\\\\\\\\\\": \\\\\\\\\\\\\\\"workspaceblobstore\\\\\\\\\\\\\\\", \\\\\\\\\\\\\\\"path\\\\\\\\\\\\\\\": \\\\\\\\\\\\\\\"train.csv\\\\\\\\\\\\\\\", \\\\\\\\\\\\\\\"resourceGroup\\\\\\\\\\\\\\\": \\\\\\\\\\\\\\\"aml-quickstarts-141063\\\\\\\\\\\\\\\", \\\\\\\\\\\\\\\"subscription\\\\\\\\\\\\\\\": \\\\\\\\\\\\\\\"a24a24d5-8d87-4c8a-99b6-91ed2d2df51f\\\\\\\\\\\\\\\", \\\\\\\\\\\\\\\"workspaceName\\\\\\\\\\\\\\\": \\\\\\\\\\\\\\\"quick-starts-ws-141063\\\\\\\\\\\\\\\"}]}, \\\\\\\\\\\\\\\"localData\\\\\\\\\\\\\\\": {}, \\\\\\\\\\\\\\\"isEnabled\\\\\\\\\\\\\\\": true, \\\\\\\\\\\\\\\"name\\\\\\\\\\\\\\\": null, \\\\\\\\\\\\\\\"annotation\\\\\\\\\\\\\\\": null}, {\\\\\\\\\\\\\\\"id\\\\\\\\\\\\\\\": \\\\\\\\\\\\\\\"7a29dbaf-b1f7-42bf-abf2-65a80e9da657\\\\\\\\\\\\\\\", \\\\\\\\\\\\\\\"type\\\\\\\\\\\\\\\": \\\\\\\\\\\\\\\"Microsoft.DPrep.ParseDelimitedBlock\\\\\\\\\\\\\\\", \\\\\\\\\\\\\\\"arguments\\\\\\\\\\\\\\\": {\\\\\\\\\\\\\\\"columnHeadersMode\\\\\\\\\\\\\\\": 3, \\\\\\\\\\\\\\\"fileEncoding\\\\\\\\\\\\\\\": 0, \\\\\\\\\\\\\\\"handleQuotedLineBreaks\\\\\\\\\\\\\\\": false, \\\\\\\\\\\\\\\"preview\\\\\\\\\\\\\\\": false, \\\\\\\\\\\\\\\"separator\\\\\\\\\\\\\\\": \\\\\\\\\\\\\\\",\\\\\\\\\\\\\\\", \\\\\\\\\\\\\\\"skipRows\\\\\\\\\\\\\\\": 0, \\\\\\\\\\\\\\\"skipRowsMode\\\\\\\\\\\\\\\": 0}, \\\\\\\\\\\\\\\"localData\\\\\\\\\\\\\\\": {}, \\\\\\\\\\\\\\\"isEnabled\\\\\\\\\\\\\\\": true, \\\\\\\\\\\\\\\"name\\\\\\\\\\\\\\\": null, \\\\\\\\\\\\\\\"annotation\\\\\\\\\\\\\\\": null}, {\\\\\\\\\\\\\\\"id\\\\\\\\\\\\\\\": \\\\\\\\\\\\\\\"211cd170-d599-4b6f-b19f-fcf91add5098\\\\\\\\\\\\\\\", \\\\\\\\\\\\\\\"type\\\\\\\\\\\\\\\": \\\\\\\\\\\\\\\"Microsoft.DPrep.DropColumnsBlock\\\\\\\\\\\\\\\", \\\\\\\\\\\\\\\"arguments\\\\\\\\\\\\\\\": {\\\\\\\\\\\\\\\"columns\\\\\\\\\\\\\\\": {\\\\\\\\\\\\\\\"type\\\\\\\\\\\\\\\": 0, \\\\\\\\\\\\\\\"details\\\\\\\\\\\\\\\": {\\\\\\\\\\\\\\\"selectedColumns\\\\\\\\\\\\\\\": [\\\\\\\\\\\\\\\"Path\\\\\\\\\\\\\\\"]}}}, \\\\\\\\\\\\\\\"localData\\\\\\\\\\\\\\\": {}, \\\\\\\\\\\\\\\"isEnabled\\\\\\\\\\\\\\\": true, \\\\\\\\\\\\\\\"name\\\\\\\\\\\\\\\": null, \\\\\\\\\\\\\\\"annotation\\\\\\\\\\\\\\\": null}, {\\\\\\\\\\\\\\\"id\\\\\\\\\\\\\\\": \\\\\\\\\\\\\\\"eb184128-0597-4a48-b5fc-996704e7e5a8\\\\\\\\\\\\\\\", \\\\\\\\\\\\\\\"type\\\\\\\\\\\\\\\": \\\\\\\\\\\\\\\"Microsoft.DPrep.SetColumnTypesBlock\\\\\\\\\\\\\\\", \\\\\\\\\\\\\\\"arguments\\\\\\\\\\\\\\\": {\\\\\\\\\\\\\\\"columnConversion\\\\\\\\\\\\\\\": [{\\\\\\\\\\\\\\\"column\\\\\\\\\\\\\\\": {\\\\\\\\\\\\\\\"type\\\\\\\\\\\\\\\": 2, \\\\\\\\\\\\\\\"details\\\\\\\\\\\\\\\": {\\\\\\\\\\\\\\\"selectedColumn\\\\\\\\\\\\\\\": \\\\\\\\\\\\\\\"age\\\\\\\\\\\\\\\"}}, \\\\\\\\\\\\\\\"typeProperty\\\\\\\\\\\\\\\": 3}, {\\\\\\\\\\\\\\\"column\\\\\\\\\\\\\\\": {\\\\\\\\\\\\\\\"type\\\\\\\\\\\\\\\": 2, \\\\\\\\\\\\\\\"details\\\\\\\\\\\\\\\": {\\\\\\\\\\\\\\\"selectedColumn\\\\\\\\\\\\\\\": \\\\\\\\\\\\\\\"anaemia\\\\\\\\\\\\\\\"}}, \\\\\\\\\\\\\\\"typeProperty\\\\\\\\\\\\\\\": 2}, {\\\\\\\\\\\\\\\"column\\\\\\\\\\\\\\\": {\\\\\\\\\\\\\\\"type\\\\\\\\\\\\\\\": 2, \\\\\\\\\\\\\\\"details\\\\\\\\\\\\\\\": {\\\\\\\\\\\\\\\"selectedColumn\\\\\\\\\\\\\\\": \\\\\\\\\\\\\\\"creatinine_phosphokinase\\\\\\\\\\\\\\\"}}, \\\\\\\\\\\\\\\"typeProperty\\\\\\\\\\\\\\\": 2}, {\\\\\\\\\\\\\\\"column\\\\\\\\\\\\\\\": {\\\\\\\\\\\\\\\"type\\\\\\\\\\\\\\\": 2, \\\\\\\\\\\\\\\"details\\\\\\\\\\\\\\\": {\\\\\\\\\\\\\\\"selectedColumn\\\\\\\\\\\\\\\": \\\\\\\\\\\\\\\"diabetes\\\\\\\\\\\\\\\"}}, \\\\\\\\\\\\\\\"typeProperty\\\\\\\\\\\\\\\": 2}, {\\\\\\\\\\\\\\\"column\\\\\\\\\\\\\\\": {\\\\\\\\\\\\\\\"type\\\\\\\\\\\\\\\": 2, \\\\\\\\\\\\\\\"details\\\\\\\\\\\\\\\": {\\\\\\\\\\\\\\\"selectedColumn\\\\\\\\\\\\\\\": \\\\\\\\\\\\\\\"ejection_fraction\\\\\\\\\\\\\\\"}}, \\\\\\\\\\\\\\\"typeProperty\\\\\\\\\\\\\\\": 2}, {\\\\\\\\\\\\\\\"column\\\\\\\\\\\\\\\": {\\\\\\\\\\\\\\\"type\\\\\\\\\\\\\\\": 2, \\\\\\\\\\\\\\\"details\\\\\\\\\\\\\\\": {\\\\\\\\\\\\\\\"selectedColumn\\\\\\\\\\\\\\\": \\\\\\\\\\\\\\\"high_blood_pressure\\\\\\\\\\\\\\\"}}, \\\\\\\\\\\\\\\"typeProperty\\\\\\\\\\\\\\\": 2}, {\\\\\\\\\\\\\\\"column\\\\\\\\\\\\\\\": {\\\\\\\\\\\\\\\"type\\\\\\\\\\\\\\\": 2, \\\\\\\\\\\\\\\"details\\\\\\\\\\\\\\\": {\\\\\\\\\\\\\\\"selectedColumn\\\\\\\\\\\\\\\": \\\\\\\\\\\\\\\"platelets\\\\\\\\\\\\\\\"}}, \\\\\\\\\\\\\\\"typeProperty\\\\\\\\\\\\\\\": 3}, {\\\\\\\\\\\\\\\"column\\\\\\\\\\\\\\\": {\\\\\\\\\\\\\\\"type\\\\\\\\\\\\\\\": 2, \\\\\\\\\\\\\\\"details\\\\\\\\\\\\\\\": {\\\\\\\\\\\\\\\"selectedColumn\\\\\\\\\\\\\\\": \\\\\\\\\\\\\\\"serum_creatinine\\\\\\\\\\\\\\\"}}, \\\\\\\\\\\\\\\"typeProperty\\\\\\\\\\\\\\\": 3}, {\\\\\\\\\\\\\\\"column\\\\\\\\\\\\\\\": {\\\\\\\\\\\\\\\"type\\\\\\\\\\\\\\\": 2, \\\\\\\\\\\\\\\"details\\\\\\\\\\\\\\\": {\\\\\\\\\\\\\\\"selectedColumn\\\\\\\\\\\\\\\": \\\\\\\\\\\\\\\"serum_sodium\\\\\\\\\\\\\\\"}}, \\\\\\\\\\\\\\\"typeProperty\\\\\\\\\\\\\\\": 2}, {\\\\\\\\\\\\\\\"column\\\\\\\\\\\\\\\": {\\\\\\\\\\\\\\\"type\\\\\\\\\\\\\\\": 2, \\\\\\\\\\\\\\\"details\\\\\\\\\\\\\\\": {\\\\\\\\\\\\\\\"selectedColumn\\\\\\\\\\\\\\\": \\\\\\\\\\\\\\\"sex\\\\\\\\\\\\\\\"}}, \\\\\\\\\\\\\\\"typeProperty\\\\\\\\\\\\\\\": 2}, {\\\\\\\\\\\\\\\"column\\\\\\\\\\\\\\\": {\\\\\\\\\\\\\\\"type\\\\\\\\\\\\\\\": 2, \\\\\\\\\\\\\\\"details\\\\\\\\\\\\\\\": {\\\\\\\\\\\\\\\"selectedColumn\\\\\\\\\\\\\\\": \\\\\\\\\\\\\\\"smoking\\\\\\\\\\\\\\\"}}, \\\\\\\\\\\\\\\"typeProperty\\\\\\\\\\\\\\\": 2}, {\\\\\\\\\\\\\\\"column\\\\\\\\\\\\\\\": {\\\\\\\\\\\\\\\"type\\\\\\\\\\\\\\\": 2, \\\\\\\\\\\\\\\"details\\\\\\\\\\\\\\\": {\\\\\\\\\\\\\\\"selectedColumn\\\\\\\\\\\\\\\": \\\\\\\\\\\\\\\"time\\\\\\\\\\\\\\\"}}, \\\\\\\\\\\\\\\"typeProperty\\\\\\\\\\\\\\\": 2}, {\\\\\\\\\\\\\\\"column\\\\\\\\\\\\\\\": {\\\\\\\\\\\\\\\"type\\\\\\\\\\\\\\\": 2, \\\\\\\\\\\\\\\"details\\\\\\\\\\\\\\\": {\\\\\\\\\\\\\\\"selectedColumn\\\\\\\\\\\\\\\": \\\\\\\\\\\\\\\"DEATH_EVENT\\\\\\\\\\\\\\\"}}, \\\\\\\\\\\\\\\"typeProperty\\\\\\\\\\\\\\\": 2}]}, \\\\\\\\\\\\\\\"localData\\\\\\\\\\\\\\\": {}, \\\\\\\\\\\\\\\"isEnabled\\\\\\\\\\\\\\\": true, \\\\\\\\\\\\\\\"name\\\\\\\\\\\\\\\": null, \\\\\\\\\\\\\\\"annotation\\\\\\\\\\\\\\\": null}], \\\\\\\\\\\\\\\"inspectors\\\\\\\\\\\\\\\": [], \\\\\\\\\\\\\\\"meta\\\\\\\\\\\\\\\": {\\\\\\\\\\\\\\\"savedDatasetId\\\\\\\\\\\\\\\": \\\\\\\\\\\\\\\"c61dc42f-5b71-40af-8e3a-885c131ebc87\\\\\\\\\\\\\\\", \\\\\\\\\\\\\\\"datasetType\\\\\\\\\\\\\\\": \\\\\\\\\\\\\\\"tabular\\\\\\\\\\\\\\\", \\\\\\\\\\\\\\\"subscriptionId\\\\\\\\\\\\\\\": \\\\\\\\\\\\\\\"a24a24d5-8d87-4c8a-99b6-91ed2d2df51f\\\\\\\\\\\\\\\", \\\\\\\\\\\\\\\"workspaceId\\\\\\\\\\\\\\\": \\\\\\\\\\\\\\\"c97eb487-9c4c-4f35-90ab-5d5af389edd0\\\\\\\\\\\\\\\", \\\\\\\\\\\\\\\"workspaceLocation\\\\\\\\\\\\\\\": \\\\\\\\\\\\\\\"southcentralus\\\\\\\\\\\\\\\", \\\\\\\\\\\\\\\"partition_keys\\\\\\\\\\\\\\\": \\\\\\\\\\\\\\\"true\\\\\\\\\\\\\\\"}}\\\\\\\", \\\\\\\"activities\\\\\\\": 0}\", \"EnableSubsampling\": null, \"runTemplate\": \"AutoML\", \"azureml.runsource\": \"automl\", \"display_task_type\": \"classification\", \"dependencies_versions\": \"{\\\"azureml-widgets\\\": \\\"1.24.0\\\", \\\"azureml-train\\\": \\\"1.24.0\\\", \\\"azureml-train-restclients-hyperdrive\\\": \\\"1.24.0\\\", \\\"azureml-train-core\\\": \\\"1.24.0\\\", \\\"azureml-train-automl\\\": \\\"1.24.0\\\", \\\"azureml-train-automl-runtime\\\": \\\"1.24.0\\\", \\\"azureml-train-automl-client\\\": \\\"1.24.0\\\", \\\"azureml-tensorboard\\\": \\\"1.24.0\\\", \\\"azureml-telemetry\\\": \\\"1.24.0\\\", \\\"azureml-sdk\\\": \\\"1.24.0\\\", \\\"azureml-samples\\\": \\\"0+unknown\\\", \\\"azureml-pipeline\\\": \\\"1.24.0\\\", \\\"azureml-pipeline-steps\\\": \\\"1.24.0\\\", \\\"azureml-pipeline-core\\\": \\\"1.24.0\\\", \\\"azureml-opendatasets\\\": \\\"1.24.0\\\", \\\"azureml-model-management-sdk\\\": \\\"1.0.1b6.post1\\\", \\\"azureml-mlflow\\\": \\\"1.24.0\\\", \\\"azureml-interpret\\\": \\\"1.24.0\\\", \\\"azureml-explain-model\\\": \\\"1.24.0\\\", \\\"azureml-defaults\\\": \\\"1.24.0\\\", \\\"azureml-dataset-runtime\\\": \\\"1.24.0\\\", \\\"azureml-dataprep\\\": \\\"2.11.1\\\", \\\"azureml-dataprep-rslex\\\": \\\"1.9.0\\\", \\\"azureml-dataprep-native\\\": \\\"30.0.0\\\", \\\"azureml-datadrift\\\": \\\"1.24.0\\\", \\\"azureml-core\\\": \\\"1.24.0\\\", \\\"azureml-contrib-services\\\": \\\"1.24.0\\\", \\\"azureml-contrib-server\\\": \\\"1.24.0\\\", \\\"azureml-contrib-reinforcementlearning\\\": \\\"1.24.0\\\", \\\"azureml-contrib-pipeline-steps\\\": \\\"1.24.0\\\", \\\"azureml-contrib-notebook\\\": \\\"1.24.0\\\", \\\"azureml-contrib-gbdt\\\": \\\"1.24.0\\\", \\\"azureml-contrib-fairness\\\": \\\"1.24.0\\\", \\\"azureml-contrib-dataset\\\": \\\"1.24.0\\\", \\\"azureml-cli-common\\\": \\\"1.24.0\\\", \\\"azureml-automl-runtime\\\": \\\"1.24.0\\\", \\\"azureml-automl-dnn-nlp\\\": \\\"1.24.0\\\", \\\"azureml-automl-core\\\": \\\"1.24.0\\\", \\\"azureml-accel-models\\\": \\\"1.24.0\\\"}\", \"_aml_system_scenario_identification\": \"Remote.Parent\", \"ClientType\": \"SDK\", \"environment_cpu_name\": \"AzureML-AutoML\", \"environment_cpu_label\": \"prod\", \"environment_gpu_name\": \"AzureML-AutoML-GPU\", \"environment_gpu_label\": \"prod\", \"root_attribution\": \"automl\", \"attribution\": \"AutoML\", \"Orchestrator\": \"AutoML\", \"CancelUri\": \"https://southcentralus.experiments.azureml.net/jasmine/v1.0/subscriptions/a24a24d5-8d87-4c8a-99b6-91ed2d2df51f/resourceGroups/aml-quickstarts-141063/providers/Microsoft.MachineLearningServices/workspaces/quick-starts-ws-141063/experimentids/1c894d0c-2484-419e-88b5-6570c95124f3/cancel/AutoML_9770219e-abe3-4ceb-8d3f-26327ad67283\", \"ClientSdkVersion\": \"1.24.0\", \"snapshotId\": \"00000000-0000-0000-0000-000000000000\", \"SetupRunId\": \"AutoML_9770219e-abe3-4ceb-8d3f-26327ad67283_setup\", \"SetupRunContainerId\": \"dcid.AutoML_9770219e-abe3-4ceb-8d3f-26327ad67283_setup\", \"FeaturizationRunJsonPath\": \"featurizer_container.json\", \"FeaturizationRunId\": \"AutoML_9770219e-abe3-4ceb-8d3f-26327ad67283_featurize\", \"ProblemInfoJsonString\": \"{\\\"dataset_num_categorical\\\": 0, \\\"is_sparse\\\": false, \\\"subsampling\\\": false, \\\"dataset_classes\\\": 2, \\\"dataset_features\\\": 12, \\\"dataset_samples\\\": 224, \\\"single_frequency_class_detected\\\": false}\", \"ModelExplainRunId\": \"AutoML_9770219e-abe3-4ceb-8d3f-26327ad67283_ModelExplain\"}, \"tags\": {\"model_explain_run\": \"best_run\", \"_aml_system_azureml.automlComponent\": \"AutoML\", \"pipeline_id\": \"\", \"score\": \"\", \"predicted_cost\": \"\", \"fit_time\": \"\", \"training_percent\": \"\", \"iteration\": \"\", \"run_preprocessor\": \"\", \"run_algorithm\": \"\", \"dynamic_whitelisting_iterations\": \"<25>;<30>;<35>;\", \"automl_best_child_run_id\": \"AutoML_9770219e-abe3-4ceb-8d3f-26327ad67283_38\", \"model_explain_best_run_child_id\": \"AutoML_9770219e-abe3-4ceb-8d3f-26327ad67283_38\"}, \"end_time_utc\": \"2021-03-21T17:49:12.881201Z\", \"status\": \"Completed\", \"log_files\": {}, \"log_groups\": [], \"run_duration\": \"0:20:59\", \"run_number\": \"1\", \"run_queued_details\": {\"status\": \"Completed\", \"details\": null}}, \"child_runs\": [{\"run_id\": \"AutoML_9770219e-abe3-4ceb-8d3f-26327ad67283_1\", \"run_number\": 5, \"metric\": null, \"status\": \"Completed\", \"run_type\": \"azureml.scriptrun\", \"training_percent\": \"100\", \"start_time\": \"2021-03-21T17:37:43.699947Z\", \"end_time\": \"2021-03-21T17:38:39.007911Z\", \"created_time\": \"2021-03-21T17:36:06.72288Z\", \"created_time_dt\": \"2021-03-21T17:36:06.72288Z\", \"duration\": \"0:02:32\", \"iteration\": \"1\", \"goal\": \"accuracy_max\", \"run_name\": \"MinMaxScaler, RandomForest\", \"run_properties\": \"copy=True, feature_range=(0, 1\", \"primary_metric\": 0.76323232, \"best_metric\": 0.8389899}, {\"run_id\": \"AutoML_9770219e-abe3-4ceb-8d3f-26327ad67283_4\", \"run_number\": 6, \"metric\": null, \"status\": \"Completed\", \"run_type\": \"azureml.scriptrun\", \"training_percent\": \"100\", \"start_time\": \"2021-03-21T17:38:52.476216Z\", \"end_time\": \"2021-03-21T17:39:42.415651Z\", \"created_time\": \"2021-03-21T17:36:06.734034Z\", \"created_time_dt\": \"2021-03-21T17:36:06.734034Z\", \"duration\": \"0:03:35\", \"iteration\": \"4\", \"goal\": \"accuracy_max\", \"run_name\": \"MinMaxScaler, RandomForest\", \"run_properties\": \"copy=True, feature_range=(0, 1\", \"primary_metric\": 0.84353535, \"best_metric\": 0.84353535}, {\"run_id\": \"AutoML_9770219e-abe3-4ceb-8d3f-26327ad67283_2\", \"run_number\": 7, \"metric\": null, \"status\": \"Completed\", \"run_type\": \"azureml.scriptrun\", \"training_percent\": \"100\", \"start_time\": \"2021-03-21T17:36:20.133697Z\", \"end_time\": \"2021-03-21T17:37:26.463841Z\", \"created_time\": \"2021-03-21T17:36:06.753737Z\", \"created_time_dt\": \"2021-03-21T17:36:06.753737Z\", \"duration\": \"0:01:19\", \"iteration\": \"2\", \"goal\": \"accuracy_max\", \"run_name\": \"MinMaxScaler, RandomForest\", \"run_properties\": \"copy=True, feature_range=(0, 1\", \"primary_metric\": 0.83464646, \"best_metric\": 0.8389899}, {\"run_id\": \"AutoML_9770219e-abe3-4ceb-8d3f-26327ad67283_0\", \"run_number\": 8, \"metric\": null, \"status\": \"Completed\", \"run_type\": \"azureml.scriptrun\", \"training_percent\": \"100\", \"start_time\": \"2021-03-21T17:39:20.06598Z\", \"end_time\": \"2021-03-21T17:41:17.891895Z\", \"created_time\": \"2021-03-21T17:36:06.724223Z\", \"created_time_dt\": \"2021-03-21T17:36:06.724223Z\", \"duration\": \"0:05:11\", \"iteration\": \"0\", \"goal\": \"accuracy_max\", \"run_name\": \"MaxAbsScaler, LightGBM\", \"run_properties\": \"copy=True\", \"primary_metric\": 0.8389899, \"best_metric\": 0.8389899}, {\"run_id\": \"AutoML_9770219e-abe3-4ceb-8d3f-26327ad67283_3\", \"run_number\": 9, \"metric\": null, \"status\": \"Completed\", \"run_type\": \"azureml.scriptrun\", \"training_percent\": \"100\", \"start_time\": \"2021-03-21T17:39:20.229545Z\", \"end_time\": \"2021-03-21T17:41:22.749161Z\", \"created_time\": \"2021-03-21T17:36:06.74112Z\", \"created_time_dt\": \"2021-03-21T17:36:06.74112Z\", \"duration\": \"0:05:16\", \"iteration\": \"3\", \"goal\": \"accuracy_max\", \"run_name\": \"MinMaxScaler, RandomForest\", \"run_properties\": \"copy=True, feature_range=(0, 1\", \"primary_metric\": 0.83010101, \"best_metric\": 0.8389899}, {\"run_id\": \"AutoML_9770219e-abe3-4ceb-8d3f-26327ad67283_5\", \"run_number\": 10, \"metric\": null, \"status\": \"Completed\", \"run_type\": \"azureml.scriptrun\", \"training_percent\": \"100\", \"start_time\": \"2021-03-21T17:39:19.620912Z\", \"end_time\": \"2021-03-21T17:41:18.276275Z\", \"created_time\": \"2021-03-21T17:37:30.352416Z\", \"created_time_dt\": \"2021-03-21T17:37:30.352416Z\", \"duration\": \"0:03:47\", \"iteration\": \"5\", \"goal\": \"accuracy_max\", \"run_name\": \"RobustScaler, LightGBM\", \"run_properties\": \"copy=True, quantile_range=[10, 90], with_centering=True,\\n             with_scaling=False\", \"primary_metric\": 0.85232323, \"best_metric\": 0.85232323}, {\"run_id\": \"AutoML_9770219e-abe3-4ceb-8d3f-26327ad67283_6\", \"run_number\": 11, \"metric\": null, \"status\": \"Completed\", \"run_type\": \"azureml.scriptrun\", \"training_percent\": \"100\", \"start_time\": \"2021-03-21T17:39:18.125804Z\", \"end_time\": \"2021-03-21T17:41:11.827554Z\", \"created_time\": \"2021-03-21T17:38:41.423122Z\", \"created_time_dt\": \"2021-03-21T17:38:41.423122Z\", \"duration\": \"0:02:30\", \"iteration\": \"6\", \"goal\": \"accuracy_max\", \"run_name\": \"MinMaxScaler, SVM\", \"run_properties\": \"copy=True, feature_range=(0, 1\", \"primary_metric\": 0.71828283, \"best_metric\": 0.85232323}, {\"run_id\": \"AutoML_9770219e-abe3-4ceb-8d3f-26327ad67283_7\", \"run_number\": 12, \"metric\": null, \"status\": \"Completed\", \"run_type\": \"azureml.scriptrun\", \"training_percent\": \"100\", \"start_time\": \"2021-03-21T17:39:59.098557Z\", \"end_time\": \"2021-03-21T17:40:43.391017Z\", \"created_time\": \"2021-03-21T17:39:46.448863Z\", \"created_time_dt\": \"2021-03-21T17:39:46.448863Z\", \"duration\": \"0:00:56\", \"iteration\": \"7\", \"goal\": \"accuracy_max\", \"run_name\": \"MinMaxScaler, SVM\", \"run_properties\": \"copy=True, feature_range=(0, 1\", \"primary_metric\": 0.72717172, \"best_metric\": 0.85232323}, {\"run_id\": \"AutoML_9770219e-abe3-4ceb-8d3f-26327ad67283_8\", \"run_number\": 13, \"metric\": null, \"status\": \"Completed\", \"run_type\": \"azureml.scriptrun\", \"training_percent\": \"100\", \"start_time\": \"2021-03-21T17:40:58.816102Z\", \"end_time\": \"2021-03-21T17:41:53.094897Z\", \"created_time\": \"2021-03-21T17:40:47.736704Z\", \"created_time_dt\": \"2021-03-21T17:40:47.736704Z\", \"duration\": \"0:01:05\", \"iteration\": \"8\", \"goal\": \"accuracy_max\", \"run_name\": \"MaxAbsScaler, RandomForest\", \"run_properties\": \"copy=True\", \"primary_metric\": 0.75424242, \"best_metric\": 0.85232323}, {\"run_id\": \"AutoML_9770219e-abe3-4ceb-8d3f-26327ad67283_9\", \"run_number\": 14, \"metric\": null, \"status\": \"Completed\", \"run_type\": \"azureml.scriptrun\", \"training_percent\": \"100\", \"start_time\": \"2021-03-21T17:41:26.603393Z\", \"end_time\": \"2021-03-21T17:42:08.882056Z\", \"created_time\": \"2021-03-21T17:41:15.315594Z\", \"created_time_dt\": \"2021-03-21T17:41:15.315594Z\", \"duration\": \"0:00:53\", \"iteration\": \"9\", \"goal\": \"accuracy_max\", \"run_name\": \"RobustScaler, RandomForest\", \"run_properties\": \"copy=True, quantile_range=[10, 90], with_centering=True,\\n             with_scaling=True\", \"primary_metric\": 0.82989899, \"best_metric\": 0.85232323}, {\"run_id\": \"AutoML_9770219e-abe3-4ceb-8d3f-26327ad67283_10\", \"run_number\": 15, \"metric\": null, \"status\": \"Completed\", \"run_type\": \"azureml.scriptrun\", \"training_percent\": \"100\", \"start_time\": \"2021-03-21T17:41:32.936214Z\", \"end_time\": \"2021-03-21T17:42:23.949202Z\", \"created_time\": \"2021-03-21T17:41:21.59777Z\", \"created_time_dt\": \"2021-03-21T17:41:21.59777Z\", \"duration\": \"0:01:02\", \"iteration\": \"10\", \"goal\": \"accuracy_max\", \"run_name\": \"StandardScalerWrapper, GradientBoosting\", \"run_properties\": \"<azureml.automl.runtime.shared.model_wrappers.StandardScalerWrapper object at 0x7f55f8bdfcf8\", \"primary_metric\": 0.86111111, \"best_metric\": 0.86111111}, {\"run_id\": \"AutoML_9770219e-abe3-4ceb-8d3f-26327ad67283_11\", \"run_number\": 16, \"metric\": null, \"status\": \"Completed\", \"run_type\": \"azureml.scriptrun\", \"training_percent\": \"100\", \"start_time\": \"2021-03-21T17:41:35.783318Z\", \"end_time\": \"2021-03-21T17:42:24.66781Z\", \"created_time\": \"2021-03-21T17:41:21.722571Z\", \"created_time_dt\": \"2021-03-21T17:41:21.722571Z\", \"duration\": \"0:01:02\", \"iteration\": \"11\", \"goal\": \"accuracy_max\", \"run_name\": \"MinMaxScaler, RandomForest\", \"run_properties\": \"copy=True, feature_range=(0, 1\", \"primary_metric\": 0.83878788, \"best_metric\": 0.86111111}, {\"run_id\": \"AutoML_9770219e-abe3-4ceb-8d3f-26327ad67283_12\", \"run_number\": 17, \"metric\": null, \"status\": \"Completed\", \"run_type\": \"azureml.scriptrun\", \"training_percent\": \"100\", \"start_time\": \"2021-03-21T17:41:39.533652Z\", \"end_time\": \"2021-03-21T17:42:27.573116Z\", \"created_time\": \"2021-03-21T17:41:27.853019Z\", \"created_time_dt\": \"2021-03-21T17:41:27.853019Z\", \"duration\": \"0:00:59\", \"iteration\": \"12\", \"goal\": \"accuracy_max\", \"run_name\": \"StandardScalerWrapper, LightGBM\", \"run_properties\": \"<azureml.automl.runtime.shared.model_wrappers.StandardScalerWrapper object at 0x7f6d9c8e3ac8\", \"primary_metric\": 0.85232323, \"best_metric\": 0.86111111}, {\"run_id\": \"AutoML_9770219e-abe3-4ceb-8d3f-26327ad67283_13\", \"run_number\": 18, \"metric\": null, \"status\": \"Completed\", \"run_type\": \"azureml.scriptrun\", \"training_percent\": \"100\", \"start_time\": \"2021-03-21T17:42:09.931396Z\", \"end_time\": \"2021-03-21T17:42:56.182179Z\", \"created_time\": \"2021-03-21T17:41:55.188065Z\", \"created_time_dt\": \"2021-03-21T17:41:55.188065Z\", \"duration\": \"0:01:00\", \"iteration\": \"13\", \"goal\": \"accuracy_max\", \"run_name\": \"SparseNormalizer, GradientBoosting\", \"run_properties\": \"<azureml.automl.runtime.shared.model_wrappers.SparseNormalizer object at 0x7f7b8677aeb8\", \"primary_metric\": 0.84777778, \"best_metric\": 0.86111111}, {\"run_id\": \"AutoML_9770219e-abe3-4ceb-8d3f-26327ad67283_14\", \"run_number\": 19, \"metric\": null, \"status\": \"Completed\", \"run_type\": \"azureml.scriptrun\", \"training_percent\": \"100\", \"start_time\": \"2021-03-21T17:42:26.29518Z\", \"end_time\": \"2021-03-21T17:43:15.527516Z\", \"created_time\": \"2021-03-21T17:42:11.755793Z\", \"created_time_dt\": \"2021-03-21T17:42:11.755793Z\", \"duration\": \"0:01:03\", \"iteration\": \"14\", \"goal\": \"accuracy_max\", \"run_name\": \"MinMaxScaler, LightGBM\", \"run_properties\": \"copy=True, feature_range=(0, 1\", \"primary_metric\": 0.85232323, \"best_metric\": 0.86111111}, {\"run_id\": \"AutoML_9770219e-abe3-4ceb-8d3f-26327ad67283_15\", \"run_number\": 20, \"metric\": null, \"status\": \"Completed\", \"run_type\": \"azureml.scriptrun\", \"training_percent\": \"100\", \"start_time\": \"2021-03-21T17:42:40.234734Z\", \"end_time\": \"2021-03-21T17:43:35.149717Z\", \"created_time\": \"2021-03-21T17:42:26.293786Z\", \"created_time_dt\": \"2021-03-21T17:42:26.293786Z\", \"duration\": \"0:01:08\", \"iteration\": \"15\", \"goal\": \"accuracy_max\", \"run_name\": \"RobustScaler, LightGBM\", \"run_properties\": \"copy=True, quantile_range=[10, 90], with_centering=True,\\n             with_scaling=False\", \"primary_metric\": 0.78535354, \"best_metric\": 0.86111111}, {\"run_id\": \"AutoML_9770219e-abe3-4ceb-8d3f-26327ad67283_16\", \"run_number\": 21, \"metric\": null, \"status\": \"Completed\", \"run_type\": \"azureml.scriptrun\", \"training_percent\": \"100\", \"start_time\": \"2021-03-21T17:42:44.515358Z\", \"end_time\": \"2021-03-21T17:43:33.121694Z\", \"created_time\": \"2021-03-21T17:42:32.048169Z\", \"created_time_dt\": \"2021-03-21T17:42:32.048169Z\", \"duration\": \"0:01:01\", \"iteration\": \"16\", \"goal\": \"accuracy_max\", \"run_name\": \"StandardScalerWrapper, LightGBM\", \"run_properties\": \"<azureml.automl.runtime.shared.model_wrappers.StandardScalerWrapper object at 0x7fd1d7c56dd8\", \"primary_metric\": 0.85676768, \"best_metric\": 0.86111111}, {\"run_id\": \"AutoML_9770219e-abe3-4ceb-8d3f-26327ad67283_17\", \"run_number\": 22, \"metric\": null, \"status\": \"Completed\", \"run_type\": \"azureml.scriptrun\", \"training_percent\": \"100\", \"start_time\": \"2021-03-21T17:42:41.694016Z\", \"end_time\": \"2021-03-21T17:43:29.302984Z\", \"created_time\": \"2021-03-21T17:42:32.275883Z\", \"created_time_dt\": \"2021-03-21T17:42:32.275883Z\", \"duration\": \"0:00:57\", \"iteration\": \"17\", \"goal\": \"accuracy_max\", \"run_name\": \"MaxAbsScaler, ExtremeRandomTrees\", \"run_properties\": \"copy=True\", \"primary_metric\": 0.82565657, \"best_metric\": 0.86111111}, {\"run_id\": \"AutoML_9770219e-abe3-4ceb-8d3f-26327ad67283_18\", \"run_number\": 23, \"metric\": null, \"status\": \"Completed\", \"run_type\": \"azureml.scriptrun\", \"training_percent\": \"100\", \"start_time\": \"2021-03-21T17:43:14.263837Z\", \"end_time\": \"2021-03-21T17:44:00.027054Z\", \"created_time\": \"2021-03-21T17:42:59.231262Z\", \"created_time_dt\": \"2021-03-21T17:42:59.231262Z\", \"duration\": \"0:01:00\", \"iteration\": \"18\", \"goal\": \"accuracy_max\", \"run_name\": \"RobustScaler, LightGBM\", \"run_properties\": \"copy=True, quantile_range=[25, 75], with_centering=False,\\n             with_scaling=False\", \"primary_metric\": 0.79444444, \"best_metric\": 0.86111111}, {\"run_id\": \"AutoML_9770219e-abe3-4ceb-8d3f-26327ad67283_19\", \"run_number\": 24, \"metric\": null, \"status\": \"Completed\", \"run_type\": \"azureml.scriptrun\", \"training_percent\": \"100\", \"start_time\": \"2021-03-21T17:43:29.90604Z\", \"end_time\": \"2021-03-21T17:44:15.346955Z\", \"created_time\": \"2021-03-21T17:43:17.889582Z\", \"created_time_dt\": \"2021-03-21T17:43:17.889582Z\", \"duration\": \"0:00:57\", \"iteration\": \"19\", \"goal\": \"accuracy_max\", \"run_name\": \"RobustScaler, ExtremeRandomTrees\", \"run_properties\": \"copy=True, quantile_range=[25, 75], with_centering=True,\\n             with_scaling=False\", \"primary_metric\": 0.84787879, \"best_metric\": 0.86111111}, {\"run_id\": \"AutoML_9770219e-abe3-4ceb-8d3f-26327ad67283_20\", \"run_number\": 25, \"metric\": null, \"status\": \"Completed\", \"run_type\": \"azureml.scriptrun\", \"training_percent\": \"100\", \"start_time\": \"2021-03-21T17:43:43.562674Z\", \"end_time\": \"2021-03-21T17:44:40.835059Z\", \"created_time\": \"2021-03-21T17:43:31.512607Z\", \"created_time_dt\": \"2021-03-21T17:43:31.512607Z\", \"duration\": \"0:01:09\", \"iteration\": \"20\", \"goal\": \"accuracy_max\", \"run_name\": \"MaxAbsScaler, ExtremeRandomTrees\", \"run_properties\": \"copy=True\", \"primary_metric\": 0.84787879, \"best_metric\": 0.86111111}, {\"run_id\": \"AutoML_9770219e-abe3-4ceb-8d3f-26327ad67283_21\", \"run_number\": 26, \"metric\": null, \"status\": \"Completed\", \"run_type\": \"azureml.scriptrun\", \"training_percent\": \"100\", \"start_time\": \"2021-03-21T17:43:48.473871Z\", \"end_time\": \"2021-03-21T17:44:36.843728Z\", \"created_time\": \"2021-03-21T17:43:35.959552Z\", \"created_time_dt\": \"2021-03-21T17:43:35.959552Z\", \"duration\": \"0:01:00\", \"iteration\": \"21\", \"goal\": \"accuracy_max\", \"run_name\": \"RobustScaler, KNN\", \"run_properties\": \"copy=True, quantile_range=[25, 75], with_centering=True,\\n             with_scaling=False\", \"primary_metric\": 0.55333333, \"best_metric\": 0.86111111}, {\"run_id\": \"AutoML_9770219e-abe3-4ceb-8d3f-26327ad67283_22\", \"run_number\": 27, \"metric\": null, \"status\": \"Completed\", \"run_type\": \"azureml.scriptrun\", \"training_percent\": \"100\", \"start_time\": \"2021-03-21T17:43:52.149619Z\", \"end_time\": \"2021-03-21T17:44:49.05444Z\", \"created_time\": \"2021-03-21T17:43:40.029479Z\", \"created_time_dt\": \"2021-03-21T17:43:40.029479Z\", \"duration\": \"0:01:09\", \"iteration\": \"22\", \"goal\": \"accuracy_max\", \"run_name\": \"MinMaxScaler, ExtremeRandomTrees\", \"run_properties\": \"copy=True, feature_range=(0, 1\", \"primary_metric\": 0.84787879, \"best_metric\": 0.86111111}, {\"run_id\": \"AutoML_9770219e-abe3-4ceb-8d3f-26327ad67283_23\", \"run_number\": 28, \"metric\": null, \"status\": \"Completed\", \"run_type\": \"azureml.scriptrun\", \"training_percent\": \"100\", \"start_time\": \"2021-03-21T17:44:16.410327Z\", \"end_time\": \"2021-03-21T17:45:11.771031Z\", \"created_time\": \"2021-03-21T17:44:02.209392Z\", \"created_time_dt\": \"2021-03-21T17:44:02.209392Z\", \"duration\": \"0:01:09\", \"iteration\": \"23\", \"goal\": \"accuracy_max\", \"run_name\": \"StandardScalerWrapper, RandomForest\", \"run_properties\": \"<azureml.automl.runtime.shared.model_wrappers.StandardScalerWrapper object at 0x7fde45b75c18\", \"primary_metric\": 0.82565657, \"best_metric\": 0.86111111}, {\"run_id\": \"AutoML_9770219e-abe3-4ceb-8d3f-26327ad67283_24\", \"run_number\": 29, \"metric\": null, \"status\": \"Completed\", \"run_type\": \"azureml.scriptrun\", \"training_percent\": \"100\", \"start_time\": \"2021-03-21T17:44:32.126159Z\", \"end_time\": \"2021-03-21T17:45:16.148573Z\", \"created_time\": \"2021-03-21T17:44:17.765666Z\", \"created_time_dt\": \"2021-03-21T17:44:17.765666Z\", \"duration\": \"0:00:58\", \"iteration\": \"24\", \"goal\": \"accuracy_max\", \"run_name\": \"SparseNormalizer, RandomForest\", \"run_properties\": \"<azureml.automl.runtime.shared.model_wrappers.SparseNormalizer object at 0x7fe59b4626a0\", \"primary_metric\": 0.84777778, \"best_metric\": 0.86111111}, {\"run_id\": \"AutoML_9770219e-abe3-4ceb-8d3f-26327ad67283_25\", \"run_number\": 30, \"metric\": null, \"status\": \"Completed\", \"run_type\": \"azureml.scriptrun\", \"training_percent\": \"100\", \"start_time\": \"2021-03-21T17:44:53.53203Z\", \"end_time\": \"2021-03-21T17:45:41.541632Z\", \"created_time\": \"2021-03-21T17:44:40.106416Z\", \"created_time_dt\": \"2021-03-21T17:44:40.106416Z\", \"duration\": \"0:01:01\", \"iteration\": \"25\", \"goal\": \"accuracy_max\", \"run_name\": \"StandardScalerWrapper, GradientBoosting\", \"run_properties\": \"<azureml.automl.runtime.shared.model_wrappers.StandardScalerWrapper object at 0x7f931b4ea898\", \"primary_metric\": 0.66494949, \"best_metric\": 0.86111111}, {\"run_id\": \"AutoML_9770219e-abe3-4ceb-8d3f-26327ad67283_26\", \"run_number\": 31, \"metric\": null, \"status\": \"Completed\", \"run_type\": \"azureml.scriptrun\", \"training_percent\": \"100\", \"start_time\": \"2021-03-21T17:44:58.873129Z\", \"end_time\": \"2021-03-21T17:45:41.621525Z\", \"created_time\": \"2021-03-21T17:44:44.277753Z\", \"created_time_dt\": \"2021-03-21T17:44:44.277753Z\", \"duration\": \"0:00:57\", \"iteration\": \"26\", \"goal\": \"accuracy_max\", \"run_name\": \"RobustScaler, LightGBM\", \"run_properties\": \"copy=True, quantile_range=[10, 90], with_centering=False,\\n             with_scaling=True\", \"primary_metric\": 0.84343434, \"best_metric\": 0.86111111}, {\"run_id\": \"AutoML_9770219e-abe3-4ceb-8d3f-26327ad67283_27\", \"run_number\": 32, \"metric\": null, \"status\": \"Completed\", \"run_type\": \"azureml.scriptrun\", \"training_percent\": \"100\", \"start_time\": \"2021-03-21T17:45:06.29506Z\", \"end_time\": \"2021-03-21T17:45:54.874154Z\", \"created_time\": \"2021-03-21T17:44:51.603067Z\", \"created_time_dt\": \"2021-03-21T17:44:51.603067Z\", \"duration\": \"0:01:03\", \"iteration\": \"27\", \"goal\": \"accuracy_max\", \"run_name\": \"StandardScalerWrapper, LightGBM\", \"run_properties\": \"<azureml.automl.runtime.shared.model_wrappers.StandardScalerWrapper object at 0x7f2428647588\", \"primary_metric\": 0.83444444, \"best_metric\": 0.86111111}, {\"run_id\": \"AutoML_9770219e-abe3-4ceb-8d3f-26327ad67283_28\", \"run_number\": 33, \"metric\": null, \"status\": \"Completed\", \"run_type\": \"azureml.scriptrun\", \"training_percent\": \"100\", \"start_time\": \"2021-03-21T17:45:29.827403Z\", \"end_time\": \"2021-03-21T17:46:18.719715Z\", \"created_time\": \"2021-03-21T17:45:14.087632Z\", \"created_time_dt\": \"2021-03-21T17:45:14.087632Z\", \"duration\": \"0:01:04\", \"iteration\": \"28\", \"goal\": \"accuracy_max\", \"run_name\": \"MaxAbsScaler, LightGBM\", \"run_properties\": \"copy=True\", \"primary_metric\": 0.83, \"best_metric\": 0.86111111}, {\"run_id\": \"AutoML_9770219e-abe3-4ceb-8d3f-26327ad67283_29\", \"run_number\": 34, \"metric\": null, \"status\": \"Completed\", \"run_type\": \"azureml.scriptrun\", \"training_percent\": \"100\", \"start_time\": \"2021-03-21T17:45:30.373504Z\", \"end_time\": \"2021-03-21T17:46:28.116515Z\", \"created_time\": \"2021-03-21T17:45:18.541316Z\", \"created_time_dt\": \"2021-03-21T17:45:18.541316Z\", \"duration\": \"0:01:09\", \"iteration\": \"29\", \"goal\": \"accuracy_max\", \"run_name\": \"MaxAbsScaler, RandomForest\", \"run_properties\": \"copy=True\", \"primary_metric\": 0.83878788, \"best_metric\": 0.86111111}, {\"run_id\": \"AutoML_9770219e-abe3-4ceb-8d3f-26327ad67283_30\", \"run_number\": 35, \"metric\": null, \"status\": \"Completed\", \"run_type\": \"azureml.scriptrun\", \"training_percent\": \"100\", \"start_time\": \"2021-03-21T17:45:54.298889Z\", \"end_time\": \"2021-03-21T17:46:51.5093Z\", \"created_time\": \"2021-03-21T17:45:44.888841Z\", \"created_time_dt\": \"2021-03-21T17:45:44.888841Z\", \"duration\": \"0:01:06\", \"iteration\": \"30\", \"goal\": \"accuracy_max\", \"run_name\": \"MaxAbsScaler, GradientBoosting\", \"run_properties\": \"copy=True\", \"primary_metric\": 0.84323232, \"best_metric\": 0.86111111}, {\"run_id\": \"AutoML_9770219e-abe3-4ceb-8d3f-26327ad67283_31\", \"run_number\": 36, \"metric\": null, \"status\": \"Completed\", \"run_type\": \"azureml.scriptrun\", \"training_percent\": \"100\", \"start_time\": \"2021-03-21T17:45:57.107042Z\", \"end_time\": \"2021-03-21T17:46:46.433577Z\", \"created_time\": \"2021-03-21T17:45:44.996299Z\", \"created_time_dt\": \"2021-03-21T17:45:44.996299Z\", \"duration\": \"0:01:01\", \"iteration\": \"31\", \"goal\": \"accuracy_max\", \"run_name\": \"MaxAbsScaler, LightGBM\", \"run_properties\": \"copy=True\", \"primary_metric\": 0.80323232, \"best_metric\": 0.86111111}, {\"run_id\": \"AutoML_9770219e-abe3-4ceb-8d3f-26327ad67283_32\", \"run_number\": 37, \"metric\": null, \"status\": \"Completed\", \"run_type\": \"azureml.scriptrun\", \"training_percent\": \"100\", \"start_time\": \"2021-03-21T17:46:10.94624Z\", \"end_time\": \"2021-03-21T17:47:00.595494Z\", \"created_time\": \"2021-03-21T17:45:57.130243Z\", \"created_time_dt\": \"2021-03-21T17:45:57.130243Z\", \"duration\": \"0:01:03\", \"iteration\": \"32\", \"goal\": \"accuracy_max\", \"run_name\": \"RobustScaler, GradientBoosting\", \"run_properties\": \"copy=True, quantile_range=[10, 90], with_centering=True,\\n             with_scaling=True\", \"primary_metric\": 0.83848485, \"best_metric\": 0.86111111}, {\"run_id\": \"AutoML_9770219e-abe3-4ceb-8d3f-26327ad67283_33\", \"run_number\": 38, \"metric\": null, \"status\": \"Completed\", \"run_type\": \"azureml.scriptrun\", \"training_percent\": \"100\", \"start_time\": \"2021-03-21T17:46:34.470487Z\", \"end_time\": \"2021-03-21T17:47:23.038727Z\", \"created_time\": \"2021-03-21T17:46:20.898052Z\", \"created_time_dt\": \"2021-03-21T17:46:20.898052Z\", \"duration\": \"0:01:02\", \"iteration\": \"33\", \"goal\": \"accuracy_max\", \"run_name\": \"StandardScalerWrapper, ExtremeRandomTrees\", \"run_properties\": \"<azureml.automl.runtime.shared.model_wrappers.StandardScalerWrapper object at 0x7fc59410b550\", \"primary_metric\": 0.78979798, \"best_metric\": 0.86111111}, {\"run_id\": \"AutoML_9770219e-abe3-4ceb-8d3f-26327ad67283_34\", \"run_number\": 39, \"metric\": null, \"status\": \"Canceled\", \"run_type\": \"azureml.scriptrun\", \"training_percent\": \"100\", \"start_time\": \"2021-03-21T17:46:43.543011Z\", \"end_time\": \"2021-03-21T17:47:32.580141Z\", \"created_time\": \"2021-03-21T17:46:30.591555Z\", \"created_time_dt\": \"2021-03-21T17:46:30.591555Z\", \"duration\": \"0:01:01\", \"iteration\": \"34\", \"goal\": \"accuracy_max\", \"run_name\": \"StandardScalerWrapper, ExtremeRandomTrees\", \"run_properties\": \"<azureml.automl.runtime.shared.model_wrappers.StandardScalerWrapper object at 0x7f6f1c2ecda0\", \"primary_metric\": 0.80737374, \"best_metric\": 0.86111111}, {\"run_id\": \"AutoML_9770219e-abe3-4ceb-8d3f-26327ad67283_35\", \"run_number\": 40, \"metric\": null, \"status\": \"Canceled\", \"run_type\": \"azureml.scriptrun\", \"training_percent\": \"100\", \"start_time\": \"2021-03-21T17:47:03.281199Z\", \"end_time\": \"2021-03-21T17:47:32.811524Z\", \"created_time\": \"2021-03-21T17:46:50.347597Z\", \"created_time_dt\": \"2021-03-21T17:46:50.347597Z\", \"duration\": \"0:00:42\", \"iteration\": \"35\", \"goal\": \"accuracy_max\", \"run_name\": \"RobustScaler, GradientBoosting\", \"run_properties\": \"copy=True, quantile_range=[10, 90], with_centering=True,\\n             with_scaling=True\", \"primary_metric\": 0.8210101, \"best_metric\": 0.86111111}, {\"run_id\": \"AutoML_9770219e-abe3-4ceb-8d3f-26327ad67283_36\", \"run_number\": 41, \"metric\": null, \"status\": \"Canceled\", \"run_type\": \"azureml.scriptrun\", \"training_percent\": \"100\", \"start_time\": \"2021-03-21T17:47:04.695827Z\", \"end_time\": \"2021-03-21T17:47:31.485502Z\", \"created_time\": \"2021-03-21T17:46:54.54223Z\", \"created_time_dt\": \"2021-03-21T17:46:54.54223Z\", \"duration\": \"0:00:36\", \"iteration\": \"36\", \"goal\": null, \"run_name\": \"MinMaxScaler, LightGBM\", \"run_properties\": null}, {\"run_id\": \"AutoML_9770219e-abe3-4ceb-8d3f-26327ad67283_37\", \"run_number\": 42, \"metric\": null, \"status\": \"Canceled\", \"run_type\": \"azureml.scriptrun\", \"training_percent\": \"100\", \"start_time\": \"2021-03-21T17:47:17.013954Z\", \"end_time\": \"2021-03-21T17:47:31.664711Z\", \"created_time\": \"2021-03-21T17:47:04.170316Z\", \"created_time_dt\": \"2021-03-21T17:47:04.170316Z\", \"duration\": \"0:00:27\", \"iteration\": \"37\", \"goal\": null, \"run_name\": \"Canceled\", \"run_properties\": null}, {\"run_id\": \"AutoML_9770219e-abe3-4ceb-8d3f-26327ad67283_38\", \"run_number\": 43, \"metric\": null, \"status\": \"Completed\", \"run_type\": \"azureml.scriptrun\", \"training_percent\": \"100\", \"start_time\": \"2021-03-21T17:47:45.407798Z\", \"end_time\": \"2021-03-21T17:49:04.95349Z\", \"created_time\": \"2021-03-21T17:47:35.773315Z\", \"created_time_dt\": \"2021-03-21T17:47:35.773315Z\", \"duration\": \"0:01:29\", \"iteration\": \"38\", \"goal\": \"accuracy_max\", \"run_name\": \"VotingEnsemble\", \"run_properties\": \"classification_labels=None,\\n                              estimators=[('10',\\n                                           Pipeline(memory=None,\\n                                                    steps=[('standardscalerwrapper',\\n                                                            <azureml.automl.runtime.shared.model_wrappers.StandardScalerWrapper object at 0x7f560c12d630>\", \"primary_metric\": 0.8789899, \"best_metric\": 0.8789899}, {\"run_id\": \"AutoML_9770219e-abe3-4ceb-8d3f-26327ad67283_39\", \"run_number\": 44, \"metric\": null, \"status\": \"Completed\", \"run_type\": \"azureml.scriptrun\", \"training_percent\": \"100\", \"start_time\": \"2021-03-21T17:47:45.186961Z\", \"end_time\": \"2021-03-21T17:49:06.114367Z\", \"created_time\": \"2021-03-21T17:47:35.902245Z\", \"created_time_dt\": \"2021-03-21T17:47:35.902245Z\", \"duration\": \"0:01:30\", \"iteration\": \"39\", \"goal\": \"accuracy_max\", \"run_name\": \"StackEnsemble\", \"run_properties\": \"base_learners=[('10',\\n                                        Pipeline(memory=None,\\n                                                 steps=[('standardscalerwrapper',\\n                                                         <azureml.automl.runtime.shared.model_wrappers.StandardScalerWrapper object at 0x7fbc901549e8>\", \"primary_metric\": 0.86121212, \"best_metric\": 0.8789899}], \"children_metrics\": {\"categories\": [0], \"series\": {\"recall_score_weighted\": [{\"categories\": [\"0\", \"1\", \"2\", \"3\", \"4\", \"5\", \"6\", \"7\", \"8\", \"9\", \"10\", \"11\", \"12\", \"13\", \"14\", \"15\", \"16\", \"17\", \"18\", \"19\", \"20\", \"21\", \"22\", \"23\", \"24\", \"25\", \"26\", \"27\", \"28\", \"29\", \"30\", \"31\", \"32\", \"33\", \"34\", \"35\", \"38\", \"39\"], \"mode\": \"markers\", \"name\": \"recall_score_weighted\", \"stepped\": false, \"type\": \"scatter\", \"data\": [0.838989898989899, 0.7632323232323233, 0.8346464646464646, 0.83010101010101, 0.8435353535353535, 0.8523232323232323, 0.7182828282828283, 0.7271717171717171, 0.7542424242424242, 0.82989898989899, 0.861111111111111, 0.8387878787878789, 0.8523232323232323, 0.8477777777777777, 0.8523232323232323, 0.7853535353535354, 0.8567676767676767, 0.8256565656565658, 0.7944444444444445, 0.8478787878787879, 0.8478787878787879, 0.5533333333333333, 0.8478787878787879, 0.8256565656565655, 0.8477777777777777, 0.664949494949495, 0.8434343434343434, 0.8344444444444445, 0.8299999999999998, 0.8387878787878789, 0.8432323232323233, 0.8032323232323233, 0.8384848484848485, 0.7897979797979798, 0.8073737373737373, 0.8210101010101012, 0.8789898989898989, 0.8612121212121211]}, {\"categories\": [\"0\", \"1\", \"2\", \"3\", \"4\", \"5\", \"6\", \"7\", \"8\", \"9\", \"10\", \"11\", \"12\", \"13\", \"14\", \"15\", \"16\", \"17\", \"18\", \"19\", \"20\", \"21\", \"22\", \"23\", \"24\", \"25\", \"26\", \"27\", \"28\", \"29\", \"30\", \"31\", \"32\", \"33\", \"34\", \"35\", \"38\", \"39\"], \"mode\": \"lines\", \"name\": \"recall_score_weighted_max\", \"stepped\": true, \"type\": \"scatter\", \"data\": [0.838989898989899, 0.838989898989899, 0.838989898989899, 0.838989898989899, 0.8435353535353535, 0.8523232323232323, 0.8523232323232323, 0.8523232323232323, 0.8523232323232323, 0.8523232323232323, 0.861111111111111, 0.861111111111111, 0.861111111111111, 0.861111111111111, 0.861111111111111, 0.861111111111111, 0.861111111111111, 0.861111111111111, 0.861111111111111, 0.861111111111111, 0.861111111111111, 0.861111111111111, 0.861111111111111, 0.861111111111111, 0.861111111111111, 0.861111111111111, 0.861111111111111, 0.861111111111111, 0.861111111111111, 0.861111111111111, 0.861111111111111, 0.861111111111111, 0.861111111111111, 0.861111111111111, 0.861111111111111, 0.861111111111111, 0.8789898989898989, 0.8789898989898989]}], \"average_precision_score_micro\": [{\"categories\": [\"0\", \"1\", \"2\", \"3\", \"4\", \"5\", \"6\", \"7\", \"8\", \"9\", \"10\", \"11\", \"12\", \"13\", \"14\", \"15\", \"16\", \"17\", \"18\", \"19\", \"20\", \"21\", \"22\", \"23\", \"24\", \"25\", \"26\", \"27\", \"28\", \"29\", \"30\", \"31\", \"32\", \"33\", \"34\", \"35\", \"38\", \"39\"], \"mode\": \"markers\", \"name\": \"average_precision_score_micro\", \"stepped\": false, \"type\": \"scatter\", \"data\": [0.9117642258585642, 0.8819661548943791, 0.9104818322970619, 0.9120475356123908, 0.912484704725842, 0.913428904500057, 0.8035179463595579, 0.7922160413013657, 0.8714645239999925, 0.9210089263687007, 0.913659843178331, 0.9177849989084887, 0.9218115491460062, 0.9170342374923791, 0.9103926214886287, 0.8736051458293682, 0.8942647902739438, 0.8758701919985565, 0.879118386090554, 0.9068943179568795, 0.8904587046279067, 0.565130179714959, 0.8889676730545506, 0.9123923973166077, 0.9117900086143148, 0.7444012049218968, 0.9299230497087505, 0.9171174080523871, 0.9244645484168933, 0.9213713100702755, 0.9048390444623126, 0.8932840895351999, 0.9172888688317787, 0.8781385328831499, 0.8797495020456569, 0.8847846512823254, 0.9224250936374165, 0.9251100770394919]}, {\"categories\": [\"0\", \"1\", \"2\", \"3\", \"4\", \"5\", \"6\", \"7\", \"8\", \"9\", \"10\", \"11\", \"12\", \"13\", \"14\", \"15\", \"16\", \"17\", \"18\", \"19\", \"20\", \"21\", \"22\", \"23\", \"24\", \"25\", \"26\", \"27\", \"28\", \"29\", \"30\", \"31\", \"32\", \"33\", \"34\", \"35\", \"38\", \"39\"], \"mode\": \"lines\", \"name\": \"average_precision_score_micro_max\", \"stepped\": true, \"type\": \"scatter\", \"data\": [0.9117642258585642, 0.9117642258585642, 0.9117642258585642, 0.9120475356123908, 0.912484704725842, 0.913428904500057, 0.913428904500057, 0.913428904500057, 0.913428904500057, 0.9210089263687007, 0.9210089263687007, 0.9210089263687007, 0.9218115491460062, 0.9218115491460062, 0.9218115491460062, 0.9218115491460062, 0.9218115491460062, 0.9218115491460062, 0.9218115491460062, 0.9218115491460062, 0.9218115491460062, 0.9218115491460062, 0.9218115491460062, 0.9218115491460062, 0.9218115491460062, 0.9218115491460062, 0.9299230497087505, 0.9299230497087505, 0.9299230497087505, 0.9299230497087505, 0.9299230497087505, 0.9299230497087505, 0.9299230497087505, 0.9299230497087505, 0.9299230497087505, 0.9299230497087505, 0.9299230497087505, 0.9299230497087505]}], \"recall_score_macro\": [{\"categories\": [\"0\", \"1\", \"2\", \"3\", \"4\", \"5\", \"6\", \"7\", \"8\", \"9\", \"10\", \"11\", \"12\", \"13\", \"14\", \"15\", \"16\", \"17\", \"18\", \"19\", \"20\", \"21\", \"22\", \"23\", \"24\", \"25\", \"26\", \"27\", \"28\", \"29\", \"30\", \"31\", \"32\", \"33\", \"34\", \"35\", \"38\", \"39\"], \"mode\": \"markers\", \"name\": \"recall_score_macro\", \"stepped\": false, \"type\": \"scatter\", \"data\": [0.8059811843929492, 0.73532917409388, 0.7969625668449197, 0.8021832045949692, 0.8320709051297287, 0.8217757971875619, 0.6428223410576352, 0.6613527431174491, 0.6630580312933254, 0.7907066745890277, 0.813551990493167, 0.8101107149930679, 0.8173836403248169, 0.7947807486631017, 0.802609229550406, 0.7102802535155476, 0.7970536739948504, 0.7495504060209941, 0.7509843533372945, 0.7859425628837393, 0.7885569419687066, 0.463191523073876, 0.7779409784115667, 0.7927219251336899, 0.7924844523668054, 0.5, 0.8119625668449197, 0.7981881560705091, 0.8030198059021588, 0.8099473163002575, 0.784646266587443, 0.7511527035056448, 0.8153046147752031, 0.772841156664686, 0.7794860368389781, 0.7568684888096653, 0.8424963359081005, 0.8187589621707267]}, {\"categories\": [\"0\", \"1\", \"2\", \"3\", \"4\", \"5\", \"6\", \"7\", \"8\", \"9\", \"10\", \"11\", \"12\", \"13\", \"14\", \"15\", \"16\", \"17\", \"18\", \"19\", \"20\", \"21\", \"22\", \"23\", \"24\", \"25\", \"26\", \"27\", \"28\", \"29\", \"30\", \"31\", \"32\", \"33\", \"34\", \"35\", \"38\", \"39\"], \"mode\": \"lines\", \"name\": \"recall_score_macro_max\", \"stepped\": true, \"type\": \"scatter\", \"data\": [0.8059811843929492, 0.8059811843929492, 0.8059811843929492, 0.8059811843929492, 0.8320709051297287, 0.8320709051297287, 0.8320709051297287, 0.8320709051297287, 0.8320709051297287, 0.8320709051297287, 0.8320709051297287, 0.8320709051297287, 0.8320709051297287, 0.8320709051297287, 0.8320709051297287, 0.8320709051297287, 0.8320709051297287, 0.8320709051297287, 0.8320709051297287, 0.8320709051297287, 0.8320709051297287, 0.8320709051297287, 0.8320709051297287, 0.8320709051297287, 0.8320709051297287, 0.8320709051297287, 0.8320709051297287, 0.8320709051297287, 0.8320709051297287, 0.8320709051297287, 0.8320709051297287, 0.8320709051297287, 0.8320709051297287, 0.8320709051297287, 0.8320709051297287, 0.8320709051297287, 0.8424963359081005, 0.8424963359081005]}], \"precision_score_macro\": [{\"categories\": [\"0\", \"1\", \"2\", \"3\", \"4\", \"5\", \"6\", \"7\", \"8\", \"9\", \"10\", \"11\", \"12\", \"13\", \"14\", \"15\", \"16\", \"17\", \"18\", \"19\", \"20\", \"21\", \"22\", \"23\", \"24\", \"25\", \"26\", \"27\", \"28\", \"29\", \"30\", \"31\", \"32\", \"33\", \"34\", \"35\", \"38\", \"39\"], \"mode\": \"markers\", \"name\": \"precision_score_macro\", \"stepped\": false, \"type\": \"scatter\", \"data\": [0.8214934074990999, 0.7380781838665598, 0.8337455266795875, 0.807009785048335, 0.8195526901400578, 0.839981214552207, 0.6943693693693694, 0.7438451115280383, 0.8242227520019562, 0.8121896390646391, 0.8736695782671016, 0.8217167024152319, 0.842237324457152, 0.8550488150817099, 0.8585526564938328, 0.8374284287955662, 0.8761466414562389, 0.871127456772618, 0.7914878629584512, 0.8699778102874077, 0.8607621549417214, 0.4459643134643135, 0.8936431802942412, 0.8062321243571244, 0.861336373938461, 0.3324747474747475, 0.8399679772841537, 0.81940522875817, 0.8061195544651427, 0.8227454775616542, 0.8551032716527273, 0.8205135387488329, 0.8289654424522845, 0.7646266354150114, 0.7820111564063177, 0.8387840645440464, 0.8893995517679729, 0.8593030266714476]}, {\"categories\": [\"0\", \"1\", \"2\", \"3\", \"4\", \"5\", \"6\", \"7\", \"8\", \"9\", \"10\", \"11\", \"12\", \"13\", \"14\", \"15\", \"16\", \"17\", \"18\", \"19\", \"20\", \"21\", \"22\", \"23\", \"24\", \"25\", \"26\", \"27\", \"28\", \"29\", \"30\", \"31\", \"32\", \"33\", \"34\", \"35\", \"38\", \"39\"], \"mode\": \"lines\", \"name\": \"precision_score_macro_max\", \"stepped\": true, \"type\": \"scatter\", \"data\": [0.8214934074990999, 0.8214934074990999, 0.8337455266795875, 0.8337455266795875, 0.8337455266795875, 0.839981214552207, 0.839981214552207, 0.839981214552207, 0.839981214552207, 0.839981214552207, 0.8736695782671016, 0.8736695782671016, 0.8736695782671016, 0.8736695782671016, 0.8736695782671016, 0.8736695782671016, 0.8761466414562389, 0.8761466414562389, 0.8761466414562389, 0.8761466414562389, 0.8761466414562389, 0.8761466414562389, 0.8936431802942412, 0.8936431802942412, 0.8936431802942412, 0.8936431802942412, 0.8936431802942412, 0.8936431802942412, 0.8936431802942412, 0.8936431802942412, 0.8936431802942412, 0.8936431802942412, 0.8936431802942412, 0.8936431802942412, 0.8936431802942412, 0.8936431802942412, 0.8936431802942412, 0.8936431802942412]}], \"precision_score_weighted\": [{\"categories\": [\"0\", \"1\", \"2\", \"3\", \"4\", \"5\", \"6\", \"7\", \"8\", \"9\", \"10\", \"11\", \"12\", \"13\", \"14\", \"15\", \"16\", \"17\", \"18\", \"19\", \"20\", \"21\", \"22\", \"23\", \"24\", \"25\", \"26\", \"27\", \"28\", \"29\", \"30\", \"31\", \"32\", \"33\", \"34\", \"35\", \"38\", \"39\"], \"mode\": \"markers\", \"name\": \"precision_score_weighted\", \"stepped\": false, \"type\": \"scatter\", \"data\": [0.8424701140450666, 0.780014023898896, 0.8467804834147337, 0.8360441040669471, 0.8483343456745305, 0.8565900825342364, 0.729103194103194, 0.7652719081580871, 0.8102012848084733, 0.8307040253984699, 0.8676443451211252, 0.8435134391752038, 0.857807047793725, 0.8549992531571478, 0.8626652737240972, 0.8271900484972798, 0.8668156496639469, 0.8500426312039215, 0.8125516127280832, 0.8600797189280162, 0.856996948699735, 0.5266050616050617, 0.8721009827541579, 0.8362122138990825, 0.8589003276321788, 0.45121115192327305, 0.8543804558483703, 0.8378787878787879, 0.8351827937857349, 0.843189980498804, 0.8488036256275822, 0.8238083731809223, 0.8377593115948379, 0.8017921600399355, 0.8134335758327694, 0.8316015294781176, 0.8874546335598967, 0.8692950454003086]}, {\"categories\": [\"0\", \"1\", \"2\", \"3\", \"4\", \"5\", \"6\", \"7\", \"8\", \"9\", \"10\", \"11\", \"12\", \"13\", \"14\", \"15\", \"16\", \"17\", \"18\", \"19\", \"20\", \"21\", \"22\", \"23\", \"24\", \"25\", \"26\", \"27\", \"28\", \"29\", \"30\", \"31\", \"32\", \"33\", \"34\", \"35\", \"38\", \"39\"], \"mode\": \"lines\", \"name\": \"precision_score_weighted_max\", \"stepped\": true, \"type\": \"scatter\", \"data\": [0.8424701140450666, 0.8424701140450666, 0.8467804834147337, 0.8467804834147337, 0.8483343456745305, 0.8565900825342364, 0.8565900825342364, 0.8565900825342364, 0.8565900825342364, 0.8565900825342364, 0.8676443451211252, 0.8676443451211252, 0.8676443451211252, 0.8676443451211252, 0.8676443451211252, 0.8676443451211252, 0.8676443451211252, 0.8676443451211252, 0.8676443451211252, 0.8676443451211252, 0.8676443451211252, 0.8676443451211252, 0.8721009827541579, 0.8721009827541579, 0.8721009827541579, 0.8721009827541579, 0.8721009827541579, 0.8721009827541579, 0.8721009827541579, 0.8721009827541579, 0.8721009827541579, 0.8721009827541579, 0.8721009827541579, 0.8721009827541579, 0.8721009827541579, 0.8721009827541579, 0.8874546335598967, 0.8874546335598967]}], \"f1_score_macro\": [{\"categories\": [\"0\", \"1\", \"2\", \"3\", \"4\", \"5\", \"6\", \"7\", \"8\", \"9\", \"10\", \"11\", \"12\", \"13\", \"14\", \"15\", \"16\", \"17\", \"18\", \"19\", \"20\", \"21\", \"22\", \"23\", \"24\", \"25\", \"26\", \"27\", \"28\", \"29\", \"30\", \"31\", \"32\", \"33\", \"34\", \"35\", \"38\", \"39\"], \"mode\": \"markers\", \"name\": \"f1_score_macro\", \"stepped\": false, \"type\": \"scatter\", \"data\": [0.8095518218372095, 0.7256204437463807, 0.8025997535837682, 0.7973189910524552, 0.8235249579487796, 0.824542508186809, 0.6410683847472893, 0.6504703412218019, 0.658954429008272, 0.7940850293420754, 0.8293601139748071, 0.8080983436137632, 0.8213209470814256, 0.8082054382665985, 0.8116816160217203, 0.7125315823128212, 0.8164937391159042, 0.7678945220890193, 0.7469782363776712, 0.804650421143554, 0.8059151141251979, 0.4393268063878833, 0.7971727123384913, 0.7882942345938712, 0.8073385902306127, 0.39744974771271796, 0.8134848195255986, 0.8023755810242557, 0.7984616424663169, 0.8090115164129289, 0.803396864978251, 0.7501390513176669, 0.8194644534981169, 0.7633023053200947, 0.7772038223312586, 0.771396864978251, 0.8535266520709198, 0.8251186826572908]}, {\"categories\": [\"0\", \"1\", \"2\", \"3\", \"4\", \"5\", \"6\", \"7\", \"8\", \"9\", \"10\", \"11\", \"12\", \"13\", \"14\", \"15\", \"16\", \"17\", \"18\", \"19\", \"20\", \"21\", \"22\", \"23\", \"24\", \"25\", \"26\", \"27\", \"28\", \"29\", \"30\", \"31\", \"32\", \"33\", \"34\", \"35\", \"38\", \"39\"], \"mode\": \"lines\", \"name\": \"f1_score_macro_max\", \"stepped\": true, \"type\": \"scatter\", \"data\": [0.8095518218372095, 0.8095518218372095, 0.8095518218372095, 0.8095518218372095, 0.8235249579487796, 0.824542508186809, 0.824542508186809, 0.824542508186809, 0.824542508186809, 0.824542508186809, 0.8293601139748071, 0.8293601139748071, 0.8293601139748071, 0.8293601139748071, 0.8293601139748071, 0.8293601139748071, 0.8293601139748071, 0.8293601139748071, 0.8293601139748071, 0.8293601139748071, 0.8293601139748071, 0.8293601139748071, 0.8293601139748071, 0.8293601139748071, 0.8293601139748071, 0.8293601139748071, 0.8293601139748071, 0.8293601139748071, 0.8293601139748071, 0.8293601139748071, 0.8293601139748071, 0.8293601139748071, 0.8293601139748071, 0.8293601139748071, 0.8293601139748071, 0.8293601139748071, 0.8535266520709198, 0.8535266520709198]}], \"average_precision_score_weighted\": [{\"categories\": [\"0\", \"1\", \"2\", \"3\", \"4\", \"5\", \"6\", \"7\", \"8\", \"9\", \"10\", \"11\", \"12\", \"13\", \"14\", \"15\", \"16\", \"17\", \"18\", \"19\", \"20\", \"21\", \"22\", \"23\", \"24\", \"25\", \"26\", \"27\", \"28\", \"29\", \"30\", \"31\", \"32\", \"33\", \"34\", \"35\", \"38\", \"39\"], \"mode\": \"markers\", \"name\": \"average_precision_score_weighted\", \"stepped\": false, \"type\": \"scatter\", \"data\": [0.9099991134638614, 0.8834032602464731, 0.917130659855656, 0.9147658777250915, 0.9144163362863443, 0.9106693031807935, 0.7989737774772666, 0.7950463181454461, 0.9197425473279282, 0.9193740869847229, 0.9226967554363815, 0.9143399913433996, 0.9250550465635123, 0.9163658344990203, 0.9115365180447835, 0.9084084344586726, 0.9206065332672413, 0.8968005847630698, 0.8957845863294253, 0.9077734371691456, 0.9005533181385438, 0.5530122237251099, 0.8970188988104276, 0.9129061957511555, 0.9179754988062777, 0.7212057060496756, 0.9288647436050557, 0.9166526305169928, 0.9261198602019766, 0.9185817444710158, 0.9218631220466735, 0.919075482886695, 0.9159092308037835, 0.8827941115587823, 0.8885909790363886, 0.9126417622598482, 0.9270172908881122, 0.9272766162264146]}, {\"categories\": [\"0\", \"1\", \"2\", \"3\", \"4\", \"5\", \"6\", \"7\", \"8\", \"9\", \"10\", \"11\", \"12\", \"13\", \"14\", \"15\", \"16\", \"17\", \"18\", \"19\", \"20\", \"21\", \"22\", \"23\", \"24\", \"25\", \"26\", \"27\", \"28\", \"29\", \"30\", \"31\", \"32\", \"33\", \"34\", \"35\", \"38\", \"39\"], \"mode\": \"lines\", \"name\": \"average_precision_score_weighted_max\", \"stepped\": true, \"type\": \"scatter\", \"data\": [0.9099991134638614, 0.9099991134638614, 0.917130659855656, 0.917130659855656, 0.917130659855656, 0.917130659855656, 0.917130659855656, 0.917130659855656, 0.9197425473279282, 0.9197425473279282, 0.9226967554363815, 0.9226967554363815, 0.9250550465635123, 0.9250550465635123, 0.9250550465635123, 0.9250550465635123, 0.9250550465635123, 0.9250550465635123, 0.9250550465635123, 0.9250550465635123, 0.9250550465635123, 0.9250550465635123, 0.9250550465635123, 0.9250550465635123, 0.9250550465635123, 0.9250550465635123, 0.9288647436050557, 0.9288647436050557, 0.9288647436050557, 0.9288647436050557, 0.9288647436050557, 0.9288647436050557, 0.9288647436050557, 0.9288647436050557, 0.9288647436050557, 0.9288647436050557, 0.9288647436050557, 0.9288647436050557]}], \"f1_score_weighted\": [{\"categories\": [\"0\", \"1\", \"2\", \"3\", \"4\", \"5\", \"6\", \"7\", \"8\", \"9\", \"10\", \"11\", \"12\", \"13\", \"14\", \"15\", \"16\", \"17\", \"18\", \"19\", \"20\", \"21\", \"22\", \"23\", \"24\", \"25\", \"26\", \"27\", \"28\", \"29\", \"30\", \"31\", \"32\", \"33\", \"34\", \"35\", \"38\", \"39\"], \"mode\": \"markers\", \"name\": \"f1_score_weighted\", \"stepped\": false, \"type\": \"scatter\", \"data\": [0.8369568148910244, 0.7625876928458971, 0.8295692213508022, 0.827295571214347, 0.8442589444096736, 0.8487956350837479, 0.6988492412523206, 0.7002221129209794, 0.711600254090495, 0.8240494209211129, 0.8531262344514111, 0.8345030550252497, 0.8476074029942235, 0.8382282249066236, 0.8429602948801339, 0.7545679350533263, 0.8467123234097753, 0.8057871647507321, 0.7818439672423851, 0.8361193894620028, 0.8376154594840562, 0.5253482893981005, 0.8322287329545089, 0.822069854227076, 0.8375545465268808, 0.534999494473554, 0.8380259088597495, 0.8304749659068771, 0.8275276317728727, 0.8345692709011336, 0.8338986853536946, 0.7822788732980329, 0.8357654308086753, 0.7913123068835347, 0.8071954977515834, 0.805632018687028, 0.8726430968348391, 0.8537917836680882]}, {\"categories\": [\"0\", \"1\", \"2\", \"3\", \"4\", \"5\", \"6\", \"7\", \"8\", \"9\", \"10\", \"11\", \"12\", \"13\", \"14\", \"15\", \"16\", \"17\", \"18\", \"19\", \"20\", \"21\", \"22\", \"23\", \"24\", \"25\", \"26\", \"27\", \"28\", \"29\", \"30\", \"31\", \"32\", \"33\", \"34\", \"35\", \"38\", \"39\"], \"mode\": \"lines\", \"name\": \"f1_score_weighted_max\", \"stepped\": true, \"type\": \"scatter\", \"data\": [0.8369568148910244, 0.8369568148910244, 0.8369568148910244, 0.8369568148910244, 0.8442589444096736, 0.8487956350837479, 0.8487956350837479, 0.8487956350837479, 0.8487956350837479, 0.8487956350837479, 0.8531262344514111, 0.8531262344514111, 0.8531262344514111, 0.8531262344514111, 0.8531262344514111, 0.8531262344514111, 0.8531262344514111, 0.8531262344514111, 0.8531262344514111, 0.8531262344514111, 0.8531262344514111, 0.8531262344514111, 0.8531262344514111, 0.8531262344514111, 0.8531262344514111, 0.8531262344514111, 0.8531262344514111, 0.8531262344514111, 0.8531262344514111, 0.8531262344514111, 0.8531262344514111, 0.8531262344514111, 0.8531262344514111, 0.8531262344514111, 0.8531262344514111, 0.8531262344514111, 0.8726430968348391, 0.8726430968348391]}], \"recall_score_micro\": [{\"categories\": [\"0\", \"1\", \"2\", \"3\", \"4\", \"5\", \"6\", \"7\", \"8\", \"9\", \"10\", \"11\", \"12\", \"13\", \"14\", \"15\", \"16\", \"17\", \"18\", \"19\", \"20\", \"21\", \"22\", \"23\", \"24\", \"25\", \"26\", \"27\", \"28\", \"29\", \"30\", \"31\", \"32\", \"33\", \"34\", \"35\", \"38\", \"39\"], \"mode\": \"markers\", \"name\": \"recall_score_micro\", \"stepped\": false, \"type\": \"scatter\", \"data\": [0.838989898989899, 0.7632323232323233, 0.8346464646464646, 0.83010101010101, 0.8435353535353535, 0.8523232323232323, 0.7182828282828283, 0.7271717171717171, 0.7542424242424242, 0.82989898989899, 0.861111111111111, 0.8387878787878789, 0.8523232323232323, 0.8477777777777777, 0.8523232323232323, 0.7853535353535354, 0.8567676767676767, 0.8256565656565658, 0.7944444444444445, 0.8478787878787879, 0.8478787878787879, 0.5533333333333333, 0.8478787878787879, 0.8256565656565655, 0.8477777777777777, 0.664949494949495, 0.8434343434343434, 0.8344444444444445, 0.8299999999999998, 0.8387878787878789, 0.8432323232323233, 0.8032323232323233, 0.8384848484848485, 0.7897979797979798, 0.8073737373737373, 0.8210101010101012, 0.8789898989898989, 0.8612121212121211]}, {\"categories\": [\"0\", \"1\", \"2\", \"3\", \"4\", \"5\", \"6\", \"7\", \"8\", \"9\", \"10\", \"11\", \"12\", \"13\", \"14\", \"15\", \"16\", \"17\", \"18\", \"19\", \"20\", \"21\", \"22\", \"23\", \"24\", \"25\", \"26\", \"27\", \"28\", \"29\", \"30\", \"31\", \"32\", \"33\", \"34\", \"35\", \"38\", \"39\"], \"mode\": \"lines\", \"name\": \"recall_score_micro_max\", \"stepped\": true, \"type\": \"scatter\", \"data\": [0.838989898989899, 0.838989898989899, 0.838989898989899, 0.838989898989899, 0.8435353535353535, 0.8523232323232323, 0.8523232323232323, 0.8523232323232323, 0.8523232323232323, 0.8523232323232323, 0.861111111111111, 0.861111111111111, 0.861111111111111, 0.861111111111111, 0.861111111111111, 0.861111111111111, 0.861111111111111, 0.861111111111111, 0.861111111111111, 0.861111111111111, 0.861111111111111, 0.861111111111111, 0.861111111111111, 0.861111111111111, 0.861111111111111, 0.861111111111111, 0.861111111111111, 0.861111111111111, 0.861111111111111, 0.861111111111111, 0.861111111111111, 0.861111111111111, 0.861111111111111, 0.861111111111111, 0.861111111111111, 0.861111111111111, 0.8789898989898989, 0.8789898989898989]}], \"AUC_weighted\": [{\"categories\": [\"0\", \"1\", \"2\", \"3\", \"4\", \"5\", \"6\", \"7\", \"8\", \"9\", \"10\", \"11\", \"12\", \"13\", \"14\", \"15\", \"16\", \"17\", \"18\", \"19\", \"20\", \"21\", \"22\", \"23\", \"24\", \"25\", \"26\", \"27\", \"28\", \"29\", \"30\", \"31\", \"32\", \"33\", \"34\", \"35\", \"38\", \"39\"], \"mode\": \"markers\", \"name\": \"AUC_weighted\", \"stepped\": false, \"type\": \"scatter\", \"data\": [0.8927838295812153, 0.8662551616381682, 0.9085477080169891, 0.9023797275588125, 0.9095128804383708, 0.8953374177504896, 0.7629052441627605, 0.7587508021390373, 0.9084043925089678, 0.9057721617041878, 0.9131873946436038, 0.9055128804383706, 0.9158961290464557, 0.8946016328866001, 0.9032153517748288, 0.8917154992187672, 0.9112823925529808, 0.8721388085649524, 0.8863867344468652, 0.8899975264628861, 0.877864791707929, 0.4207031667436897, 0.8727843929490989, 0.8965659118417288, 0.8953637023833103, 0.71139709513435, 0.916641781650932, 0.8995738298012806, 0.9098885499878964, 0.9098769041174268, 0.9126861644770141, 0.9068083360841532, 0.9017539754846944, 0.8656974890517374, 0.8597293105345394, 0.914772632644528, 0.9140193657709998, 0.9151064897339406]}, {\"categories\": [\"0\", \"1\", \"2\", \"3\", \"4\", \"5\", \"6\", \"7\", \"8\", \"9\", \"10\", \"11\", \"12\", \"13\", \"14\", \"15\", \"16\", \"17\", \"18\", \"19\", \"20\", \"21\", \"22\", \"23\", \"24\", \"25\", \"26\", \"27\", \"28\", \"29\", \"30\", \"31\", \"32\", \"33\", \"34\", \"35\", \"38\", \"39\"], \"mode\": \"lines\", \"name\": \"AUC_weighted_max\", \"stepped\": true, \"type\": \"scatter\", \"data\": [0.8927838295812153, 0.8927838295812153, 0.9085477080169891, 0.9085477080169891, 0.9095128804383708, 0.9095128804383708, 0.9095128804383708, 0.9095128804383708, 0.9095128804383708, 0.9095128804383708, 0.9131873946436038, 0.9131873946436038, 0.9158961290464557, 0.9158961290464557, 0.9158961290464557, 0.9158961290464557, 0.9158961290464557, 0.9158961290464557, 0.9158961290464557, 0.9158961290464557, 0.9158961290464557, 0.9158961290464557, 0.9158961290464557, 0.9158961290464557, 0.9158961290464557, 0.9158961290464557, 0.916641781650932, 0.916641781650932, 0.916641781650932, 0.916641781650932, 0.916641781650932, 0.916641781650932, 0.916641781650932, 0.916641781650932, 0.916641781650932, 0.916641781650932, 0.916641781650932, 0.916641781650932]}], \"f1_score_micro\": [{\"categories\": [\"0\", \"1\", \"2\", \"3\", \"4\", \"5\", \"6\", \"7\", \"8\", \"9\", \"10\", \"11\", \"12\", \"13\", \"14\", \"15\", \"16\", \"17\", \"18\", \"19\", \"20\", \"21\", \"22\", \"23\", \"24\", \"25\", \"26\", \"27\", \"28\", \"29\", \"30\", \"31\", \"32\", \"33\", \"34\", \"35\", \"38\", \"39\"], \"mode\": \"markers\", \"name\": \"f1_score_micro\", \"stepped\": false, \"type\": \"scatter\", \"data\": [0.838989898989899, 0.7632323232323233, 0.8346464646464646, 0.83010101010101, 0.8435353535353535, 0.8523232323232323, 0.7182828282828283, 0.7271717171717171, 0.7542424242424242, 0.82989898989899, 0.861111111111111, 0.8387878787878789, 0.8523232323232325, 0.8477777777777777, 0.8523232323232323, 0.7853535353535354, 0.8567676767676767, 0.8256565656565658, 0.7944444444444445, 0.8478787878787879, 0.847878787878788, 0.5533333333333333, 0.8478787878787879, 0.8256565656565658, 0.8477777777777777, 0.664949494949495, 0.8434343434343434, 0.8344444444444445, 0.8300000000000001, 0.8387878787878789, 0.8432323232323233, 0.8032323232323233, 0.8384848484848485, 0.7897979797979798, 0.8073737373737373, 0.8210101010101012, 0.8789898989898989, 0.8612121212121211]}, {\"categories\": [\"0\", \"1\", \"2\", \"3\", \"4\", \"5\", \"6\", \"7\", \"8\", \"9\", \"10\", \"11\", \"12\", \"13\", \"14\", \"15\", \"16\", \"17\", \"18\", \"19\", \"20\", \"21\", \"22\", \"23\", \"24\", \"25\", \"26\", \"27\", \"28\", \"29\", \"30\", \"31\", \"32\", \"33\", \"34\", \"35\", \"38\", \"39\"], \"mode\": \"lines\", \"name\": \"f1_score_micro_max\", \"stepped\": true, \"type\": \"scatter\", \"data\": [0.838989898989899, 0.838989898989899, 0.838989898989899, 0.838989898989899, 0.8435353535353535, 0.8523232323232323, 0.8523232323232323, 0.8523232323232323, 0.8523232323232323, 0.8523232323232323, 0.861111111111111, 0.861111111111111, 0.861111111111111, 0.861111111111111, 0.861111111111111, 0.861111111111111, 0.861111111111111, 0.861111111111111, 0.861111111111111, 0.861111111111111, 0.861111111111111, 0.861111111111111, 0.861111111111111, 0.861111111111111, 0.861111111111111, 0.861111111111111, 0.861111111111111, 0.861111111111111, 0.861111111111111, 0.861111111111111, 0.861111111111111, 0.861111111111111, 0.861111111111111, 0.861111111111111, 0.861111111111111, 0.861111111111111, 0.8789898989898989, 0.8789898989898989]}], \"average_precision_score_macro\": [{\"categories\": [\"0\", \"1\", \"2\", \"3\", \"4\", \"5\", \"6\", \"7\", \"8\", \"9\", \"10\", \"11\", \"12\", \"13\", \"14\", \"15\", \"16\", \"17\", \"18\", \"19\", \"20\", \"21\", \"22\", \"23\", \"24\", \"25\", \"26\", \"27\", \"28\", \"29\", \"30\", \"31\", \"32\", \"33\", \"34\", \"35\", \"38\", \"39\"], \"mode\": \"markers\", \"name\": \"average_precision_score_macro\", \"stepped\": false, \"type\": \"scatter\", \"data\": [0.893927211662788, 0.8591167095289464, 0.9013412531512384, 0.9016887834151532, 0.8985242367913064, 0.8961773501286345, 0.7605492403004479, 0.7589694963071411, 0.90367740679443, 0.9028455297169028, 0.9078394977938811, 0.8999046316330388, 0.9113929257500107, 0.9010900704868942, 0.8916900308855068, 0.8894448213104568, 0.906239124562557, 0.8771911973300339, 0.8801564336875541, 0.8897983866937423, 0.8814523458909447, 0.48716998450048693, 0.8766226799595271, 0.8980411948183302, 0.9015576043884213, 0.653691867373419, 0.9138175846957287, 0.9015209845713844, 0.9115223766636141, 0.9046397411861525, 0.9089488902635516, 0.9031216665182413, 0.9033816351522146, 0.8577896425941771, 0.8693675145925701, 0.8968545006351156, 0.9129825467404679, 0.9136733988841359]}, {\"categories\": [\"0\", \"1\", \"2\", \"3\", \"4\", \"5\", \"6\", \"7\", \"8\", \"9\", \"10\", \"11\", \"12\", \"13\", \"14\", \"15\", \"16\", \"17\", \"18\", \"19\", \"20\", \"21\", \"22\", \"23\", \"24\", \"25\", \"26\", \"27\", \"28\", \"29\", \"30\", \"31\", \"32\", \"33\", \"34\", \"35\", \"38\", \"39\"], \"mode\": \"lines\", \"name\": \"average_precision_score_macro_max\", \"stepped\": true, \"type\": \"scatter\", \"data\": [0.893927211662788, 0.893927211662788, 0.9013412531512384, 0.9016887834151532, 0.9016887834151532, 0.9016887834151532, 0.9016887834151532, 0.9016887834151532, 0.90367740679443, 0.90367740679443, 0.9078394977938811, 0.9078394977938811, 0.9113929257500107, 0.9113929257500107, 0.9113929257500107, 0.9113929257500107, 0.9113929257500107, 0.9113929257500107, 0.9113929257500107, 0.9113929257500107, 0.9113929257500107, 0.9113929257500107, 0.9113929257500107, 0.9113929257500107, 0.9113929257500107, 0.9113929257500107, 0.9138175846957287, 0.9138175846957287, 0.9138175846957287, 0.9138175846957287, 0.9138175846957287, 0.9138175846957287, 0.9138175846957287, 0.9138175846957287, 0.9138175846957287, 0.9138175846957287, 0.9138175846957287, 0.9138175846957287]}], \"AUC_micro\": [{\"categories\": [\"0\", \"1\", \"2\", \"3\", \"4\", \"5\", \"6\", \"7\", \"8\", \"9\", \"10\", \"11\", \"12\", \"13\", \"14\", \"15\", \"16\", \"17\", \"18\", \"19\", \"20\", \"21\", \"22\", \"23\", \"24\", \"25\", \"26\", \"27\", \"28\", \"29\", \"30\", \"31\", \"32\", \"33\", \"34\", \"35\", \"38\", \"39\"], \"mode\": \"markers\", \"name\": \"AUC_micro\", \"stepped\": false, \"type\": \"scatter\", \"data\": [0.9121647791041732, 0.881843791449852, 0.9094913274155697, 0.9136927864503622, 0.9159507703295582, 0.9159371492704826, 0.8038544791347821, 0.7938224160799918, 0.8621089174574023, 0.919391694725028, 0.9128221099887768, 0.9210899908172635, 0.9215384144475053, 0.9178363942454851, 0.9109603101724313, 0.8655929496990101, 0.8954882154882154, 0.8700987654320989, 0.8834092949699011, 0.903934394449546, 0.8855981022344658, 0.5593761861034589, 0.8851939598000204, 0.9142461993674116, 0.9104801040710132, 0.7541346801346801, 0.9258046117743088, 0.9156987552290584, 0.9204769411284562, 0.9246818691970207, 0.9021123354759718, 0.8876073870013265, 0.9101849301091726, 0.8746669217426793, 0.8733182838485869, 0.8855969288848076, 0.9214135292317112, 0.9236226915620854]}, {\"categories\": [\"0\", \"1\", \"2\", \"3\", \"4\", \"5\", \"6\", \"7\", \"8\", \"9\", \"10\", \"11\", \"12\", \"13\", \"14\", \"15\", \"16\", \"17\", \"18\", \"19\", \"20\", \"21\", \"22\", \"23\", \"24\", \"25\", \"26\", \"27\", \"28\", \"29\", \"30\", \"31\", \"32\", \"33\", \"34\", \"35\", \"38\", \"39\"], \"mode\": \"lines\", \"name\": \"AUC_micro_max\", \"stepped\": true, \"type\": \"scatter\", \"data\": [0.9121647791041732, 0.9121647791041732, 0.9121647791041732, 0.9136927864503622, 0.9159507703295582, 0.9159507703295582, 0.9159507703295582, 0.9159507703295582, 0.9159507703295582, 0.919391694725028, 0.919391694725028, 0.9210899908172635, 0.9215384144475053, 0.9215384144475053, 0.9215384144475053, 0.9215384144475053, 0.9215384144475053, 0.9215384144475053, 0.9215384144475053, 0.9215384144475053, 0.9215384144475053, 0.9215384144475053, 0.9215384144475053, 0.9215384144475053, 0.9215384144475053, 0.9215384144475053, 0.9258046117743088, 0.9258046117743088, 0.9258046117743088, 0.9258046117743088, 0.9258046117743088, 0.9258046117743088, 0.9258046117743088, 0.9258046117743088, 0.9258046117743088, 0.9258046117743088, 0.9258046117743088, 0.9258046117743088]}], \"norm_macro_recall\": [{\"categories\": [\"0\", \"1\", \"2\", \"3\", \"4\", \"5\", \"6\", \"7\", \"8\", \"9\", \"10\", \"11\", \"12\", \"13\", \"14\", \"15\", \"16\", \"17\", \"18\", \"19\", \"20\", \"21\", \"22\", \"23\", \"24\", \"25\", \"26\", \"27\", \"28\", \"29\", \"30\", \"31\", \"32\", \"33\", \"34\", \"35\", \"38\", \"39\"], \"mode\": \"markers\", \"name\": \"norm_macro_recall\", \"stepped\": false, \"type\": \"scatter\", \"data\": [0.6119623687858982, 0.4706583481877599, 0.5939251336898396, 0.6043664091899386, 0.6641418102594573, 0.6435515943751238, 0.2856446821152704, 0.32270548623489803, 0.3261160625866508, 0.5814133491780551, 0.6271039809863339, 0.6202214299861359, 0.6347672806496336, 0.5895614973262033, 0.6052184591008121, 0.4205605070310952, 0.5941073479897009, 0.4991008120419885, 0.501968706674589, 0.5718851257674786, 0.5771138839374134, 0.025668449197860977, 0.5558819568231332, 0.5854438502673797, 0.5849689047336106, 0.0, 0.6239251336898396, 0.5963763121410179, 0.6060396118043176, 0.619894632600515, 0.5692925331748862, 0.5023054070112893, 0.6306092295504061, 0.5456823133293722, 0.5589720736779561, 0.5137369776193306, 0.6849926718162012, 0.6375179243414537]}, {\"categories\": [\"0\", \"1\", \"2\", \"3\", \"4\", \"5\", \"6\", \"7\", \"8\", \"9\", \"10\", \"11\", \"12\", \"13\", \"14\", \"15\", \"16\", \"17\", \"18\", \"19\", \"20\", \"21\", \"22\", \"23\", \"24\", \"25\", \"26\", \"27\", \"28\", \"29\", \"30\", \"31\", \"32\", \"33\", \"34\", \"35\", \"38\", \"39\"], \"mode\": \"lines\", \"name\": \"norm_macro_recall_max\", \"stepped\": true, \"type\": \"scatter\", \"data\": [0.6119623687858982, 0.6119623687858982, 0.6119623687858982, 0.6119623687858982, 0.6641418102594573, 0.6641418102594573, 0.6641418102594573, 0.6641418102594573, 0.6641418102594573, 0.6641418102594573, 0.6641418102594573, 0.6641418102594573, 0.6641418102594573, 0.6641418102594573, 0.6641418102594573, 0.6641418102594573, 0.6641418102594573, 0.6641418102594573, 0.6641418102594573, 0.6641418102594573, 0.6641418102594573, 0.6641418102594573, 0.6641418102594573, 0.6641418102594573, 0.6641418102594573, 0.6641418102594573, 0.6641418102594573, 0.6641418102594573, 0.6641418102594573, 0.6641418102594573, 0.6641418102594573, 0.6641418102594573, 0.6641418102594573, 0.6641418102594573, 0.6641418102594573, 0.6641418102594573, 0.6849926718162012, 0.6849926718162012]}], \"weighted_accuracy\": [{\"categories\": [\"0\", \"1\", \"2\", \"3\", \"4\", \"5\", \"6\", \"7\", \"8\", \"9\", \"10\", \"11\", \"12\", \"13\", \"14\", \"15\", \"16\", \"17\", \"18\", \"19\", \"20\", \"21\", \"22\", \"23\", \"24\", \"25\", \"26\", \"27\", \"28\", \"29\", \"30\", \"31\", \"32\", \"33\", \"34\", \"35\", \"38\", \"39\"], \"mode\": \"markers\", \"name\": \"weighted_accuracy\", \"stepped\": false, \"type\": \"scatter\", \"data\": [0.8623504643389698, 0.7850282273500195, 0.8619568655014017, 0.8514789566979001, 0.8519046169739811, 0.8737610202425173, 0.7695241709995283, 0.7752158419026379, 0.8180991779018939, 0.8581200309947272, 0.8945382807530686, 0.8612148971730171, 0.8782433171254258, 0.8838631546985874, 0.8876624952933783, 0.8402257521088128, 0.8968128220907639, 0.8773909631900331, 0.8281590824362342, 0.889975215253157, 0.8880690382490943, 0.6145683695698158, 0.8952868096015564, 0.850881381976117, 0.8860645305584999, 0.7729193903981009, 0.8679574517436073, 0.8601913058128445, 0.8502308111530288, 0.8611186749200858, 0.8823013457382792, 0.8438016775492416, 0.8561325308106837, 0.8020571015493664, 0.8251744695836433, 0.8652073286442622, 0.9057682726107672, 0.891865180703161]}, {\"categories\": [\"0\", \"1\", \"2\", \"3\", \"4\", \"5\", \"6\", \"7\", \"8\", \"9\", \"10\", \"11\", \"12\", \"13\", \"14\", \"15\", \"16\", \"17\", \"18\", \"19\", \"20\", \"21\", \"22\", \"23\", \"24\", \"25\", \"26\", \"27\", \"28\", \"29\", \"30\", \"31\", \"32\", \"33\", \"34\", \"35\", \"38\", \"39\"], \"mode\": \"lines\", \"name\": \"weighted_accuracy_max\", \"stepped\": true, \"type\": \"scatter\", \"data\": [0.8623504643389698, 0.8623504643389698, 0.8623504643389698, 0.8623504643389698, 0.8623504643389698, 0.8737610202425173, 0.8737610202425173, 0.8737610202425173, 0.8737610202425173, 0.8737610202425173, 0.8945382807530686, 0.8945382807530686, 0.8945382807530686, 0.8945382807530686, 0.8945382807530686, 0.8945382807530686, 0.8968128220907639, 0.8968128220907639, 0.8968128220907639, 0.8968128220907639, 0.8968128220907639, 0.8968128220907639, 0.8968128220907639, 0.8968128220907639, 0.8968128220907639, 0.8968128220907639, 0.8968128220907639, 0.8968128220907639, 0.8968128220907639, 0.8968128220907639, 0.8968128220907639, 0.8968128220907639, 0.8968128220907639, 0.8968128220907639, 0.8968128220907639, 0.8968128220907639, 0.9057682726107672, 0.9057682726107672]}], \"matthews_correlation\": [{\"categories\": [\"0\", \"1\", \"2\", \"3\", \"4\", \"5\", \"6\", \"7\", \"8\", \"9\", \"10\", \"11\", \"12\", \"13\", \"14\", \"15\", \"16\", \"17\", \"18\", \"19\", \"20\", \"21\", \"22\", \"23\", \"24\", \"25\", \"26\", \"27\", \"28\", \"29\", \"30\", \"31\", \"32\", \"33\", \"34\", \"35\", \"38\", \"39\"], \"mode\": \"markers\", \"name\": \"matthews_correlation\", \"stepped\": false, \"type\": \"scatter\", \"data\": [0.6269817746462097, 0.4715643695531309, 0.6284221268391179, 0.6076062834833211, 0.6511197943750069, 0.6608478041345689, 0.33137649593945573, 0.3870831242191637, 0.45457161926266476, 0.6016008747686852, 0.6834972055803924, 0.6304858483049538, 0.6582664954631892, 0.6449537890206141, 0.6554997051917295, 0.5267896473791773, 0.6668219751000652, 0.605536477618078, 0.5378899315556233, 0.6487363795394178, 0.6441955876235239, -0.0868959533265973, 0.6558601207560291, 0.5964826099875036, 0.6485287448882429, 0.0, 0.649548934261314, 0.6165618193618975, 0.6079977337484744, 0.631569608275843, 0.6346182844669829, 0.5627717890532019, 0.6438965900140425, 0.5368154144166739, 0.5611676541498074, 0.5875239316798205, 0.7290994567380056, 0.6746630875231127]}, {\"categories\": [\"0\", \"1\", \"2\", \"3\", \"4\", \"5\", \"6\", \"7\", \"8\", \"9\", \"10\", \"11\", \"12\", \"13\", \"14\", \"15\", \"16\", \"17\", \"18\", \"19\", \"20\", \"21\", \"22\", \"23\", \"24\", \"25\", \"26\", \"27\", \"28\", \"29\", \"30\", \"31\", \"32\", \"33\", \"34\", \"35\", \"38\", \"39\"], \"mode\": \"lines\", \"name\": \"matthews_correlation_max\", \"stepped\": true, \"type\": \"scatter\", \"data\": [0.6269817746462097, 0.6269817746462097, 0.6284221268391179, 0.6284221268391179, 0.6511197943750069, 0.6608478041345689, 0.6608478041345689, 0.6608478041345689, 0.6608478041345689, 0.6608478041345689, 0.6834972055803924, 0.6834972055803924, 0.6834972055803924, 0.6834972055803924, 0.6834972055803924, 0.6834972055803924, 0.6834972055803924, 0.6834972055803924, 0.6834972055803924, 0.6834972055803924, 0.6834972055803924, 0.6834972055803924, 0.6834972055803924, 0.6834972055803924, 0.6834972055803924, 0.6834972055803924, 0.6834972055803924, 0.6834972055803924, 0.6834972055803924, 0.6834972055803924, 0.6834972055803924, 0.6834972055803924, 0.6834972055803924, 0.6834972055803924, 0.6834972055803924, 0.6834972055803924, 0.7290994567380056, 0.7290994567380056]}], \"AUC_macro\": [{\"categories\": [\"0\", \"1\", \"2\", \"3\", \"4\", \"5\", \"6\", \"7\", \"8\", \"9\", \"10\", \"11\", \"12\", \"13\", \"14\", \"15\", \"16\", \"17\", \"18\", \"19\", \"20\", \"21\", \"22\", \"23\", \"24\", \"25\", \"26\", \"27\", \"28\", \"29\", \"30\", \"31\", \"32\", \"33\", \"34\", \"35\", \"38\", \"39\"], \"mode\": \"markers\", \"name\": \"AUC_macro\", \"stepped\": false, \"type\": \"scatter\", \"data\": [0.8927838295812153, 0.8662551616381682, 0.9085477080169891, 0.9023797275588125, 0.9095128804383705, 0.8953374177504896, 0.7629052441627605, 0.7587508021390376, 0.9084043925089678, 0.9057721617041878, 0.9131873946436038, 0.9055128804383706, 0.9158961290464559, 0.8946016328866001, 0.9032153517748289, 0.8917154992187672, 0.9112823925529806, 0.8721388085649522, 0.8863867344468652, 0.8899975264628861, 0.877864791707929, 0.42070316674368957, 0.8727843929490989, 0.8966342422041768, 0.8953637023833103, 0.71139709513435, 0.916641781650932, 0.8995738298012806, 0.9098885499878964, 0.909876904117427, 0.9126861644770141, 0.906808336084153, 0.9017539754846944, 0.8656974890517374, 0.8597293105345392, 0.914772632644528, 0.9140193657709998, 0.9151064897339406]}, {\"categories\": [\"0\", \"1\", \"2\", \"3\", \"4\", \"5\", \"6\", \"7\", \"8\", \"9\", \"10\", \"11\", \"12\", \"13\", \"14\", \"15\", \"16\", \"17\", \"18\", \"19\", \"20\", \"21\", \"22\", \"23\", \"24\", \"25\", \"26\", \"27\", \"28\", \"29\", \"30\", \"31\", \"32\", \"33\", \"34\", \"35\", \"38\", \"39\"], \"mode\": \"lines\", \"name\": \"AUC_macro_max\", \"stepped\": true, \"type\": \"scatter\", \"data\": [0.8927838295812153, 0.8927838295812153, 0.9085477080169891, 0.9085477080169891, 0.9095128804383705, 0.9095128804383705, 0.9095128804383705, 0.9095128804383705, 0.9095128804383705, 0.9095128804383705, 0.9131873946436038, 0.9131873946436038, 0.9158961290464559, 0.9158961290464559, 0.9158961290464559, 0.9158961290464559, 0.9158961290464559, 0.9158961290464559, 0.9158961290464559, 0.9158961290464559, 0.9158961290464559, 0.9158961290464559, 0.9158961290464559, 0.9158961290464559, 0.9158961290464559, 0.9158961290464559, 0.916641781650932, 0.916641781650932, 0.916641781650932, 0.916641781650932, 0.916641781650932, 0.916641781650932, 0.916641781650932, 0.916641781650932, 0.916641781650932, 0.916641781650932, 0.916641781650932, 0.916641781650932]}], \"log_loss\": [{\"categories\": [\"0\", \"1\", \"2\", \"3\", \"4\", \"5\", \"6\", \"7\", \"8\", \"9\", \"10\", \"11\", \"12\", \"13\", \"14\", \"15\", \"16\", \"17\", \"18\", \"19\", \"20\", \"21\", \"22\", \"23\", \"24\", \"25\", \"26\", \"27\", \"28\", \"29\", \"30\", \"31\", \"32\", \"33\", \"34\", \"35\", \"38\", \"39\"], \"mode\": \"markers\", \"name\": \"log_loss\", \"stepped\": false, \"type\": \"scatter\", \"data\": [0.44719605072027047, 0.42902509675906864, 0.4206356812772415, 0.3901800289659546, 0.4339824081207352, 0.3716462327403628, 0.5507839316876841, 0.5683499037251754, 0.5028074364023658, 0.37138242386937953, 0.4215251323047928, 0.36463252903821053, 0.38770718967259105, 0.3785239674533384, 0.4057527848920768, 0.5091836868599438, 0.46181417075016384, 0.4810786770193264, 0.4823019465958608, 0.4192932386610343, 0.44837268768078486, 1.1357593444472964, 0.4502896654492353, 0.37964019783101943, 0.41727575470787387, 0.6490752080151324, 0.3610140345462872, 0.38011967556266574, 0.3926845609340508, 0.36724076652495113, 0.4419322614218449, 0.466566535328271, 0.39536613683094746, 0.5843130470357775, 0.568304424639971, 0.4742250911698248, 0.39722449484282907, 0.38727680666726877]}, {\"categories\": [\"0\", \"1\", \"2\", \"3\", \"4\", \"5\", \"6\", \"7\", \"8\", \"9\", \"10\", \"11\", \"12\", \"13\", \"14\", \"15\", \"16\", \"17\", \"18\", \"19\", \"20\", \"21\", \"22\", \"23\", \"24\", \"25\", \"26\", \"27\", \"28\", \"29\", \"30\", \"31\", \"32\", \"33\", \"34\", \"35\", \"38\", \"39\"], \"mode\": \"lines\", \"name\": \"log_loss_min\", \"stepped\": true, \"type\": \"scatter\", \"data\": [0.44719605072027047, 0.42902509675906864, 0.4206356812772415, 0.3901800289659546, 0.3901800289659546, 0.3716462327403628, 0.3716462327403628, 0.3716462327403628, 0.3716462327403628, 0.37138242386937953, 0.37138242386937953, 0.36463252903821053, 0.36463252903821053, 0.36463252903821053, 0.36463252903821053, 0.36463252903821053, 0.36463252903821053, 0.36463252903821053, 0.36463252903821053, 0.36463252903821053, 0.36463252903821053, 0.36463252903821053, 0.36463252903821053, 0.36463252903821053, 0.36463252903821053, 0.36463252903821053, 0.3610140345462872, 0.3610140345462872, 0.3610140345462872, 0.3610140345462872, 0.3610140345462872, 0.3610140345462872, 0.3610140345462872, 0.3610140345462872, 0.3610140345462872, 0.3610140345462872, 0.3610140345462872, 0.3610140345462872]}], \"accuracy\": [{\"categories\": [\"0\", \"1\", \"2\", \"3\", \"4\", \"5\", \"6\", \"7\", \"8\", \"9\", \"10\", \"11\", \"12\", \"13\", \"14\", \"15\", \"16\", \"17\", \"18\", \"19\", \"20\", \"21\", \"22\", \"23\", \"24\", \"25\", \"26\", \"27\", \"28\", \"29\", \"30\", \"31\", \"32\", \"33\", \"34\", \"35\", \"38\", \"39\"], \"mode\": \"markers\", \"name\": \"accuracy\", \"stepped\": false, \"type\": \"scatter\", \"data\": [0.838989898989899, 0.7632323232323233, 0.8346464646464646, 0.83010101010101, 0.8435353535353535, 0.8523232323232323, 0.7182828282828283, 0.7271717171717171, 0.7542424242424242, 0.82989898989899, 0.861111111111111, 0.8387878787878789, 0.8523232323232323, 0.8477777777777777, 0.8523232323232323, 0.7853535353535354, 0.8567676767676767, 0.8256565656565658, 0.7944444444444445, 0.8478787878787879, 0.8478787878787879, 0.5533333333333333, 0.8478787878787879, 0.8256565656565655, 0.8477777777777777, 0.664949494949495, 0.8434343434343434, 0.8344444444444445, 0.8299999999999998, 0.8387878787878789, 0.8432323232323233, 0.8032323232323233, 0.8384848484848485, 0.7897979797979798, 0.8073737373737373, 0.8210101010101012, 0.8789898989898989, 0.8612121212121211]}, {\"categories\": [\"0\", \"1\", \"2\", \"3\", \"4\", \"5\", \"6\", \"7\", \"8\", \"9\", \"10\", \"11\", \"12\", \"13\", \"14\", \"15\", \"16\", \"17\", \"18\", \"19\", \"20\", \"21\", \"22\", \"23\", \"24\", \"25\", \"26\", \"27\", \"28\", \"29\", \"30\", \"31\", \"32\", \"33\", \"34\", \"35\", \"38\", \"39\"], \"mode\": \"lines\", \"name\": \"accuracy_max\", \"stepped\": true, \"type\": \"scatter\", \"data\": [0.838989898989899, 0.838989898989899, 0.838989898989899, 0.838989898989899, 0.8435353535353535, 0.8523232323232323, 0.8523232323232323, 0.8523232323232323, 0.8523232323232323, 0.8523232323232323, 0.861111111111111, 0.861111111111111, 0.861111111111111, 0.861111111111111, 0.861111111111111, 0.861111111111111, 0.861111111111111, 0.861111111111111, 0.861111111111111, 0.861111111111111, 0.861111111111111, 0.861111111111111, 0.861111111111111, 0.861111111111111, 0.861111111111111, 0.861111111111111, 0.861111111111111, 0.861111111111111, 0.861111111111111, 0.861111111111111, 0.861111111111111, 0.861111111111111, 0.861111111111111, 0.861111111111111, 0.861111111111111, 0.861111111111111, 0.8789898989898989, 0.8789898989898989]}], \"balanced_accuracy\": [{\"categories\": [\"0\", \"1\", \"2\", \"3\", \"4\", \"5\", \"6\", \"7\", \"8\", \"9\", \"10\", \"11\", \"12\", \"13\", \"14\", \"15\", \"16\", \"17\", \"18\", \"19\", \"20\", \"21\", \"22\", \"23\", \"24\", \"25\", \"26\", \"27\", \"28\", \"29\", \"30\", \"31\", \"32\", \"33\", \"34\", \"35\", \"38\", \"39\"], \"mode\": \"markers\", \"name\": \"balanced_accuracy\", \"stepped\": false, \"type\": \"scatter\", \"data\": [0.8059811843929492, 0.73532917409388, 0.7969625668449197, 0.8021832045949692, 0.8320709051297287, 0.8217757971875619, 0.6428223410576352, 0.6613527431174491, 0.6630580312933254, 0.7907066745890277, 0.813551990493167, 0.8101107149930679, 0.8173836403248169, 0.7947807486631017, 0.802609229550406, 0.7102802535155476, 0.7970536739948504, 0.7495504060209941, 0.7509843533372945, 0.7859425628837393, 0.7885569419687066, 0.463191523073876, 0.7779409784115667, 0.7927219251336899, 0.7924844523668054, 0.5, 0.8119625668449197, 0.7981881560705091, 0.8030198059021588, 0.8099473163002575, 0.784646266587443, 0.7511527035056448, 0.8153046147752031, 0.772841156664686, 0.7794860368389781, 0.7568684888096653, 0.8424963359081005, 0.8187589621707267]}, {\"categories\": [\"0\", \"1\", \"2\", \"3\", \"4\", \"5\", \"6\", \"7\", \"8\", \"9\", \"10\", \"11\", \"12\", \"13\", \"14\", \"15\", \"16\", \"17\", \"18\", \"19\", \"20\", \"21\", \"22\", \"23\", \"24\", \"25\", \"26\", \"27\", \"28\", \"29\", \"30\", \"31\", \"32\", \"33\", \"34\", \"35\", \"38\", \"39\"], \"mode\": \"lines\", \"name\": \"balanced_accuracy_max\", \"stepped\": true, \"type\": \"scatter\", \"data\": [0.8059811843929492, 0.8059811843929492, 0.8059811843929492, 0.8059811843929492, 0.8320709051297287, 0.8320709051297287, 0.8320709051297287, 0.8320709051297287, 0.8320709051297287, 0.8320709051297287, 0.8320709051297287, 0.8320709051297287, 0.8320709051297287, 0.8320709051297287, 0.8320709051297287, 0.8320709051297287, 0.8320709051297287, 0.8320709051297287, 0.8320709051297287, 0.8320709051297287, 0.8320709051297287, 0.8320709051297287, 0.8320709051297287, 0.8320709051297287, 0.8320709051297287, 0.8320709051297287, 0.8320709051297287, 0.8320709051297287, 0.8320709051297287, 0.8320709051297287, 0.8320709051297287, 0.8320709051297287, 0.8320709051297287, 0.8320709051297287, 0.8320709051297287, 0.8320709051297287, 0.8424963359081005, 0.8424963359081005]}], \"precision_score_micro\": [{\"categories\": [\"0\", \"1\", \"2\", \"3\", \"4\", \"5\", \"6\", \"7\", \"8\", \"9\", \"10\", \"11\", \"12\", \"13\", \"14\", \"15\", \"16\", \"17\", \"18\", \"19\", \"20\", \"21\", \"22\", \"23\", \"24\", \"25\", \"26\", \"27\", \"28\", \"29\", \"30\", \"31\", \"32\", \"33\", \"34\", \"35\", \"38\", \"39\"], \"mode\": \"markers\", \"name\": \"precision_score_micro\", \"stepped\": false, \"type\": \"scatter\", \"data\": [0.838989898989899, 0.7632323232323233, 0.8346464646464646, 0.83010101010101, 0.8435353535353535, 0.8523232323232323, 0.7182828282828283, 0.7271717171717171, 0.7542424242424242, 0.82989898989899, 0.861111111111111, 0.8387878787878789, 0.8523232323232323, 0.8477777777777777, 0.8523232323232323, 0.7853535353535354, 0.8567676767676767, 0.8256565656565658, 0.7944444444444445, 0.8478787878787879, 0.8478787878787879, 0.5533333333333333, 0.8478787878787879, 0.8256565656565655, 0.8477777777777777, 0.664949494949495, 0.8434343434343434, 0.8344444444444445, 0.8299999999999998, 0.8387878787878789, 0.8432323232323233, 0.8032323232323233, 0.8384848484848485, 0.7897979797979798, 0.8073737373737373, 0.8210101010101012, 0.8789898989898989, 0.8612121212121211]}, {\"categories\": [\"0\", \"1\", \"2\", \"3\", \"4\", \"5\", \"6\", \"7\", \"8\", \"9\", \"10\", \"11\", \"12\", \"13\", \"14\", \"15\", \"16\", \"17\", \"18\", \"19\", \"20\", \"21\", \"22\", \"23\", \"24\", \"25\", \"26\", \"27\", \"28\", \"29\", \"30\", \"31\", \"32\", \"33\", \"34\", \"35\", \"38\", \"39\"], \"mode\": \"lines\", \"name\": \"precision_score_micro_max\", \"stepped\": true, \"type\": \"scatter\", \"data\": [0.838989898989899, 0.838989898989899, 0.838989898989899, 0.838989898989899, 0.8435353535353535, 0.8523232323232323, 0.8523232323232323, 0.8523232323232323, 0.8523232323232323, 0.8523232323232323, 0.861111111111111, 0.861111111111111, 0.861111111111111, 0.861111111111111, 0.861111111111111, 0.861111111111111, 0.861111111111111, 0.861111111111111, 0.861111111111111, 0.861111111111111, 0.861111111111111, 0.861111111111111, 0.861111111111111, 0.861111111111111, 0.861111111111111, 0.861111111111111, 0.861111111111111, 0.861111111111111, 0.861111111111111, 0.861111111111111, 0.861111111111111, 0.861111111111111, 0.861111111111111, 0.861111111111111, 0.861111111111111, 0.861111111111111, 0.8789898989898989, 0.8789898989898989]}]}, \"metricName\": null, \"primaryMetricName\": \"accuracy\", \"showLegend\": false}, \"run_metrics\": [{\"name\": \"experiment_status\", \"run_id\": \"AutoML_9770219e-abe3-4ceb-8d3f-26327ad67283\", \"categories\": [0, 1, 2, 3, 4, 5, 6, 7, 8, 9, 10, 11, 12, 13], \"series\": [{\"data\": [\"DatasetEvaluation\", \"FeaturesGeneration\", \"DatasetFeaturization\", \"DatasetFeaturizationCompleted\", \"DatasetCrossValidationSplit\", \"ModelSelection\", \"BestRunExplainModel\", \"ModelExplanationDataSetSetup\", \"PickSurrogateModel\", \"EngineeredFeatureExplanations\", \"EngineeredFeatureExplanations\", \"RawFeaturesExplanations\", \"RawFeaturesExplanations\", \"BestRunExplainModel\"]}]}, {\"name\": \"experiment_status_description\", \"run_id\": \"AutoML_9770219e-abe3-4ceb-8d3f-26327ad67283\", \"categories\": [0, 1, 2, 3, 4, 5, 6, 7, 8, 9, 10, 11, 12, 13], \"series\": [{\"data\": [\"Gathering dataset statistics.\", \"Generating features for the dataset.\", \"Beginning to fit featurizers and featurize the dataset.\", \"Completed fit featurizers and featurizing the dataset.\", \"Generating individually featurized CV splits.\", \"Beginning model selection.\", \"Best run model explanations started\", \"Model explanations data setup completed\", \"Choosing LightGBM as the surrogate model for explanations\", \"Computation of engineered features started\", \"Computation of engineered features completed\", \"Computation of raw features started\", \"Computation of raw features completed\", \"Best run model explanations completed\"]}]}, {\"name\": \"log_loss\", \"run_id\": \"AutoML_9770219e-abe3-4ceb-8d3f-26327ad67283\", \"categories\": [0], \"series\": [{\"data\": [0.39722449484282907]}]}, {\"name\": \"average_precision_score_macro\", \"run_id\": \"AutoML_9770219e-abe3-4ceb-8d3f-26327ad67283\", \"categories\": [0], \"series\": [{\"data\": [0.9129825467404679]}]}, {\"name\": \"recall_score_macro\", \"run_id\": \"AutoML_9770219e-abe3-4ceb-8d3f-26327ad67283\", \"categories\": [0], \"series\": [{\"data\": [0.8424963359081005]}]}, {\"name\": \"accuracy\", \"run_id\": \"AutoML_9770219e-abe3-4ceb-8d3f-26327ad67283\", \"categories\": [0], \"series\": [{\"data\": [0.8789898989898989]}]}, {\"name\": \"weighted_accuracy\", \"run_id\": \"AutoML_9770219e-abe3-4ceb-8d3f-26327ad67283\", \"categories\": [0], \"series\": [{\"data\": [0.9057682726107672]}]}, {\"name\": \"precision_score_macro\", \"run_id\": \"AutoML_9770219e-abe3-4ceb-8d3f-26327ad67283\", \"categories\": [0], \"series\": [{\"data\": [0.8893995517679729]}]}, {\"name\": \"precision_score_micro\", \"run_id\": \"AutoML_9770219e-abe3-4ceb-8d3f-26327ad67283\", \"categories\": [0], \"series\": [{\"data\": [0.8789898989898989]}]}, {\"name\": \"matthews_correlation\", \"run_id\": \"AutoML_9770219e-abe3-4ceb-8d3f-26327ad67283\", \"categories\": [0], \"series\": [{\"data\": [0.7290994567380056]}]}, {\"name\": \"precision_score_weighted\", \"run_id\": \"AutoML_9770219e-abe3-4ceb-8d3f-26327ad67283\", \"categories\": [0], \"series\": [{\"data\": [0.8874546335598967]}]}, {\"name\": \"average_precision_score_weighted\", \"run_id\": \"AutoML_9770219e-abe3-4ceb-8d3f-26327ad67283\", \"categories\": [0], \"series\": [{\"data\": [0.9270172908881122]}]}, {\"name\": \"f1_score_macro\", \"run_id\": \"AutoML_9770219e-abe3-4ceb-8d3f-26327ad67283\", \"categories\": [0], \"series\": [{\"data\": [0.8535266520709198]}]}, {\"name\": \"AUC_macro\", \"run_id\": \"AutoML_9770219e-abe3-4ceb-8d3f-26327ad67283\", \"categories\": [0], \"series\": [{\"data\": [0.9140193657709998]}]}, {\"name\": \"f1_score_micro\", \"run_id\": \"AutoML_9770219e-abe3-4ceb-8d3f-26327ad67283\", \"categories\": [0], \"series\": [{\"data\": [0.8789898989898989]}]}, {\"name\": \"AUC_micro\", \"run_id\": \"AutoML_9770219e-abe3-4ceb-8d3f-26327ad67283\", \"categories\": [0], \"series\": [{\"data\": [0.9214135292317112]}]}, {\"name\": \"average_precision_score_micro\", \"run_id\": \"AutoML_9770219e-abe3-4ceb-8d3f-26327ad67283\", \"categories\": [0], \"series\": [{\"data\": [0.9224250936374165]}]}, {\"name\": \"AUC_weighted\", \"run_id\": \"AutoML_9770219e-abe3-4ceb-8d3f-26327ad67283\", \"categories\": [0], \"series\": [{\"data\": [0.9140193657709998]}]}, {\"name\": \"norm_macro_recall\", \"run_id\": \"AutoML_9770219e-abe3-4ceb-8d3f-26327ad67283\", \"categories\": [0], \"series\": [{\"data\": [0.6849926718162012]}]}, {\"name\": \"f1_score_weighted\", \"run_id\": \"AutoML_9770219e-abe3-4ceb-8d3f-26327ad67283\", \"categories\": [0], \"series\": [{\"data\": [0.8726430968348391]}]}, {\"name\": \"recall_score_weighted\", \"run_id\": \"AutoML_9770219e-abe3-4ceb-8d3f-26327ad67283\", \"categories\": [0], \"series\": [{\"data\": [0.8789898989898989]}]}, {\"name\": \"balanced_accuracy\", \"run_id\": \"AutoML_9770219e-abe3-4ceb-8d3f-26327ad67283\", \"categories\": [0], \"series\": [{\"data\": [0.8424963359081005]}]}, {\"name\": \"recall_score_micro\", \"run_id\": \"AutoML_9770219e-abe3-4ceb-8d3f-26327ad67283\", \"categories\": [0], \"series\": [{\"data\": [0.8789898989898989]}]}], \"run_logs\": \"\\nRun is completed.\", \"graph\": {}, \"widget_settings\": {\"childWidgetDisplay\": \"popup\", \"send_telemetry\": false, \"log_level\": \"INFO\", \"sdk_version\": \"1.24.0\"}, \"loading\": false}"
          },
          "metadata": {}
        },
        {
          "output_type": "stream",
          "name": "stdout",
          "text": [
            "\n",
            "\n",
            "****************************************************************************************************\n",
            "DATA GUARDRAILS: \n",
            "\n",
            "TYPE:         Class balancing detection\n",
            "STATUS:       PASSED\n",
            "DESCRIPTION:  Your inputs were analyzed, and all classes are balanced in your training data.\n",
            "              Learn more about imbalanced data: https://aka.ms/AutomatedMLImbalancedData\n",
            "\n",
            "****************************************************************************************************\n",
            "\n",
            "TYPE:         Missing feature values imputation\n",
            "STATUS:       PASSED\n",
            "DESCRIPTION:  No feature missing values were detected in the training data.\n",
            "              Learn more about missing value imputation: https://aka.ms/AutomatedMLFeaturization\n",
            "\n",
            "****************************************************************************************************\n",
            "\n",
            "TYPE:         High cardinality feature detection\n",
            "STATUS:       PASSED\n",
            "DESCRIPTION:  Your inputs were analyzed, and no high cardinality features were detected.\n",
            "              Learn more about high cardinality feature handling: https://aka.ms/AutomatedMLFeaturization\n",
            "\n",
            "****************************************************************************************************\n",
            "\n",
            "****************************************************************************************************\n",
            "ITERATION: The iteration being evaluated.\n",
            "PIPELINE: A summary description of the pipeline being evaluated.\n",
            "DURATION: Time taken for the current iteration.\n",
            "METRIC: The result of computing score on the fitted pipeline.\n",
            "BEST: The best observed score thus far.\n",
            "****************************************************************************************************\n",
            "\n",
            " ITERATION   PIPELINE                                       DURATION      METRIC      BEST\n",
            "         0   MaxAbsScaler LightGBM                          0:01:58       0.8390    0.8390\n",
            "         1   MinMaxScaler RandomForest                      0:00:55       0.7632    0.8390\n",
            "         2   MinMaxScaler RandomForest                      0:01:06       0.8346    0.8390\n",
            "         3   MinMaxScaler RandomForest                      0:02:03       0.8301    0.8390\n",
            "         4   MinMaxScaler RandomForest                      0:00:50       0.8435    0.8435\n",
            "         5   RobustScaler LightGBM                          0:01:59       0.8523    0.8523\n",
            "         6   MinMaxScaler SVM                               0:01:54       0.7183    0.8523\n",
            "         7   MinMaxScaler SVM                               0:00:44       0.7272    0.8523\n",
            "         8   MaxAbsScaler RandomForest                      0:00:54       0.7542    0.8523\n",
            "         9   RobustScaler RandomForest                      0:00:42       0.8299    0.8523\n",
            "        10   StandardScalerWrapper GradientBoosting         0:00:51       0.8611    0.8611\n",
            "        11   MinMaxScaler RandomForest                      0:00:49       0.8388    0.8611\n",
            "        12   StandardScalerWrapper LightGBM                 0:00:48       0.8523    0.8611\n",
            "        13   SparseNormalizer GradientBoosting              0:00:46       0.8478    0.8611\n",
            "        14   MinMaxScaler LightGBM                          0:00:49       0.8523    0.8611\n",
            "        15   RobustScaler LightGBM                          0:00:55       0.7854    0.8611\n",
            "        16   StandardScalerWrapper LightGBM                 0:00:49       0.8568    0.8611\n",
            "        17   MaxAbsScaler ExtremeRandomTrees                0:00:48       0.8257    0.8611\n",
            "        18   RobustScaler LightGBM                          0:00:46       0.7944    0.8611\n",
            "        19   RobustScaler ExtremeRandomTrees                0:00:45       0.8479    0.8611\n",
            "        20   MaxAbsScaler ExtremeRandomTrees                0:00:57       0.8479    0.8611\n",
            "        21   RobustScaler KNN                               0:00:48       0.5533    0.8611\n",
            "        22   MinMaxScaler ExtremeRandomTrees                0:00:57       0.8479    0.8611\n",
            "        23   StandardScalerWrapper RandomForest             0:00:55       0.8257    0.8611\n",
            "        24   SparseNormalizer RandomForest                  0:00:44       0.8478    0.8611\n",
            "        25   StandardScalerWrapper GradientBoosting         0:00:48       0.6649    0.8611\n",
            "        26   RobustScaler LightGBM                          0:00:43       0.8434    0.8611\n",
            "        27   StandardScalerWrapper LightGBM                 0:00:49       0.8344    0.8611\n",
            "        28   MaxAbsScaler LightGBM                          0:00:49       0.8300    0.8611\n",
            "        29   MaxAbsScaler RandomForest                      0:00:58       0.8388    0.8611\n",
            "        30   MaxAbsScaler GradientBoosting                  0:00:57       0.8432    0.8611\n",
            "        31   MaxAbsScaler LightGBM                          0:00:49       0.8032    0.8611\n",
            "        32   RobustScaler GradientBoosting                  0:00:50       0.8385    0.8611\n",
            "        33   StandardScalerWrapper ExtremeRandomTrees       0:00:49       0.7898    0.8611\n",
            "        34   StandardScalerWrapper ExtremeRandomTrees       0:00:49       0.8074    0.8611\n",
            "        35   RobustScaler GradientBoosting                  0:00:30       0.8210    0.8611\n",
            "        36   MinMaxScaler LightGBM                          0:00:27          nan    0.8611\n",
            "        37                                                  0:00:15          nan    0.8611\n",
            "        38    VotingEnsemble                                0:01:20       0.8790    0.8790\n",
            "        39    StackEnsemble                                 0:01:21       0.8612    0.8790\n"
          ]
        },
        {
          "output_type": "execute_result",
          "execution_count": 6,
          "data": {
            "text/plain": "{'runId': 'AutoML_9770219e-abe3-4ceb-8d3f-26327ad67283',\n 'target': 'arvccompute1',\n 'status': 'Completed',\n 'startTimeUtc': '2021-03-21T17:28:34.537788Z',\n 'endTimeUtc': '2021-03-21T17:49:12.881201Z',\n 'properties': {'num_iterations': '1000',\n  'training_type': 'TrainFull',\n  'acquisition_function': 'EI',\n  'primary_metric': 'accuracy',\n  'train_split': '0',\n  'acquisition_parameter': '0',\n  'num_cross_validation': '5',\n  'target': 'arvccompute1',\n  'AMLSettingsJsonString': '{\"path\":null,\"name\":\"arvc-azureml-project3-experiment-automl\",\"subscription_id\":\"a24a24d5-8d87-4c8a-99b6-91ed2d2df51f\",\"resource_group\":\"aml-quickstarts-141063\",\"workspace_name\":\"quick-starts-ws-141063\",\"region\":\"southcentralus\",\"compute_target\":\"arvccompute1\",\"spark_service\":null,\"azure_service\":\"remote\",\"many_models\":false,\"pipeline_fetch_max_batch_size\":1,\"enable_batch_run\":false,\"iterations\":1000,\"primary_metric\":\"accuracy\",\"task_type\":\"classification\",\"data_script\":null,\"validation_size\":0.0,\"n_cross_validations\":5,\"y_min\":null,\"y_max\":null,\"num_classes\":null,\"featurization\":\"auto\",\"_ignore_package_version_incompatibilities\":false,\"is_timeseries\":false,\"max_cores_per_iteration\":1,\"max_concurrent_iterations\":5,\"iteration_timeout_minutes\":null,\"mem_in_mb\":null,\"enforce_time_on_windows\":false,\"experiment_timeout_minutes\":15,\"experiment_exit_score\":null,\"whitelist_models\":null,\"blacklist_algos\":[\"XGBoostClassifier\",\"TensorFlowLinearClassifier\",\"TensorFlowDNN\"],\"supported_models\":[\"TensorFlowDNN\",\"DecisionTree\",\"BernoulliNaiveBayes\",\"LogisticRegression\",\"SVM\",\"AveragedPerceptronClassifier\",\"XGBoostClassifier\",\"GradientBoosting\",\"RandomForest\",\"LinearSVM\",\"TensorFlowLinearClassifier\",\"ExtremeRandomTrees\",\"SGD\",\"KNN\",\"MultinomialNaiveBayes\",\"LightGBM\"],\"private_models\":[],\"auto_blacklist\":true,\"blacklist_samples_reached\":false,\"exclude_nan_labels\":true,\"verbosity\":20,\"_debug_log\":\"azureml_automl.log\",\"show_warnings\":false,\"model_explainability\":true,\"service_url\":null,\"sdk_url\":null,\"sdk_packages\":null,\"enable_onnx_compatible_models\":false,\"enable_split_onnx_featurizer_estimator_models\":false,\"vm_type\":\"STANDARD_DS12_V2\",\"telemetry_verbosity\":20,\"send_telemetry\":true,\"enable_dnn\":false,\"scenario\":\"SDK-1.13.0\",\"environment_label\":null,\"save_mlflow\":false,\"force_text_dnn\":false,\"enable_feature_sweeping\":true,\"enable_early_stopping\":true,\"early_stopping_n_iters\":10,\"metrics\":null,\"enable_metric_confidence\":false,\"enable_ensembling\":true,\"enable_stack_ensembling\":true,\"ensemble_iterations\":15,\"enable_tf\":false,\"enable_subsampling\":null,\"subsample_seed\":null,\"enable_nimbusml\":false,\"enable_streaming\":false,\"force_streaming\":false,\"track_child_runs\":true,\"allowed_private_models\":[],\"label_column_name\":\"DEATH_EVENT\",\"weight_column_name\":null,\"cv_split_column_names\":null,\"enable_local_managed\":false,\"_local_managed_run_id\":null,\"cost_mode\":1,\"lag_length\":0,\"metric_operation\":\"maximize\",\"preprocess\":true}',\n  'DataPrepJsonString': '{\\\\\"training_data\\\\\": \\\\\"{\\\\\\\\\\\\\"blocks\\\\\\\\\\\\\": [{\\\\\\\\\\\\\"id\\\\\\\\\\\\\": \\\\\\\\\\\\\"b8b26028-3137-4a52-907f-2c37504ea775\\\\\\\\\\\\\", \\\\\\\\\\\\\"type\\\\\\\\\\\\\": \\\\\\\\\\\\\"Microsoft.DPrep.GetDatastoreFilesBlock\\\\\\\\\\\\\", \\\\\\\\\\\\\"arguments\\\\\\\\\\\\\": {\\\\\\\\\\\\\"datastores\\\\\\\\\\\\\": [{\\\\\\\\\\\\\"datastoreName\\\\\\\\\\\\\": \\\\\\\\\\\\\"workspaceblobstore\\\\\\\\\\\\\", \\\\\\\\\\\\\"path\\\\\\\\\\\\\": \\\\\\\\\\\\\"train.csv\\\\\\\\\\\\\", \\\\\\\\\\\\\"resourceGroup\\\\\\\\\\\\\": \\\\\\\\\\\\\"aml-quickstarts-141063\\\\\\\\\\\\\", \\\\\\\\\\\\\"subscription\\\\\\\\\\\\\": \\\\\\\\\\\\\"a24a24d5-8d87-4c8a-99b6-91ed2d2df51f\\\\\\\\\\\\\", \\\\\\\\\\\\\"workspaceName\\\\\\\\\\\\\": \\\\\\\\\\\\\"quick-starts-ws-141063\\\\\\\\\\\\\"}]}, \\\\\\\\\\\\\"localData\\\\\\\\\\\\\": {}, \\\\\\\\\\\\\"isEnabled\\\\\\\\\\\\\": true, \\\\\\\\\\\\\"name\\\\\\\\\\\\\": null, \\\\\\\\\\\\\"annotation\\\\\\\\\\\\\": null}, {\\\\\\\\\\\\\"id\\\\\\\\\\\\\": \\\\\\\\\\\\\"7a29dbaf-b1f7-42bf-abf2-65a80e9da657\\\\\\\\\\\\\", \\\\\\\\\\\\\"type\\\\\\\\\\\\\": \\\\\\\\\\\\\"Microsoft.DPrep.ParseDelimitedBlock\\\\\\\\\\\\\", \\\\\\\\\\\\\"arguments\\\\\\\\\\\\\": {\\\\\\\\\\\\\"columnHeadersMode\\\\\\\\\\\\\": 3, \\\\\\\\\\\\\"fileEncoding\\\\\\\\\\\\\": 0, \\\\\\\\\\\\\"handleQuotedLineBreaks\\\\\\\\\\\\\": false, \\\\\\\\\\\\\"preview\\\\\\\\\\\\\": false, \\\\\\\\\\\\\"separator\\\\\\\\\\\\\": \\\\\\\\\\\\\",\\\\\\\\\\\\\", \\\\\\\\\\\\\"skipRows\\\\\\\\\\\\\": 0, \\\\\\\\\\\\\"skipRowsMode\\\\\\\\\\\\\": 0}, \\\\\\\\\\\\\"localData\\\\\\\\\\\\\": {}, \\\\\\\\\\\\\"isEnabled\\\\\\\\\\\\\": true, \\\\\\\\\\\\\"name\\\\\\\\\\\\\": null, \\\\\\\\\\\\\"annotation\\\\\\\\\\\\\": null}, {\\\\\\\\\\\\\"id\\\\\\\\\\\\\": \\\\\\\\\\\\\"211cd170-d599-4b6f-b19f-fcf91add5098\\\\\\\\\\\\\", \\\\\\\\\\\\\"type\\\\\\\\\\\\\": \\\\\\\\\\\\\"Microsoft.DPrep.DropColumnsBlock\\\\\\\\\\\\\", \\\\\\\\\\\\\"arguments\\\\\\\\\\\\\": {\\\\\\\\\\\\\"columns\\\\\\\\\\\\\": {\\\\\\\\\\\\\"type\\\\\\\\\\\\\": 0, \\\\\\\\\\\\\"details\\\\\\\\\\\\\": {\\\\\\\\\\\\\"selectedColumns\\\\\\\\\\\\\": [\\\\\\\\\\\\\"Path\\\\\\\\\\\\\"]}}}, \\\\\\\\\\\\\"localData\\\\\\\\\\\\\": {}, \\\\\\\\\\\\\"isEnabled\\\\\\\\\\\\\": true, \\\\\\\\\\\\\"name\\\\\\\\\\\\\": null, \\\\\\\\\\\\\"annotation\\\\\\\\\\\\\": null}, {\\\\\\\\\\\\\"id\\\\\\\\\\\\\": \\\\\\\\\\\\\"eb184128-0597-4a48-b5fc-996704e7e5a8\\\\\\\\\\\\\", \\\\\\\\\\\\\"type\\\\\\\\\\\\\": \\\\\\\\\\\\\"Microsoft.DPrep.SetColumnTypesBlock\\\\\\\\\\\\\", \\\\\\\\\\\\\"arguments\\\\\\\\\\\\\": {\\\\\\\\\\\\\"columnConversion\\\\\\\\\\\\\": [{\\\\\\\\\\\\\"column\\\\\\\\\\\\\": {\\\\\\\\\\\\\"type\\\\\\\\\\\\\": 2, \\\\\\\\\\\\\"details\\\\\\\\\\\\\": {\\\\\\\\\\\\\"selectedColumn\\\\\\\\\\\\\": \\\\\\\\\\\\\"age\\\\\\\\\\\\\"}}, \\\\\\\\\\\\\"typeProperty\\\\\\\\\\\\\": 3}, {\\\\\\\\\\\\\"column\\\\\\\\\\\\\": {\\\\\\\\\\\\\"type\\\\\\\\\\\\\": 2, \\\\\\\\\\\\\"details\\\\\\\\\\\\\": {\\\\\\\\\\\\\"selectedColumn\\\\\\\\\\\\\": \\\\\\\\\\\\\"anaemia\\\\\\\\\\\\\"}}, \\\\\\\\\\\\\"typeProperty\\\\\\\\\\\\\": 2}, {\\\\\\\\\\\\\"column\\\\\\\\\\\\\": {\\\\\\\\\\\\\"type\\\\\\\\\\\\\": 2, \\\\\\\\\\\\\"details\\\\\\\\\\\\\": {\\\\\\\\\\\\\"selectedColumn\\\\\\\\\\\\\": \\\\\\\\\\\\\"creatinine_phosphokinase\\\\\\\\\\\\\"}}, \\\\\\\\\\\\\"typeProperty\\\\\\\\\\\\\": 2}, {\\\\\\\\\\\\\"column\\\\\\\\\\\\\": {\\\\\\\\\\\\\"type\\\\\\\\\\\\\": 2, \\\\\\\\\\\\\"details\\\\\\\\\\\\\": {\\\\\\\\\\\\\"selectedColumn\\\\\\\\\\\\\": \\\\\\\\\\\\\"diabetes\\\\\\\\\\\\\"}}, \\\\\\\\\\\\\"typeProperty\\\\\\\\\\\\\": 2}, {\\\\\\\\\\\\\"column\\\\\\\\\\\\\": {\\\\\\\\\\\\\"type\\\\\\\\\\\\\": 2, \\\\\\\\\\\\\"details\\\\\\\\\\\\\": {\\\\\\\\\\\\\"selectedColumn\\\\\\\\\\\\\": \\\\\\\\\\\\\"ejection_fraction\\\\\\\\\\\\\"}}, \\\\\\\\\\\\\"typeProperty\\\\\\\\\\\\\": 2}, {\\\\\\\\\\\\\"column\\\\\\\\\\\\\": {\\\\\\\\\\\\\"type\\\\\\\\\\\\\": 2, \\\\\\\\\\\\\"details\\\\\\\\\\\\\": {\\\\\\\\\\\\\"selectedColumn\\\\\\\\\\\\\": \\\\\\\\\\\\\"high_blood_pressure\\\\\\\\\\\\\"}}, \\\\\\\\\\\\\"typeProperty\\\\\\\\\\\\\": 2}, {\\\\\\\\\\\\\"column\\\\\\\\\\\\\": {\\\\\\\\\\\\\"type\\\\\\\\\\\\\": 2, \\\\\\\\\\\\\"details\\\\\\\\\\\\\": {\\\\\\\\\\\\\"selectedColumn\\\\\\\\\\\\\": \\\\\\\\\\\\\"platelets\\\\\\\\\\\\\"}}, \\\\\\\\\\\\\"typeProperty\\\\\\\\\\\\\": 3}, {\\\\\\\\\\\\\"column\\\\\\\\\\\\\": {\\\\\\\\\\\\\"type\\\\\\\\\\\\\": 2, \\\\\\\\\\\\\"details\\\\\\\\\\\\\": {\\\\\\\\\\\\\"selectedColumn\\\\\\\\\\\\\": \\\\\\\\\\\\\"serum_creatinine\\\\\\\\\\\\\"}}, \\\\\\\\\\\\\"typeProperty\\\\\\\\\\\\\": 3}, {\\\\\\\\\\\\\"column\\\\\\\\\\\\\": {\\\\\\\\\\\\\"type\\\\\\\\\\\\\": 2, \\\\\\\\\\\\\"details\\\\\\\\\\\\\": {\\\\\\\\\\\\\"selectedColumn\\\\\\\\\\\\\": \\\\\\\\\\\\\"serum_sodium\\\\\\\\\\\\\"}}, \\\\\\\\\\\\\"typeProperty\\\\\\\\\\\\\": 2}, {\\\\\\\\\\\\\"column\\\\\\\\\\\\\": {\\\\\\\\\\\\\"type\\\\\\\\\\\\\": 2, \\\\\\\\\\\\\"details\\\\\\\\\\\\\": {\\\\\\\\\\\\\"selectedColumn\\\\\\\\\\\\\": \\\\\\\\\\\\\"sex\\\\\\\\\\\\\"}}, \\\\\\\\\\\\\"typeProperty\\\\\\\\\\\\\": 2}, {\\\\\\\\\\\\\"column\\\\\\\\\\\\\": {\\\\\\\\\\\\\"type\\\\\\\\\\\\\": 2, \\\\\\\\\\\\\"details\\\\\\\\\\\\\": {\\\\\\\\\\\\\"selectedColumn\\\\\\\\\\\\\": \\\\\\\\\\\\\"smoking\\\\\\\\\\\\\"}}, \\\\\\\\\\\\\"typeProperty\\\\\\\\\\\\\": 2}, {\\\\\\\\\\\\\"column\\\\\\\\\\\\\": {\\\\\\\\\\\\\"type\\\\\\\\\\\\\": 2, \\\\\\\\\\\\\"details\\\\\\\\\\\\\": {\\\\\\\\\\\\\"selectedColumn\\\\\\\\\\\\\": \\\\\\\\\\\\\"time\\\\\\\\\\\\\"}}, \\\\\\\\\\\\\"typeProperty\\\\\\\\\\\\\": 2}, {\\\\\\\\\\\\\"column\\\\\\\\\\\\\": {\\\\\\\\\\\\\"type\\\\\\\\\\\\\": 2, \\\\\\\\\\\\\"details\\\\\\\\\\\\\": {\\\\\\\\\\\\\"selectedColumn\\\\\\\\\\\\\": \\\\\\\\\\\\\"DEATH_EVENT\\\\\\\\\\\\\"}}, \\\\\\\\\\\\\"typeProperty\\\\\\\\\\\\\": 2}]}, \\\\\\\\\\\\\"localData\\\\\\\\\\\\\": {}, \\\\\\\\\\\\\"isEnabled\\\\\\\\\\\\\": true, \\\\\\\\\\\\\"name\\\\\\\\\\\\\": null, \\\\\\\\\\\\\"annotation\\\\\\\\\\\\\": null}], \\\\\\\\\\\\\"inspectors\\\\\\\\\\\\\": [], \\\\\\\\\\\\\"meta\\\\\\\\\\\\\": {\\\\\\\\\\\\\"savedDatasetId\\\\\\\\\\\\\": \\\\\\\\\\\\\"c61dc42f-5b71-40af-8e3a-885c131ebc87\\\\\\\\\\\\\", \\\\\\\\\\\\\"datasetType\\\\\\\\\\\\\": \\\\\\\\\\\\\"tabular\\\\\\\\\\\\\", \\\\\\\\\\\\\"subscriptionId\\\\\\\\\\\\\": \\\\\\\\\\\\\"a24a24d5-8d87-4c8a-99b6-91ed2d2df51f\\\\\\\\\\\\\", \\\\\\\\\\\\\"workspaceId\\\\\\\\\\\\\": \\\\\\\\\\\\\"c97eb487-9c4c-4f35-90ab-5d5af389edd0\\\\\\\\\\\\\", \\\\\\\\\\\\\"workspaceLocation\\\\\\\\\\\\\": \\\\\\\\\\\\\"southcentralus\\\\\\\\\\\\\", \\\\\\\\\\\\\"partition_keys\\\\\\\\\\\\\": \\\\\\\\\\\\\"true\\\\\\\\\\\\\"}}\\\\\", \\\\\"activities\\\\\": 0}',\n  'EnableSubsampling': None,\n  'runTemplate': 'AutoML',\n  'azureml.runsource': 'automl',\n  'display_task_type': 'classification',\n  'dependencies_versions': '{\"azureml-widgets\": \"1.24.0\", \"azureml-train\": \"1.24.0\", \"azureml-train-restclients-hyperdrive\": \"1.24.0\", \"azureml-train-core\": \"1.24.0\", \"azureml-train-automl\": \"1.24.0\", \"azureml-train-automl-runtime\": \"1.24.0\", \"azureml-train-automl-client\": \"1.24.0\", \"azureml-tensorboard\": \"1.24.0\", \"azureml-telemetry\": \"1.24.0\", \"azureml-sdk\": \"1.24.0\", \"azureml-samples\": \"0+unknown\", \"azureml-pipeline\": \"1.24.0\", \"azureml-pipeline-steps\": \"1.24.0\", \"azureml-pipeline-core\": \"1.24.0\", \"azureml-opendatasets\": \"1.24.0\", \"azureml-model-management-sdk\": \"1.0.1b6.post1\", \"azureml-mlflow\": \"1.24.0\", \"azureml-interpret\": \"1.24.0\", \"azureml-explain-model\": \"1.24.0\", \"azureml-defaults\": \"1.24.0\", \"azureml-dataset-runtime\": \"1.24.0\", \"azureml-dataprep\": \"2.11.1\", \"azureml-dataprep-rslex\": \"1.9.0\", \"azureml-dataprep-native\": \"30.0.0\", \"azureml-datadrift\": \"1.24.0\", \"azureml-core\": \"1.24.0\", \"azureml-contrib-services\": \"1.24.0\", \"azureml-contrib-server\": \"1.24.0\", \"azureml-contrib-reinforcementlearning\": \"1.24.0\", \"azureml-contrib-pipeline-steps\": \"1.24.0\", \"azureml-contrib-notebook\": \"1.24.0\", \"azureml-contrib-gbdt\": \"1.24.0\", \"azureml-contrib-fairness\": \"1.24.0\", \"azureml-contrib-dataset\": \"1.24.0\", \"azureml-cli-common\": \"1.24.0\", \"azureml-automl-runtime\": \"1.24.0\", \"azureml-automl-dnn-nlp\": \"1.24.0\", \"azureml-automl-core\": \"1.24.0\", \"azureml-accel-models\": \"1.24.0\"}',\n  '_aml_system_scenario_identification': 'Remote.Parent',\n  'ClientType': 'SDK',\n  'environment_cpu_name': 'AzureML-AutoML',\n  'environment_cpu_label': 'prod',\n  'environment_gpu_name': 'AzureML-AutoML-GPU',\n  'environment_gpu_label': 'prod',\n  'root_attribution': 'automl',\n  'attribution': 'AutoML',\n  'Orchestrator': 'AutoML',\n  'CancelUri': 'https://southcentralus.experiments.azureml.net/jasmine/v1.0/subscriptions/a24a24d5-8d87-4c8a-99b6-91ed2d2df51f/resourceGroups/aml-quickstarts-141063/providers/Microsoft.MachineLearningServices/workspaces/quick-starts-ws-141063/experimentids/1c894d0c-2484-419e-88b5-6570c95124f3/cancel/AutoML_9770219e-abe3-4ceb-8d3f-26327ad67283',\n  'ClientSdkVersion': '1.24.0',\n  'snapshotId': '00000000-0000-0000-0000-000000000000',\n  'SetupRunId': 'AutoML_9770219e-abe3-4ceb-8d3f-26327ad67283_setup',\n  'SetupRunContainerId': 'dcid.AutoML_9770219e-abe3-4ceb-8d3f-26327ad67283_setup',\n  'FeaturizationRunJsonPath': 'featurizer_container.json',\n  'FeaturizationRunId': 'AutoML_9770219e-abe3-4ceb-8d3f-26327ad67283_featurize',\n  'ProblemInfoJsonString': '{\"dataset_num_categorical\": 0, \"is_sparse\": false, \"subsampling\": false, \"dataset_classes\": 2, \"dataset_features\": 12, \"dataset_samples\": 224, \"single_frequency_class_detected\": false}',\n  'ModelExplainRunId': 'AutoML_9770219e-abe3-4ceb-8d3f-26327ad67283_ModelExplain'},\n 'inputDatasets': [{'dataset': {'id': 'c61dc42f-5b71-40af-8e3a-885c131ebc87'}, 'consumptionDetails': {'type': 'RunInput', 'inputName': 'training_data', 'mechanism': 'Direct'}}],\n 'outputDatasets': [],\n 'logFiles': {},\n 'submittedBy': 'ODL_User 141063'}"
          },
          "metadata": {}
        }
      ],
      "execution_count": 6,
      "metadata": {
        "gather": {
          "logged": 1616349184985
        },
        "jupyter": {
          "outputs_hidden": false,
          "source_hidden": false
        },
        "nteract": {
          "transient": {
            "deleting": false
          }
        }
      }
    },
    {
      "cell_type": "markdown",
      "source": [
        "## Best Model\n",
        "\n",
        "TODO: In the cell below, get the best model from the automl experiments and display all the properties of the model.\n",
        "\n"
      ],
      "metadata": {}
    },
    {
      "cell_type": "code",
      "source": [
        "best_run, model = remote_run.get_output()\n",
        "print(best_run)\n",
        "print(model)\n",
        "best_run.get_tags()\n",
        "best_run_metrics = best_run.get_metrics()\n",
        "for metric_name in best_run_metrics:\n",
        "    metric = best_run_metrics[metric_name]\n",
        "    print(metric_name, metric)"
      ],
      "outputs": [
        {
          "output_type": "stream",
          "name": "stdout",
          "text": [
            "Run(Experiment: arvc-azureml-project3-experiment-automl,\n",
            "Id: AutoML_9770219e-abe3-4ceb-8d3f-26327ad67283_38,\n",
            "Type: azureml.scriptrun,\n",
            "Status: Completed)\n",
            "Pipeline(memory=None,\n",
            "         steps=[('datatransformer',\n",
            "                 DataTransformer(enable_dnn=None, enable_feature_sweeping=None,\n",
            "                                 feature_sweeping_config=None,\n",
            "                                 feature_sweeping_timeout=None,\n",
            "                                 featurization_config=None, force_text_dnn=None,\n",
            "                                 is_cross_validation=None,\n",
            "                                 is_onnx_compatible=None, logger=None,\n",
            "                                 observer=None, task=None, working_dir=None)),\n",
            "                ('prefittedsoftvotingclassifier',...\n",
            "                                                                                                    max_samples=None,\n",
            "                                                                                                    min_impurity_decrease=0.0,\n",
            "                                                                                                    min_impurity_split=None,\n",
            "                                                                                                    min_samples_leaf=0.01,\n",
            "                                                                                                    min_samples_split=0.10368421052631578,\n",
            "                                                                                                    min_weight_fraction_leaf=0.0,\n",
            "                                                                                                    n_estimators=10,\n",
            "                                                                                                    n_jobs=1,\n",
            "                                                                                                    oob_score=False,\n",
            "                                                                                                    random_state=None,\n",
            "                                                                                                    verbose=0,\n",
            "                                                                                                    warm_start=False))],\n",
            "                                                                     verbose=False))],\n",
            "                                               flatten_transform=None,\n",
            "                                               weights=[0.125, 0.125, 0.125,\n",
            "                                                        0.125, 0.125, 0.125,\n",
            "                                                        0.125, 0.125]))],\n",
            "         verbose=False)\n",
            "AUC_weighted 0.9140193657709998\n",
            "recall_score_micro 0.8789898989898989\n",
            "precision_score_weighted 0.8874546335598967\n",
            "balanced_accuracy 0.8424963359081005\n",
            "matthews_correlation 0.7290994567380056\n",
            "recall_score_weighted 0.8789898989898989\n",
            "AUC_macro 0.9140193657709998\n",
            "precision_score_macro 0.8893995517679729\n",
            "norm_macro_recall 0.6849926718162012\n",
            "weighted_accuracy 0.9057682726107672\n",
            "log_loss 0.39722449484282907\n",
            "average_precision_score_micro 0.9224250936374165\n",
            "f1_score_micro 0.8789898989898989\n",
            "recall_score_macro 0.8424963359081005\n",
            "average_precision_score_weighted 0.9270172908881122\n",
            "f1_score_macro 0.8535266520709198\n",
            "f1_score_weighted 0.8726430968348391\n",
            "AUC_micro 0.9214135292317112\n",
            "average_precision_score_macro 0.9129825467404679\n",
            "accuracy 0.8789898989898989\n",
            "precision_score_micro 0.8789898989898989\n",
            "confusion_matrix aml://artifactId/ExperimentRun/dcid.AutoML_9770219e-abe3-4ceb-8d3f-26327ad67283_38/confusion_matrix\n",
            "accuracy_table aml://artifactId/ExperimentRun/dcid.AutoML_9770219e-abe3-4ceb-8d3f-26327ad67283_38/accuracy_table\n"
          ]
        }
      ],
      "execution_count": 7,
      "metadata": {
        "gather": {
          "logged": 1616349286516
        },
        "jupyter": {
          "outputs_hidden": false,
          "source_hidden": false
        },
        "nteract": {
          "transient": {
            "deleting": false
          }
        }
      }
    },
    {
      "cell_type": "code",
      "source": [
        "best_run_metrics"
      ],
      "outputs": [
        {
          "output_type": "execute_result",
          "execution_count": 8,
          "data": {
            "text/plain": "{'AUC_weighted': 0.9140193657709998,\n 'recall_score_micro': 0.8789898989898989,\n 'precision_score_weighted': 0.8874546335598967,\n 'balanced_accuracy': 0.8424963359081005,\n 'matthews_correlation': 0.7290994567380056,\n 'recall_score_weighted': 0.8789898989898989,\n 'AUC_macro': 0.9140193657709998,\n 'precision_score_macro': 0.8893995517679729,\n 'norm_macro_recall': 0.6849926718162012,\n 'weighted_accuracy': 0.9057682726107672,\n 'log_loss': 0.39722449484282907,\n 'average_precision_score_micro': 0.9224250936374165,\n 'f1_score_micro': 0.8789898989898989,\n 'recall_score_macro': 0.8424963359081005,\n 'average_precision_score_weighted': 0.9270172908881122,\n 'f1_score_macro': 0.8535266520709198,\n 'f1_score_weighted': 0.8726430968348391,\n 'AUC_micro': 0.9214135292317112,\n 'average_precision_score_macro': 0.9129825467404679,\n 'accuracy': 0.8789898989898989,\n 'precision_score_micro': 0.8789898989898989,\n 'confusion_matrix': 'aml://artifactId/ExperimentRun/dcid.AutoML_9770219e-abe3-4ceb-8d3f-26327ad67283_38/confusion_matrix',\n 'accuracy_table': 'aml://artifactId/ExperimentRun/dcid.AutoML_9770219e-abe3-4ceb-8d3f-26327ad67283_38/accuracy_table'}"
          },
          "metadata": {}
        }
      ],
      "execution_count": 8,
      "metadata": {
        "gather": {
          "logged": 1616349302239
        },
        "jupyter": {
          "outputs_hidden": false,
          "source_hidden": false
        },
        "nteract": {
          "transient": {
            "deleting": false
          }
        }
      }
    },
    {
      "cell_type": "markdown",
      "source": [
        "## Model Deployment\n",
        "\n",
        "Remember you have to deploy only one of the two models you trained.. Perform the steps in the rest of this notebook only if you wish to deploy this model.\n",
        "\n",
        "TODO: In the cell below, register the model, create an inference config and deploy the model as a web service."
      ],
      "metadata": {}
    },
    {
      "cell_type": "code",
      "source": [
        "#TODO: Save the best model\n",
        "from azureml.core import Model\n",
        "\n",
        "# Register model\n",
        "best_run.register_model(model_path='outputs/model.pkl', model_name='arvc_automl_model3',\n",
        "                        tags={'Training context':'Auto ML'},\n",
        "                        properties={'AUC': best_run_metrics['AUC_weighted'], 'Accuracy': best_run_metrics['accuracy']})\n",
        "\n",
        "\n",
        "# List registered models\n",
        "for m in Model.list(ws):\n",
        "    print(m.name, 'version:', m.version)\n",
        "    for tag_name in m.tags:\n",
        "        tag = m.tags[tag_name]\n",
        "        print ('\\t',tag_name, ':', tag)\n",
        "    for prop_name in m.properties:\n",
        "        prop = m.properties[prop_name]\n",
        "        print ('\\t',prop_name, ':', prop)\n",
        "    print('\\n')"
      ],
      "outputs": [
        {
          "output_type": "stream",
          "name": "stdout",
          "text": [
            "arvc_automl_model3 version: 1\n",
            "\t Training context : Auto ML\n",
            "\t AUC : 0.9140193657709998\n",
            "\t Accuracy : 0.8789898989898989\n",
            "\n",
            "\n"
          ]
        }
      ],
      "execution_count": 9,
      "metadata": {
        "gather": {
          "logged": 1616349318246
        }
      }
    },
    {
      "cell_type": "code",
      "source": [
        "from azureml.automl.core.shared import constants\n",
        "best_run.download_file(constants.CONDA_ENV_FILE_PATH, 'myenv.yml')"
      ],
      "outputs": [],
      "execution_count": 10,
      "metadata": {
        "gather": {
          "logged": 1616349326223
        },
        "jupyter": {
          "outputs_hidden": false,
          "source_hidden": false
        },
        "nteract": {
          "transient": {
            "deleting": false
          }
        }
      }
    },
    {
      "cell_type": "code",
      "source": [
        "# create inference_config\n",
        "from azureml.core.model import InferenceConfig\n",
        "from azureml.core.environment import Environment\n",
        "\n",
        "inference_config = InferenceConfig(entry_script=\"scoring.py\")"
      ],
      "outputs": [],
      "execution_count": 11,
      "metadata": {
        "gather": {
          "logged": 1616349328257
        },
        "jupyter": {
          "outputs_hidden": false,
          "source_hidden": false
        },
        "nteract": {
          "transient": {
            "deleting": false
          }
        }
      }
    },
    {
      "cell_type": "code",
      "source": [
        "from azureml.core.webservice import Webservice, AciWebservice\n",
        "deployment_config = AciWebservice.deploy_configuration(cpu_cores=1, memory_gb = 1)"
      ],
      "outputs": [],
      "execution_count": 12,
      "metadata": {
        "gather": {
          "logged": 1616349334967
        },
        "jupyter": {
          "outputs_hidden": false,
          "source_hidden": false
        },
        "nteract": {
          "transient": {
            "deleting": false
          }
        }
      }
    },
    {
      "cell_type": "markdown",
      "source": [
        "TODO: In the cell below, send a request to the web service you deployed to test it."
      ],
      "metadata": {
        "collapsed": true,
        "gather": {
          "logged": 1598431657736
        },
        "jupyter": {
          "outputs_hidden": false,
          "source_hidden": false
        },
        "nteract": {
          "transient": {
            "deleting": false
          }
        }
      }
    },
    {
      "cell_type": "code",
      "source": [
        "mybestmodel = ws.models[\"arvc_automl_model3\"]"
      ],
      "outputs": [],
      "execution_count": 28,
      "metadata": {
        "collapsed": true,
        "jupyter": {
          "source_hidden": false,
          "outputs_hidden": false
        },
        "nteract": {
          "transient": {
            "deleting": false
          }
        },
        "gather": {
          "logged": 1616351322189
        }
      }
    },
    {
      "cell_type": "code",
      "source": [
        "#deploy the model\n",
        "service=Model.deploy(workspace=ws,\n",
        "                    name=\"arvc-automl-best-model-svc1\",\n",
        "                    models=[mybestmodel],\n",
        "                    inference_config=inference_config,\n",
        "                    deployment_config=deployment_config\n",
        "                    )\n",
        "service.wait_for_deployment(show_output=True)"
      ],
      "outputs": [
        {
          "output_type": "stream",
          "name": "stdout",
          "text": [
            "Tips: You can try get_logs(): https://aka.ms/debugimage#dockerlog or local deployment: https://aka.ms/debugimage#debug-locally to debug if deployment takes longer than 10 minutes.\n",
            "Running\n",
            "2021-03-21 18:29:19+00:00 Creating Container Registry if not exists.\n",
            "2021-03-21 18:29:20+00:00 Registering the environment.\n",
            "2021-03-21 18:29:22+00:00 Use the existing image.\n",
            "2021-03-21 18:29:23+00:00 Generating deployment configuration.\n",
            "2021-03-21 18:29:24+00:00 Submitting deployment to compute..\n",
            "2021-03-21 18:29:28+00:00 Checking the status of deployment arvc-hyper-best-model-svc5..\n",
            "2021-03-21 18:32:05+00:00 Checking the status of inference endpoint arvc-hyper-best-model-svc5.\n",
            "Succeeded\n",
            "ACI service creation operation finished, operation \"Succeeded\"\n"
          ]
        }
      ],
      "execution_count": 30,
      "metadata": {
        "gather": {
          "logged": 1616351530486
        },
        "jupyter": {
          "outputs_hidden": false,
          "source_hidden": false
        },
        "nteract": {
          "transient": {
            "deleting": false
          }
        }
      }
    },
    {
      "cell_type": "markdown",
      "source": [
        "TODO: In the cell below, print the logs of the web service and delete the service"
      ],
      "metadata": {
        "collapsed": true,
        "gather": {
          "logged": 1598432765711
        },
        "jupyter": {
          "outputs_hidden": false,
          "source_hidden": false
        },
        "nteract": {
          "transient": {
            "deleting": false
          }
        }
      }
    },
    {
      "cell_type": "code",
      "source": [
        "print(service.get_logs())"
      ],
      "outputs": [
        {
          "output_type": "stream",
          "name": "stdout",
          "text": [
            "2021-03-21T18:31:57,546968400+00:00 - gunicorn/run \n",
            "2021-03-21T18:31:57,571959100+00:00 - iot-server/run \n",
            "2021-03-21T18:31:57,582409200+00:00 - rsyslog/run \n",
            "2021-03-21T18:31:57,648861000+00:00 - nginx/run \n",
            "/usr/sbin/nginx: /azureml-envs/azureml_59abd4256ad8e6688a4dc7593ce35cbc/lib/libcrypto.so.1.0.0: no version information available (required by /usr/sbin/nginx)\n",
            "/usr/sbin/nginx: /azureml-envs/azureml_59abd4256ad8e6688a4dc7593ce35cbc/lib/libcrypto.so.1.0.0: no version information available (required by /usr/sbin/nginx)\n",
            "/usr/sbin/nginx: /azureml-envs/azureml_59abd4256ad8e6688a4dc7593ce35cbc/lib/libssl.so.1.0.0: no version information available (required by /usr/sbin/nginx)\n",
            "/usr/sbin/nginx: /azureml-envs/azureml_59abd4256ad8e6688a4dc7593ce35cbc/lib/libssl.so.1.0.0: no version information available (required by /usr/sbin/nginx)\n",
            "/usr/sbin/nginx: /azureml-envs/azureml_59abd4256ad8e6688a4dc7593ce35cbc/lib/libssl.so.1.0.0: no version information available (required by /usr/sbin/nginx)\n",
            "EdgeHubConnectionString and IOTEDGE_IOTHUBHOSTNAME are not set. Exiting...\n",
            "2021-03-21T18:31:59,062216900+00:00 - iot-server/finish 1 0\n",
            "2021-03-21T18:31:59,088549500+00:00 - Exit code 1 is normal. Not restarting iot-server.\n",
            "Starting gunicorn 19.9.0\n",
            "Listening at: http://127.0.0.1:31311 (72)\n",
            "Using worker: sync\n",
            "worker timeout is set to 300\n",
            "Booting worker with pid: 101\n",
            "SPARK_HOME not set. Skipping PySpark Initialization.\n",
            "Initializing logger\n",
            "2021-03-21 18:32:04,183 | root | INFO | Starting up app insights client\n",
            "2021-03-21 18:32:04,184 | root | INFO | Starting up request id generator\n",
            "2021-03-21 18:32:04,184 | root | INFO | Starting up app insight hooks\n",
            "2021-03-21 18:32:04,185 | root | INFO | Invoking user's init function\n",
            "2021-03-21 18:32:06,047 | root | INFO | Users's init has completed successfully\n",
            "2021-03-21 18:32:06,060 | root | INFO | Skipping middleware: dbg_model_info as it's not enabled.\n",
            "2021-03-21 18:32:06,060 | root | INFO | Skipping middleware: dbg_resource_usage as it's not enabled.\n",
            "2021-03-21 18:32:06,061 | root | INFO | Scoring timeout is found from os.environ: 60000 ms\n",
            "2021-03-21 18:32:06,113 | root | INFO | Swagger file not present\n",
            "2021-03-21 18:32:06,114 | root | INFO | 404\n",
            "127.0.0.1 - - [21/Mar/2021:18:32:06 +0000] \"GET /swagger.json HTTP/1.0\" 404 19 \"-\" \"Go-http-client/1.1\"\n",
            "2021-03-21 18:32:09,969 | root | INFO | Swagger file not present\n",
            "2021-03-21 18:32:09,969 | root | INFO | 404\n",
            "127.0.0.1 - - [21/Mar/2021:18:32:09 +0000] \"GET /swagger.json HTTP/1.0\" 404 19 \"-\" \"Go-http-client/1.1\"\n",
            "\n"
          ]
        }
      ],
      "execution_count": 31,
      "metadata": {
        "gather": {
          "logged": 1616351587374
        },
        "jupyter": {
          "outputs_hidden": false,
          "source_hidden": false
        },
        "nteract": {
          "transient": {
            "deleting": false
          }
        }
      }
    },
    {
      "cell_type": "code",
      "source": [
        "scoring_uri = service.scoring_uri\n",
        "\n",
        "print(f'\\nservice state: {service.state}\\n')\n",
        "print(f'scoring URI: \\n{service.scoring_uri}\\n')\n",
        "print(f'swagger URI: \\n{service.swagger_uri}\\n')\n",
        "\n",
        "print(service.scoring_uri)\n",
        "print(service.swagger_uri)"
      ],
      "outputs": [
        {
          "output_type": "stream",
          "name": "stdout",
          "text": [
            "\n",
            "service state: Healthy\n",
            "\n",
            "scoring URI: \n",
            "http://ae5f0b0b-6584-44ac-bd7f-08d072a1dbe6.southcentralus.azurecontainer.io/score\n",
            "\n",
            "swagger URI: \n",
            "http://ae5f0b0b-6584-44ac-bd7f-08d072a1dbe6.southcentralus.azurecontainer.io/swagger.json\n",
            "\n",
            "http://ae5f0b0b-6584-44ac-bd7f-08d072a1dbe6.southcentralus.azurecontainer.io/score\n",
            "http://ae5f0b0b-6584-44ac-bd7f-08d072a1dbe6.southcentralus.azurecontainer.io/swagger.json\n"
          ]
        }
      ],
      "execution_count": 32,
      "metadata": {
        "gather": {
          "logged": 1616351594004
        }
      }
    },
    {
      "cell_type": "code",
      "source": [
        "modelrequest = test[:2].values.tolist()\r\n",
        "modelrequest = [modelrequest[0][:-1],modelrequest[1][:-1]]\r\n",
        "modelrequest"
      ],
      "outputs": [
        {
          "output_type": "execute_result",
          "execution_count": 33,
          "data": {
            "text/plain": "[[65.0, 0.0, 224.0, 1.0, 50.0, 0.0, 149000.0, 1.3, 137.0, 1.0, 1.0, 72.0],\n [63.0, 1.0, 122.0, 1.0, 60.0, 0.0, 267000.0, 1.2, 145.0, 1.0, 0.0, 147.0]]"
          },
          "metadata": {}
        }
      ],
      "execution_count": 33,
      "metadata": {
        "collapsed": true,
        "jupyter": {
          "source_hidden": false,
          "outputs_hidden": false
        },
        "nteract": {
          "transient": {
            "deleting": false
          }
        },
        "gather": {
          "logged": 1616351597747
        }
      }
    },
    {
      "cell_type": "code",
      "source": [
        "import requests\n",
        "import json\n",
        "\n",
        "data = json.dumps({\"data\":modelrequest})\n",
        "headers = {'Content-Type':'application/json'}\n",
        "\n",
        "response = requests.post(scoring_uri,data,headers=headers)\n",
        "print(response.text)"
      ],
      "outputs": [
        {
          "output_type": "stream",
          "name": "stdout",
          "text": [
            "[0, 0]\n"
          ]
        }
      ],
      "execution_count": 34,
      "metadata": {
        "gather": {
          "logged": 1616351600615
        }
      }
    },
    {
      "cell_type": "code",
      "source": [
        "response.status_code"
      ],
      "outputs": [
        {
          "output_type": "execute_result",
          "execution_count": 35,
          "data": {
            "text/plain": "200"
          },
          "metadata": {}
        }
      ],
      "execution_count": 35,
      "metadata": {
        "gather": {
          "logged": 1616351604210
        }
      }
    },
    {
      "cell_type": "code",
      "source": [
        "service.delete()\n",
        "compute_target.delete()"
      ],
      "outputs": [],
      "execution_count": 39,
      "metadata": {
        "gather": {
          "logged": 1616351768352
        }
      }
    }
  ],
  "metadata": {
    "kernel_info": {
      "name": "python3"
    },
    "kernelspec": {
      "name": "python3",
      "language": "python",
      "display_name": "Python 3"
    },
    "language_info": {
      "name": "python",
      "version": "3.6.9",
      "mimetype": "text/x-python",
      "codemirror_mode": {
        "name": "ipython",
        "version": 3
      },
      "pygments_lexer": "ipython3",
      "nbconvert_exporter": "python",
      "file_extension": ".py"
    },
    "microsoft": {
      "host": {
        "AzureML": {
          "notebookHasBeenCompleted": true
        }
      }
    },
    "nteract": {
      "version": "nteract-front-end@1.0.0"
    }
  },
  "nbformat": 4,
  "nbformat_minor": 2
}